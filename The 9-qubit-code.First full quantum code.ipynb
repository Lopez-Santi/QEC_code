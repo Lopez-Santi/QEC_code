{
 "cells": [
  {
   "cell_type": "markdown",
   "id": "6d6acded",
   "metadata": {},
   "source": [
    "## 9-Qubit Error Correcting Code"
   ]
  },
  {
   "cell_type": "code",
   "execution_count": null,
   "id": "e623b07c",
   "metadata": {},
   "outputs": [],
   "source": [
    "In this notebook, we introduce and apply the first full quantum code - and what makes quantum codes full.\n",
    "We will see that the 3-qubit code is heavily related to this one. \n",
    "The goal is to display the extent of amenability for fixing various errors simultaneously"
   ]
  },
  {
   "cell_type": "code",
   "execution_count": null,
   "id": "c61c4247",
   "metadata": {},
   "outputs": [],
   "source": []
  },
  {
   "cell_type": "code",
   "execution_count": 15,
   "id": "27ebf886",
   "metadata": {},
   "outputs": [
    {
     "name": "stdout",
     "output_type": "stream",
     "text": [
      "env: QISKIT_SETTINGS={}\n"
     ]
    }
   ],
   "source": [
    "# Importing required libraries\n",
    "from qiskit import QuantumRegister, ClassicalRegister, QuantumCircuit, Aer, execute\n",
    "from qiskit.visualization import plot_histogram\n",
    "from qiskit import user_config\n",
    "from qiskit.quantum_info import partial_trace\n",
    "import numpy as np\n",
    "import random\n",
    "from qiskit.extensions import UnitaryGate\n",
    "\n",
    "# Visualization of circuits: Initializing backend simulators\n",
    "qasm_sim = Aer.get_backend('qasm_simulator')\n",
    "sv_sim = Aer.get_backend('statevector_simulator')\n",
    "\n",
    "# Setting mpl as default drawer\n",
    "%env QISKIT_SETTINGS {}\n",
    "user_config.set_config('circuit_drawer', 'mpl')\n",
    "\n"
   ]
  },
  {
   "cell_type": "code",
   "execution_count": 14,
   "id": "c5675555",
   "metadata": {},
   "outputs": [
    {
     "name": "stdout",
     "output_type": "stream",
     "text": [
      "Below we show the Pauli Operators which can be used to describe any quantum gate on an individual qubit:\n",
      "Pauli-X: \n",
      " [[0 1]\n",
      " [1 0]]\n",
      "Pauli-Y: \n",
      " [[ 0.+0.j  0.+1.j]\n",
      " [-0.-1.j  0.+0.j]]\n",
      "Pauli-Z: \n",
      " [[ 1  0]\n",
      " [ 0 -1]]\n",
      "Pauli-I: \n",
      " [[1. 0.]\n",
      " [0. 1.]]\n"
     ]
    }
   ],
   "source": [
    "# Pauli operator initialization\n",
    "sigma_x = np.array([[0,1],[1,0]])\n",
    "sigma_y = np.array([[0,1j],[-1j,0]])\n",
    "sigma_z = np.array([[1,0],[0,-1]])\n",
    "sigma_I = np.identity(2)\n",
    "print('Below we show the Pauli Operators which can be used to describe any quantum gate on an individual qubit:')\n",
    "print('Pauli-X: \\n', sigma_x) \n",
    "print('Pauli-Y: \\n', sigma_y)\n",
    "print('Pauli-Z: \\n', sigma_z)\n",
    "print('Pauli-I: \\n', sigma_I)"
   ]
  },
  {
   "cell_type": "markdown",
   "id": "b7fac78c",
   "metadata": {},
   "source": [
    "$|0\\rangle_L = \\frac{1}{\\sqrt{8}} \\left( |000\\rangle + |111\\rangle \\right) \\left( |000\\rangle + |111\\rangle \\right) \\left( |000\\rangle + |111\\rangle \\right)$\n",
    "\n",
    "$|1\\rangle_L = \\frac{1}{\\sqrt{8}} \\left( |000\\rangle - |111\\rangle \\right) \\left( |000\\rangle - |111\\rangle \\right) \\left( |000\\rangle - |111\\rangle \\right)$\n",
    "\n"
   ]
  },
  {
   "cell_type": "code",
   "execution_count": 18,
   "id": "50296f3e",
   "metadata": {},
   "outputs": [
    {
     "name": "stdout",
     "output_type": "stream",
     "text": [
      "Requirement already satisfied: matplotlib in /Users/Mac/opt/anaconda3/lib/python3.9/site-packages (3.5.1)\n",
      "Requirement already satisfied: fonttools>=4.22.0 in /Users/Mac/opt/anaconda3/lib/python3.9/site-packages (from matplotlib) (4.25.0)\n",
      "Requirement already satisfied: pillow>=6.2.0 in /Users/Mac/opt/anaconda3/lib/python3.9/site-packages (from matplotlib) (9.0.1)\n",
      "Requirement already satisfied: kiwisolver>=1.0.1 in /Users/Mac/opt/anaconda3/lib/python3.9/site-packages (from matplotlib) (1.3.2)\n",
      "Requirement already satisfied: packaging>=20.0 in /Users/Mac/opt/anaconda3/lib/python3.9/site-packages (from matplotlib) (21.3)\n",
      "Requirement already satisfied: numpy>=1.17 in /Users/Mac/opt/anaconda3/lib/python3.9/site-packages (from matplotlib) (1.21.5)\n",
      "Requirement already satisfied: cycler>=0.10 in /Users/Mac/opt/anaconda3/lib/python3.9/site-packages (from matplotlib) (0.11.0)\n",
      "Requirement already satisfied: pyparsing>=2.2.1 in /Users/Mac/opt/anaconda3/lib/python3.9/site-packages (from matplotlib) (3.0.4)\n",
      "Requirement already satisfied: python-dateutil>=2.7 in /Users/Mac/opt/anaconda3/lib/python3.9/site-packages (from matplotlib) (2.8.2)\n",
      "Requirement already satisfied: six>=1.5 in /Users/Mac/opt/anaconda3/lib/python3.9/site-packages (from python-dateutil>=2.7->matplotlib) (1.16.0)\n",
      "Note: you may need to restart the kernel to use updated packages.\n"
     ]
    }
   ],
   "source": [
    "pip install matplotlib\n"
   ]
  },
  {
   "cell_type": "code",
   "execution_count": null,
   "id": "9f2cb5d2",
   "metadata": {},
   "outputs": [
    {
     "name": "stdout",
     "output_type": "stream",
     "text": [
      "\u001b[33mWARNING: Retrying (Retry(total=4, connect=None, read=None, redirect=None, status=None)) after connection broken by 'NewConnectionError('<pip._vendor.urllib3.connection.HTTPSConnection object at 0x7f86021fd310>: Failed to establish a new connection: [Errno 8] nodename nor servname provided, or not known')': /simple/pydot/\u001b[0m\r\n"
     ]
    }
   ],
   "source": []
  },
  {
   "cell_type": "code",
   "execution_count": null,
   "id": "c3de48d2",
   "metadata": {},
   "outputs": [],
   "source": [
    "pip install graphvi"
   ]
  },
  {
   "cell_type": "code",
   "execution_count": null,
   "id": "d6bdfea7",
   "metadata": {},
   "outputs": [],
   "source": [
    "from qiskit import user_config\n",
    "%env QISKIT_SETTINGS {}\n",
    "user_config.set_config('circuit_drawer', 'mpl')\n"
   ]
  },
  {
   "cell_type": "code",
   "execution_count": null,
   "id": "9ee59f93",
   "metadata": {},
   "outputs": [],
   "source": [
    "from qiskit import QuantumCircuit\n",
    "\n",
    "# Create a quantum circuit\n",
    "qc = QuantumCircuit(2)\n",
    "qc.h(0)\n",
    "qc.cx(0, 1)\n",
    "\n",
    "# Draw the circuit\n",
    "qc.draw()\n"
   ]
  },
  {
   "cell_type": "code",
   "execution_count": null,
   "id": "1368039a",
   "metadata": {},
   "outputs": [],
   "source": []
  }
 ],
 "metadata": {
  "kernelspec": {
   "display_name": "Python 3 (ipykernel)",
   "language": "python",
   "name": "python3"
  },
  "language_info": {
   "codemirror_mode": {
    "name": "ipython",
    "version": 3
   },
   "file_extension": ".py",
   "mimetype": "text/x-python",
   "name": "python",
   "nbconvert_exporter": "python",
   "pygments_lexer": "ipython3",
   "version": "3.9.12"
  }
 },
 "nbformat": 4,
 "nbformat_minor": 5
}
