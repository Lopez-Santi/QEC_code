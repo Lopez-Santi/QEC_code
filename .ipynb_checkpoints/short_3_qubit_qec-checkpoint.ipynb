{
 "cells": [
  {
   "cell_type": "code",
   "execution_count": 1,
   "id": "eed98920",
   "metadata": {},
   "outputs": [],
   "source": [
    "import numpy as np\n",
    "from qec_helpers import *\n",
    "from drawing_helpers import *"
   ]
  },
  {
   "cell_type": "code",
   "execution_count": 2,
   "id": "53858a9e",
   "metadata": {},
   "outputs": [
    {
     "name": "stdout",
     "output_type": "stream",
     "text": [
      "                                    ░                            ░ \n",
      "                    |ψ⟩: ──■────────░───■─────────■──────────────░─\n",
      "                         ┌─┴─┐      ░   │         │              ░ \n",
      "                  |0⟩_0: ┤ X ├──■───░───┼────■────┼──────────────░─\n",
      "                         └───┘┌─┴─┐ ░   │    │    │              ░ \n",
      "                  |0⟩_1: ─────┤ X ├─░───┼────┼────┼────■─────────░─\n",
      "                              └───┘ ░ ┌─┴─┐┌─┴─┐  │    │  ┌─┐    ░ \n",
      "         syndrome |0⟩_0: ─────────────┤ X ├┤ X ├──┼────┼──┤M├────░─\n",
      "                                      └───┘└───┘┌─┴─┐┌─┴─┐└╥┘┌─┐ ░ \n",
      "         syndrome |0⟩_1: ───────────────────────┤ X ├┤ X ├─╫─┤M├─░─\n",
      "                                                └───┘└───┘ ║ └╥┘ ░ \n",
      "classical_measurement: 2/══════════════════════════════════╩══╩════\n",
      "                                                           0  1    \n",
      "+-----------------+---------------------------------+\n",
      "|  Error Location |   Final State, |data⟩|ancilla⟩  |\n",
      "+-----------------+---------------------------------+\n",
      "|     No Error    |  alpha|000⟩|00⟩ + beta|111⟩|00⟩ |\n",
      "|  Qubit 0 (|ψ⟩)  | alpha |100⟩|11⟩ + beta|011⟩|11⟩ |\n",
      "| Qubit 1 (|0⟩_0) | alpha |010⟩|10⟩ + beta|101⟩|10⟩ |\n",
      "| Qubit 2 (|0⟩_1) | alpha |001⟩|01⟩ + beta|110⟩|01⟩ |\n",
      "+-----------------+---------------------------------+\n"
     ]
    }
   ],
   "source": [
    "draw_three_qubit_code()"
   ]
  },
  {
   "cell_type": "code",
   "execution_count": 23,
   "id": "e49fb97d",
   "metadata": {},
   "outputs": [
    {
     "name": "stdout",
     "output_type": "stream",
     "text": [
      "Bit flip error occured on qubit 2\n",
      "Full system error bit state:      0.7071067811865475 00101  +  0.7071067811865475 11001\n",
      "Full system corrected bit state:  0.7071067811865475 00001  +  0.7071067811865475 11101\n",
      "Error bit state:                  0.7071067811865475 001    +  0.7071067811865475 110\n",
      "Corrected bit state:              0.7071067811865475 000    +  0.7071067811865475 111\n"
     ]
    }
   ],
   "source": [
    "psi = 1/np.sqrt(2) * np.array([1, 1])\n",
    "# psi = np.array([0.6, 0.8])\n",
    "\n",
    "# Initialize logical state\n",
    "state = three_qubit_initialize_logical_state(psi)\n",
    "\n",
    "# Apply a random X error to one of the qubits\n",
    "error_state = three_qubit_random_qubit_x_error(state)[0]\n",
    "\n",
    "# Apply the ancilla qubits to the system\n",
    "full_error_state = three_qubit_apply_ancillas(error_state)\n",
    "\n",
    "# Dectecting where the error occured\n",
    "# error_index = three_qubit_detect_error_location_from_vector(full_error_state)\n",
    "\n",
    "# Correcting for the error\n",
    "corrected_state = three_qubit_correct_full_x_error(full_error_state)\n",
    "\n",
    "# Output the proper information for the error corrections\n",
    "three_qubit_info(full_error_state, corrected_state)"
   ]
  },
  {
   "cell_type": "code",
   "execution_count": null,
   "id": "5e71aea5",
   "metadata": {},
   "outputs": [],
   "source": []
  }
 ],
 "metadata": {
  "kernelspec": {
   "display_name": "Python 3 (ipykernel)",
   "language": "python",
   "name": "python3"
  },
  "language_info": {
   "codemirror_mode": {
    "name": "ipython",
    "version": 3
   },
   "file_extension": ".py",
   "mimetype": "text/x-python",
   "name": "python",
   "nbconvert_exporter": "python",
   "pygments_lexer": "ipython3",
   "version": "3.10.7"
  }
 },
 "nbformat": 4,
 "nbformat_minor": 5
}
