{
 "cells": [
  {
   "cell_type": "markdown",
   "id": "2dab2683",
   "metadata": {},
   "source": [
    "### In this file we will go through the Devitt el al. paper (arXiv: 0905.2794v4) and derive and explain all of the math and theory to fully understand basic QEC"
   ]
  },
  {
   "cell_type": "markdown",
   "id": "812c4453",
   "metadata": {},
   "source": [
    "## ll. Preliminaries"
   ]
  },
  {
   "cell_type": "markdown",
   "id": "f7351d54",
   "metadata": {},
   "source": [
    "## lll. Quantum Errors: Cause and Effect"
   ]
  },
  {
   "cell_type": "markdown",
   "id": "c4437f14",
   "metadata": {},
   "source": [
    "## IV. The 3-Qubit Code: A good starting point for quantum error correction"
   ]
  },
  {
   "cell_type": "markdown",
   "id": "ee4b3400",
   "metadata": {},
   "source": [
    "## V. The 9-Qubit Code: The first full quantum code"
   ]
  },
  {
   "cell_type": "markdown",
   "id": "85c7be94",
   "metadata": {},
   "source": [
    "## Vl. Quantum Error Detection"
   ]
  },
  {
   "cell_type": "markdown",
   "id": "37f89d75",
   "metadata": {},
   "source": [
    "## Vll. Stabiliser Formalism"
   ]
  },
  {
   "cell_type": "markdown",
   "id": "c4fd850f",
   "metadata": {},
   "source": [
    "## Vlll. Quantum Error Correction with Stabiliser Codes"
   ]
  },
  {
   "cell_type": "markdown",
   "id": "9bfe9cf4",
   "metadata": {},
   "source": [
    "## lX. Digitization of Quantum Errors"
   ]
  },
  {
   "cell_type": "markdown",
   "id": "8f15c6b4",
   "metadata": {},
   "source": [
    "## X. Fault Tolerant Quantum Error Correction and the Threashold Theorem"
   ]
  },
  {
   "cell_type": "markdown",
   "id": "45b0eac9",
   "metadata": {},
   "source": [
    "## Xl. Fault Tolerant Operations on Encoded Data"
   ]
  },
  {
   "cell_type": "markdown",
   "id": "f80f7c47",
   "metadata": {},
   "source": [
    "## Xll. Fault Tolerant Gate Design for Logical State Preparation"
   ]
  },
  {
   "cell_type": "markdown",
   "id": "7aafb752",
   "metadata": {},
   "source": [
    "## Xlll. Loss Protection"
   ]
  },
  {
   "cell_type": "markdown",
   "id": "d8c1925c",
   "metadata": {},
   "source": [
    "## XlV. Some Modern Develpments in Quantum Error Correction"
   ]
  },
  {
   "cell_type": "code",
   "execution_count": null,
   "id": "12be941a",
   "metadata": {},
   "outputs": [],
   "source": []
  }
 ],
 "metadata": {
  "kernelspec": {
   "display_name": "Python 3 (ipykernel)",
   "language": "python",
   "name": "python3"
  },
  "language_info": {
   "codemirror_mode": {
    "name": "ipython",
    "version": 3
   },
   "file_extension": ".py",
   "mimetype": "text/x-python",
   "name": "python",
   "nbconvert_exporter": "python",
   "pygments_lexer": "ipython3",
   "version": "3.10.7"
  }
 },
 "nbformat": 4,
 "nbformat_minor": 5
}
