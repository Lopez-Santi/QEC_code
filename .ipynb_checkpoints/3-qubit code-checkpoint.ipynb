{
 "cells": [
  {
   "cell_type": "markdown",
   "id": "884e4dc0",
   "metadata": {},
   "source": [
    "#### In this nnotebook we will introduce the 3 qubit code and demonstrate how it works as well as create a running example. We will only use numpy to derive the math as well as create the algorithm, while qiskit will only be used to draw the circuits so that we are able to visualize them."
   ]
  },
  {
   "cell_type": "code",
   "execution_count": 111,
   "id": "1d3d2fe6",
   "metadata": {},
   "outputs": [
    {
     "name": "stdout",
     "output_type": "stream",
     "text": [
      "env: QISKIT_SETTINGS={}\n"
     ]
    }
   ],
   "source": [
    "# Importing required libraries\n",
    "from qiskit import QuantumRegister, ClassicalRegister, QuantumCircuit, Aer, execute\n",
    "from qiskit.visualization import plot_histogram\n",
    "from qiskit import user_config\n",
    "from qiskit.quantum_info import partial_trace\n",
    "import numpy as np\n",
    "import random\n",
    "from qiskit.extensions import UnitaryGate\n",
    "\n",
    "# Initialize backends simulators to visualize circuits\n",
    "sv_sim = Aer.get_backend('statevector_simulator')\n",
    "qasm_sim = Aer.get_backend('qasm_simulator')\n",
    "\n",
    "# Setting mpl as default drawer\n",
    "%env QISKIT_SETTINGS {}\n",
    "user_config.set_config('circuit_drawer', 'mpl')\n"
   ]
  },
  {
   "cell_type": "code",
   "execution_count": 121,
   "id": "7850cabd",
   "metadata": {},
   "outputs": [
    {
     "name": "stdout",
     "output_type": "stream",
     "text": [
      "Below we show the Pauli Operators which can be used to describe any quantum gate on an individual qubit:\n",
      "Pauli-X: \n",
      " [[0 1]\n",
      " [1 0]]\n",
      "Pauli-Y: \n",
      " [[ 0.+0.j  0.+1.j]\n",
      " [-0.-1.j  0.+0.j]]\n",
      "Pauli-Z: \n",
      " [[ 1  0]\n",
      " [ 0 -1]]\n",
      "Pauli-I: \n",
      " [[1. 0.]\n",
      " [0. 1.]]\n"
     ]
    }
   ],
   "source": [
    "# Initializing the Pauli operators\n",
    "sigma_x = np.array([[0,1],[1,0]])\n",
    "sigma_y = np.array([[0,1j],[-1j,0]])\n",
    "sigma_z = np.array([[1,0],[0,-1]])\n",
    "sigma_I = np.identity(2)\n",
    "print('Below we show the Pauli Operators which can be used to describe any quantum gate on an individual qubit:')\n",
    "print('Pauli-X: \\n', sigma_x) \n",
    "print('Pauli-Y: \\n', sigma_y)\n",
    "print('Pauli-Z: \\n', sigma_z)\n",
    "print('Pauli-I: \\n', sigma_I)"
   ]
  },
  {
   "cell_type": "markdown",
   "id": "97851567",
   "metadata": {},
   "source": [
    "### Initializing the 3-qubit logical state"
   ]
  },
  {
   "cell_type": "markdown",
   "id": "471d0c16",
   "metadata": {},
   "source": [
    "#### The 3 Qubit code is the most basic algorithm used for quantum error correction. However, it does not actually represent a full quantum code since it cannot simultaneously correct for bit flips and phase flips.\n",
    "#### In this algorithm a single logical qubit is encoded using 3 physical qubits, and it is able to correct for a single $\\sigma_x$ error (bit flip)\n",
    "\n",
    "#### In this case we will define our two logical states as $\\vert0\\rangle_L$ and $\\vert1\\rangle_L$ where $\\vert0\\rangle_L = \\vert000\\rangle$ and $\\vert1\\rangle_L = \\vert111\\rangle$\n",
    "\n",
    "#### Thus a single qubit state will be represented by $\\vert\\psi\\rangle_L = \\alpha\\vert0\\rangle_L + \\beta\\vert1\\rangle_L$"
   ]
  },
  {
   "cell_type": "markdown",
   "id": "f4d6927d",
   "metadata": {},
   "source": [
    "#### Below we show the quantum circuit for encoding a single logical qubit. Here we use two ancilla qubits initialized to $\\vert0\\rangle$ and two CNOT gates.\n",
    "\n",
    "#### CNOT gates can be represented with the matrix below and it performs an operation on two qubits. One being the target qubit and the other the control. Basically, if the control is $\\vert0\\rangle$ then nothing happens, but if the control is $\\vert1\\rangle$ then the target qubit switches states, either to a $\\vert0\\rangle$ or $\\vert1\\rangle$\n",
    "\n",
    "#### CNOT gate matrix representation:  $$\\begin{pmatrix}\n",
    "1 & 0 & 0 & 0 \\\\\n",
    "0 & 1 & 0 & 0 \\\\\n",
    "0 & 0 & 0 & 1 \\\\\n",
    "0 & 0 & 1 & 0\n",
    "\\end{pmatrix}$$\n"
   ]
  },
  {
   "cell_type": "code",
   "execution_count": 112,
   "id": "0f321052",
   "metadata": {
    "scrolled": true
   },
   "outputs": [
    {
     "data": {
      "image/png": "[encoded data removed]",
      "text/plain": [
       "<Figure size 312.535x284.278 with 1 Axes>"
      ]
     },
     "execution_count": 112,
     "metadata": {},
     "output_type": "execute_result"
    }
   ],
   "source": [
    "psi = QuantumRegister(1, '|ψ⟩')\n",
    "ancilla = QuantumRegister(2, '|0⟩')\n",
    "qc = QuantumCircuit(psi, ancilla)\n",
    "qc.cnot(0, 1)\n",
    "qc.cnot(1, 2)\n",
    "qc.draw()"
   ]
  },
  {
   "cell_type": "markdown",
   "id": "1d449600",
   "metadata": {},
   "source": [
    "#### Mathematically we are able to show what this would look like in terms of matrices and vectors. Our operation will look something like:\n",
    "$$ CNOT_{\\psi, 0} CNOT_{\\psi, 1} \\vert\\psi\\rangle \\vert0\\rangle_0 \\vert0\\rangle_0 = CNOT_{\\psi, 0} CNOT_{\\psi, 1} \\vert\\psi 0_0 0_1\\rangle$$\n",
    "#### Where $CNOT_{\\psi, 0}$ is the CNOT operation on qubit $\\vert0\\rangle_0$, $CNOT_{\\psi, 1}$ is the CNOT operation on $\\vert0\\rangle_0$, and $\\vert\\psi\\rangle$, $\\vert0\\rangle_0$ ($\\vert0_0\\rangle$), and $\\vert0\\rangle_1$ ($\\vert0_1\\rangle$) are the initial states for the three qubits respectively.\n",
    "#### In order to achieve this we need to derive two operators (the CNOT gates). Although they are the same gate, the operators themselves will look slightly different due to the fact that our qubit $\\vert\\psi\\rangle$ is adjacent to qubit $\\vert0\\rangle_0$ but not adjacent to qubit $\\vert0\\rangle_1$. We know that the dimensions of our operations $CNOT_{\\psi, 0}$ and  $CNOT_{\\psi, 1}$ should be 8 x 8 matrices. This is due to the fact that $\\vert\\psi 0_0 0_1\\rangle$ is an 8 x 1 vector and we want to arrive at a vector of the same dimension in the end.\n",
    "\n",
    "#### Thus for qubit $\\vert0\\rangle_0$ we know that the operation should not affect qubit $\\vert0\\rangle_1$. Therefore we know that $CNOT_{\\psi, 0} = CNOT \\otimes I_2$ where CNOT is our usual CNOT operation between $\\vert\\psi\\rangle$ and $\\vert0\\rangle_0$ defined above and $I_2$ is the 2 x 2 identity matrix for $\\vert0\\rangle_1$. Thus \n",
    "\n",
    "$$CNOT_{\\psi, 0} = \\begin{pmatrix}\n",
    "1 & 0 & 0 & 0 & 0 & 0 & 0 & 0 \\\\\n",
    "0 & 1 & 0 & 0 & 0 & 0 & 0 & 0 \\\\\n",
    "0 & 0 & 1 & 0 & 0 & 0 & 0 & 0 \\\\\n",
    "0 & 0 & 0 & 1 & 0 & 0 & 0 & 0 \\\\\n",
    "0 & 0 & 0 & 0 & 0 & 0 & 1 & 0 \\\\\n",
    "0 & 0 & 0 & 0 & 0 & 0 & 0 & 1 \\\\\n",
    "0 & 0 & 0 & 0 & 1 & 0 & 0 & 0 \\\\\n",
    "0 & 0 & 0 & 0 & 0 & 1 & 0 & 0\n",
    "\\end{pmatrix}$$\n",
    "\n",
    "#### For qubit $\\vert0\\rangle_1$ it is not so simple however since there is no known kronecker product that would lead to the transformation needed. Thus we can derive it by looking at what happens to the logical states of the qubit when we apply this gate.\n",
    "https://quantumcomputing.stackexchange.com/questions/4252/how-to-derive-the-cnot-matrix-for-a-3-qubit-system-where-the-control-target-qu/4254#4254\n",
    "\n",
    "$$ CNOT\\vert000\\rangle \\to \\vert000\\rangle, CNOT\\vert001\\rangle \\to \\vert001\\rangle, \\\\\n",
    "CNOT\\vert010\\rangle \\to \\vert010\\rangle, CNOT\\vert011\\rangle \\to \\vert011\\rangle, \\\\\n",
    "CNOT\\vert100\\rangle \\to \\vert101\\rangle, CNOT\\vert101\\rangle \\to \\vert100\\rangle, \\\\\n",
    "CNOT\\vert110\\rangle \\to \\vert111\\rangle, CNOT\\vert111\\rangle \\to \\vert110\\rangle $$\n",
    "\n",
    "#### Therefore, in order to have these effects\n",
    "\n",
    "$$ CNOT_{\\psi, 1} = \\begin{pmatrix}\n",
    "1 & 0 & 0 & 0 & 0 & 0 & 0 & 0 \\\\\n",
    "0 & 1 & 0 & 0 & 0 & 0 & 0 & 0 \\\\\n",
    "0 & 0 & 1 & 0 & 0 & 0 & 0 & 0 \\\\\n",
    "0 & 0 & 0 & 1 & 0 & 0 & 0 & 0 \\\\\n",
    "0 & 0 & 0 & 0 & 0 & 1 & 0 & 0 \\\\\n",
    "0 & 0 & 0 & 0 & 1 & 0 & 0 & 0 \\\\\n",
    "0 & 0 & 0 & 0 & 0 & 0 & 0 & 1 \\\\\n",
    "0 & 0 & 0 & 0 & 0 & 0 & 1 & 0\n",
    "\\end{pmatrix}$$"
   ]
  },
  {
   "cell_type": "markdown",
   "id": "98b60d1f",
   "metadata": {},
   "source": [
    "#### Below is an implementation of the 3-qubit code shown in the circuit above for initializing the logical state of the system"
   ]
  },
  {
   "cell_type": "code",
   "execution_count": 113,
   "id": "4434c48b",
   "metadata": {},
   "outputs": [],
   "source": [
    "# Used to perform a CNOT gate on 2 adjacent qubits (i.e. |psi> and |q_0>)\n",
    "def adjacent_qubit_cnot():\n",
    "    cnot = np.array([[1, 0, 0, 0],[0, 1, 0, 0],[0, 0, 0, 1],[0, 0, 1, 0]])\n",
    "    cnot = np.kron(cnot, np.identity(2))\n",
    "    return cnot\n",
    "\n",
    "# Used to perform a CNOT gate on 2 non-adjacent qubits (i.e. |psi> and |q_1>)\n",
    "def non_adjacent_qubit_cnot():\n",
    "    cnot = np.identity(8)\n",
    "    cnot[4:] = 0\n",
    "    cnot[4][5] = 1\n",
    "    cnot[5][4] = 1\n",
    "    cnot[7][6] = 1\n",
    "    cnot[6][7] = 1\n",
    "    return cnot"
   ]
  },
  {
   "cell_type": "code",
   "execution_count": 152,
   "id": "aa524d45",
   "metadata": {
    "scrolled": false
   },
   "outputs": [
    {
     "name": "stdout",
     "output_type": "stream",
     "text": [
      "Initial Logical State:  [0 0 0 0 1 0 0 0]\n",
      "Final Logical State:  [0. 0. 0. 0. 0. 0. 0. 1.]\n"
     ]
    }
   ],
   "source": [
    "# code demonstrating 3 qubit code above\n",
    "initial_ancilla_state = np.array([1,0]) # initializing the |0> state of the qubits\n",
    "psi = np.array([0, 1]) # setting psi to |0> or|1> \n",
    "# Initialize the 3 qubit logical state\n",
    "initial_logical_state = np.kron(psi, np.kron(initial_ancilla_state, initial_ancilla_state))\n",
    "\n",
    "# Setting up the logical qubit using 2 CNOT gates from above\n",
    "two_cnot_operator = np.dot(non_adjacent_qubit_cnot(), adjacent_qubit_cnot()) # combine the two CNOT gates\n",
    "\n",
    "# Apply the CNOT gates to the kronecker product of the current 3 qubit state\n",
    "final_logical_state = np.dot(two_cnot_operator, initial_logical_state)\n",
    "\n",
    "# Print the initial and final logical state, try to convince yourself that this makes sense\n",
    "print('Initial Logical State: ', initial_logical_state)\n",
    "print('Final Logical State: ', final_logical_state)\n"
   ]
  },
  {
   "cell_type": "markdown",
   "id": "badd252f",
   "metadata": {},
   "source": [
    "## Encoding and correcting for a single X error"
   ]
  },
  {
   "cell_type": "markdown",
   "id": "4528ada8",
   "metadata": {},
   "source": [
    "#### One thing to note about the circuit above is that three bit flips are required to encode a single qubit. This number is defined as the distance between two codeword states and is given the variable d. With this we are able to calculate the number of errors that can be corrected:\n",
    "$$ t = \\left\\lfloor \\frac{(d-1)}{2} \\right\\rfloor$$\n",
    "#### In the case of the 3 qubit code, we can see that d = 3 and thus t = 1\n",
    "\n",
    "#### Now in order to actually be able to correct for errors we require two more ancilla qubits to obtain information about possible errors (syndrome information) without directly measuring the exact state of any of the qubits in the logical qubit.\n",
    "#### Our new circuit will now look like this:"
   ]
  },
  {
   "cell_type": "code",
   "execution_count": 115,
   "id": "09f7b024",
   "metadata": {},
   "outputs": [
    {
     "data": {
      "image/png": "[encoded data removed]",
      "text/plain": [
       "<Figure size 1258.45x535.111 with 1 Axes>"
      ]
     },
     "execution_count": 115,
     "metadata": {},
     "output_type": "execute_result"
    }
   ],
   "source": [
    "psi = QuantumRegister(1, '|ψ⟩')\n",
    "ancilla = QuantumRegister(2, '|0⟩')\n",
    "syndrome_ancilla = QuantumRegister(2, 'syndrome |0⟩')\n",
    "classical_bits = ClassicalRegister(2, 'classical_measurement')\n",
    "qc = QuantumCircuit(psi, ancilla, syndrome_ancilla, classical_bits)\n",
    "qc.cnot(0, 1)\n",
    "qc.cnot(1, 2)\n",
    "qc.barrier(0,1,2) # A bit flip error occurs here\n",
    "qc.cnot(0, 3)\n",
    "qc.cnot(1, 3)\n",
    "qc.cnot(0, 4)\n",
    "qc.cnot(2, 4)\n",
    "qc.measure(syndrome_ancilla, classical_bits)\n",
    "qc.barrier()\n",
    "qc.draw()"
   ]
  },
  {
   "cell_type": "markdown",
   "id": "a6e51dd1",
   "metadata": {},
   "source": [
    "#### The first dashed line represents the bit flip (X) error that occurs to any of the first 3 data qubits. After that we apply 4 CNOT gates to obtain the error information. Then we classically measure the syndrome qubits to see if an error occured and where the error is. \n",
    "\n",
    "#### In this example we assume that the error only occurs where the dashed line is and all other gate operations are 'perfect'. Additionally we assume that only a single bit flip error occurs."
   ]
  },
  {
   "cell_type": "code",
   "execution_count": null,
   "id": "55c6f160",
   "metadata": {},
   "outputs": [],
   "source": []
  },
  {
   "cell_type": "code",
   "execution_count": null,
   "id": "11e4af21",
   "metadata": {},
   "outputs": [],
   "source": [
    "# Here we will put the 3 qubit code that will fix the X error on one of the qubits after initialization.\n",
    "# We will add a random error on one of the qubits and detect it. Also give the option for the user to choose \n",
    "# where the error will go"
   ]
  },
  {
   "cell_type": "markdown",
   "id": "463d75ce",
   "metadata": {},
   "source": [
    "#### Now we will simulate what would happen if a single X bit flip error occurs at a random location after we have initialized the 3 qubit logical state. We can mathematically represent each errror at a location as the following:\n",
    "\n",
    "#### If the error occurs at the 0th qubit ($\\vert\\psi\\rangle$): $(X \\otimes I_2 \\otimes I_2)\\vert\\psi q_1 q_2 \\rangle$\n",
    "#### If the error occurs at the 1st qubit ($\\vert q_1\\rangle$): $(I_2 \\otimes X \\otimes I_2)\\vert\\psi q_1 q_2 \\rangle$\n",
    "#### If the error occurs at the 2nd qubit ($\\vert q_2\\rangle$): $(I_2 \\otimes I_2 \\otimes X)\\vert\\psi q_1 q_2 \\rangle$\n",
    "#### Where X is the Pauli-x ($\\sigma_x$) operator"
   ]
  },
  {
   "cell_type": "code",
   "execution_count": 156,
   "id": "c37554f1",
   "metadata": {},
   "outputs": [
    {
     "name": "stdout",
     "output_type": "stream",
     "text": [
      "Logical State without the random X error:  [0. 0. 0. 0. 0. 0. 0. 1.]\n",
      "Logical Satte with the random X error:  [0. 0. 0. 1. 0. 0. 0. 0.]\n",
      "The Error occured at qubit:  0\n"
     ]
    }
   ],
   "source": [
    "# After we have initialized the 3-qubit logical state, we will apply a random error to one of the qubits.\n",
    "def random_error_x(logical_state):\n",
    "    error_index = random.randint(0,2)\n",
    "    if error_index == 0:\n",
    "        errored_logical_state = np.dot(np.kron(sigma_x, np.identity(4)), logical_state)\n",
    "    elif error_index == 1:\n",
    "        errored_logical_state = np.dot(np.kron(np.kron(np.identity(2), sigma_x), np.identity(2)), logical_state)\n",
    "    elif error_index == 2:\n",
    "        errored_logical_state = np.dot(np.kron(np.identity(4), sigma_x), logical_state)\n",
    "    return errored_logical_state, error_index\n",
    "\n",
    "# Print out the errored logical state and the index qubit which the error occured (using the final state from before)\n",
    "state, qubit_errored = random_error_x(final_logical_state)\n",
    "print('Logical State without the random X error: ', final_logical_state)\n",
    "print('Logical Satte with the random X error: ', state)\n",
    "print('The Error occured at qubit: ', qubit_errored)"
   ]
  },
  {
   "cell_type": "markdown",
   "id": "22aaefe8",
   "metadata": {},
   "source": [
    "### Next we need to be able to find where the qubit errored without actually knowing where it errored. Since this is a simulation we are able to print out what index the qubit actaully errored at to check our work, but in reality we wont know. So we should have a way to determine this. That is where our syndrome ancilla qubits come into play. They will tell us where our error occured!\n"
   ]
  },
  {
   "cell_type": "code",
   "execution_count": null,
   "id": "79757881",
   "metadata": {},
   "outputs": [],
   "source": [
    "# Code implementing the Syndrome Ancilla Qubits to check where the error occured\n"
   ]
  },
  {
   "cell_type": "markdown",
   "id": "fc66bfb0",
   "metadata": {},
   "source": [
    "#### We can now construct a table with the possible results of bit flip error which can occur and how we will detect them using the two syndrome ancilla qubits. For each different error, the syndrome ancillas are flipped to a unique state which we can then measure and apply a correction. The $\\sigma_x$ or bit flip correction would be classically controlled depending on the syndrome ancilla."
   ]
  },
  {
   "cell_type": "code",
   "execution_count": 108,
   "id": "de0ebd5a",
   "metadata": {},
   "outputs": [
    {
     "name": "stdout",
     "output_type": "stream",
     "text": [
      "+-----------------+---------------------------------+\n",
      "|  Error Location |   Final State, |data⟩|ancilla⟩  |\n",
      "+-----------------+---------------------------------+\n",
      "|     No Error    |  alpha|000⟩|00⟩ + beta|111⟩|00⟩ |\n",
      "|  Qubit 0 (|ψ⟩)  | alpha |100⟩|11⟩ + beta|011⟩|11⟩ |\n",
      "| Qubit 1 (|0⟩_0) | alpha |010⟩|10⟩ + beta|101⟩|10⟩ |\n",
      "| Qubit 2 (|0⟩_1) | alpha |001⟩|01⟩ + beta|110⟩|01⟩ |\n",
      "+-----------------+---------------------------------+\n"
     ]
    }
   ],
   "source": [
    "from tabulate import tabulate\n",
    "from prettytable import PrettyTable\n",
    "\n",
    "# Specify the Column Names while initializing the Table\n",
    "error_table = PrettyTable([\"Error Location\", \"Final State, |data⟩|ancilla⟩\"])\n",
    " \n",
    "# Add rows\n",
    "error_table.add_row([\"No Error\", \"alpha|000⟩|00⟩ + beta|111⟩|00⟩\"])\n",
    "error_table.add_row([\"Qubit 0 (|ψ⟩)\", \"alpha |100⟩|11⟩ + beta|011⟩|11⟩\"])\n",
    "error_table.add_row([\"Qubit 1 (|0⟩_0)\", \"alpha |010⟩|10⟩ + beta|101⟩|10⟩\"])\n",
    "error_table.add_row([\"Qubit 2 (|0⟩_1)\", \"alpha |001⟩|01⟩ + beta|110⟩|01⟩\"])\n",
    " \n",
    "print(errorTable)"
   ]
  },
  {
   "cell_type": "code",
   "execution_count": null,
   "id": "76bb3c83",
   "metadata": {},
   "outputs": [],
   "source": []
  },
  {
   "cell_type": "markdown",
   "id": "9a3ed7cf",
   "metadata": {},
   "source": [
    "https://qiskit.org/documentation/stable/0.35/tutorials/circuits/3_summary_of_quantum_operations.html\n",
    "\n",
    "https://www.oreilly.com/library/view/qiskit-pocket-guide/9781098112462/ch01.html"
   ]
  },
  {
   "cell_type": "code",
   "execution_count": null,
   "id": "9f475c9c",
   "metadata": {},
   "outputs": [],
   "source": []
  },
  {
   "cell_type": "code",
   "execution_count": null,
   "id": "b993deac",
   "metadata": {},
   "outputs": [],
   "source": []
  }
 ],
 "metadata": {
  "kernelspec": {
   "display_name": "Python 3 (ipykernel)",
   "language": "python",
   "name": "python3"
  },
  "language_info": {
   "codemirror_mode": {
    "name": "ipython",
    "version": 3
   },
   "file_extension": ".py",
   "mimetype": "text/x-python",
   "name": "python",
   "nbconvert_exporter": "python",
   "pygments_lexer": "ipython3",
   "version": "3.10.7"
  }
 },
 "nbformat": 4,
 "nbformat_minor": 5
}
