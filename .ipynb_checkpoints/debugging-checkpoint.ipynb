{
 "cells": [
  {
   "cell_type": "code",
   "execution_count": 1,
   "id": "d5072a3e",
   "metadata": {},
   "outputs": [],
   "source": [
    "import numpy as np\n",
    "from qec_helpers import *"
   ]
  },
  {
   "cell_type": "code",
   "execution_count": 10,
   "id": "24729c46",
   "metadata": {},
   "outputs": [
    {
     "name": "stdout",
     "output_type": "stream",
     "text": [
      "Bit flip error occured on qubit 1\n"
     ]
    }
   ],
   "source": [
    "# psi = 1/np.sqrt(2) * np.array([1, 1])\n",
    "psi = np.array([0.6, 0.8])\n",
    "\n",
    "# Initialize logical state\n",
    "state = three_qubit_initialize_logical_state(psi)\n",
    "\n",
    "# Apply a random X error to one of the qubits\n",
    "error_state = three_qubit_random_qubit_x_error(state)[0]\n",
    "\n",
    "# Apply the ancilla qubits to the system\n",
    "vector_error_state = three_qubit_apply_ancillas(error_state)\n",
    "\n",
    "# Dectecting where the error occured\n",
    "# error_index = three_qubit_detect_error_location_from_vector(full_error_state)\n",
    "\n",
    "# Correcting for the error\n",
    "vector_corrected_state = three_qubit_correct_full_x_error(vector_error_state)"
   ]
  },
  {
   "cell_type": "code",
   "execution_count": 11,
   "id": "2e2b2c1b",
   "metadata": {},
   "outputs": [
    {
     "name": "stdout",
     "output_type": "stream",
     "text": [
      "Full system error bit state:      0.6 01010  +  0.8 10110\n",
      "Full system corrected bit state:  0.6 00010  +  0.8 11110\n",
      "Error bit state:                  0.6 010    +  0.8 101\n",
      "Corrected bit state:              0.6 000    +  0.8 111\n"
     ]
    }
   ],
   "source": [
    "# Find the 5 bit representation information for the errored vector state\n",
    "error_logical_bits, error_index, error_state = vector_state_to_bit_state(vector_error_state, 5)\n",
    "\n",
    "# Ouput the information for the 5 bit errored state\n",
    "if len(error_index) < 2:\n",
    "    print('Full system error bit state:     ', \n",
    "          error_state[error_index[0].astype(int)], error_logical_bits[0])\n",
    "else:\n",
    "    print('Full system error bit state:     ', \n",
    "          error_state[error_index[0].astype(int)], error_logical_bits[0], ' + ', \n",
    "          error_state[error_index[1].astype(int)], error_logical_bits[1])\n",
    "\n",
    "# Find the 5 bit representation information for the errored vector state\n",
    "corrected_logical_bits, corrected_index, corrected_state = vector_state_to_bit_state(vector_corrected_state, 5)\n",
    "\n",
    "# Ouput the information for the 5 bit corrected state\n",
    "if len(corrected_index) < 2:\n",
    "    print('Full system corrected bit state: ', \n",
    "          corrected_state[corrected_index[0].astype(int)], corrected_logical_bits[0])\n",
    "else:\n",
    "    print('Full system corrected bit state: ', \n",
    "          corrected_state[corrected_index[0].astype(int)], corrected_logical_bits[0], ' + ', \n",
    "          corrected_state[corrected_index[1].astype(int)], corrected_logical_bits[1])\n",
    "\n",
    "# Find the 3 bit representation information for the errored vector state\n",
    "error_logical_bits, error_index, error_state = vector_state_to_bit_state(vector_error_state, 3)\n",
    "\n",
    "# Ouput the information for the 3 bit errored state\n",
    "if len(error_index) < 2:\n",
    "    print('Error bit state:                 ', \n",
    "          error_state[error_index[0].astype(int)], error_logical_bits[0])\n",
    "else:\n",
    "    print('Error bit state:                 ', \n",
    "          error_state[error_index[0].astype(int)], error_logical_bits[0], '   + ', \n",
    "          error_state[error_index[1].astype(int)], error_logical_bits[1])\n",
    "\n",
    "# Find the 3 bit representation information for the corrected vector state\n",
    "corrected_logical_bits, corrected_index, corrected_state = vector_state_to_bit_state(vector_corrected_state, 3)\n",
    "\n",
    "# Ouput the information for the 3 bit corrected state\n",
    "if len(corrected_index) < 2:\n",
    "    print('Corrected bit state:             ', \n",
    "          corrected_state[corrected_index[0].astype(int)], corrected_logical_bits[0])\n",
    "else:\n",
    "    print('Corrected bit state:             ', \n",
    "          corrected_state[corrected_index[0].astype(int)], corrected_logical_bits[0], '   + ', \n",
    "          corrected_state[corrected_index[1].astype(int)], corrected_logical_bits[1])"
   ]
  },
  {
   "cell_type": "code",
   "execution_count": 8,
   "id": "b0500116",
   "metadata": {},
   "outputs": [],
   "source": [
    "# trying to make this function work for any n"
   ]
  },
  {
   "cell_type": "code",
   "execution_count": 44,
   "id": "040da80b",
   "metadata": {},
   "outputs": [
    {
     "name": "stdout",
     "output_type": "stream",
     "text": [
      "['0101']\n",
      "[20.]\n"
     ]
    }
   ],
   "source": [
    "### Changes the vector state representation to the bit representation (only works for max of 5 right now) ###\n",
    "# def vector_state_to_bit_state(logical_state, k):\n",
    "# logical_state: the full logical state of the qubit system you wish to reduce (32 x 1)\n",
    "# k: the number of qubits you wish to reduce the system to (must be less than the full system size)\n",
    "zero = np.array([1, 0])\n",
    "one = np.array([0, 1])\n",
    "logical_state = np.kron(zero, np.kron(one, np.kron(zero, np.kron(one, np.kron(zero, zero)))))\n",
    "k = 4\n",
    "\n",
    "# used to keep an index of where the non-zero element is in the vector representation\n",
    "index_of_element = np.array([]) \n",
    "for i in range(logical_state.size):\n",
    "    if logical_state[i] != 0:\n",
    "        index_of_element = np.append(index_of_element, i)\n",
    "\n",
    "# How many total qubits are in our vector representation\n",
    "n = int(np.log(len(logical_state))/np.log(2))\n",
    "\n",
    "# Keeps track of the logical bits needed \n",
    "# (i.e. a|000> + b|111> : 000 and 111 are considered separate and we will combine them)\n",
    "log_bit = np.array([])\n",
    "\n",
    "# - - - If we fix this part it will work for any qubit system size - - - # \n",
    "##### SMALL BUG WHEN NO ERROR OCCURS AND k = 3: outputs '000' as '0000' #####\n",
    "# Create the bits and make sure they have the correct number of '0's in front \n",
    "for j in range(index_of_element.size):\n",
    "    bits = bin(index_of_element[j].astype(int))\n",
    "    bits = bits[2:]  # Remove the '0b' prefix\n",
    "  \n",
    "    if len(bits) < n:\n",
    "        zeros = '0' * (n - len(bits))\n",
    "        new_bits = zeros + bits[0:(k - (n - len(bits)))]\n",
    "        new_bits = new_bits[0:k]\n",
    "        log_bit = np.append(log_bit, new_bits)\n",
    "    else:\n",
    "        log_bit = np.append(log_bit, bits[0:k])\n",
    "        \n",
    "print(log_bit)\n",
    "print(index_of_element)\n",
    "# print(logical_state)"
   ]
  },
  {
   "cell_type": "code",
   "execution_count": null,
   "id": "5d74e3af",
   "metadata": {},
   "outputs": [],
   "source": []
  }
 ],
 "metadata": {
  "kernelspec": {
   "display_name": "Python 3 (ipykernel)",
   "language": "python",
   "name": "python3"
  },
  "language_info": {
   "codemirror_mode": {
    "name": "ipython",
    "version": 3
   },
   "file_extension": ".py",
   "mimetype": "text/x-python",
   "name": "python",
   "nbconvert_exporter": "python",
   "pygments_lexer": "ipython3",
   "version": "3.10.7"
  }
 },
 "nbformat": 4,
 "nbformat_minor": 5
}
