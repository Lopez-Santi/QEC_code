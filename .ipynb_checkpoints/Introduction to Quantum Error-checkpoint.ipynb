{
 "cells": [
  {
   "cell_type": "code",
   "execution_count": null,
   "id": "cd4279a9",
   "metadata": {},
   "outputs": [],
   "source": [
    "import numpy as np"
   ]
  },
  {
   "cell_type": "markdown",
   "id": "2dab2683",
   "metadata": {},
   "source": [
    "### In this file we will go through the Devitt el al. paper (arXiv: 0905.2794v4) Sections ll and lll and derive and explain all of the math and theory to fully understand basic QEC"
   ]
  },
  {
   "cell_type": "markdown",
   "id": "ea648b47",
   "metadata": {},
   "source": [
    "## ll. Preliminaries"
   ]
  },
  {
   "cell_type": "markdown",
   "id": "98085e62",
   "metadata": {},
   "source": [
    "### This section describes:\n",
    "    (a) The basic structure of a qubit\n",
    "    (b) Some general requirements of QEC\n",
    "\n",
    "#### Suggest reading this section of the paper to understand the fundamentals of qubits and why we need QEC"
   ]
  },
  {
   "cell_type": "markdown",
   "id": "2aea860b",
   "metadata": {},
   "source": [
    "#### We can describe the state of a qubit by $\\vert\\psi\\rangle = \\alpha\\vert0\\rangle + \\beta\\vert1\\rangle$ where $\\vert0\\rangle$ and $\\vert1\\rangle$ are 2 orthonormal basis states known as the computational basis, and we know that  $\\vert\\alpha\\vert^2 + \\vert\\beta\\vert^2 = 1$ holds. \n",
    "\n",
    "#### The probabilty of being in the $\\vert0\\rangle$ state is $P(\\vert0\\rangle) = \\vert\\alpha\\vert^2$ and for the $\\vert1\\rangle$ state is $P(\\vert1\\rangle) = \\vert\\beta\\vert^2$.\n",
    "\n",
    "#### *** Note that we can also define other orthonormal basis states like $\\vert+\\rangle$ and $\\vert-\\rangle$ where $\\vert+\\rangle = \\frac{1}{\\sqrt2}(\\vert0\\rangle + \\vert1\\rangle)$ and $\\vert-\\rangle = \\frac{1}{\\sqrt2}(\\vert0\\rangle - \\vert1\\rangle)$\n",
    "\n",
    "\n",
    "#### Many Quantum gates can be represented using the Pauli operators $(\\sigma_x, \\sigma_y, \\sigma_z, \\sigma_I)$ below. These are important gates in quantum computation.\n"
   ]
  },
  {
   "cell_type": "code",
   "execution_count": 6,
   "id": "5f9dea23",
   "metadata": {},
   "outputs": [
    {
     "name": "stdout",
     "output_type": "stream",
     "text": [
      "Below we show the Pauli Operators which can be used to describe any quantum gate on an individual qubit:\n",
      "Pauli-X: \n",
      " [[0 1]\n",
      " [1 0]]\n",
      "Pauli-Y: \n",
      " [[ 0.+0.j  0.+1.j]\n",
      " [-0.-1.j  0.+0.j]]\n",
      "Pauli-Z: \n",
      " [[ 1  0]\n",
      " [ 0 -1]]\n",
      "Pauli-I: \n",
      " [[1. 0.]\n",
      " [0. 1.]]\n"
     ]
    }
   ],
   "source": [
    "sigma_x = np.array([[0,1],[1,0]])\n",
    "sigma_y = np.array([[0,1j],[-1j,0]])\n",
    "sigma_z = np.array([[1,0],[0,-1]])\n",
    "sigma_I = np.identity(2)\n",
    "print('Below we show the Pauli Operators which can be used to describe any quantum gate on an individual qubit:')\n",
    "print('Pauli-X: \\n', sigma_x) \n",
    "print('Pauli-Y: \\n', sigma_y)\n",
    "print('Pauli-Z: \\n', sigma_z)\n",
    "print('Pauli-I: \\n', sigma_I)"
   ]
  },
  {
   "cell_type": "markdown",
   "id": "e9989d68",
   "metadata": {},
   "source": [
    "## lll. Quantum Errors: Cause and Effect"
   ]
  },
  {
   "cell_type": "markdown",
   "id": "33fd3bc0",
   "metadata": {},
   "source": [
    "### In this section we consider different sources of error \n",
    "#### (coherent, environmental decoherence, and loss, leakage, measuremnt and initialization)\n",
    "### We will apply these errors to two different algorithms."
   ]
  },
  {
   "cell_type": "markdown",
   "id": "4f9ca52c",
   "metadata": {},
   "source": [
    "### 1. A single qubit undergoing N identity opertations\n",
    "$$\\vert\\psi_{final}\\rangle = \\prod_{i}^{N} I_{i} \\vert0\\rangle = \\vert0\\rangle $$\n",
    "#### Where $I \\equiv \\sigma_{I}$\n",
    "\n",
    "#### If a qubit is initially in the $\\vert0\\rangle $state then this operation in the basis $\\vert0\\rangle$, $\\vert1\\rangle$ would be $\\vert0\\rangle$\n",
    "#### This can be shown with the code below:\n",
    "#### Feel free to play with the initial state values and see what results :)"
   ]
  },
  {
   "cell_type": "code",
   "execution_count": 9,
   "id": "b84aa84a",
   "metadata": {
    "scrolled": true
   },
   "outputs": [
    {
     "name": "stdout",
     "output_type": "stream",
     "text": [
      "Here we can see that the final state is the same as the initial state. \n",
      "Final State:  [1. 0.]\n"
     ]
    }
   ],
   "source": [
    "initial_state = np.array([1, 0]) # initalize initial state to |0>\n",
    "n = 10 # number of times to apply the I operator (can be anything)\n",
    "I_i = np.identity(2) # initialize I_i for i = 1 first\n",
    "\n",
    "# Since we are only indexing over i we can multiply I_i with sigma_I n times to arrive at I_n final\n",
    "for i in range(0,n):\n",
    "    I_n = np.dot(I_i, sigma_I)\n",
    "\n",
    "final_state = np.dot(I_n, initial_state)\n",
    "print('Here we can see that the final state is the same as the initial state. ')\n",
    "print('Final State: ', final_state)"
   ]
  },
  {
   "cell_type": "markdown",
   "id": "c1647111",
   "metadata": {},
   "source": [
    "### 2. An algorithm of 3 gates acting on a qubit\n",
    "$$\\vert\\psi\\rangle = HIH\\vert0\\rangle = HI\\frac{1}{\\sqrt{2}}(\\vert0\\rangle + \\vert1\\rangle) = H\\frac{1}{\\sqrt{2}}(\\vert0\\rangle + \\vert1\\rangle) = \\vert0\\rangle$$\n",
    "#### We can show the above case is correct by applying this algorithm to a single qubit in the $\\vert0\\rangle$ state:\n",
    "###### Feel free to play with the initial state values and see what results :)"
   ]
  },
  {
   "cell_type": "code",
   "execution_count": 10,
   "id": "b95047de",
   "metadata": {
    "scrolled": true
   },
   "outputs": [
    {
     "name": "stdout",
     "output_type": "stream",
     "text": [
      "Here we can see that the final state is: \n",
      "Final State:  [1 0]\n"
     ]
    }
   ],
   "source": [
    "initial_state = np.array([1,0]) # initalize initial state to |0>\n",
    "h = 1/np.sqrt(2)*np.array([[1,1],[1,-1]]) # set the hadamard operator \n",
    "\n",
    "# Below we perform the 3 gate operation and psi just represents the state of the qubit during the operations\n",
    "psi = np.dot(h, initial_state) # apply the first hadamard gate\n",
    "psi = np.dot(sigma_I, psi) # apply a wait stage with the I gate\n",
    "final_state = np.dot(h, psi) # apply the second hadamard gate\n",
    "\n",
    "print('Here we can see that the final state is: ')\n",
    "print('Final State: ', (np.rint(final_state)).astype(int))"
   ]
  },
  {
   "cell_type": "markdown",
   "id": "abe85412",
   "metadata": {},
   "source": [
    "### A. Coherent Quantum Errors: Gates which are incorrectly applied:\n",
    "#### This error is usually related to incorrect knowledge of the system dynamics, but it is coherent\n",
    "\n",
    "### First we will consider an example which applies an incorrect rotation about the X-axis of the Bloch Sphere\n",
    "$$ \\vert\\psi_{final}\\rangle = \\prod_{k}^{N} e^{i\\epsilon\\sigma_{x}}\\vert0\\rangle = \\cos(N\\epsilon)\\vert0\\rangle + i\\sin(N\\epsilon)\\vert1\\rangle$$\n",
    "\n",
    "#### Now we will measure the system in the $\\vert0\\rangle$, $\\vert1\\rangle$ basis\n",
    "#### Due to the coherent quantum errors below is the probability of measuing the system in $\\vert0\\rangle$ or $\\vert1\\rangle$:\n",
    "$$ P(\\vert0\\rangle) = \\cos^2(N\\epsilon) \\approx 1 - (N\\epsilon)^2 $$\n",
    "$$ P(\\vert1\\rangle) = \\sin^2(N\\epsilon) \\approx (N\\epsilon)^2$$\n",
    "#### Thus the probability of error is given below when we want the 'correct' state to be $\\vert0\\rangle$:\n",
    "$$ P_{error} \\approx (N\\epsilon)^2$$ \n",
    "### Below we can see a coherent quantum error acting on the initial state with arbitrary $\\epsilon$ and calculate the error due to the X-rotation error N times"
   ]
  },
  {
   "cell_type": "code",
   "execution_count": 11,
   "id": "8d089f35",
   "metadata": {},
   "outputs": [
    {
     "name": "stdout",
     "output_type": "stream",
     "text": [
      "Final State:  [0.86231887+0.j         0.        -0.50636564j]\n"
     ]
    }
   ],
   "source": [
    "initial_state = np.array([1,0]) # initalize initial state to |0>\n",
    "epsilon = 10 # arbitrary epsilon is set\n",
    "n = 10 # arbitrary N is set\n",
    "# We can convert the exponential to its trigonometric form using euler's identity and some algebreic manipulation\n",
    "final_state = np.dot(np.cos(n*epsilon), initial_state) + np.dot(1j*np.sin(n*epsilon), np.array([0,1]))\n",
    "print('Final State: ', final_state)"
   ]
  },
  {
   "cell_type": "markdown",
   "id": "53a48c7b",
   "metadata": {},
   "source": [
    "#### We know that the probability of being in a certain state say $\\vert0\\rangle$ is $P(\\vert0\\rangle) = \\alpha^2$ and for $\\vert1\\rangle$ is $P(\\vert1\\rangle) = \\beta^2$ when $\\vert\\psi\\rangle = \\alpha\\vert0\\rangle + \\beta\\vert1\\rangle$\n",
    "\n"
   ]
  },
  {
   "cell_type": "code",
   "execution_count": 17,
   "id": "52ccbdeb",
   "metadata": {},
   "outputs": [
    {
     "name": "stdout",
     "output_type": "stream",
     "text": [
      "Probability of |0> State:  0.7435938375035028 \n",
      "Probability of |1> State:  0.25640616249649706\n",
      "We can see when adding the two probabilities we get one:  1\n"
     ]
    }
   ],
   "source": [
    "prob_zero = (final_state[0].real**2 + final_state[0].imag**2) # Probability of being in the |0> state\n",
    "prob_one = (final_state[1].real**2 + final_state[1].imag**2) # Probability of being in the |1> state\n",
    "\n",
    "print('Probability of |0> State: ', prob_zero, '\\nProbability of |1> State: ', prob_one)\n",
    "print('We can see when adding the two probabilities we get one: ', (np.rint(prob_zero + prob_one).real).astype(int))"
   ]
  },
  {
   "cell_type": "code",
   "execution_count": 18,
   "id": "1b7da909",
   "metadata": {
    "scrolled": true
   },
   "outputs": [
    {
     "name": "stdout",
     "output_type": "stream",
     "text": [
      "Probability of error: prob_one =  0.25640616249649706  = 1 - prob_zero =  0.25640616249649717\n"
     ]
    }
   ],
   "source": [
    "#### Calculating the probability for error: (This is the same as the P(|1>) or 1 - P(|0>))\n",
    "prob_error = prob_one\n",
    "print('Probability of error: prob_one = ', prob_error, ' = 1 - prob_zero = ', 1 - prob_zero)"
   ]
  },
  {
   "cell_type": "markdown",
   "id": "a576c900",
   "metadata": {},
   "source": [
    "### B. Environmental Decoherence:\n",
    "#### This type of error usually stems from noise, heat, or other external factors\n",
    "\n",
    "#### In this example we will focus on an environment which is a two level system and has two basis states: $\\vert e_0\\rangle$ and $ \\vert e_1\\rangle$\n",
    "#### These satisfy the relations $ \\langle e_i\\vert e_j\\rangle = \\delta_{ij}$ and $ \\vert e_0\\rangle\\langle e_0\\vert + \\vert e_1\\rangle\\langle e_1\\vert = I$\n",
    "\n",
    "#### We will assume 2 things:\n",
    "##### 1. The environment coupling works as follows: when the qubit is in the $\\vert1\\rangle$ state the coupling flips the environment state, and when the qubit is in the $\\vert0\\rangle$ state nothing happens\n",
    "##### 2. The system/environemnt only interact during the wait stage when the identity operator is acting\n",
    "\n",
    "#### Let us assume the environment is initialized to the state $\\vert E\\rangle = \\vert e_0\\rangle$ and lets couple it to the 2nd system we considered in part lll which applies 3 gates on the initial state:\n",
    "$$ HIH\\vert0\\rangle\\vert E\\rangle = \\frac{1}{2}(\\vert0\\rangle + \\vert1\\rangle)\\vert e_0\\rangle + \\frac{1}{2}(\\vert0\\rangle - \\vert1\\rangle)\\vert e_1\\rangle$$\n",
    "\n",
    "#### This can be simplified to the following since the error operator flips when acting on $\\vert1\\rangle$:\n",
    "$$ HIH\\vert0\\rangle\\vert E\\rangle = HI\\frac{1}{\\sqrt{2}}(\\vert0\\rangle + \\vert1\\rangle)\\vert e_0\\rangle \n",
    "= H\\frac{1}{\\sqrt{2}}(\\vert0\\rangle\\vert e_0\\rangle + \\vert1\\rangle\\vert e_1\\rangle)\n",
    "=\\frac{1}{2}(\\vert0\\rangle + \\vert1\\rangle)\\vert e_0\\rangle + \\frac{1}{2}(\\vert0\\rangle - \\vert1\\rangle)\\vert e_1\\rangle$$\n",
    "\n",
    "#### Below is a representation to implement this error operation as a multiplication of matrices:\n",
    "$$(H_q \\otimes I_E)E_A(I_q \\otimes I_E)(H_q \\otimes I_E)\\vert qE_0\\rangle$$\n",
    "where $$H_q =\\frac{1}{\\sqrt2} \\begin{pmatrix}\n",
    "1 & 1 \\\\\n",
    "1 & -1\n",
    "\\end{pmatrix},$$\n",
    "\n",
    "$$I_E = I_q =\\begin{pmatrix}\n",
    "1 & 0 \\\\\n",
    "0 & 1\n",
    "\\end{pmatrix},$$\n",
    "\n",
    "$$E_A = \\begin{pmatrix}\n",
    "1 & 0 & 0 & 0\\\\\n",
    "0 & 1 & 0 & 0\\\\\n",
    "0 & 0 & 0 & 1\\\\\n",
    "0 & 0 & 1 & 0\n",
    "\\end{pmatrix}$$ \n",
    "#### $E_A$ is similar to the CNOT gate in this case due to the assumptions made by the paper\n",
    "\n",
    "#### The final state below is exactly the state we get when applying the $HIH\\vert0\\rangle\\vert E\\rangle$ operation\n"
   ]
  },
  {
   "cell_type": "code",
   "execution_count": 20,
   "id": "a8893553",
   "metadata": {},
   "outputs": [
    {
     "name": "stdout",
     "output_type": "stream",
     "text": [
      "Final State:  [ 0.5  0.5  0.5 -0.5]\n"
     ]
    }
   ],
   "source": [
    "error_gate = np.array([[1, 0, 0, 0], [0, 1, 0, 0], [0, 0, 0, 1], [0, 0, 1, 0]]) # E_A\n",
    "hadamard = np.kron(h, sigma_I) # H_q\n",
    "identity = np.kron(sigma_I, sigma_I) # I_E = I_q\n",
    "initial_state = np.array([1, 0, 0, 0]) # Tensor of initial state of qubit |0> and E = |e_0>\n",
    "final_state = np.dot(hadamard, np.dot(error_gate, np.dot(identity, np.dot(hadamard, initial_state))))\n",
    "print('Final State: ', final_state)"
   ]
  },
  {
   "cell_type": "markdown",
   "id": "7bcb2272",
   "metadata": {},
   "source": [
    "#### However, now since we are considering decoherent operations, we are no longer in a pure state. Instead we have turned our quantum states into a classical mixed state, and we must move to a density matrix to be able to represent it. This matrix represents the lack of knowledge of the system, being a description of the system at all possible measurement results. \n",
    "\n",
    "#### We know that the density matix for a given state is $ \\rho_f = \\sum_{j}^{}{p_j\\vert\\psi_j\\rangle\\langle\\psi_j\\vert}$ where $p_j$ is the probability of being in the state $\\vert\\psi_j\\rangle$. \n",
    "\n",
    "#### To take the density matrix of the state $\\vert\\psi\\rangle = \\frac{1}{2}(\\vert0\\rangle + \\vert1\\rangle)\\vert e_0\\rangle + \\frac{1}{2}(\\vert0\\rangle - \\vert1\\rangle)\\vert e_1\\rangle$ from above:\n",
    "\n",
    "$$ \\rho_f = \\sum_{j}^{}{p_j\\vert\\psi_j\\rangle\\langle\\psi_j\\vert} = p\\vert\\psi\\rangle\\langle\\psi\\vert = \\biggl(\\frac{1}{2}\\biggr)^2 \\biggl((\\vert0\\rangle + \\vert1\\rangle)\\vert e_0\\rangle + (\\vert0\\rangle - \\vert1\\rangle)\\vert e_1\\rangle\\biggr) \\biggl((\\langle0\\vert + \\langle1\\vert)\\langle e_0\\vert + (\\langle0\\vert - \\langle1\\vert)\\langle e_1\\vert \\biggr) $$ \n",
    "\n",
    "$$ = \\frac{1}{4} \\biggl[ \\biggl( (\\vert0\\rangle + \\vert1\\rangle)\\vert e_0\\rangle\\biggr)\n",
    "\\biggl( (\\langle0\\vert + \\langle1\\vert)\\langle e_0\\vert\\biggr) + \\biggl( (\\vert0\\rangle - \\vert1\\rangle)\\vert e_1\\rangle\\biggr) \\biggl( (\\langle0\\vert - \\langle1\\vert)\\langle e_1\\vert\\biggr) \\\\+ \\biggl( (\\vert0\\rangle + \\vert1\\rangle)\\vert e_0\\rangle\\biggr)\n",
    "\\biggl( (\\langle0\\vert - \\langle1\\vert)\\langle e_1\\vert\\biggr) + \\biggl( (\\vert0\\rangle - \\vert1\\rangle)\\vert e_1\\rangle\\biggr) \\biggl( (\\langle0\\vert + \\langle1\\vert)\\langle e_0\\vert\\biggr) \\biggr]$$\n",
    "\n",
    "\n",
    "#### After a little bit of algebra from above we arrive at:\n",
    "$$ \\rho_f = \\frac{1}{4}(\\vert0\\rangle\\langle0\\vert + \\vert0\\rangle\\langle1\\vert + \\vert1\\rangle\\langle0\\vert + \\vert1\\rangle\\langle1\\vert)\\vert e_0\\rangle\\langle e_0\\vert\n",
    "+ \\frac{1}{4}(\\vert0\\rangle\\langle0\\vert - \\vert0\\rangle\\langle1\\vert - \\vert1\\rangle\\langle0\\vert + \\vert1\\rangle\\langle1\\vert)\\vert e_1\\rangle\\langle e_1\\vert$$\n",
    "$$ + \\frac{1}{4}(\\vert0\\rangle\\langle0\\vert - \\vert0\\rangle\\langle1\\vert + \\vert1\\rangle\\langle0\\vert - \\vert1\\rangle\\langle1\\vert)\\vert e_0\\rangle\\langle e_1\\vert\n",
    "+ \\frac{1}{4}(\\vert0\\rangle\\langle0\\vert + \\vert0\\rangle\\langle1\\vert - \\vert1\\rangle\\langle0\\vert - \\vert1\\rangle\\langle1\\vert)\\vert e_1\\rangle\\langle e_0\\vert $$\n",
    "\n",
    "#### Since we dont know the environmental degrees of freedom we will trace over this part of the system (also known as a partial trace): \n",
    "\n",
    "https://en.wikipedia.org/wiki/Partial_trace#Partial_trace_for_operators_on_Hilbert_spaces),\n",
    "\n",
    "https://www.ryanlarose.com/uploads/1/1/5/8/115879647/quic06-states-trace.pdf (pg6),\n",
    "\n",
    "http://mmrc.amss.cas.cn/tlb/201702/W020170224608149940643.pdf (Section 2.4.3)\n",
    "\n",
    "$$ TR_E (\\rho_f) = \\frac{1}{4}(\\vert0\\rangle\\langle0\\vert + \\vert0\\rangle\\langle1\\vert + \\vert1\\rangle\\langle0\\vert + \\vert1\\rangle\\langle1\\vert)\n",
    "+ \\frac{1}{4}(\\vert0\\rangle\\langle0\\vert - \\vert0\\rangle\\langle1\\vert - \\vert1\\rangle\\langle0\\vert + \\vert1\\rangle\\langle1\\vert) = \\frac{1}{2} \\biggl( \\vert0\\rangle\\langle0\\vert+ \\vert1\\rangle\\langle1\\vert \\biggr) $$\n",
    "\n",
    "#### As we can see from this result, the system is $\\vert0\\rangle$ 50% of the time and $\\vert1\\rangle$ 50% of the time. Additionally, the 2nd hadamard gate has no effect on the qubit state since this sequence of gates should take the state $ \\frac{1}{2}(\\vert0\\rangle + \\vert1\\rangle) $ to $ \\vert0\\rangle$ but does not due to the environmental coupling."
   ]
  },
  {
   "cell_type": "markdown",
   "id": "614a83e3",
   "metadata": {},
   "source": [
    "### Partial Trace Example:\n",
    "#### Let $\\rho_{AB} = \\vert\\Phi_{AB}^+\\rangle\\langle\\Phi_{AB}^+\\vert$,  where $ \\vert\\Phi_{AB}^+\\rangle = \\frac{1}{\\sqrt2}\\biggl(\\vert00\\rangle + \\vert11\\rangle\\biggr)$\n",
    "#### Therefore the density operator is $$ \\rho_{AB} = \\frac{1}{2}\\biggl(\\vert00\\rangle\\langle00\\vert + \\vert00\\rangle\\langle11\\vert + \\vert11\\rangle\\langle00\\vert + \\vert11\\rangle\\langle11\\vert\\biggr)$$\n",
    "\n",
    "#### Now the reduced density operator (Partial Trace over B) for system A defined as $\\rho_A = TR_B(\\rho_{AB})$\n",
    "#### Thus since $TR_B$ acts on the B system we have $TR_B(\\vert a_1\\rangle\\langle a_2\\vert \\otimes \\vert b_1\\rangle\\langle b_2\\vert) =  \\vert a_1\\rangle\\langle a_2\\vert TR(\\vert b_1\\rangle\\langle b_2\\vert)$\n",
    "#### And finally since $TR(\\vert b_1\\rangle\\langle b_2\\vert) = \\langle b_2\\vert b_1\\rangle $ it is clear to see that $ TR_B(\\rho_{AB}) = \\vert a_1\\rangle\\langle a_2\\vert \\langle b_2\\vert b_1\\rangle $\n",
    "\n",
    "#### Thus for this example: $$TR_B(\\rho_{AB}) = \\frac{1}{2} \\biggl( TR_B (\\vert00\\rangle\\langle00\\vert) + TR_B (\\vert00\\rangle\\langle11\\vert) + TR_B (\\vert11\\rangle\\langle00\\vert) + TR_B (\\vert11\\rangle\\langle11\\vert)\\biggr)$$\n",
    "$$ = \\frac{1}{2} \\biggl( \\vert0\\rangle\\langle0\\vert \\langle0\\vert0\\rangle + \\vert0\\rangle\\langle1\\vert \\langle1\\vert0\\rangle + \\vert1\\rangle\\langle0\\vert \\langle0\\vert1\\rangle + \\vert1\\rangle\\langle1\\vert \\langle1\\vert1\\rangle \\biggr) = \\frac{1}{2} \\biggl( \\vert0\\rangle\\langle0\\vert \\cdot (1) + \\vert0\\rangle\\langle1\\vert \\cdot (0) + \\vert1\\rangle\\langle0\\vert \\cdot (0) + \\vert1\\rangle\\langle1\\vert \\cdot (1) \\biggr) =  \\frac{1}{2} \\biggl( \\vert0\\rangle\\langle0\\vert+ \\vert1\\rangle\\langle1\\vert \\biggr)$$"
   ]
  },
  {
   "cell_type": "markdown",
   "id": "886ac292",
   "metadata": {},
   "source": [
    "### C. Simple models of loss, leakage, measurement and initialization\n",
    "\n",
    "#### In this section, important & frequently used models will be discerned to identify Quantum Errors.\n",
    "\n",
    "#### The first models of errors are Measurement Errors\n",
    "\n",
    "#### Positive Operator Value Measures (POVM's)\n",
    "#### POVMs in quantum error correction help us understand and deal with errors by allowing measurements that account for variations from the intended quantum states.\n",
    "#### Method 1: \n",
    "\n",
    "$$F_0 = \\left ( 1-p_m \\right ) |0><0| + p_m |1><1|$$     \n",
    "### Eqs. 14\n",
    "\n",
    "#### 1. F_0: This represents the operator corresponding to the outcome \"0\" in the measurement. \n",
    "#### 2. p_m: This variable represents the probability of obtaining outcome \"1\" (as opposed to outcome \"0\") in the measurement. It is a parameter that can be adjusted to control the likelihood of different outcomes.\n",
    "#### 3. (1 - p_m): This term represents the probability of obtaining outcome \"0\" in the measurement. It is derived from subtracting the probability of outcome \"1\" from 1, ensuring that the probabilities sum up to 1.\n",
    "\n"
   ]
  },
  {
   "cell_type": "code",
   "execution_count": null,
   "id": "c8617aa9",
   "metadata": {},
   "outputs": [],
   "source": [
    "import numpy as np\n",
    "\n",
    "# Define the parameter p_m (probability of outcome \"1\")\n",
    "p_m = 0.3  # You can change this value as desired\n",
    "\n",
    "# Define the column vectors for |0> and |1>\n",
    "ket_0 = np.array([1, 0])\n",
    "ket_1 = np.array([0, 1])\n",
    "\n",
    "# Define the row vectors for <0| and <1|\n",
    "bra_0 = np.array([[1],[0]])\n",
    "bra_1 = np.array([[0],[1]])\n",
    "\n",
    "# Finally, we can compute F_0 using np.kron for both ket and bra vectors\n",
    "# Since |0> <0|, or ket-0 (2x1 vector) x bra-0 (1x2 scalar), or [1] x [1 0]\n",
    "#                                                                0] \n",
    "F_0 = (1 - p_m) * np.kron(ket_0, bra_0) + p_m * np.kron(ket_1, bra_1)\n",
    "print(\"F_0:\\n\", F_0)\n",
    "\n",
    "# Below:\n",
    "# The top left is the probabilty of finding the state in |0>\n",
    "# This bottom right is the probabilty of finding the state in |1>\n",
    "\n"
   ]
  },
  {
   "cell_type": "markdown",
   "id": "704ce7ff",
   "metadata": {},
   "source": [
    "\n",
    "$$F_1 = \\left ( 1-p_m \\right ) |1><1| + p_m |0><0|$$\n",
    "\n",
    "#### 1. F_1: This represents the operator corresponding to the outcome \"1\" in the measurement. \n",
    "#### 2. p_m: Similar to F_0, this variable represents the probability of obtaining outcome \"0\" (as opposed to outcome \"1\") in the measurement.\n",
    "#### 3. (1 - $p_m$): This term represents the probability of obtaining outcome \"1\" in the measurement.\n"
   ]
  },
  {
   "cell_type": "code",
   "execution_count": 30,
   "id": "cdd8da4c",
   "metadata": {},
   "outputs": [
    {
     "name": "stdout",
     "output_type": "stream",
     "text": [
      "F_1:\n",
      " [[0.3 0. ]\n",
      " [0.  0.7]]\n"
     ]
    }
   ],
   "source": [
    "import numpy as np\n",
    "\n",
    "# Define the parameter p_m (probability of outcome \"1\")\n",
    "p_m = 0.3  # You can change this value as desired\n",
    "\n",
    "# Define the column vectors for |0> and |1>\n",
    "ket_0 = np.array([1, 0])\n",
    "ket_1 = np.array([0, 1])\n",
    "\n",
    "# Define the row vectors for <0| and <1|\n",
    "bra_0 = np.array([[1],[0]])\n",
    "bra_1 = np.array([[0],[1]])\n",
    "\n",
    "# Compute F_1 using np.kron for both ket and bra vectors\n",
    "F_1 = (1 - p_m) * np.kron(ket_1, bra_1) + p_m * np.kron(ket_0, bra_0)\n",
    "print(\"F_1:\\n\", F_1)\n",
    "\n",
    "# Below:\n",
    "# The top left is the probabilty of finding the state in |0>\n",
    "# This bottom right is the probabilty of finding the state in |1>\n"
   ]
  },
  {
   "cell_type": "markdown",
   "id": "e36004c1",
   "metadata": {},
   "source": [
    "#### Method 2\n",
    "#### Step 1: Apply following mapping to qubit:\n",
    "$$ \\rho \\to \\rho ' = \\left ( 1-p_m \\right )\\rho + p_MX\\rho X $$\n",
    "\n",
    "### Eq 15\n",
    "\n",
    "#### Applying the mapping to a qubit means transforming the state of the qubit according to the given formula \n",
    "#### to account for the effect of a certain operation or measurement\n",
    "#### So, the meaning of the mapping is that it modifies the original state of the qubit to account for the specified scaling and transformation operations\n",
    "#### Therefore, the mapping onto the qubit transforms the initial state p according, where p' is the updated state of the qubit\n",
    "#### p' = updated state of qubit\n",
    "#### The mapping involves a combination of scaling and transformation operations\n",
    "#### The term $(1 - p_m) * p$ represents a scaling of the initial state $p$ by $(1 - p_m)$.\n",
    "#### The term $p_m * X * p * X$ represents a transformation of the initial state p using the Pauli-X matrix X"
   ]
  },
  {
   "cell_type": "code",
   "execution_count": 22,
   "id": "adba16d2",
   "metadata": {},
   "outputs": [
    {
     "name": "stdout",
     "output_type": "stream",
     "text": [
      "Initial state [[1 0]\n",
      " [0 0]]\n",
      "Updated state [[0.7 0. ]\n",
      " [0.  0.3]]\n",
      "Probability of measuring the state in |0>:  0.7\n",
      "Probability of measuring the state in |1>:  0.3\n"
     ]
    }
   ],
   "source": [
    "import numpy as np\n",
    "\n",
    "# Define the parameter p_m (probability of outcome \"1\")\n",
    "p_m = 0.3  # You can change this value as desired\n",
    "\n",
    "# Define the column vectors for |0> and |1>\n",
    "ket_0 = np.array([1, 0])\n",
    "ket_1 = np.array([0, 1])\n",
    "\n",
    "# Define the row vectors for <0| and <1|\n",
    "bra_0 = np.array([[1], [0]])\n",
    "bra_1 = np.array([[0], [1]])\n",
    "\n",
    "# Define the initial state of the qubit, p\n",
    "p = np.array([[1, 0], [0, 0]])\n",
    "print(\"Initial state\", p)\n",
    "\n",
    "# Compute p' using the given formula\n",
    "p_prime = p_prime = (1-p_m)*p + p_m*np.dot(sigma_x, np.dot(p, sigma_x))\n",
    "print(\"Updated state\", p_prime)\n",
    "\n",
    "# The top left entry of p' represents the probability of finding the state in |0>\n",
    "p_0 = p_prime[0, 0]\n",
    "print(\"Probability of measuring the state in |0>: \", p_0)\n",
    "\n",
    "# The bottom right entry of p' represents the probability of finding the state in |1>\n",
    "p_1 = p_prime[1, 1]\n",
    "print(\"Probability of measuring the state in |1>: \", p_1)\n",
    "\n"
   ]
  },
  {
   "cell_type": "markdown",
   "id": "cf342f60",
   "metadata": {},
   "source": [
    "#### After mappings, our next step is performing a measurement.\n",
    "#### The following is an example of how to do this: how to perform a measurement through code.\n",
    "#### Specifically, a perfect measurement in the (|0>, |1>) basis"
   ]
  },
  {
   "cell_type": "code",
   "execution_count": 38,
   "id": "cbf2ed04",
   "metadata": {},
   "outputs": [
    {
     "name": "stdout",
     "output_type": "stream",
     "text": [
      "Probability of measuring |0>:  [[0.36]\n",
      " [0.  ]]\n",
      "Probability of measuring |1>:  [[0.  ]\n",
      " [0.64]]\n"
     ]
    }
   ],
   "source": [
    "import numpy as np\n",
    "\n",
    "# Define the column vectors for |0> and |1>\n",
    "ket_0 = np.array([1, 0])\n",
    "ket_1 = np.array([0, 1])\n",
    "\n",
    "# Define the row vectors for <0| and <1|\n",
    "bra_0 = np.array([[1], [0]])\n",
    "bra_1 = np.array([[0], [1]])\n",
    "\n",
    "# Define the quantum state\n",
    "psi = np.array([[0.6], [0.8]])  # Example state |psi> = 0.6|0> + 0.8|1>\n",
    "\n",
    "# Define the projection operators for |0> and |1>\n",
    "proj_0 = np.array([[1, 0], [0, 0]])  # Projection operator for |0>\n",
    "proj_1 = np.array([[0, 0], [0, 1]])  # Projection operator for |1>\n",
    "\n",
    "# Perform a perfect measurement in the (|0>, |1>) basis\n",
    "# This basis is of particular interest because it is the computational basis,\n",
    "# where |0> represents the \"0\" state and |1> represents the \"1\" state.\n",
    "\n",
    "# Calculate the probabilities of measuring |0> and |1>\n",
    "# To obtain the probabilities, we take the inner product between each projection operator\n",
    "# and the quantum state, and then calculate the absolute value squared.\n",
    "prob_0 = np.abs(np.dot(proj_0, psi))**2\n",
    "prob_1 = np.abs(np.dot(proj_1, psi))**2\n",
    "#In summary, np.abs(np.dot(proj_0, psi))**2 calculates the squared absolute value of the inner product \n",
    "#between the projection operator proj_0 and the quantum state psi, \n",
    "#representing the probability of measuring the state in the basis state corresponding to proj_0 and proj_1.\n",
    "\n",
    "# Print the measurement probabilities\n",
    "print(\"Probability of measuring |0>: \", prob_0)\n",
    "print(\"Probability of measuring |1>: \", prob_1)\n"
   ]
  },
  {
   "cell_type": "code",
   "execution_count": null,
   "id": "eb086c67",
   "metadata": {},
   "outputs": [],
   "source": [
    "# Explanation of output above:\n",
    "\n",
    "# Probability of measuring |0>:  [[0.36]\n",
    "#                              [0.  ]]\n",
    "\n",
    "#The output is a 2x1 column vector - not a \n",
    "#The first entry is 0.36, which represents the probability of measuring |0>. \n",
    "#The second entry is 0.0, indicating that the probability of measuring |1> is 0.\n",
    "\n",
    "\n",
    "\n",
    "# Probability of measuring |1>:  [[0.  ]\n",
    "#                              [0.64]]\n",
    "\n",
    "#Similarly, this is a 2x1 column vector.\n",
    "#The first entry is 0.0, indicating that the probability of measuring |0> is 0. \n",
    "#The second entry is 0.64, representing the probability of measuring |1>.\n",
    "\n",
    "#In conclusion, The output is a 2x1 column vector because \n",
    "#it represents the probabilities of measuring the quantum state \n",
    "#in the basis states |0> and |1>, respectively.\n",
    "\n",
    "#Therefore, We don't use a 2x2 matrix because\n",
    "#we are interested in the probabilities of measuring the state \n",
    "#in specific basis states, not the full state vector representation.\n"
   ]
  },
  {
   "cell_type": "markdown",
   "id": "f5fa4157",
   "metadata": {},
   "source": [
    "### Our next important step after we measure states, is analyzing the measurement\n",
    "#### We do this by tracing \n",
    "#### In QEC, what is tracing, what does it do, and why does it even matter?\n",
    "\n",
    "#### \"Trace\" refers to a math operation performed on operators or matrices (as you'll say below)\n",
    "#### The trace of a matrix is obtained by summing its diagonal elements.\n",
    "#### When analyzing measurements, we use tracing to evaluate the probabilities of specific measurement outcomes.\n",
    "#### Since it's a math operation, it's not directly related to manipulating the physical qubits themselves\n",
    "#### Finally, tracing helps us learn about the presence or absence of specific quantum states by evaluating the diagonal elements of operators or matrices."
   ]
  },
  {
   "cell_type": "markdown",
   "id": "995bcd2c",
   "metadata": {},
   "source": [
    "\n",
    "### Define the measurement projectors $A_0$ and $A_1$\n",
    "\n",
    "#### $A_0$ = |0><0|  \n",
    "#### $A_1$ = |1><1|\n",
    "#### $A_0$ and $A_1$ are measurement projectors.\n",
    "####\n",
    "#### When we perform a measurement, we are interested in obtaining information about the state of a system.\n",
    "#### A measurement projector (like $A_0$ and $A_1$ helps us extract that info by projecting the state onto the specific outcome we want to observe. In this case, we want to project the measurements onto the (|0>, |1>).\n",
    "\n",
    "### Define the measurement operators $F_0$ and $F_1$\n",
    "#### $F_0$ = (1 - p_m) * $A_0$ + p_m * $A_1$ # Measurement operator for outcome |0>.\n",
    "#### $F_0$ combines the measurement projectors $A_0$ and $A_1$ with weights (1 - p_m) and p_m, respectively, to represent the measurement of outcome |0>.\n",
    "\n",
    "#### $F_1$ = (1 - p_m) * $A_1$ + p_m * $A_0$ # Measurement operator for outcome |1>. $F_1$ combines the measurement projectors $A_1$ and $A_0$ with weights (1 - p_m) and p_m, respectively, to represent the measurement of outcome |1>.\n",
    "\n",
    "#### The measurement operators $F_0$ and $F_1$ are important for tracing because they allow us to calculate the expected values of the measurement outcomes |0> and |1> when applied to the quantum state. \n",
    "#### Tracing $F_0$ and $F_1$ with the quantum state p gives us insights into the probabilities and expected values of the measurement outcomes, helping us understand the behavior of the quantum system.\n",
    "\n",
    "### After performing a perfect measurement in the (|0>, |1>) basis\n",
    "###  We can now begin calculating the trace of $F_0$ multiplied by the quantum state p\n",
    "#### Tr($F_0$ p) gives the expected value of the measurement outcome |0>\n",
    "\n",
    "#### In quantum mechanics, the POVM element $F_i$ is associated with the measurement outcome \n",
    "#### i, such that the probability of obtaining it when making a measurement on the quantum state \n",
    "#### ρ is given by $Prob(i)=tr(\\rho * F_i)$\n",
    "\n",
    "https://en.wikipedia.org/wiki/POVM \n",
    "\n",
    "$$Tr(F_0 p)=\\left( 1-p_M \\right)Tr\\left( A_0 p \\right))+ p_MTr(A_1p)),$$\n",
    "$$Tr(F_1 p)=\\left( 1-p_M \\right)Tr\\left( A_1 p \\right))+ p_MTr(A_0p)),$$\n",
    "$$\n",
    "$$\n",
    "\n",
    "### Eqs. 16\n",
    "\n",
    "\n",
    "$$Tr(A_0 p')=\\left( 1-p_M \\right)Tr\\left(A_0 p \\right))+ p_MTr(XA_0 X_p))$$\n",
    "$$= \\left( 1-p_M \\right)Tr\\left(A_0 p \\right))+ p_MTr(A_1p))$$\n",
    "$$$$\n",
    "$$Tr(A_1 p')=\\left( 1-p_M \\right)Tr\\left(A_1 p \\right))+ p_MTr(XA_1 X_p))$$\n",
    "$$= \\left( 1-p_M \\right)Tr\\left(A_1 p \\right))+ p_MTr(A_0p))$$\n",
    "\n",
    "\n",
    "### Eqs. 17\n",
    "\n",
    "#### Calculate the trace of $A_0$ multiplied by the updated quantum state p'\n",
    "#### Tr(A_0 p') gives the expected value of the measurement outcome |0> after the mapping\n",
    "\n",
    "\n",
    "#### Calculate the trace of A_1 multiplied by the updated quantum state p'\n",
    "#### Tr(A_1 p') gives the expected value of the measurement outcome |1> after the mapping\n",
    "\n",
    "\n",
    "#### Print the measurement outcome probabilities and expected values\n",
    "\n"
   ]
  },
  {
   "cell_type": "code",
   "execution_count": 3,
   "id": "595dd0e1",
   "metadata": {
    "scrolled": true
   },
   "outputs": [
    {
     "ename": "NameError",
     "evalue": "name 'sigma_x' is not defined",
     "output_type": "error",
     "traceback": [
      "\u001b[0;31m---------------------------------------------------------------------------\u001b[0m",
      "\u001b[0;31mNameError\u001b[0m                                 Traceback (most recent call last)",
      "Input \u001b[0;32mIn [3]\u001b[0m, in \u001b[0;36m<cell line: 22>\u001b[0;34m()\u001b[0m\n\u001b[1;32m     20\u001b[0m \u001b[38;5;66;03m# Define the quantum states p and p_prime\u001b[39;00m\n\u001b[1;32m     21\u001b[0m p \u001b[38;5;241m=\u001b[39m np\u001b[38;5;241m.\u001b[39marray([[\u001b[38;5;241m1\u001b[39m, \u001b[38;5;241m0\u001b[39m], [\u001b[38;5;241m0\u001b[39m, \u001b[38;5;241m0\u001b[39m]])\u001b[38;5;66;03m#(1/np.sqrt(2))*np.array([[1, 0], [0, 1]])  # Example quantum state\u001b[39;00m\n\u001b[0;32m---> 22\u001b[0m p_prime \u001b[38;5;241m=\u001b[39m (\u001b[38;5;241m1\u001b[39m\u001b[38;5;241m-\u001b[39mp_m)\u001b[38;5;241m*\u001b[39mp \u001b[38;5;241m+\u001b[39m p_m\u001b[38;5;241m*\u001b[39mnp\u001b[38;5;241m.\u001b[39mdot(\u001b[43msigma_x\u001b[49m, np\u001b[38;5;241m.\u001b[39mdot(p, sigma_x))  \u001b[38;5;66;03m# Updated quantum state after mapping\u001b[39;00m\n\u001b[1;32m     24\u001b[0m \u001b[38;5;66;03m# Perform a perfect measurement in the (|0>, |1>) basis\u001b[39;00m\n\u001b[1;32m     25\u001b[0m \n\u001b[1;32m     26\u001b[0m \u001b[38;5;66;03m# Calculate the trace of F_0 multiplied by the quantum state p\u001b[39;00m\n\u001b[1;32m     27\u001b[0m trace_F0_p \u001b[38;5;241m=\u001b[39m np\u001b[38;5;241m.\u001b[39mtrace(np\u001b[38;5;241m.\u001b[39mdot(F_0, p))\n",
      "\u001b[0;31mNameError\u001b[0m: name 'sigma_x' is not defined"
     ]
    }
   ],
   "source": [
    "import numpy as np\n",
    "\n",
    "# Define the column vectors for |0> and |1>\n",
    "ket_0 = np.array([1, 0])  # Column vector for |0>\n",
    "ket_1 = np.array([0, 1])  # Column vector for |1>\n",
    "\n",
    "# Define the row vectors for <0| and <1|\n",
    "bra_0 = np.array([[1], [0]])  # Row vector for <0|\n",
    "bra_1 = np.array([[0], [1]])  # Row vector for <1|\n",
    "\n",
    "# Define the measurement projectors A_0 and A_1\n",
    "A_0 = np.kron(ket_0, bra_0)  # Measurement projector for |0>\n",
    "A_1 = np.kron(ket_1, bra_1)  # Measurement projector for |1>\n",
    "\n",
    "# Define the measurement operators F_0 and F_1\n",
    "p_m = 0.1  # Probability of measurement error\n",
    "F_0 = (1 - p_m) * A_0 + p_m * A_1  # Measurement operator for outcome |0>\n",
    "F_1 = (1 - p_m) * A_1 + p_m * A_0  # Measurement operator for outcome |1>\n",
    "\n",
    "# Define the quantum states p and p_prime\n",
    "p = np.array([[1, 0], [0, 0]])#(1/np.sqrt(2))*np.array([[1, 0], [0, 1]])  # Example quantum state\n",
    "p_prime = (1-p_m)*p + p_m*np.dot(sigma_x, np.dot(p, sigma_x))  # Updated quantum state after mapping\n",
    "\n",
    "# Perform a perfect measurement in the (|0>, |1>) basis\n",
    "\n",
    "# Calculate the trace of F_0 multiplied by the quantum state p\n",
    "trace_F0_p = np.trace(np.dot(F_0, p))\n",
    "\n",
    "# Calculate the trace of F_1 multiplied by the quantum state p\n",
    "trace_F1_p = np.trace(np.dot(F_1, p))\n",
    "\n",
    "# Calculate the trace of A_0 multiplied by the updated quantum state p_prime\n",
    "trace_A0_p_prime = np.trace(np.dot(A_0, p_prime))\n",
    "\n",
    "# Calculate the trace of A_1 multiplied by the updated quantum state p_prime\n",
    "trace_A1_p_prime = np.trace(np.dot(A_1, p_prime))\n",
    "\n",
    "# Normalize the probabilities\n",
    "prob_0 = np.abs(trace_F0_p) ** 2 / (np.abs(trace_F0_p) ** 2 + np.abs(trace_F1_p) ** 2)\n",
    "prob_1 = np.abs(trace_F1_p) ** 2 / (np.abs(trace_F0_p) ** 2 + np.abs(trace_F1_p) ** 2)\n",
    "\n",
    "# Print the measurement outcome probabilities and expected values\n",
    "print(\"Measurement Outcome Probabilities:\")\n",
    "print(\"Probability of measuring |0>: \", prob_0)\n",
    "print(\"Probability of measuring |1>: \", prob_1)\n",
    "print(\"\")\n",
    "\n",
    "print(\"Expected Measurement Values:\")\n",
    "print(\"Expected value of measuring |0>: \", trace_F0_p)\n",
    "print(\"Expected value of measuring |1>: \", trace_F1_p)\n",
    "print(\"Expected value of measuring |0>' after mapping: \", trace_A0_p_prime)\n",
    "print(\"Expected value of measuring |1>' after mapping: \", trace_A1_p_prime)\n"
   ]
  },
  {
   "cell_type": "markdown",
   "id": "bb60554b",
   "metadata": {},
   "source": [
    "#### So, either method will result in the same probabilities "
   ]
  },
  {
   "cell_type": "markdown",
   "id": "56092574",
   "metadata": {},
   "source": [
    "### Qubit Collapse\n",
    "\n",
    "##### When using the Positive Operator Value Measures (POVMs) from Eqs. 14,\n",
    "##### the collapsed state of the qubit is given by:\n",
    "\n",
    "$$p\\to \\frac {M_ipM_i^{\\dagger}}{Tr\\left( F_ip \\right)},    i=0,1$$\n",
    "\n",
    "\n",
    "\n",
    "##### where,\n",
    "\n",
    "$$M_0=\\sqrt{1-p_M} |0\\rangle\\langle0| + \\sqrt{p_M}|1\\rangle\\langle1|,$$\n",
    "$$M_1=\\sqrt{1-p_M} |1\\rangle\\langle1| + \\sqrt{p_M}|0\\rangle\\langle0|$$\n",
    "\n",
    "\n"
   ]
  },
  {
   "cell_type": "markdown",
   "id": "abc18cbb",
   "metadata": {},
   "source": [
    "### Variables:\n",
    "\n",
    "#### p: The initial density matrix of the qubit.\n",
    "#### M_i: The measurement operator corresponding to outcome i.\n",
    "#### M_i^{\\dagger}: The Hermitian conjugate of M_i.\n",
    "#### Tr: The trace operator, which calculates the trace of a matrix.\n",
    "#### F_i: The positive operator value measure (POVM) element corresponding to outcome i.\n",
    "    \n",
    "    \n",
    "#### In this example, we assume a 2x2 density matrix p, measurement operators M_0 and M_1, and POVM elements F_0 and F_1. \n",
    "#### The calculation involves obtaining the trace of the matrix multiplication between the POVM elements and the density matrix (trace_F_0_p and trace_F_1_p).\n",
    "    \n",
    "    \n",
    "#### Then, we calculate the collapsed state for outcome 0 by multiplying M_0, p, and the conjugate transpose of M_0, and dividing by trace_F_0_p. Similarly, we calculate the collapsed state for outcome 1. Finally, the results are printed."
   ]
  },
  {
   "cell_type": "code",
   "execution_count": 24,
   "id": "e5d1b586",
   "metadata": {},
   "outputs": [
    {
     "name": "stdout",
     "output_type": "stream",
     "text": [
      "Collapsed state for outcome 0:\n",
      "[[1. 0.]\n",
      " [0. 0.]]\n",
      "Collapsed state for outcome 1:\n",
      "[[0. 0.]\n",
      " [0. 1.]]\n"
     ]
    }
   ],
   "source": [
    "import numpy as np\n",
    "\n",
    "# Define the initial density matrix p\n",
    "p = np.array([[1, 0], [0, 1]])\n",
    "\n",
    "# Define the measurement operators M_0 and M_1\n",
    "M_0 = np.array([[1, 0], [0, 0]])\n",
    "M_1 = np.array([[0, 0], [0, 1]])\n",
    "\n",
    "# Define the POVM elements F_0 and F_1\n",
    "F_0 = np.array([[1, 0], [0, 0]])\n",
    "F_1 = np.array([[0, 0], [0, 1]])\n",
    "\n",
    "# Calculate the trace of F_0 and F_1 with p\n",
    "trace_F_0_p = np.trace(np.dot(F_0, p))\n",
    "trace_F_1_p = np.trace(np.dot(F_1, p))\n",
    "\n",
    "# Calculate the collapsed state for outcome 0\n",
    "collapsed_state_0 = np.dot(np.dot(M_0, p), M_0.conj().T) / trace_F_0_p\n",
    "\n",
    "# Calculate the collapsed state for outcome 1\n",
    "collapsed_state_1 = np.dot(np.dot(M_1, p), M_1.conj().T) / trace_F_1_p\n",
    "\n",
    "# Print the results\n",
    "print(\"Collapsed state for outcome 0:\")\n",
    "print(collapsed_state_0)\n",
    "\n",
    "print(\"Collapsed state for outcome 1:\")\n",
    "print(collapsed_state_1)\n"
   ]
  },
  {
   "cell_type": "markdown",
   "id": "7bbd68d2",
   "metadata": {},
   "source": [
    "#### where\n",
    "$$M_0=\\sqrt{1-p_M} |0\\rangle\\langle0| + \\sqrt{p_M}|1\\rangle\\langle1|,$$\n",
    "$$M_1=\\sqrt{1-p_M} |1\\rangle\\langle1| + \\sqrt{p_M}|0\\rangle\\langle0|$$\n",
    "\n",
    "\n"
   ]
  },
  {
   "cell_type": "code",
   "execution_count": 26,
   "id": "6ac27c32",
   "metadata": {},
   "outputs": [
    {
     "name": "stdout",
     "output_type": "stream",
     "text": [
      "Collapsed state for outcome 0:\n",
      "[[0.50564057 0.        ]\n",
      " [0.         0.2167031 ]]\n",
      "Collapsed state for outcome 1:\n",
      "[[0.2167031  0.        ]\n",
      " [0.         0.50564057]]\n"
     ]
    }
   ],
   "source": [
    "import numpy as np\n",
    "\n",
    "# Define the initial density matrix p\n",
    "p = np.array([[1, 0], [0, 1]])\n",
    "\n",
    "# Define the probability of outcome 1\n",
    "p_M = 0.3\n",
    "\n",
    "# Calculate the terms for M_0\n",
    "M_0_0 = np.sqrt(1 - p_M) * np.outer(np.array([1, 0]), np.array([1, 0]))\n",
    "M_0_1 = np.sqrt(p_M) * np.outer(np.array([0, 1]), np.array([0, 1]))\n",
    "M_0 = M_0_0 + M_0_1\n",
    "\n",
    "# Calculate the terms for M_1\n",
    "M_1_1 = np.sqrt(1 - p_M) * np.outer(np.array([0, 1]), np.array([0, 1]))\n",
    "M_1_0 = np.sqrt(p_M) * np.outer(np.array([1, 0]), np.array([1, 0]))\n",
    "M_1 = M_1_1 + M_1_0\n",
    "\n",
    "# Calculate the trace of M_0 and M_1 with p\n",
    "trace_M_0_p = np.trace(np.dot(M_0, p))\n",
    "trace_M_1_p = np.trace(np.dot(M_1, p))\n",
    "\n",
    "# Calculate the collapsed state for outcome 0\n",
    "collapsed_state_0 = np.dot(np.dot(M_0, p), M_0.conj().T) / trace_M_0_p\n",
    "\n",
    "# Calculate the collapsed state for outcome 1\n",
    "collapsed_state_1 = np.dot(np.dot(M_1, p), M_1.conj().T) / trace_M_1_p\n",
    "\n",
    "# Print the results\n",
    "print(\"Collapsed state for outcome 0:\")\n",
    "print(collapsed_state_0)\n",
    "\n",
    "print(\"Collapsed state for outcome 1:\")\n",
    "print(collapsed_state_1)\n"
   ]
  },
  {
   "cell_type": "markdown",
   "id": "f364d806",
   "metadata": {},
   "source": [
    "\n",
    "\n",
    "#### Therefore, the resulting state after neasurement will not be intilaized in a known state\n",
    "#### If second model is used, then the system is initialized to either |0> or |1>\n",
    "#### Either way, the probabilty of of measuring |0> is 1/2\n"
   ]
  },
  {
   "cell_type": "markdown",
   "id": "f71487e1",
   "metadata": {},
   "source": [
    "### Part 1: Demonstration of probability of finding state per model being equal\n",
    "#### First model: $$Tr(F_0 p)=\\left( 1-p_M \\right)Tr\\left( A_0 p \\right))+ p_MTr(A_1p)),$$"
   ]
  },
  {
   "cell_type": "code",
   "execution_count": 5,
   "id": "4f2e7dcd",
   "metadata": {},
   "outputs": [
    {
     "name": "stdout",
     "output_type": "stream",
     "text": [
      "Probability of measuring |0>: 0.5\n"
     ]
    }
   ],
   "source": [
    "import numpy as np\n",
    "\n",
    "# Define the state |0⟩\n",
    "ket_0 = np.array([1, 0])\n",
    "\n",
    "# Define the state |1⟩\n",
    "ket_1 = np.array([0, 1])\n",
    "\n",
    "# Calculate the density matrix for the state (1/sqrt(2)) * (|0⟩ + |1⟩)\n",
    "p = np.outer((ket_0 + ket_1) / np.sqrt(2), (ket_0 + ket_1) / np.sqrt(2))\n",
    "\n",
    "\n",
    "# Define the probability of outcome 1\n",
    "p_M = 0.3\n",
    "\n",
    "# Define the POVM elements F_0 and F_1\n",
    "F_0 = np.array([[1, 0], [0, 0]]) \n",
    "F_1 = np.array([[0, 0], [0, 1]]) \n",
    "\n",
    "# Define the projectors A_0 and A_1\n",
    "A_0 = np.outer(np.array([1, 0]), np.array([1, 0]))  # Projector onto |0⟩\n",
    "A_1 = np.outer(np.array([0, 1]), np.array([0, 1]))  # Projector onto |1⟩\n",
    "\n",
    "# Next we can calculate the trace of F_0 and F_1 with p\n",
    "trace_F_0_p = (1 - p_M) * np.trace(np.dot(A_0, p)) + p_M * np.trace(np.dot(A_1, p))\n",
    "trace_F_1_p = np.trace(np.dot(F_1, p))\n",
    "\n",
    "# Calculate the probability of measuring |0|\n",
    "prob_0 = trace_F_0_p / (trace_F_0_p + trace_F_1_p)\n",
    "\n",
    "# Print the result\n",
    "print(\"Probability of measuring |0>:\", prob_0)\n"
   ]
  },
  {
   "cell_type": "markdown",
   "id": "c4ef58bd",
   "metadata": {},
   "source": [
    "### Part 2: Demonstration of probability of finding state per model being equal\n",
    "####  $$Tr(A_0 p')= \\left( 1-p_M \\right)Tr\\left(A_0 p \\right))+ p_MTr(A_1p))$$"
   ]
  },
  {
   "cell_type": "code",
   "execution_count": 10,
   "id": "eefd7b9f",
   "metadata": {},
   "outputs": [
    {
     "name": "stdout",
     "output_type": "stream",
     "text": [
      "Probability of measuring |0>: 0.5\n"
     ]
    }
   ],
   "source": [
    "import numpy as np\n",
    "\n",
    "# Define the state |0⟩\n",
    "ket_0 = np.array([1, 0])\n",
    "\n",
    "# Define the state |1⟩\n",
    "ket_1 = np.array([0, 1])\n",
    "\n",
    "# Calculate the density matrix for the state (1/sqrt(2)) * (|0⟩ + |1⟩)\n",
    "p = np.outer((ket_0 + ket_1) / np.sqrt(2), (ket_0 + ket_1) / np.sqrt(2))\n",
    "\n",
    "\n",
    "# Define the probability of outcome 1\n",
    "p_M = 0.3\n",
    "\n",
    "# Define the transformation matrix X\n",
    "X = np.array([[0, 1], [1, 0]])\n",
    "\n",
    "# Calculate the transformed density matrix p'\n",
    "p_prime = (1 - p_M) * p + p_M * np.dot(np.dot(X, p), X)\n",
    "\n",
    "# Define the projectors A_0 and A_1\n",
    "A_0 = np.outer(np.array([1, 0]), np.array([1, 0]))\n",
    "A_1 = np.outer(np.array([0, 1]), np.array([0, 1]))\n",
    "\n",
    "# Calculate the trace of A_0 and A_1 with p'\n",
    "trace_A_0_p_prime = np.trace(np.dot(A_0, p_prime))\n",
    "trace_A_1_p_prime = np.trace(np.dot(A_1, p_prime))\n",
    "\n",
    "# Calculate the probability of measuring |0| when initialized with |1>\n",
    "prob_0 = trace_A_0_p_prime / (trace_A_0_p_prime + trace_A_1_p_prime)\n",
    "\n",
    "# Print the result\n",
    "print(\"Probability of measuring |0>:\", prob_0)\n"
   ]
  },
  {
   "cell_type": "markdown",
   "id": "8e397f38",
   "metadata": {},
   "source": [
    "#### Using any of the models from method 2, the probability of measuring |0> is 1/2."
   ]
  },
  {
   "cell_type": "markdown",
   "id": "9df1e6b7",
   "metadata": {},
   "source": [
    "### What if the POVM model is used? (using $F_0$ and $M_0$ operators)\n",
    "#### The state after measurement is,\n",
    "$$\\sqrt{\\left( 1-p_M \\right)}|0\\rangle + \\sqrt{p_m}|1\\rangle$$"
   ]
  },
  {
   "cell_type": "code",
   "execution_count": 7,
   "id": "ade0e76a",
   "metadata": {},
   "outputs": [
    {
     "name": "stdout",
     "output_type": "stream",
     "text": [
      "Collapsed state after measurement: [0.83666003 0.54772256]\n"
     ]
    }
   ],
   "source": [
    "import numpy as np\n",
    "\n",
    "# Define the initial state |psi> as (1/sqrt(2)) * (|0⟩ + |1⟩)\n",
    "psi = np.array([1, 1]) / np.sqrt(2)\n",
    "\n",
    "# Define the probability of outcome 1\n",
    "p_M = 0.3\n",
    "\n",
    "# Define the POVM elements M_0 and M_1\n",
    "M_0 = np.sqrt(1 - p_M) * np.outer(np.array([1, 0]), np.array([1, 0])) + np.sqrt(p_M) * np.outer(np.array([0, 1]), np.array([0, 1]))\n",
    "M_1 = np.sqrt(1 - p_M) * np.outer(np.array([0, 1]), np.array([0, 1])) + np.sqrt(p_M) * np.outer(np.array([1, 0]), np.array([1, 0]))\n",
    "\n",
    "# Measure the state |psi> using the POVM elements\n",
    "measurement_0 = np.dot(M_0, psi)\n",
    "measurement_1 = np.dot(M_1, psi)\n",
    "\n",
    "# Calculate the normalized collapsed state after measurement\n",
    "collapsed_state = measurement_0 / np.linalg.norm(measurement_0)\n",
    "\n",
    "# Print the result\n",
    "print(\"Collapsed state after measurement:\", collapsed_state)\n"
   ]
  },
  {
   "cell_type": "code",
   "execution_count": null,
   "id": "2ba9b8e0",
   "metadata": {},
   "outputs": [],
   "source": [
    "# In this code, the initial state psi is defined as (1/sqrt(2)) * (|0⟩ + |1⟩),\n",
    "# representing a superposition state.\n",
    "\n",
    "#The probability of outcome 1, p_M, is set to 0.3.\n",
    "\n",
    "#The POVM elements M_0 and M_1 are defined using the given equations. \n",
    "#M_0 corresponds to the measurement outcome of 0, and M_1 corresponds to the measurement outcome of 1.\n",
    "\n",
    "#The measurement outcomes are calculated by performing a matrix multiplication of the corresponding POVM element with the initial state psi.\n",
    "\n",
    "#To obtain the collapsed state, the outcome corresponding to M_0 is normalized by dividing it by its norm.\n",
    "\n",
    "#Finally, the collapsed state after measurement is printed. This state should be a superposition of |0⟩ and |1⟩, with amplitudes related to p_M."
   ]
  }
 ],
 "metadata": {
  "kernelspec": {
   "display_name": "Python 3 (ipykernel)",
   "language": "python",
   "name": "python3"
  },
  "language_info": {
   "codemirror_mode": {
    "name": "ipython",
    "version": 3
   },
   "file_extension": ".py",
   "mimetype": "text/x-python",
   "name": "python",
   "nbconvert_exporter": "python",
   "pygments_lexer": "ipython3",
   "version": "3.9.12"
  }
 },
 "nbformat": 4,
 "nbformat_minor": 5
}
