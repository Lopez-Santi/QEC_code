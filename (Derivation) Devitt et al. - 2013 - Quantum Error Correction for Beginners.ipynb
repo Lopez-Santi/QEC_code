{
 "cells": [
  {
   "cell_type": "code",
   "execution_count": 2,
   "id": "3653c64f",
   "metadata": {},
   "outputs": [],
   "source": [
    "import numpy as np"
   ]
  },
  {
   "cell_type": "markdown",
   "id": "2dab2683",
   "metadata": {},
   "source": [
    "### In this file we will go through the Devitt el al. paper (arXiv: 0905.2794v4) and derive and explain all of the math and theory to fully understand basic QEC"
   ]
  },
  {
   "cell_type": "markdown",
   "id": "ea648b47",
   "metadata": {},
   "source": [
    "## ll. Preliminaries"
   ]
  },
  {
   "cell_type": "markdown",
   "id": "98085e62",
   "metadata": {},
   "source": [
    "### This section describes:\n",
    "    (a) The basic structure of a qubit\n",
    "    (b) Some general requirements of QEC\n",
    "\n",
    "#### Suggest reading this section of the paper to understand the fundamentals of qubits and why we need QEC"
   ]
  },
  {
   "cell_type": "code",
   "execution_count": 3,
   "id": "5f9dea23",
   "metadata": {},
   "outputs": [
    {
     "name": "stdout",
     "output_type": "stream",
     "text": [
      "Below we show the Pauli Operators which can be used to describe any quantum gate on an individual qubit:\n",
      "Pauli-X: \n",
      " [[0 1]\n",
      " [1 0]]\n",
      "Pauli-Y: \n",
      " [[ 0.+0.j  0.+1.j]\n",
      " [-0.-1.j  0.+0.j]]\n",
      "Pauli-Z: \n",
      " [[ 1  0]\n",
      " [ 0 -1]]\n",
      "Pauli-I: \n",
      " [[1. 0.]\n",
      " [0. 1.]]\n"
     ]
    }
   ],
   "source": [
    "# Pauli Operators\n",
    "sigma_x = np.array([[0,1],[1,0]])\n",
    "sigma_y = np.array([[0,1j],[-1j,0]])\n",
    "sigma_z = np.array([[1,0],[0,-1]])\n",
    "sigma_I = np.identity(2)\n",
    "print('Below we show the Pauli Operators which can be used to describe any quantum gate on an individual qubit:')\n",
    "print('Pauli-X: \\n', sigma_x) \n",
    "print('Pauli-Y: \\n', sigma_y)\n",
    "print('Pauli-Z: \\n', sigma_z)\n",
    "print('Pauli-I: \\n', sigma_I)"
   ]
  },
  {
   "cell_type": "markdown",
   "id": "e9989d68",
   "metadata": {},
   "source": [
    "## lll. Quantum Errors: Cause and Effect"
   ]
  },
  {
   "cell_type": "markdown",
   "id": "33fd3bc0",
   "metadata": {},
   "source": [
    "### In this section we consider different sources of error \n",
    "#### (coherent, environmental decoherence, and loss, leakage, measuremnt and initialization)\n",
    "### We will apply these errors to two different algorithms."
   ]
  },
  {
   "cell_type": "markdown",
   "id": "4f9ca52c",
   "metadata": {},
   "source": [
    "### 1. A single qubit undergoing N identity opertations\n",
    "$$\\vert\\psi_{final}\\rangle = \\prod_{i}^{N} I_{i} \\vert0\\rangle = \\vert0\\rangle $$ Where $I \\equiv \\sigma_{I}$"
   ]
  },
  {
   "cell_type": "markdown",
   "id": "2826e066",
   "metadata": {},
   "source": [
    "#### If a qubit is initially in the $\\vert0\\rangle $state then this operation in the basis $\\vert0\\rangle$, $\\vert1\\rangle$ would be $\\vert0\\rangle$\n",
    "#### This can be shown with the code below:\n",
    "#### Feel free to play with the initial state values and see what results :)"
   ]
  },
  {
   "cell_type": "code",
   "execution_count": 4,
   "id": "b84aa84a",
   "metadata": {
    "scrolled": true
   },
   "outputs": [
    {
     "name": "stdout",
     "output_type": "stream",
     "text": [
      "Here we can see that the final state is |0> \n",
      "Final State:  [1. 0.]\n"
     ]
    }
   ],
   "source": [
    "initial_state = np.array([1, 0]) # initalize initial state to |0>\n",
    "n = 10 # number of times to apply the I operator (can be anything)\n",
    "I_i = np.identity(2) # initialize I_i for i = 1 first\n",
    "\n",
    "# Since we are only indexing over i we can multiply I_i with sigma_I n times to arrive at I_n final\n",
    "for i in range(0,n):\n",
    "    I_n = np.dot(I_i, sigma_I)\n",
    "\n",
    "final_state = np.dot(I_n, initial_state)\n",
    "print('Here we can see that the final state is |0> ')\n",
    "print('Final State: ', final_state)"
   ]
  },
  {
   "cell_type": "markdown",
   "id": "c1647111",
   "metadata": {},
   "source": [
    "### 2. An algorithm of 3 gates acting on a qubit\n",
    "$$\\vert\\psi\\rangle = HIH\\vert0\\rangle = HI\\frac{1}{\\sqrt{2}}(\\vert0\\rangle + \\vert1\\rangle) = H\\frac{1}{\\sqrt{2}}(\\vert0\\rangle + \\vert1\\rangle) = \\vert0\\rangle$$\n",
    "#### We can show the above case is correct by applying this algorithm to a single qubit in the $\\vert0\\rangle$ state:\n",
    "###### Feel free to play with the initial state values and see what results :)"
   ]
  },
  {
   "cell_type": "code",
   "execution_count": 6,
   "id": "b95047de",
   "metadata": {
    "scrolled": true
   },
   "outputs": [
    {
     "name": "stdout",
     "output_type": "stream",
     "text": [
      "Here we can see that the final state is |0> \n",
      "Final State:  [1 0]\n"
     ]
    }
   ],
   "source": [
    "initial_state = np.array([1,0]) # initalize initial state to |0>\n",
    "h = 1/np.sqrt(2)*np.array([[1,1],[1,-1]]) # set the hadamard operator \n",
    "\n",
    "# Below we perform the 3 gate operation and psi just represents the state of the qubit during the operations\n",
    "psi = np.dot(h, initial_state) # apply the first hadamard gate\n",
    "psi = np.dot(sigma_I, psi) # apply a wait stage with the I gate\n",
    "final_state = np.dot(h, psi) # apply the second hadamard gate\n",
    "\n",
    "print('Here we can see that the final state is |0> ')\n",
    "print('Final State: ', (np.rint(final_state)).astype(int))"
   ]
  },
  {
   "cell_type": "markdown",
   "id": "abe85412",
   "metadata": {},
   "source": [
    "### A. Coherent Quantum Errors: Gates which are incorrectly applied:\n",
    "#### This error is usually related to incorrect knowledge of the system dynamics, but it is coherent\n",
    "\n",
    "### First we will consider an example which applies an incorrect rotation about the X-axis of the Bloch Sphere\n",
    "$$ \\vert\\psi_{final}\\rangle = \\prod_{k}^{N} e^{i\\epsilon\\sigma_{x}}\\vert0\\rangle = \\cos(N\\epsilon)\\vert0\\rangle + i\\sin(N\\epsilon)\\vert1\\rangle$$\n",
    "\n",
    "#### Now we will measure the system in the $\\vert0\\rangle$, $\\vert1\\rangle$ basis\n",
    "#### Due to the coherent quantum errors below is the probability of measuing the system in $\\vert0\\rangle$ or $\\vert1\\rangle$:\n",
    "$$ P(\\vert0\\rangle) = \\cos^2(N\\epsilon) \\approx 1 - (N\\epsilon)^2 $$\n",
    "$$ P(\\vert1\\rangle) = \\sin^2(N\\epsilon) \\approx (N\\epsilon)^2$$\n",
    "#### Thus the probability of error is \n",
    "$$ p_{error} \\approx (N\\epsilon)^2$$\n",
    "### Below we can see a coherent quantum error acting on the initial state with arbitrary $\\epsilon$ and calculate the error due to the X-rotation error N times"
   ]
  },
  {
   "cell_type": "code",
   "execution_count": 7,
   "id": "8d089f35",
   "metadata": {},
   "outputs": [
    {
     "name": "stdout",
     "output_type": "stream",
     "text": [
      "Final State:  [0.86231887+0.j         0.        -0.50636564j]\n"
     ]
    }
   ],
   "source": [
    "initial_state = np.array([1,0]) # initalize initial state to |0>\n",
    "epsilon = 10 # arbitrary epsilon is set\n",
    "n = 10 # arbitrary N is set\n",
    "# We can convert the exponential to its trigonometric form using euler's identity and some algebreic manipulation\n",
    "final_state = np.dot(np.cos(n*epsilon), initial_state) + np.dot(1j*np.sin(n*epsilon), np.array([0,1]))\n",
    "print('Final State: ', final_state)"
   ]
  },
  {
   "cell_type": "markdown",
   "id": "53a48c7b",
   "metadata": {},
   "source": [
    "#### We know that the probability of being in a certain state say $\\vert0\\rangle$ is $P(\\vert0\\rangle) = \\alpha^2$ and for $\\vert1\\rangle$ is $P(\\vert1\\rangle) = \\beta^2$ when $\\vert\\psi\\rangle = \\alpha\\vert0\\rangle + \\beta\\vert1\\rangle$\n",
    "\n"
   ]
  },
  {
   "cell_type": "code",
   "execution_count": 8,
   "id": "52ccbdeb",
   "metadata": {},
   "outputs": [
    {
     "name": "stdout",
     "output_type": "stream",
     "text": [
      "Probability of |0> State:  0.7435938375035028 \n",
      "Probability of |1> State:  0.25640616249649706\n",
      "We can see when adding the two probabilities we get one:  1\n"
     ]
    }
   ],
   "source": [
    "prob_zero = (final_state[0].real + final_state[0].imag)**2 # Probability of being in the |0> state\n",
    "prob_one = (final_state[1].real + final_state[1].imag)**2 # Probability of being in the |1> state\n",
    "\n",
    "print('Probability of |0> State: ', prob_zero, '\\nProbability of |1> State: ', prob_one)\n",
    "print('We can see when adding the two probabilities we get one: ', (np.rint(prob_zero + prob_one).real).astype(int))"
   ]
  },
  {
   "cell_type": "code",
   "execution_count": 10,
   "id": "1b7da909",
   "metadata": {
    "scrolled": true
   },
   "outputs": [
    {
     "name": "stdout",
     "output_type": "stream",
     "text": [
      "Probability of error: prob_one =  0.25640616249649706  = 1 - prob_zero =  0.25640616249649717\n"
     ]
    }
   ],
   "source": [
    "#### Calculating the probability for error: (This is the same as the P(|1>) or 1 - P(|0>))\n",
    "prob_error = prob_one\n",
    "print('Probability of error: prob_one = ', prob_error, ' = 1 - prob_zero = ', 1 - prob_zero)"
   ]
  },
  {
   "cell_type": "markdown",
   "id": "a576c900",
   "metadata": {},
   "source": [
    "### B. Environmental Decoherence:\n",
    "#### This type of error usually stems from noise, heat, or other external factors\n",
    "\n",
    "#### In this example we will focus on an environment which is a two level system and has two basis states: $\\vert e_0\\rangle$ and $ \\vert e_1\\rangle$\n",
    "#### These satisfy the relations $ \\langle e_i\\vert e_j\\rangle = \\delta_{ij}$ and $ \\vert e_0\\rangle\\langle e_0\\vert + \\vert e_1\\rangle\\langle e_1\\vert = I$\n",
    "\n",
    "#### We will assume 2 things:\n",
    "##### 1. The environment coupling works as follows: when the qubit is in the $\\vert1\\rangle$ state the coupling flips the environment state, and when the qubit is in the $\\vert0\\rangle$ state nothing happens\n",
    "##### 2. The system/environemnt only interact during the wait stage when the identity operator is acting\n",
    "\n",
    "#### Let us assume the environment is initialized to the state $\\vert E\\rangle = \\vert e_0\\rangle$ and lets couple it to the 2nd system we considered in part lll which applies 3 gates on the initial state:\n",
    "$$ HIH\\vert0\\rangle\\vert E\\rangle = \\frac{1}{2}(\\vert0\\rangle + \\vert1\\rangle)\\vert e_0\\rangle + \\frac{1}{2}(\\vert0\\rangle - \\vert1\\rangle)\\vert e_1\\rangle$$\n",
    "\n",
    "#### This can be simplified to the following since the error operator flips when acting on $\\vert1\\rangle$:\n",
    "$$ HIH\\vert0\\rangle\\vert E\\rangle = HI\\frac{1}{\\sqrt{2}}(\\vert0\\rangle + \\vert1\\rangle)\\vert e_0\\rangle \n",
    "= H\\frac{1}{\\sqrt{2}}(\\vert0\\rangle\\vert e_0\\rangle + \\vert1\\rangle\\vert e_1\\rangle)\n",
    "=\\frac{1}{2}(\\vert0\\rangle + \\vert1\\rangle)\\vert e_0\\rangle + \\frac{1}{2}(\\vert0\\rangle - \\vert1\\rangle)\\vert e_1\\rangle$$"
   ]
  },
  {
   "cell_type": "code",
   "execution_count": 15,
   "id": "1503a7ef",
   "metadata": {},
   "outputs": [
    {
     "name": "stdout",
     "output_type": "stream",
     "text": [
      "Here we can see the final state after the environmental decoherence: \n",
      "Final State:  [0.-2.23711432e-17j 0.+1.00000000e+00j]\n"
     ]
    }
   ],
   "source": [
    "# We can show that this is the case below: \n",
    "# (note that any of the pauli operators would work in this case due to our assumptions)\n",
    "initial_state = np.array([1,0]) # initalize initial state to |0>\n",
    "h = 1/np.sqrt(2)*np.array([[1,1],[1,-1]]) # set the hadamard operator \n",
    "env_error_operator = sigma_y # set the environmental error operator\n",
    "\n",
    "# Below we perform the 3 gate operation and psi just represents the state of the qubit during the operations\n",
    "psi = np.dot(h, initial_state) # apply the first hadamard gate\n",
    "psi = np.dot(np.dot(sigma_I, env_error_operator), psi) # apply a wait stage with the I gate\n",
    "final_state = np.dot(h, psi) # apply the second hadamard gate\n",
    "\n",
    "print('Here we can see the final state after the environmental decoherence: ')\n",
    "print('Final State: ', final_state)"
   ]
  },
  {
   "cell_type": "markdown",
   "id": "5a85b1cc",
   "metadata": {},
   "source": [
    "#### However, now since we are considering decoherent operations, we are no longer in a pure state. Instead we have turned our quantum states into a classical mixed state, and we must move to a density matrix to be able to represent it. This matrix represents the lack of knowledge of the system, being a description of the system at all possible measurement results. \n",
    "\n",
    "#### We know that the density matix for a given state is $ p_f = \\sum_{j}^{}{p_j\\vert\\psi_j\\rangle\\langle\\psi_j\\vert}$ where $p_j$ is the probability of being in the state $\\vert\\psi_j\\rangle$. After plugging in and algebra we arrive at the density matrix:\n",
    "$$ \\rho_f = \\frac{1}{4}(\\vert0\\rangle\\langle0\\vert + \\vert0\\rangle\\langle1\\vert + \\vert1\\rangle\\langle0\\vert + \\vert1\\rangle\\langle1\\vert)\\vert e_0\\rangle\\langle e_0\\vert\n",
    "+ \\frac{1}{4}(\\vert0\\rangle\\langle0\\vert - \\vert0\\rangle\\langle1\\vert - \\vert1\\rangle\\langle0\\vert + \\vert1\\rangle\\langle1\\vert)\\vert e_1\\rangle\\langle e_1\\vert$$\n",
    "$$ + \\frac{1}{4}(\\vert0\\rangle\\langle0\\vert - \\vert0\\rangle\\langle1\\vert + \\vert1\\rangle\\langle0\\vert - \\vert1\\rangle\\langle1\\vert)\\vert e_0\\rangle\\langle e_1\\vert\n",
    "+ \\frac{1}{4}(\\vert0\\rangle\\langle0\\vert + \\vert0\\rangle\\langle1\\vert - \\vert1\\rangle\\langle0\\vert - \\vert1\\rangle\\langle1\\vert)\\vert e_1\\rangle\\langle e_0\\vert $$\n",
    "\n",
    "#### Since we dont know the environmental degrees of freedom we will trace over this part of the system (also known as a partial trace: https://en.wikipedia.org/wiki/Partial_trace#Partial_trace_for_operators_on_Hilbert_spaces)\n",
    "$$ Tr_W\\left(\\sum_{k,l}^{}{T^{(kl)} \\otimes \\vert k\\rangle\\langle l\\vert}\\right) = \\sum_{j}^{}{T^{(jj)}}$$ \n",
    "#### In our case, we have taken $\\sum_{k,l}^{}{T^{(kl)}}$ as $\\rho_f$ and W as E, which is our error\n",
    "#### Therefore, if we take the trace over the error of the system, E, we will only be adding the parts of $p_f$ which contain $ \\vert e_0\\rangle\\langle e_0\\vert$ and $\\vert e_1\\rangle\\langle e_1\\vert$"
   ]
  },
  {
   "cell_type": "code",
   "execution_count": null,
   "id": "0c68cabf",
   "metadata": {},
   "outputs": [],
   "source": []
  },
  {
   "cell_type": "markdown",
   "id": "34fbe6bd",
   "metadata": {},
   "source": [
    "### C. Simple models of loss, leakage, measurement and initialization\n",
    "\n",
    "#### In this section, important & frequently used models will be discerned to identify Quantum Errors.\n",
    "\n",
    "#### Measurement Errors - Describing in two ways\n",
    "\n",
    "#### Description 1: Positive Operator Value Measures (POVM's)\n",
    "\n",
    "$$F_0 = \\left ( 1-p_m \\right ) |0><0| + p_m |1><1|$$\n",
    "$$F_1 = \\left ( 1-p_m \\right ) |1><1| + p_m |0><0|$$\n",
    "#### p_M is probabilty of measurement error\n",
    "\n",
    "#### Description 2:  Apply following mapping to qubit,\n",
    "#### then perfect measurment in the (|0>, |1>) basis\n",
    "\n",
    "$$p \\to p' = \\left ( 1-p_m \\right )\\ p + p_MXpX $$\n",
    "\n",
    "\n",
    "#### Now we measure perfectly in the (|0>, |1>) basis\n",
    "\n",
    "#### Both models give the same probabilties.\n",
    "\n",
    "#### To measure perfectly in the  (|0>, |1>) basis, \n",
    "#### we define\n",
    "$A_0 = |0><0|$ and $A_1 = |1><1|$\n",
    "#### as measurement projects onto  (|0>, |1>) basis, we find\n",
    "\n",
    "$$Tr(F_0 p)=\\left( 1-p_M \\right)Tr\\left( A_0 p \\right))+ p_MTr(A_1p)),$$\n",
    "$$Tr(F_1 p)=\\left( 1-p_M \\right)Tr\\left( A_1 p \\right))+ p_MTr(A_0p)),$$\n",
    "$$\n",
    "$$\n",
    "\n",
    "$$Tr(A_0 p')=\\left( 1-p_M \\right)Tr\\left(A_0 p \\right))+ p_MTr(XA_0 X_p))$$\n",
    "$$= \\left( 1-p_M \\right)Tr\\left(A_0 p \\right))+ p_MTr(A_1p))$$\n",
    "$$$$\n",
    "$$Tr(A_1 p')=\\left( 1-p_M \\right)Tr\\left(A_1 p \\right))+ p_MTr(XA_1 X_p))$$\n",
    "$$= \\left( 1-p_M \\right)Tr\\left(A_1 p \\right))+ p_MTr(A_0p))$$\n",
    "\n",
    "#### For any given p_M, all methods here result in the same probabilites\n",
    "#### Main model difference: State the measured qubit is projected to\n",
    "#### When using POVM's, collapsed state of qubit is given by:\n",
    "\n",
    "$p\\to M_ipM_i^{\\dagger}/Tr\\left( F_ip \\right)$  $i=0,1$\n",
    "#### where,\n",
    "\n",
    "$$M_0=\\sqrt{1-p_M} |0><0| + \\sqrt{p_M}|1><1|,$$\n",
    "$$M_1=\\sqrt{1-p_M} |1><1| + \\sqrt{p_M}|0><0|$$\n",
    "\n",
    "#### So, resulting state won't be initalialized in a known state\n",
    "#### If description 2 is used, system initialized to |0> or |1>  depending on used project\n",
    "\n",
    "#### Example: \n",
    "#### Consider \n",
    "$$ (1/\\sqrt{2})\\left( |0>+|1> \\right)$$\n",
    "#### Using both models in (19), probabilty of measuring |0> is 1/2\n",
    "\n",
    "\n",
    "#### Else if POVM is used, state after m|easurement is: \n",
    "$$\\sqrt{\\left( 1-p_M \\right)}|0> + \\sqrt{p_m}|1>$$\n",
    "\n",
    "#### Note to self: Page talks about using second model with projector A_0, state after measurement is |0>.\n",
    "\n",
    "\n",
    "#### Measurement happens when discarding or reinitializing qubit to its known state\n",
    "#### So, when a qubit is lost, it's removed from system\n",
    "#### This is why we have our tracing function,\n",
    "$$ Tr_i\\left( p \\right)$$\n",
    "#### Loss of physical object ---> Cannot be measured or coupled to ancillary systems"
   ]
  },
  {
   "cell_type": "markdown",
   "id": "d4cb2e42",
   "metadata": {},
   "source": [
    "## IV. The 3-Qubit Code: A good starting point for quantum error correction"
   ]
  },
  {
   "cell_type": "code",
   "execution_count": null,
   "id": "de5d5972",
   "metadata": {},
   "outputs": [],
   "source": []
  },
  {
   "cell_type": "markdown",
   "id": "d3b4349f",
   "metadata": {},
   "source": [
    "## V. The 9-Qubit Code: The first full quantum code"
   ]
  },
  {
   "cell_type": "code",
   "execution_count": null,
   "id": "e0cac4c3",
   "metadata": {},
   "outputs": [],
   "source": []
  },
  {
   "cell_type": "markdown",
   "id": "a570daf4",
   "metadata": {},
   "source": [
    "## Vl. Quantum Error Detection"
   ]
  },
  {
   "cell_type": "code",
   "execution_count": null,
   "id": "8c03e0c9",
   "metadata": {},
   "outputs": [],
   "source": []
  },
  {
   "cell_type": "markdown",
   "id": "cff0f463",
   "metadata": {},
   "source": [
    "## Vll. Stabiliser Formalism"
   ]
  },
  {
   "cell_type": "code",
   "execution_count": null,
   "id": "1ada906f",
   "metadata": {},
   "outputs": [],
   "source": []
  },
  {
   "cell_type": "markdown",
   "id": "08c144d0",
   "metadata": {},
   "source": [
    "## Vlll. Quantum Error Correction with Stabiliser Codes"
   ]
  },
  {
   "cell_type": "code",
   "execution_count": null,
   "id": "189b7243",
   "metadata": {},
   "outputs": [],
   "source": []
  },
  {
   "cell_type": "markdown",
   "id": "89afb633",
   "metadata": {},
   "source": [
    "## lX. Digitization of Quantum Errors"
   ]
  },
  {
   "cell_type": "code",
   "execution_count": null,
   "id": "2736655e",
   "metadata": {},
   "outputs": [],
   "source": []
  },
  {
   "cell_type": "markdown",
   "id": "4351081a",
   "metadata": {},
   "source": [
    "## X. Fault Tolerant Quantum Error Correction and the Threashold Theorem"
   ]
  },
  {
   "cell_type": "code",
   "execution_count": null,
   "id": "6b4f7433",
   "metadata": {},
   "outputs": [],
   "source": []
  },
  {
   "cell_type": "markdown",
   "id": "535253f5",
   "metadata": {},
   "source": [
    "## Xl. Fault Tolerant Operations on Encoded Data"
   ]
  },
  {
   "cell_type": "code",
   "execution_count": null,
   "id": "80a422c8",
   "metadata": {},
   "outputs": [],
   "source": []
  },
  {
   "cell_type": "markdown",
   "id": "8d74aa48",
   "metadata": {},
   "source": [
    "## Xll. Fault Tolerant Gate Design for Logical State Preparation"
   ]
  },
  {
   "cell_type": "code",
   "execution_count": null,
   "id": "837b1e03",
   "metadata": {},
   "outputs": [],
   "source": []
  },
  {
   "cell_type": "markdown",
   "id": "2b48424b",
   "metadata": {},
   "source": [
    "## Xlll. Loss Protection"
   ]
  },
  {
   "cell_type": "code",
   "execution_count": null,
   "id": "683e3642",
   "metadata": {},
   "outputs": [],
   "source": []
  },
  {
   "cell_type": "markdown",
   "id": "1077161c",
   "metadata": {},
   "source": [
    "## XlV. Some Modern Develpments in Quantum Error Correction"
   ]
  },
  {
   "cell_type": "code",
   "execution_count": null,
   "id": "52529d43",
   "metadata": {},
   "outputs": [],
   "source": []
  }
 ],
 "metadata": {
  "kernelspec": {
   "display_name": "Python 3 (ipykernel)",
   "language": "python",
   "name": "python3"
  },
  "language_info": {
   "codemirror_mode": {
    "name": "ipython",
    "version": 3
   },
   "file_extension": ".py",
   "mimetype": "text/x-python",
   "name": "python",
   "nbconvert_exporter": "python",
   "pygments_lexer": "ipython3",
   "version": "3.10.7"
  }
 },
 "nbformat": 4,
 "nbformat_minor": 5
}
