{
 "cells": [
  {
   "cell_type": "code",
   "execution_count": 2,
   "id": "c1d40ef1",
   "metadata": {},
   "outputs": [],
   "source": [
    "import numpy as np"
   ]
  },
  {
   "cell_type": "markdown",
   "id": "2dab2683",
   "metadata": {},
   "source": [
    "### In this file we will go through the Devitt el al. paper (arXiv: 0905.2794v4) and derive and explain all of the math and theory to fully understand basic QEC"
   ]
  },
  {
   "cell_type": "markdown",
   "id": "f6e93b0b",
   "metadata": {},
   "source": [
    "## ll. Preliminaries"
   ]
  },
  {
   "cell_type": "markdown",
   "id": "f01d8263",
   "metadata": {},
   "source": [
    "### This section describes:\n",
    "    (a) The basic structure of a qubit\n",
    "    (b) Some general requirements of QEC\n",
    "\n",
    "#### Suggest reading this section of the paper to understand the fundamentals of qubits and why we need QEC"
   ]
  },
  {
   "cell_type": "code",
   "execution_count": 24,
   "id": "6c5d8be1",
   "metadata": {},
   "outputs": [
    {
     "name": "stdout",
     "output_type": "stream",
     "text": [
      "Below we show the Pauli Operators which can be used to describe any quantum gate on an individual qubit:\n",
      "Pauli-X: \n",
      " [[0 1]\n",
      " [1 0]]\n",
      "Pauli-Y: \n",
      " [[ 0.+0.j  0.+1.j]\n",
      " [-0.-1.j  0.+0.j]]\n",
      "Pauli-Z: \n",
      " [[ 1  0]\n",
      " [ 0 -1]]\n",
      "Pauli-I: \n",
      " [[1. 0.]\n",
      " [0. 1.]]\n"
     ]
    }
   ],
   "source": [
    "# Pauli Operators\n",
    "sigma_x = np.array([[0,1],[1,0]])\n",
    "sigma_y = np.array([[0,1j],[-1j,0]])\n",
    "sigma_z = np.array([[1,0],[0,-1]])\n",
    "sigma_I = np.identity(2)\n",
    "print('Below we show the Pauli Operators which can be used to describe any quantum gate on an individual qubit:')\n",
    "print('Pauli-X: \\n', sigma_x) \n",
    "print('Pauli-Y: \\n', sigma_y)\n",
    "print('Pauli-Z: \\n', sigma_z)\n",
    "print('Pauli-I: \\n', sigma_I)"
   ]
  },
  {
   "cell_type": "markdown",
   "id": "1bb3e89e",
   "metadata": {},
   "source": [
    "## lll. Quantum Errors: Cause and Effect"
   ]
  },
  {
   "cell_type": "markdown",
   "id": "f10752d2",
   "metadata": {},
   "source": [
    "### In this section we consider different sources of error \n",
    "#### (coherent, environmental decoherence, and loss, leakage, measuremnt and initialization)\n",
    "### We will apply these errors to two different algorithms."
   ]
  },
  {
   "cell_type": "markdown",
   "id": "c0711e6c",
   "metadata": {},
   "source": [
    "### 1. A single qubit undergoing N identity opertations\n",
    "$$\\vert\\psi_{final}\\rangle = \\prod_{i}^{N} I_{i} \\vert0\\rangle = \\vert0\\rangle $ Where $I \\equiv \\sigma_{I}$$ "
   ]
  },
  {
   "cell_type": "markdown",
   "id": "6f4b919f",
   "metadata": {},
   "source": [
    "#### If a qubit is initially in the $\\vert0\\rangle $state then this operation in the basis $\\vert0\\rangle$, $\\vert1\\rangle$ would be $\\vert0\\rangle$\n",
    "#### This can be shown with the code below:\n",
    "#### Feel free to play with the initial state values and see what results :)"
   ]
  },
  {
   "cell_type": "code",
   "execution_count": 60,
   "id": "3dc4398a",
   "metadata": {
    "scrolled": true
   },
   "outputs": [
    {
     "name": "stdout",
     "output_type": "stream",
     "text": [
      "Here we can see that the final state is |0> \n",
      "Final State:  [1. 0.]\n"
     ]
    }
   ],
   "source": [
    "initial_state = np.array([1, 0]) # initalize initial state to |0>\n",
    "n = 10 # number of times to apply the I operator (can be anything)\n",
    "I_i = np.identity(2) # initialize I_i for i = 1 first\n",
    "\n",
    "# Since we are only indexing over i we can multiply I_i with sigma_I n times to arrive at I_n final\n",
    "for i in range(0,n):\n",
    "    I_n = np.dot(I_i, sigma_I)\n",
    "\n",
    "final_state = np.dot(I_n, initial_state)\n",
    "print('Here we can see that the final state is |0> ')\n",
    "print('Final State: ', final_state)"
   ]
  },
  {
   "cell_type": "markdown",
   "id": "1b3bb893",
   "metadata": {},
   "source": [
    "### 2. An algorithm of 3 gates acting on a qubit\n",
    "$$\\vert\\psi\\rangle = HIH\\vert0\\rangle = HI\\frac{1}{\\sqrt{2}}(\\vert0\\rangle + \\vert1\\rangle) = H\\frac{1}{\\sqrt{2}}(\\vert0\\rangle + \\vert1\\rangle) = \\vert0\\rangle$$\n",
    "#### We can show the above case is correct by applying this algorithm to a single qubit in the $\\vert0\\rangle$ state:\n",
    "###### Feel free to play with the initial state values and see what results :)"
   ]
  },
  {
   "cell_type": "code",
   "execution_count": 59,
   "id": "8656e41f",
   "metadata": {
    "scrolled": true
   },
   "outputs": [
    {
     "name": "stdout",
     "output_type": "stream",
     "text": [
      "Here we can see that the final state is |0> \n",
      "Final State:  [1 0]\n"
     ]
    }
   ],
   "source": [
    "initial_state = np.array([1,0]) # initalize initial state to |0>\n",
    "h = 1/np.sqrt(2)*np.array([[1,1],[1,-1]]) # set the hadamard operator \n",
    "\n",
    "# Below we perform the 3 gate operation and psi just represents the state of the qubit during the operations\n",
    "psi = np.dot(h, inital_state) # apply the first hadamard gate\n",
    "psi = np.dot(sigma_I, psi) # apply a wait stage with the I gate\n",
    "final_state = np.dot(h, psi) # apply the second hadamard gate\n",
    "\n",
    "print('Here we can see that the final state is |0> ')\n",
    "print('Final State: ', (np.rint(final_state)).astype(int))"
   ]
  },
  {
   "cell_type": "markdown",
   "id": "a4397425",
   "metadata": {},
   "source": [
    "### A. Coherent Quantum Errors: Gates which are incorrectly applied:\n",
    "#### This error is usually related to incorrect knowledge of the system dynamics, but it is coherent\n",
    "\n",
    "### First we will consider an example which applies an incorrect rotation about the X-axis of the Bloch Sphere\n",
    "$$ |\\psi_{final}> = \\prod_{k}^{N} e^{i\\epsilon\\sigma_{x}}|0> = \\cos(N\\epsilon)|0> + i\\sin(N\\epsilon)|1>$$\n",
    "\n",
    "#### Now we will measure the system in the $\\vert0\\rangle$, $\\vert1\\rangle$ basis\n",
    "#### Due to the coherent quantum errors below is the probability of measuing the system in $\\vert0\\rangle$ or $\\vert1\\rangle$:\n",
    "$$ P(\\vert0\\rangle) = \\cos^2(N\\epsilon) \\approx 1 - (N\\epsilon)^2 $$\n",
    "$$ P(\\vert1\\rangle) = \\sin^2(N\\epsilon) \\approx (N\\epsilon)^2$$\n",
    "#### Thus the probability of error is \n",
    "$$ p_{error} \\approx (N\\epsilon)^2$$\n",
    "### Below we can see a coherent quantum error acting on the initial state with arbitrary $\\epsilon$ and calculate the error due to the X-rotation error N times"
   ]
  },
  {
   "cell_type": "code",
   "execution_count": 62,
   "id": "30cbf3f6",
   "metadata": {},
   "outputs": [
    {
     "name": "stdout",
     "output_type": "stream",
     "text": [
      "Final State:  [ 709.03379352-699.68180095j -709.03379352+699.68180095j]\n"
     ]
    }
   ],
   "source": [
    "initial_state = np.array([1,0]) # initalize initial state to |0>\n",
    "epsilon = 3 # arbitrary epsilon is set\n",
    "n = 10 # arbitrary N is set\n",
    "initial_error_operator = error_operator = np.exp(1j*epsilon*sigma_x)\n",
    "# Since we are only indexing over k we can multiply the intitial error operator with the current error \n",
    "# operator n times to arrive at the final error operator after n\n",
    "for k in range(0,n):\n",
    "    error_operator = np.dot(error_operator, initial_error_operator)\n",
    "\n",
    "final_state = np.dot(error_operator, initial_state)\n",
    "print('Final State: ', final_state)\n"
   ]
  },
  {
   "cell_type": "code",
   "execution_count": 64,
   "id": "3ce1fd97",
   "metadata": {},
   "outputs": [
    {
     "name": "stdout",
     "output_type": "stream",
     "text": [
      "Final State:  [0.15425145+0.j         0.        -0.98803162j]\n"
     ]
    }
   ],
   "source": [
    "initial_state = np.array([1,0]) # initalize initial state to |0>\n",
    "epsilon = 3 # arbitrary epsilon is set\n",
    "n = 10 # arbitrary N is set\n",
    "initial_error_operator = error_operator = np.exp(1j*epsilon*sigma_x)\n",
    "# Since we are only indexing over k we can multiply the intitial error operator with the current error \n",
    "# operator n times to arrive at the final error operator after n\n",
    "for k in range(0,n):\n",
    "    error_operator = np.dot(error_operator, initial_error_operator)\n",
    "\n",
    "final_state = np.dot(np.cos(n*epsilon), initial_state) + np.dot(1j*np.sin(n*epsilon), np.array([0,1]))\n",
    "print('Final State: ', final_state)"
   ]
  },
  {
   "cell_type": "code",
   "execution_count": null,
   "id": "dd027fc0",
   "metadata": {},
   "outputs": [],
   "source": []
  },
  {
   "cell_type": "code",
   "execution_count": null,
   "id": "3df194fb",
   "metadata": {},
   "outputs": [],
   "source": []
  },
  {
   "cell_type": "code",
   "execution_count": null,
   "id": "ab740bac",
   "metadata": {},
   "outputs": [],
   "source": [
    "#C. Simple models of loss, leakage, measurement and\n",
    "initialization\n",
    "\n",
    "#Various error sources in quantum systems, including qubit initialization, measurement errors, qubit loss, and qubit leakage, can be modeled similarly.\n",
    "\n",
    "\n",
    "\n",
    "#Coherent control errors, environmental decoherence, and other error channels can be modeled either coherently or incoherently, depending on the underlying physical mechanisms.\n",
    "\n",
    "#Examples of these error sources are commonly used in quantum error correction (QEC) analysis and are applicable to a wide range of systems.\n",
    "\n",
    "#Measurement errors can be treated as incoherent effects, similar to environmental decoherence, and can be described using positive operator value measures (POVM's).\n",
    "\n",
    "\n",
    "$$F_0 = \\left ( 1-p_m \\right ) |0><0| + p_m |1><1|\\\\\n",
    "F_1 = \\left ( 1-p_m \\right ) |1><1| + p_m |0><0|$$\n",
    "#Eq 14\n",
    "\n",
    "#where p_m is the probability of measurement error.\n",
    "\n",
    "#Second method is to apply the following mapping to qubit ( I'll have use simpler phrases)\n",
    "\n",
    "\n",
    "$$p \\to p' = \\left ( 1-p_m \\right )\\ p + p_M X pX$$\n",
    "#Eq 15\n",
    "\n",
    "#where a measuement happens in the (|0>,|1>) basis.\n",
    "\n",
    "#Both models give the same probabilties.\n",
    "\n",
    "\n",
    "$$Tr(F_0 p)=\\left( 1-p_M \\right)Tr\\left( A_0 p \\right))+ p_MTr(A_1p)),\\\\\n",
    "Tr(F_1 p)=\\left( 1-p_M \\right)Tr\\left( A_1 p \\right))+ p_MTr(A_0p)),\\\\\n",
    "\\\\$$\n",
    "#Eq 16\n",
    "\n",
    "$$\\\\\n",
    "Tr(A_0 p')=\\left( 1-p_M \\right)Tr\\left(A_0 p \\right))+ p_MTr(XA_0 X_p))\\\\\n",
    "= \\left( 1-p_M \\right)Tr\\left(A_0 p \\right))+ p_MTr(A_1p))\\\\\n",
    "Tr(A_1 p')=\\left( 1-p_M \\right)Tr\\left(A_1 p \\right))+ p_MTr(XA_1 X_p))\\\\\n",
    "= \\left( 1-p_M \\right)Tr\\left(A_1 p \\right))+ p_MTr(A_0p))\\\\$$\n",
    "#Eq 17\n",
    "\n",
    "#Keep in mind that p_M is the probability of the measurement, so any method above will result in the same probabilties for any given p_M. \n",
    "#Only difference is:  state qubit is projected to.\n",
    "\n"
   ]
  },
  {
   "cell_type": "markdown",
   "id": "3698a950",
   "metadata": {},
   "source": [
    "## IV. The 3-Qubit Code: A good starting point for quantum error correction"
   ]
  },
  {
   "cell_type": "code",
   "execution_count": null,
   "id": "5617e806",
   "metadata": {},
   "outputs": [],
   "source": []
  },
  {
   "cell_type": "markdown",
   "id": "6b480c62",
   "metadata": {},
   "source": [
    "## V. The 9-Qubit Code: The first full quantum code"
   ]
  },
  {
   "cell_type": "code",
   "execution_count": null,
   "id": "07620a9c",
   "metadata": {},
   "outputs": [],
   "source": []
  },
  {
   "cell_type": "markdown",
   "id": "6497ed65",
   "metadata": {},
   "source": [
    "## Vl. Quantum Error Detection"
   ]
  },
  {
   "cell_type": "code",
   "execution_count": null,
   "id": "bd974204",
   "metadata": {},
   "outputs": [],
   "source": []
  },
  {
   "cell_type": "markdown",
   "id": "b9514ed3",
   "metadata": {},
   "source": [
    "## Vll. Stabiliser Formalism"
   ]
  },
  {
   "cell_type": "code",
   "execution_count": null,
   "id": "f2ca6e58",
   "metadata": {},
   "outputs": [],
   "source": []
  },
  {
   "cell_type": "markdown",
   "id": "75a91cd2",
   "metadata": {},
   "source": [
    "## Vlll. Quantum Error Correction with Stabiliser Codes"
   ]
  },
  {
   "cell_type": "code",
   "execution_count": null,
   "id": "9eaf0c6f",
   "metadata": {},
   "outputs": [],
   "source": []
  },
  {
   "cell_type": "markdown",
   "id": "f861d776",
   "metadata": {},
   "source": [
    "## lX. Digitization of Quantum Errors"
   ]
  },
  {
   "cell_type": "code",
   "execution_count": null,
   "id": "ecbfc73c",
   "metadata": {},
   "outputs": [],
   "source": []
  },
  {
   "cell_type": "markdown",
   "id": "44979d17",
   "metadata": {},
   "source": [
    "## X. Fault Tolerant Quantum Error Correction and the Threashold Theorem"
   ]
  },
  {
   "cell_type": "code",
   "execution_count": null,
   "id": "2510a668",
   "metadata": {},
   "outputs": [],
   "source": []
  },
  {
   "cell_type": "markdown",
   "id": "dbb2ab70",
   "metadata": {},
   "source": [
    "## Xl. Fault Tolerant Operations on Encoded Data"
   ]
  },
  {
   "cell_type": "code",
   "execution_count": null,
   "id": "c706e357",
   "metadata": {},
   "outputs": [],
   "source": []
  },
  {
   "cell_type": "markdown",
   "id": "5b75c718",
   "metadata": {},
   "source": [
    "## Xll. Fault Tolerant Gate Design for Logical State Preparation"
   ]
  },
  {
   "cell_type": "code",
   "execution_count": null,
   "id": "6a1f731f",
   "metadata": {},
   "outputs": [],
   "source": []
  },
  {
   "cell_type": "markdown",
   "id": "6660769c",
   "metadata": {},
   "source": [
    "## Xlll. Loss Protection"
   ]
  },
  {
   "cell_type": "code",
   "execution_count": null,
   "id": "97ffa40b",
   "metadata": {},
   "outputs": [],
   "source": []
  },
  {
   "cell_type": "markdown",
   "id": "3d5e79d5",
   "metadata": {},
   "source": [
    "## XlV. Some Modern Develpments in Quantum Error Correction"
   ]
  },
  {
   "cell_type": "code",
   "execution_count": null,
   "id": "cd99e37b",
   "metadata": {},
   "outputs": [],
   "source": []
  }
 ],
 "metadata": {
  "kernelspec": {
   "display_name": "Python 3 (ipykernel)",
   "language": "python",
   "name": "python3"
  },
  "language_info": {
   "codemirror_mode": {
    "name": "ipython",
    "version": 3
   },
   "file_extension": ".py",
   "mimetype": "text/x-python",
   "name": "python",
   "nbconvert_exporter": "python",
   "pygments_lexer": "ipython3",
   "version": "3.9.12"
  }
 },
 "nbformat": 4,
 "nbformat_minor": 5
}
