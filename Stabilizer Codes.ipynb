{
 "cells": [
  {
   "cell_type": "code",
   "execution_count": 3,
   "id": "0f1b8b62",
   "metadata": {},
   "outputs": [],
   "source": [
    "import numpy as np"
   ]
  },
  {
   "cell_type": "markdown",
   "id": "6a745807",
   "metadata": {},
   "source": [
    "## In this notebook we will introduce the idea of Stabilizer codes since they are very useful in quantum computation and error correction."
   ]
  },
  {
   "cell_type": "markdown",
   "id": "c5310940",
   "metadata": {},
   "source": [
    "https://jupyter-notebook.readthedocs.io/en/latest/migrate_to_notebook7.html\n",
    "\n",
    "https://arthurpesah.me/blog/\n"
   ]
  },
  {
   "cell_type": "markdown",
   "id": "0f6c8f1d",
   "metadata": {},
   "source": [
    "### What is a Stabilizer?\n",
    "#### Stabilizer formalism was first developed by Daniel Gottesman. Stabilizers make use of the Pauli Operators ($\\sigma_x,\\space\\sigma_y,\\space\\sigma_z,\\space\\sigma_I$) by acting on a logical qubit with a special combination of the Pauli group. They have two very useful properites:\n",
    "#### 1. They commute with each other, which means that they can be measured simultaneously.\n",
    "#### 2. They have eigenvalues of +1 or -1, which means that they do not collapse the state of the qubit (physical or logical).\n",
    "#### Additionally they either commute or anti-commute with error states. These properites make them extremely useful when correcting for errors.\n",
    "https://en.wikipedia.org/wiki/Stabilizer_code\n",
    "\n",
    "Devitt et al. - 2013 - Quantum Error Correction for Beginners (pgs 12 - 16)\n",
    "\n",
    "Girvin - 2023 - Introduction to Quantum Error Correction and Fault (pgs 37 - 40)\n",
    "\n"
   ]
  },
  {
   "cell_type": "markdown",
   "id": "077336c1",
   "metadata": {},
   "source": [
    "### Here is an example of how stabilizers can be used in the 3 qubit code:\n",
    "#### Lets define our two stabilizers as $ S_1 = Z_1Z_2$ and $S_2 = Z_2Z_3$. We can see that they commute $S_1S_2 = S_2S_1$ and they commute with the logical qubit operators for the 3 qubit code ($X_L = X_1X_2X_3$, $Y_L = -Y_1Y_2Y_3$, and $Z_L = Z_1Z_2Z_3$).\n",
    "#### Now since the 3 qubit code only corrects for a maximum of one bit flip error we can apply each of these stabilizers to teh logical state of the qubit and read back the eigenvalues. Lets run through some examples of possible errors that can occur.\n",
    "#### No error: $ \\vert\\psi\\rangle_L = \\alpha\\vert000\\rangle + \\beta\\vert111\\rangle: \\quad S_1(\\alpha\\vert000\\rangle + \\beta\\vert111\\rangle) = +(\\alpha\\vert000\\rangle + \\beta\\vert111\\rangle), \\quad S_2(\\alpha\\vert000\\rangle + \\beta\\vert111\\rangle) = +(\\alpha\\vert000\\rangle + \\beta\\vert111\\rangle) $\n",
    "#### Error on qubit 1 ($X_1$): $\\vert\\psi\\rangle_L = \\alpha\\vert100\\rangle + \\beta\\vert011\\rangle: \\quad S_1(\\alpha\\vert100\\rangle + \\beta\\vert011\\rangle) = -(\\alpha\\vert100\\rangle + \\beta\\vert011\\rangle), \\quad S_2(\\alpha\\vert100\\rangle + \\beta\\vert011\\rangle) = +(\\alpha\\vert100\\rangle + \\beta\\vert011\\rangle)$\n",
    "#### Error on qubit 2 ($X_2$): $\\vert\\psi\\rangle_L = \\alpha\\vert010\\rangle + \\beta\\vert101\\rangle: \\quad S_1(\\alpha\\vert010\\rangle + \\beta\\vert101\\rangle) = -(\\alpha\\vert010\\rangle + \\beta\\vert101\\rangle), \\quad S_2(\\alpha\\vert010\\rangle + \\beta\\vert101\\rangle) = -(\\alpha\\vert010\\rangle + \\beta\\vert101\\rangle)$\n",
    "#### Error on qubit 3 ($X_3$): $\\vert\\psi\\rangle_L = \\alpha\\vert001\\rangle + \\beta\\vert110\\rangle: \\quad S_1(\\alpha\\vert001\\rangle + \\beta\\vert110\\rangle) = +(\\alpha\\vert001\\rangle + \\beta\\vert110\\rangle), \\quad S_2(\\alpha\\vert001\\rangle + \\beta\\vert110\\rangle) = -(\\alpha\\vert001\\rangle + \\beta\\vert110\\rangle)$\n",
    "#### As we can see from above, each error will cause a distinct eigenvalue combination for the stabilizers, and we have a total of 4 errors and a total of 4 combinations. With this we can correct the designated error using the error syndrome from the stabilizer eigenvalues. Thus in order to use stabilizer codes we must use logical states that are +1 eigenstates of the stabilizer operators. We can construct these for different systems."
   ]
  },
  {
   "cell_type": "markdown",
   "id": "cfa4d531",
   "metadata": {},
   "source": [
    "## Quantum Error Correction with Stabilizer Codes\n",
    "### In this section we will focus on the 7-qubit Steane code.\n",
    "#### We can define quantum codes as [[n, k, d]] where there are n physical qubits, k logical qubits encoded, and d distance between basis states. Thus in the 7 qubit code we can define it as [[7, 1, 3]]. We know that quantum codes can correct for $ t = \\left\\lfloor \\frac{(d-1)}{2} \\right\\rfloor$ errors. Thus the 7 qubit code can correct for $ t = \\left\\lfloor \\frac{(3-1)}{2} \\right\\rfloor = 1$ error.\n",
    "#### We define our two basis states as \n",
    "$$ \\vert0\\rangle_L = \\frac{1}{\\sqrt{8}}(\\vert0000000\\rangle + \\vert1010101\\rangle + \\vert0110011\\rangle + \\vert1100110\\rangle + \\vert0001111\\rangle + \\vert1011010\\rangle + \\vert0111100\\rangle + \\vert1101001\\rangle) $$\n",
    "$$ \\vert1\\rangle_L = \\frac{1}{\\sqrt{8}}(\\vert1111111\\rangle + \\vert0101010\\rangle + \\vert1001100\\rangle + \\vert0011001\\rangle + \\vert1110000\\rangle + \\vert0100101\\rangle + \\vert1000011\\rangle + \\vert0010110\\rangle) $$\n",
    "\n",
    "#### For a n qubit state the dimension of the hilbert space is $2^n$, but for a single logical qubit we must restrict to a 2 dimensional hilbert space. This can be accomplished using stabilizers. The stabilizers used for the 7-qubit logical states above consist of the six operators below.\n",
    "\n",
    "$$ K^1 = IIIXXXX, \\quad K^2 = XIXIXIX, \\quad K^3 = IXXIIXX, $$\n",
    "$$K^4 = IIIZZZZ, \\quad K^5 = ZIZIZIZ, \\quad K^6 = IZZIIZZ $$\n",
    "\n",
    "#### Becuase there are six stabilizers for the two logical states above and the operators span over a 6 dimensional subspace then we can see that the new dimensionality of the 7-qubit system is $2^{7-6} = 2$. Since the two 7-qubit logical states of the system are orthogonal basis states then we have a 2 dimensional system that we can use as a logical qubit. \n",
    "##### (In general a stabilizer with k linearly independent operators and Hilbert space of $2^n$ with with n qubits will now have a dimension of $2^{n-k}$)\n",
    "\n",
    "#### The last operator used fixes the encoded state to one of the two codeword states. In this case we use $\\bar Z = ZZZZZZZ$, since $\\bar Z\\vert0\\rangle_L = \\vert0\\rangle_L$ and $\\bar Z\\vert1\\rangle_L = -\\vert1\\rangle_L$"
   ]
  },
  {
   "cell_type": "code",
   "execution_count": 9,
   "id": "5cd6f860",
   "metadata": {},
   "outputs": [],
   "source": [
    "#  Setting the two logical states for the 7-qubit system.\n",
    "zero = np.array([[1, 0]])\n",
    "one = np.array([[0, 1]])\n",
    "logical_zero = 1/np.sqrt(8) * (\n",
    "    np.kron(zero, np.kron(zero, np.kron(zero, np.kron(zero, np.kron(zero, np.kron(zero, zero)))))) \n",
    "    + np.kron(one, np.kron(zero, np.kron(one, np.kron(zero, np.kron(one, np.kron(zero, one)))))) \n",
    "    + np.kron(zero, np.kron(one, np.kron(one, np.kron(zero, np.kron(zero, np.kron(one, one)))))) \n",
    "    + np.kron(one, np.kron(one, np.kron(zero, np.kron(zero, np.kron(one, np.kron(one, zero)))))) \n",
    "    + np.kron(zero, np.kron(zero, np.kron(zero, np.kron(one, np.kron(one, np.kron(one, one)))))) \n",
    "    + np.kron(one, np.kron(zero, np.kron(one, np.kron(one, np.kron(zero, np.kron(one, zero)))))) \n",
    "    + np.kron(zero, np.kron(one, np.kron(one, np.kron(one, np.kron(one, np.kron(zero, zero)))))) \n",
    "    + np.kron(one, np.kron(one, np.kron(zero, np.kron(one, np.kron(zero, np.kron(zero, one)))))))\n",
    "\n",
    "logical_one = 1/np.sqrt(8) * (\n",
    "    np.kron(one, np.kron(one, np.kron(one, np.kron(one, np.kron(one, np.kron(one, one)))))) \n",
    "    + np.kron(zero, np.kron(one, np.kron(zero, np.kron(one, np.kron(zero, np.kron(one, zero)))))) \n",
    "    + np.kron(one, np.kron(zero, np.kron(zero, np.kron(one, np.kron(one, np.kron(zero, zero)))))) \n",
    "    + np.kron(zero, np.kron(zero, np.kron(one, np.kron(one, np.kron(zero, np.kron(zero, one)))))) \n",
    "    + np.kron(one, np.kron(one, np.kron(one, np.kron(zero, np.kron(zero, np.kron(zero, zero)))))) \n",
    "    + np.kron(zero, np.kron(one, np.kron(zero, np.kron(zero, np.kron(one, np.kron(zero, one)))))) \n",
    "    + np.kron(zero, np.kron(zero, np.kron(zero, np.kron(zero, np.kron(zero, np.kron(one, one)))))) \n",
    "    + np.kron(zero, np.kron(zero, np.kron(one, np.kron(zero, np.kron(one, np.kron(one, zero)))))))"
   ]
  },
  {
   "cell_type": "markdown",
   "id": "9deebdd5",
   "metadata": {},
   "source": [
    "### State Preparation using Stabilizers\n",
    "#### Since our two codeword states will be +1 eigenstates of the stabilizers we need to take our initial arbitrary state and project it into the eigenstates of each operator."
   ]
  },
  {
   "cell_type": "code",
   "execution_count": null,
   "id": "09b2de50",
   "metadata": {},
   "outputs": [],
   "source": []
  }
 ],
 "metadata": {
  "kernelspec": {
   "display_name": "Python 3 (ipykernel)",
   "language": "python",
   "name": "python3"
  },
  "language_info": {
   "codemirror_mode": {
    "name": "ipython",
    "version": 3
   },
   "file_extension": ".py",
   "mimetype": "text/x-python",
   "name": "python",
   "nbconvert_exporter": "python",
   "pygments_lexer": "ipython3",
   "version": "3.10.7"
  }
 },
 "nbformat": 4,
 "nbformat_minor": 5
}
