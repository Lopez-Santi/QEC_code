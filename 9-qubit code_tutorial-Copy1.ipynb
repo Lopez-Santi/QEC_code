{
 "cells": [
  {
   "cell_type": "markdown",
   "id": "d7d0e7ad",
   "metadata": {},
   "source": [
    "# 9-Qubit Error Correcting Code\n"
   ]
  },
  {
   "cell_type": "markdown",
   "id": "884e4dc0",
   "metadata": {},
   "source": [
    "#### In this notebook, we will show the functionality of the First Full Quantum Code.\n",
    "#### We will refer back to the 3-Qubit Code, as the 9-Qubit Code is a repetition code."
   ]
  },
  {
   "cell_type": "code",
   "execution_count": 1,
   "id": "1d3d2fe6",
   "metadata": {},
   "outputs": [
    {
     "name": "stdout",
     "output_type": "stream",
     "text": [
      "env: QISKIT_SETTINGS={}\n"
     ]
    }
   ],
   "source": [
    "import numpy as np\n",
    "\n",
    "from qec_helpers import *\n",
    "# Importing required libraries\n",
    "from qiskit import QuantumRegister, ClassicalRegister, QuantumCircuit, Aer, execute\n",
    "from qiskit.visualization import plot_histogram\n",
    "from qiskit import user_config\n",
    "from qiskit.quantum_info import partial_trace\n",
    "import numpy as np\n",
    "import random\n",
    "from qiskit.extensions import UnitaryGate\n",
    "\n",
    "# Visualization of circuits: Initializing backend simulators\n",
    "qasm_sim = Aer.get_backend('qasm_simulator')\n",
    "sv_sim = Aer.get_backend('statevector_simulator')\n",
    "\n",
    "# Setting mpl as default drawer\n",
    "%env QISKIT_SETTINGS {}\n",
    "user_config.set_config('circuit_drawer', 'mpl')\n",
    "\n"
   ]
  },
  {
   "cell_type": "code",
   "execution_count": 2,
   "id": "0707bfa7",
   "metadata": {},
   "outputs": [
    {
     "name": "stdout",
     "output_type": "stream",
     "text": [
      "Below we show the Pauli Operators which can be used to describe any quantum gate on an individual qubit:\n",
      "Pauli-X: \n",
      " [[0 1]\n",
      " [1 0]]\n",
      "Pauli-Y: \n",
      " [[ 0.+0.j  0.+1.j]\n",
      " [-0.-1.j  0.+0.j]]\n",
      "Pauli-Z: \n",
      " [[ 1  0]\n",
      " [ 0 -1]]\n",
      "Pauli-I: \n",
      " [[1. 0.]\n",
      " [0. 1.]]\n"
     ]
    }
   ],
   "source": [
    "# Initializing the Pauli operators\n",
    "sigma_x = np.array([[0,1],[1,0]])\n",
    "sigma_y = np.array([[0,1j],[-1j,0]])\n",
    "sigma_z = np.array([[1,0],[0,-1]])\n",
    "sigma_I = np.identity(2)\n",
    "print('Below we show the Pauli Operators which can be used to describe any quantum gate on an individual qubit:')\n",
    "print('Pauli-X: \\n', sigma_x) \n",
    "print('Pauli-Y: \\n', sigma_y)\n",
    "print('Pauli-Z: \\n', sigma_z)\n",
    "print('Pauli-I: \\n', sigma_I)"
   ]
  },
  {
   "cell_type": "markdown",
   "id": "3c7bb302",
   "metadata": {},
   "source": [
    "### Gate Operations Review ( CX and Z ):\n",
    "\n",
    "#### Having the CX (CNOT) and Z (Phase) Error Correcting Code, allows for the implementation of error correction codes and the protection of quantum information against noise and errors.\n",
    "\n",
    "\n",
    "#### The CNOT gate is typically used to establish entanglement between qubits and implement controlled operations. \n",
    "\n",
    "#### \"CNOT gates can be represented with the matrix below and it performs an operation on two qubits. One being the target qubit and the other the control\n",
    "\n",
    "#### If the control is $\\vert0\\rangle$ then nothing happens, but if the control is $\\vert1\\rangle$, target qubit switches states to either  $\\vert0\\rangle$ or $\\vert1\\rangle$ \"\n",
    "\n",
    "#### CNOT gate matrix representation:  $$\\begin{pmatrix}\n",
    "1 & 0 & 0 & 0 \\\\\n",
    "0 & 1 & 0 & 0 \\\\\n",
    "0 & 0 & 0 & 1 \\\\\n",
    "0 & 0 & 1 & 0\n",
    "\\end{pmatrix}$$\n",
    "\n",
    "\n",
    "#### The Z gate, also known as the Phase gate, is a single-qubit gate that introduces a phase shift of $\\pi$ to the qubit state. \n",
    "#### Phase Shift: Refers to a change in the timing or alignment of a wave or oscillation. \n",
    "\n",
    "#### The Z gate is represented by the following matrix:\n",
    "\n",
    "$$Z = \\begin{pmatrix}\n",
    "1 & 0 \\\\\n",
    "0 & -1 \\\\\n",
    "\\end{pmatrix}$$\n",
    "\n",
    "####  When applied to the $\\vert0\\rangle$ state, the Z gate leaves it unchanged. However, when applied to the $\\vert1\\rangle$ state, the Z gate introduces a phase shift of $\\pi$ (or a phase flip) to the state. The effect of the Z gate can be described as follows:\n",
    "\n",
    "$$Z\\vert0\\rangle = \\vert0\\rangle$$\n",
    "\n",
    "$$Z\\vert1\\rangle = -\\vert1\\rangle$$\n"
   ]
  },
  {
   "cell_type": "markdown",
   "id": "97851567",
   "metadata": {},
   "source": [
    "### Initializing the 9-qubit logical state\n",
    "\n",
    "#### The 9 Qubit code is the first full quantum code - It can simultaneously correct for bit flips and phase flips.\n",
    "#### In this algorithm a single logical qubit is encoded using 9 physical qubits, and it is able to correct for a single $\\sigma_x$ error (bit flip) and $\\sigma_x$ (phase-flip)\n",
    "\n",
    "#### In this case we will define our two logical states as $\\vert0\\rangle_L$ and $\\vert1\\rangle_L$ where $|0\\rangle_L = \\frac{1}{\\sqrt{8}} \\left( |000\\rangle + |111\\rangle \\right) \\left( |000\\rangle + |111\\rangle \\right) \\left( |000\\rangle + |111\\rangle \\right)$ and\n",
    "$|1\\rangle_L = \\frac{1}{\\sqrt{8}} \\left( |000\\rangle - |111\\rangle \\right) \\left( |000\\rangle - |111\\rangle \\right) \\left( |000\\rangle - |111\\rangle \\right)$ and $\\vert1\\rangle_L = \\vert111\\rangle$\n",
    "\n",
    "#### A single qubit state is still represented by $\\vert\\psi\\rangle_L = \\alpha\\vert0\\rangle_L + \\beta\\vert1\\rangle_L$\n",
    "\n",
    "\n"
   ]
  },
  {
   "cell_type": "markdown",
   "id": "b84f0626",
   "metadata": {
    "scrolled": true
   },
   "source": [
    "### Below we show the quantum circuit for encoding a single logical qubit in a 9-qubit system. It consists of one data qubit and eight ancilla qubits initialized to $\\vert0\\rangle$:"
   ]
  },
  {
   "cell_type": "code",
   "execution_count": 3,
   "id": "8bdf52ec",
   "metadata": {},
   "outputs": [
    {
     "data": {
      "image/png": "[encoded data removed]",
      "text/plain": [
       "<Figure size 465.97x565.88 with 1 Axes>"
      ]
     },
     "execution_count": 3,
     "metadata": {},
     "output_type": "execute_result"
    }
   ],
   "source": [
    "\n",
    "psi = QuantumRegister(1, '|ψ⟩')\n",
    "ancilla = QuantumRegister(8, '|0⟩')\n",
    "\n",
    "qc = QuantumCircuit(psi, ancilla)\n",
    "qc.cnot(0, 3)\n",
    "qc.cnot(0, 6)\n",
    "qc.h(0)\n",
    "qc.h(3)\n",
    "qc.h(6)\n",
    "qc.cnot(0, 1)\n",
    "qc.cnot(3, 4)\n",
    "qc.cnot(6, 7)\n",
    "qc.cnot(0, 2)\n",
    "qc.cnot(3, 5)\n",
    "qc.cnot(6, 8)\n",
    "qc.barrier()\n",
    "\n",
    "qc.draw()\n",
    " \n",
    "\n"
   ]
  },
  {
   "cell_type": "code",
   "execution_count": null,
   "id": "b50a2dbb",
   "metadata": {},
   "outputs": [],
   "source": [
    "def nine_qubit_initialize_logical_state(initial_psi):\n",
    "    initial_ancilla_state = np.array([1, 0])  # initializing the |0> state of the ancilla qubits\n",
    "    psi = initial_psi  # setting psi to |0> or |1>\n",
    "    \n",
    "    # Initialize the 9 qubit logical state\n",
    "    initial_logical_state = np.kron(psi, np.kron(initial_ancilla_state, np.kron(initial_ancilla_state, np.kron(initial_ancilla_state, np.kron(initial_ancilla_state, np.kron(initial_ancilla_state, np.kron(initial_ancilla_state, np.kron(initial_ancilla_state, initial_ancilla_state))))))))\n",
    "    \n",
    "    # Setting up the logical qubit using CNOT gates\n",
    "    # We call functions cnot and non_adj_CNOT from the notebook: QEC Helpers\n",
    "\n",
    "    non_adj_CNOT_psi_qthree = np.kron(non_adj_CNOT(0, 3, 9), np.identity(2 ** 6))\n",
    "    non_adj_CNOT_psi_qsix = np.kron(non_adj_CNOT(0, 6, 9), np.identity(2 ** 3))\n",
    "    \n",
    "    hadamard_psi = np.kron(hadamard, np.identity(2 ** 8))\n",
    "    hadamard_three = np.kron(hadamard, np.identity(2 ** 5))\n",
    "    hadamard_six = np.kron(hadamard, np.identity(2 ** 2))\n",
    "    \n",
    "    cnot_psi_qone = np.kron(cnot, np.identity(2 ** 7))\n",
    "    cnot_qthree_qfour = np.kron(cnot, np.identity(2 ** 6))\n",
    "    cnot_qsix_qseven = np.kron(cnot, np.identity(2 ** 3))\n",
    "    \n",
    "    non_adj_CNOT_psi_qtwo = np.kron(non_adj_CNOT(0, 2, 9), np.identity(2 ** 7))\n",
    "    non_adj_CNOT_qthree_qfive = np.kron(non_adj_CNOT(3, 5, 9), np.identity(2 ** 4))\n",
    "    non_adj_CNOT_qsix_qeight = np.kron(non_adj_CNOT(6, 8, 9), np.identity(2 ** 1))\n",
    "    \n",
    "    # Apply the gates to the initial logical state\n",
    "    final_logical_state = np.dot(np.kron(non_adj_CNOT_qsix_qeight, np.kron(\n",
    "        non_adj_CNOT_qthree_qfive, np.kron(non_adj_CNOT_psi_qtwo, np.kron(\n",
    "            cnot_qsix_qseven, np.kron(cnot_qthree_qfour, np.kron(\n",
    "                cnot_psi_qone, np.kron(hadamard_six, np.kron(\n",
    "                    hadamard_three, np.kron(hadamard_psi, np.kron(\n",
    "                        non_adj_CNOT_psi_qsix, non_adj_CNOT_psi_qthree))))))))), initial_logical_state))\n",
    "    \n",
    "    return final_logical_state, psi, initial_logical_state\n",
    "\n",
    "\n",
    "\n",
    "print('Psi State: ', psi)\n",
    "print('Initial Logical State: ', initial_logical_state)\n",
    "print('Final Logical State (Vector Representation): ', final_logical_state.astype(int))"
   ]
  },
  {
   "cell_type": "markdown",
   "id": "badd252f",
   "metadata": {},
   "source": [
    "## Encoding and correcting for a single X error"
   ]
  },
  {
   "cell_type": "markdown",
   "id": "4528ada8",
   "metadata": {},
   "source": [
    "#### One thing to note about the circuit above is that three bit flips are required to encode a single qubit. This number is defined as the distance between two codeword states and is given the variable d. With this we are able to calculate the number of errors that can be corrected:\n",
    "$$ t = \\left\\lfloor \\frac{(d-1)}{2} \\right\\rfloor$$\n",
    "#### In the case of the 3 qubit code, we can see that d = 3 and thus t = 1\n",
    "\n",
    "#### Now in order to actually be able to correct for errors we require two more ancilla qubits to obtain information about possible errors (syndrome information) without directly measuring the exact state of any of the qubits in the logical qubit.\n",
    "#### Our new circuit will now look like this:"
   ]
  },
  {
   "cell_type": "code",
   "execution_count": 807,
   "id": "09f7b024",
   "metadata": {},
   "outputs": [
    {
     "data": {
      "image/png": "[encoded data removed]",
      "text/plain": [
       "<Figure size 1258.45x535.111 with 1 Axes>"
      ]
     },
     "execution_count": 807,
     "metadata": {},
     "output_type": "execute_result"
    }
   ],
   "source": [
    "psi = QuantumRegister(1, '|ψ⟩')\n",
    "ancilla = QuantumRegister(2, '|0⟩')\n",
    "syndrome_ancilla = QuantumRegister(2, 'syndrome |0⟩')\n",
    "classical_bits = ClassicalRegister(2, 'classical_measurement')\n",
    "qc = QuantumCircuit(psi, ancilla, syndrome_ancilla, classical_bits)\n",
    "qc.cnot(0, 1)\n",
    "qc.cnot(1, 2)\n",
    "qc.barrier(0,1,2) # A bit flip error occurs here\n",
    "qc.cnot(0, 3)\n",
    "qc.cnot(1, 3)\n",
    "qc.cnot(0, 4)\n",
    "qc.cnot(2, 4)\n",
    "qc.measure(syndrome_ancilla, classical_bits)\n",
    "qc.barrier()\n",
    "qc.draw()"
   ]
  },
  {
   "cell_type": "markdown",
   "id": "a6e51dd1",
   "metadata": {},
   "source": [
    "#### The first dashed line represents the bit flip (X) error that occurs to any of the first 3 data qubits. After that we apply 4 CNOT gates to obtain the error information. Then we classically measure the syndrome qubits to see if an error occured and where the error is. \n",
    "\n",
    "#### In this example we assume that the error only occurs where the dashed line is and all other gate operations are 'perfect'. Additionally we assume that only a single bit flip error occurs.\n",
    "\n",
    "#### Now we will simulate what would happen if a single X bit flip error occurs at a random location after we have initialized the 3 qubit logical state. We can mathematically represent each errror at a location as the following:\n",
    "\n",
    "#### If the error occurs at the 0th qubit ($\\vert\\psi\\rangle$): $(X \\otimes I_2 \\otimes I_2)\\vert\\psi q_1 q_2 \\rangle$\n",
    "#### If the error occurs at the 1st qubit ($\\vert q_1\\rangle$): $(I_2 \\otimes X \\otimes I_2)\\vert\\psi q_1 q_2 \\rangle$\n",
    "#### If the error occurs at the 2nd qubit ($\\vert q_2\\rangle$): $(I_2 \\otimes I_2 \\otimes X)\\vert\\psi q_1 q_2 \\rangle$\n",
    "#### Where X is the Pauli-x ($\\sigma_x$) operator"
   ]
  },
  {
   "cell_type": "code",
   "execution_count": 14,
   "id": "c37554f1",
   "metadata": {},
   "outputs": [
    {
     "ename": "NameError",
     "evalue": "name 'final_logical_state' is not defined",
     "output_type": "error",
     "traceback": [
      "\u001b[0;31m---------------------------------------------------------------------------\u001b[0m",
      "\u001b[0;31mNameError\u001b[0m                                 Traceback (most recent call last)",
      "Input \u001b[0;32mIn [14]\u001b[0m, in \u001b[0;36m<cell line: 29>\u001b[0;34m()\u001b[0m\n\u001b[1;32m     26\u001b[0m     \u001b[38;5;28;01mreturn\u001b[39;00m errored_logical_state, error_index\n\u001b[1;32m     28\u001b[0m \u001b[38;5;66;03m# Print out the errored logical state and the index qubit which the error occured (using the final state from before)\u001b[39;00m\n\u001b[0;32m---> 29\u001b[0m state, qubit_errored \u001b[38;5;241m=\u001b[39m three_qubit_random_qubit_x_error(\u001b[43mfinal_logical_state\u001b[49m)\n\u001b[1;32m     30\u001b[0m \u001b[38;5;28mprint\u001b[39m(\u001b[38;5;124m'\u001b[39m\u001b[38;5;124mLogical State without the random X error: \u001b[39m\u001b[38;5;124m'\u001b[39m, final_logical_state\u001b[38;5;241m.\u001b[39mastype(\u001b[38;5;28mint\u001b[39m))\n\u001b[1;32m     31\u001b[0m \u001b[38;5;28mprint\u001b[39m(\u001b[38;5;124m'\u001b[39m\u001b[38;5;124mLogical Satte with the random X error: \u001b[39m\u001b[38;5;124m'\u001b[39m, state\u001b[38;5;241m.\u001b[39mastype(\u001b[38;5;28mint\u001b[39m))\n",
      "\u001b[0;31mNameError\u001b[0m: name 'final_logical_state' is not defined"
     ]
    }
   ],
   "source": [
    "# After we have initialized the 3-qubit logical state, we will apply a random error to one of the qubits.\n",
    "def three_qubit_random_qubit_x_error(logical_state):\n",
    "    error_index = random.randint(-1,2)\n",
    "    if error_index == 0:\n",
    "        errored_logical_state = np.dot(np.kron(sigma_x, np.identity(4)), logical_state)\n",
    "    elif error_index == 1:\n",
    "        errored_logical_state = np.dot(np.kron(np.kron(np.identity(2), sigma_x), np.identity(2)), logical_state)\n",
    "    elif error_index == 2:\n",
    "        errored_logical_state = np.dot(np.kron(np.identity(4), sigma_x), logical_state)\n",
    "    else:\n",
    "        errored_logical_state = logical_state\n",
    "        \n",
    "    return errored_logical_state, error_index\n",
    "\n",
    "# After we have initialized the 3-qubit logical state, we will apply a defined error to one of the qubits.\n",
    "def three_qubit_defined_qubit_x_error(logical_state, error_index):\n",
    "    if error_index == 0:\n",
    "        errored_logical_state = np.dot(np.kron(sigma_x, np.identity(4)), logical_state)\n",
    "    elif error_index == 1:\n",
    "        errored_logical_state = np.dot(np.kron(np.kron(np.identity(2), sigma_x), np.identity(2)), logical_state)\n",
    "    elif error_index == 2:\n",
    "        errored_logical_state = np.dot(np.kron(np.identity(4), sigma_x), logical_state)\n",
    "    else:\n",
    "        errored_logical_state = logical_state\n",
    "        \n",
    "    return errored_logical_state, error_index\n",
    "\n",
    "# Print out the errored logical state and the index qubit which the error occured (using the final state from before)\n",
    "state, qubit_errored = three_qubit_random_qubit_x_error(final_logical_state)\n",
    "print('Logical State without the random X error: ', final_logical_state.astype(int))\n",
    "print('Logical Satte with the random X error: ', state.astype(int))\n",
    "print('The Error occured at qubit: ', qubit_errored)"
   ]
  },
  {
   "cell_type": "markdown",
   "id": "f24b7644",
   "metadata": {},
   "source": [
    "### Next we need to be able to find where the qubit errored without directly knowing where it errored (kind of counter intuitive). Since this is a simulation we are able to print out what index the qubit actaully errored at to check our work, but in reality we wont know. So we should have a way to determine this. That is where our syndrome ancilla qubits come into play. They will tell us where our error occured!\n",
    "\n",
    "#### Below we derive each CNOT gate represented in the ciruit above as a 32 x 32 matrix. Since the matrix is too large to show, we can follow a different process to deriving the CNOT gates than we did earlier for the logical state initialization. \n",
    "\n",
    "#### We will be using the following derivation method for a CNOT gate with one qubit in between the control and target qubits (thus the qubits that the gate acts on are non-adjacent). For this CNOT gate it is not so simple, like our previous derivation for a 3-qubit CNOT since there is no known kronecker product that would lead to the transformation needed. Thus we can derive it by looking at what happens to the logical states of the qubit when we apply this gate.\n",
    "https://quantumcomputing.stackexchange.com/questions/4252/how-to-derive-the-cnot-matrix-for-a-3-qubit-system-where-the-control-target-qu/4254#4254\n",
    "\n",
    "$$ CNOT\\vert000\\rangle \\to \\vert000\\rangle = [1 0 0 0 0 0 0 0 ]^T\\\\ CNOT\\vert001\\rangle \\to \\vert001\\rangle = [0 1 0 0 0 0 0 0 ]^T \\\\\n",
    "CNOT\\vert010\\rangle \\to \\vert010\\rangle = [0 0 1 0 0 0 0 0 ]^T\\\\ CNOT\\vert011\\rangle \\to \\vert011\\rangle = [0 0 0 1 0 0 0 0 ]^T \\\\\n",
    "CNOT\\vert100\\rangle \\to \\vert101\\rangle = [0 0 0 0 0 1 0 0 ]^T\\\\ CNOT\\vert101\\rangle \\to \\vert100\\rangle = [0 0 0 0 1 0 0 0 ]^T \\\\\n",
    "CNOT\\vert110\\rangle \\to \\vert111\\rangle = [0 0 0 0 0 0 0 1 ]^T\\\\ CNOT\\vert111\\rangle \\to \\vert110\\rangle = [0 0 0 0 0 0 1 0 ]^T $$\n",
    "\n",
    "#### Now if you look closely when we put these together as the collumns of out matrix we get:\n",
    "\n",
    "\n",
    "$$ CNOT_{\\psi, 1} = \\begin{pmatrix}\n",
    "1 & 0 & 0 & 0 & 0 & 0 & 0 & 0 \\\\\n",
    "0 & 1 & 0 & 0 & 0 & 0 & 0 & 0 \\\\\n",
    "0 & 0 & 1 & 0 & 0 & 0 & 0 & 0 \\\\\n",
    "0 & 0 & 0 & 1 & 0 & 0 & 0 & 0 \\\\\n",
    "0 & 0 & 0 & 0 & 0 & 1 & 0 & 0 \\\\\n",
    "0 & 0 & 0 & 0 & 1 & 0 & 0 & 0 \\\\\n",
    "0 & 0 & 0 & 0 & 0 & 0 & 0 & 1 \\\\\n",
    "0 & 0 & 0 & 0 & 0 & 0 & 1 & 0\n",
    "\\end{pmatrix}$$\n",
    "\n",
    "#### Which is the matrix representation for the CNOT gate when our 2 qubits are not adjacent in the 3-qubit system.\n",
    "\n",
    "### Deriving the qubit gates for the Circuit above:\n",
    "#### For the first CNOT gate, we can see that there are 2 qubits in between the control and target qubits. Thus we need to use the second method when we derived the CNOT for non-adjacent qubits, only this time we have 5 qubits to keep track of. But we do not actually need to compute 32 states of the qubit. If we notice that the first 16 transformations will do nothing to our state since the first qubit is in the $\\vert0\\rangle$ state. Thus we only need to change the last 16 columns. We can compute the transformations that occur and set the new tensor products of the qubit states as the columns of our matrix. (again this is the same process as deriving the non-adjacent CNOT, just with more qubits)"
   ]
  },
  {
   "cell_type": "code",
   "execution_count": 809,
   "id": "76448ad3",
   "metadata": {},
   "outputs": [],
   "source": [
    "# Used to perform a CNOT gate on 2 non-adjacent qubits (i.e. |psi> and |q_1>)\n",
    "def non_adjacent_qubit_cnot():\n",
    "    cnot = np.identity(8)\n",
    "    cnot[4:] = 0\n",
    "    cnot[4][5] = 1\n",
    "    cnot[5][4] = 1\n",
    "    cnot[7][6] = 1\n",
    "    cnot[6][7] = 1\n",
    "    return cnot"
   ]
  },
  {
   "cell_type": "code",
   "execution_count": 810,
   "id": "f26a517a",
   "metadata": {},
   "outputs": [
    {
     "name": "stdout",
     "output_type": "stream",
     "text": [
      "[0 0 0 0 0 0 0 0 0 0 0 0 0 0 0 0 0 0 0 0 0 0 1 0 0 0 0 0 0 0 0 0]\n",
      "[0 0 0 0 0 0 0 0 0 0 0 0 0 0 0 0 0 0 0 0 0 0 1 0 0 0 0 0 0 0 0 0]\n"
     ]
    }
   ],
   "source": [
    "# Finding the matrix operation for first cnot gate after the error occurs in the circuit above\n",
    "np.set_printoptions(threshold=np.inf)\n",
    "zero = np.array([1, 0])\n",
    "one = np.array([0, 1])\n",
    "def first_cnot():\n",
    "    matrix = np.identity(32)\n",
    "    matrix[:][16] = np.kron(one, np.kron(zero, np.kron(zero, np.kron(one, zero))))\n",
    "    matrix[:][17] = np.kron(one, np.kron(zero, np.kron(zero, np.kron(one, one))))\n",
    "    matrix[:][18] = np.kron(one, np.kron(zero, np.kron(zero, np.kron(zero, zero))))\n",
    "    matrix[:][19] = np.kron(one, np.kron(zero, np.kron(zero, np.kron(zero, one))))\n",
    "    matrix[:][20] = np.kron(one, np.kron(zero, np.kron(one, np.kron(one, zero))))\n",
    "    matrix[:][21] = np.kron(one, np.kron(zero, np.kron(one, np.kron(one, one))))\n",
    "    matrix[:][22] = np.kron(one, np.kron(zero, np.kron(one, np.kron(zero, zero))))\n",
    "    matrix[:][23] = np.kron(one, np.kron(zero, np.kron(one, np.kron(zero, one))))\n",
    "    matrix[:][24] = np.kron(one, np.kron(one, np.kron(zero, np.kron(one, zero))))\n",
    "    matrix[:][25] = np.kron(one, np.kron(one, np.kron(zero, np.kron(one, one))))\n",
    "    matrix[:][26] = np.kron(one, np.kron(one, np.kron(zero, np.kron(zero, zero))))\n",
    "    matrix[:][27] = np.kron(one, np.kron(one, np.kron(zero, np.kron(zero, one))))\n",
    "    matrix[:][28] = np.kron(one, np.kron(one, np.kron(one, np.kron(one, zero))))\n",
    "    matrix[:][29] = np.kron(one, np.kron(one, np.kron(one, np.kron(one, one))))\n",
    "    matrix[:][30] = np.kron(one, np.kron(one, np.kron(one, np.kron(zero, zero))))\n",
    "    matrix[:][31] = np.kron(one, np.kron(one, np.kron(one, np.kron(zero, one))))\n",
    "    return matrix\n",
    "\n",
    "# Testing outputs\n",
    "print(np.dot(first_cnot(), np.kron(one, np.kron(zero, np.kron(one, np.kron(zero, zero))))).astype(int)) # applying CNOT\n",
    "print(np.kron(one, np.kron(zero, np.kron(one, np.kron(one, zero))))) # Put state that it should be in after operation"
   ]
  },
  {
   "cell_type": "markdown",
   "id": "d01485ad",
   "metadata": {},
   "source": [
    "#### For the second CNOT gate we notice that there is only one qubit in between the control and the target. Thus we can implement the non-adjacent CNOT gate and just tensor it with the Identity 2x2 matrix as shown below.\n",
    "$$CNOT_{q_1, q_3} = I_2 \\otimes CNOT_{non-adj} \\otimes I_2$$"
   ]
  },
  {
   "cell_type": "code",
   "execution_count": 811,
   "id": "e9ccc6db",
   "metadata": {
    "scrolled": true
   },
   "outputs": [
    {
     "name": "stdout",
     "output_type": "stream",
     "text": [
      "[0 0 0 0 0 0 0 0 0 0 0 0 0 0 0 0 0 0 0 0 0 0 0 0 0 0 0 0 1 0 0 0]\n",
      "[0 0 0 0 0 0 0 0 0 0 0 0 0 0 0 0 0 0 0 0 0 0 0 0 0 0 0 0 1 0 0 0]\n"
     ]
    }
   ],
   "source": [
    "# Finding the matrix operation for second cnot gate after the error occurs in the circuit above\n",
    "# For this we will be able to implement the non-adjacent CNOT gate that we derived earlier in the notebook\n",
    "def second_cnot():\n",
    "    matrix = np.kron(np.identity(2), np.kron(non_adjacent_qubit_cnot(), np.identity(2)))\n",
    "    return matrix\n",
    "\n",
    "# Testing outputs\n",
    "print(np.dot(second_cnot(), np.kron(one, np.kron(one, np.kron(one, np.kron(one, zero))))).astype(int)) # applying CNOT\n",
    "print(np.kron(one, np.kron(one, np.kron(one, np.kron(zero, zero))))) # Put state that it should be in after operation\n"
   ]
  },
  {
   "cell_type": "markdown",
   "id": "9cc51d2c",
   "metadata": {},
   "source": [
    "#### For the third CNOT gate, we can see that there are 3 qubits in between the control and target qubits. Thus we need to use the second method when we derived the CNOT for non-adjacent qubits, only this time we have 5 qubits to keep track of. But we do not actually need to compute 32 states of the qubit. If we notice that the first 16 transformations will do nothing to our state since the first qubit is in the $\\vert0\\rangle$ state just like with the first CNOT we derived previously. Thus we only need to change the last 16 columns. We can compute the transformations that occur and set the new tensor products of the qubit states as the columns of our matrix. (again this is the same process as deriving the non-adjacent CNOT, just with more qubits)"
   ]
  },
  {
   "cell_type": "code",
   "execution_count": 812,
   "id": "c3ef8a2b",
   "metadata": {
    "scrolled": true
   },
   "outputs": [
    {
     "name": "stdout",
     "output_type": "stream",
     "text": [
      "[0 0 0 0 0 0 0 0 0 0 0 0 0 0 0 0 0 0 0 0 0 1 0 0 0 0 0 0 0 0 0 0]\n",
      "[0 0 0 0 0 0 0 0 0 0 0 0 0 0 0 0 0 0 0 0 0 1 0 0 0 0 0 0 0 0 0 0]\n"
     ]
    }
   ],
   "source": [
    "# Finding the matrix operation for third cnot gate after the error occurs in the circuit above\n",
    "np.set_printoptions(threshold=np.inf)\n",
    "zero = np.array([1, 0])\n",
    "one = np.array([0, 1])\n",
    "def third_cnot():\n",
    "    matrix = np.identity(32)\n",
    "    matrix[:][16] = np.kron(one, np.kron(zero, np.kron(zero, np.kron(zero, one))))\n",
    "    matrix[:][17] = np.kron(one, np.kron(zero, np.kron(zero, np.kron(zero, zero))))\n",
    "    matrix[:][18] = np.kron(one, np.kron(zero, np.kron(zero, np.kron(one, one))))\n",
    "    matrix[:][19] = np.kron(one, np.kron(zero, np.kron(zero, np.kron(one, zero))))\n",
    "    matrix[:][20] = np.kron(one, np.kron(zero, np.kron(one, np.kron(zero, one))))\n",
    "    matrix[:][21] = np.kron(one, np.kron(zero, np.kron(one, np.kron(zero, zero))))\n",
    "    matrix[:][22] = np.kron(one, np.kron(zero, np.kron(one, np.kron(one, one))))\n",
    "    matrix[:][23] = np.kron(one, np.kron(zero, np.kron(one, np.kron(one, zero))))\n",
    "    matrix[:][24] = np.kron(one, np.kron(one, np.kron(zero, np.kron(zero, one))))\n",
    "    matrix[:][25] = np.kron(one, np.kron(one, np.kron(zero, np.kron(zero, zero))))\n",
    "    matrix[:][26] = np.kron(one, np.kron(one, np.kron(zero, np.kron(one, one))))\n",
    "    matrix[:][27] = np.kron(one, np.kron(one, np.kron(zero, np.kron(one, zero))))\n",
    "    matrix[:][28] = np.kron(one, np.kron(one, np.kron(one, np.kron(zero, one))))\n",
    "    matrix[:][29] = np.kron(one, np.kron(one, np.kron(one, np.kron(zero, zero))))\n",
    "    matrix[:][30] = np.kron(one, np.kron(one, np.kron(one, np.kron(one, one))))\n",
    "    matrix[:][31] = np.kron(one, np.kron(one, np.kron(one, np.kron(one, zero))))\n",
    "    return matrix\n",
    "\n",
    "# Testing outputs\n",
    "print(np.dot(third_cnot(), np.kron(one, np.kron(zero, np.kron(one, np.kron(zero, zero))))).astype(int)) # applying CNOT\n",
    "print(np.kron(one, np.kron(zero, np.kron(one, np.kron(zero, one))))) # Put state that it should be in after operation\n"
   ]
  },
  {
   "cell_type": "markdown",
   "id": "83dead38",
   "metadata": {},
   "source": [
    "#### For the fourth CNOT gate we again notice that there is only one qubit in between the control and the target. Thus we can implement the non-adjacent CNOT gate and just tensor it with the Identity 2x2 matrix as shown below.\n",
    "$$CNOT_{q_2, q_4} = I_2 \\otimes CNOT_{non-adj} \\otimes I_2$$"
   ]
  },
  {
   "cell_type": "code",
   "execution_count": 813,
   "id": "2cd65f8a",
   "metadata": {},
   "outputs": [
    {
     "name": "stdout",
     "output_type": "stream",
     "text": [
      "[0 0 0 0 0 0 0 0 0 0 0 0 0 0 0 0 0 0 0 0 0 0 0 0 0 0 1 0 0 0 0 0]\n",
      "[0 0 0 0 0 0 0 0 0 0 0 0 0 0 0 0 0 0 0 0 0 0 0 0 0 0 1 0 0 0 0 0]\n"
     ]
    }
   ],
   "source": [
    "# Finding the matrix operation for fourth cnot gate after the error occurs in the circuit above\n",
    "# For this we will be able to implement the non-adjacent CNOT gate that we derived earlier in the notebook\n",
    "def fourth_cnot():\n",
    "    matrix = np.kron(np.identity(4), non_adjacent_qubit_cnot())\n",
    "    return matrix\n",
    "\n",
    "# Testing outputs\n",
    "print(np.dot(fourth_cnot(), np.kron(one, np.kron(one, np.kron(zero, np.kron(one, zero))))).astype(int)) # applying CNOT\n",
    "print(np.kron(one, np.kron(one, np.kron(zero, np.kron(one, zero))))) # Put state that it should be in after operation\n"
   ]
  },
  {
   "cell_type": "markdown",
   "id": "2701912c",
   "metadata": {},
   "source": [
    "### Instead of using the tedious methods from above, the following function was created to make a matrix representation of a non-adjacent CNOT gate\n",
    "\n",
    "#### Below I construct a function to create a non-adjacent CNOT gate for any number of qubits in between the control and target. The reference I use is Proposition 8 of this document:\n",
    "https://hal-normandie-univ.archives-ouvertes.fr/hal-02948598/document\n",
    "\n",
    "#### Where we let $ i_1, i_2, ..., i_p \\space (p - 1 \\ge 2) $ be distinct integers such that\n",
    "$$ CNOT_{i_1, i_p} = \\biggl(CNOT_{i_1, i_2}CNOT_{i_2, i_3} . . . CNOT_{i_{p-2}, i_{p-1}}CNOT_{i_{p-1}, i_p}CNOT_{i_{p-2}, i_{p-1}} . . . CNOT_{i_2, i_3}\\biggr)^2 $$\n",
    "\n",
    "#### This is simply used to construct the non-adjacent CNOT gate matrix, thus we do not take into account the individual gate errors that go into making the full gate. However, in the future we may do this."
   ]
  },
  {
   "cell_type": "code",
   "execution_count": 814,
   "id": "44ac1397",
   "metadata": {
    "scrolled": true
   },
   "outputs": [],
   "source": [
    "# This function is used to implement a non-adjacent CNOT gate between 2 qubits in a system\n",
    "def non_adj_CNOT(control, target, tot_qubits):\n",
    "    # control: control qubit index (starting from 0)\n",
    "    # target: target qubit index (starting from 0)\n",
    "    # tot_qubits: total number of qubits in the system\n",
    "    \n",
    "    p = target - control # used to index over all gates neeeded\n",
    "    all_dots = np.array([[]]) # array used to keep track of the components we will combine at the end\n",
    "    \n",
    "    # Indexing over the values of p to get the first half of the formula\n",
    "    for j in range(p):\n",
    "        # Sets the next component of the matrix multiplication up\n",
    "        next_dot = np.kron(np.identity(2**(j)), np.kron(cnot, np.identity(2**(p-j-1))))\n",
    "        \n",
    "        # Adds the components to the array and multiplies them together\n",
    "        if j == 0:\n",
    "            all_dots = np.array([next_dot])\n",
    "            gate = all_dots[j]\n",
    "        else:\n",
    "            all_dots = np.append(all_dots, [next_dot], axis = 0)\n",
    "            gate = np.dot(gate, all_dots[j])\n",
    "            \n",
    "    # Indexing over values of p such that we get the 2nd half of the equation together\n",
    "    for j in range(p - 2):\n",
    "        gate = np.dot(gate, all_dots[p-j-2])\n",
    "    \n",
    "    # Squares the final matrix\n",
    "    final_gate = np.dot(gate, gate)\n",
    "    \n",
    "    # Adds the dimensions needed depending on the tot_qubits\n",
    "    n1 = control # exponent used to tensor the left side identity matrix for our full system\n",
    "    n2 = tot_qubits - target - 1 # exponent used to tensor the right side identity matrix for our full system\n",
    "    final_total_gate = np.kron(np.identity(2**(n1)), np.kron(final_gate, np.identity(2**(n2))))\n",
    "    \n",
    "    return final_total_gate"
   ]
  },
  {
   "cell_type": "code",
   "execution_count": 815,
   "id": "b446bb28",
   "metadata": {
    "scrolled": false
   },
   "outputs": [
    {
     "name": "stdout",
     "output_type": "stream",
     "text": [
      "True\n",
      "True\n",
      "True\n",
      "True\n"
     ]
    }
   ],
   "source": [
    "# Testing\n",
    "print(np.array_equiv(third_cnot(), non_adj_CNOT(0,4,5)))\n",
    "print(np.array_equiv(first_cnot(), non_adj_CNOT(0,3,5)))\n",
    "print(np.array_equiv(second_cnot(), non_adj_CNOT(1,3,5)))\n",
    "print(np.array_equiv(fourth_cnot(), non_adj_CNOT(2,4,5)))"
   ]
  },
  {
   "cell_type": "markdown",
   "id": "d391d1c9",
   "metadata": {},
   "source": [
    "### Below is the code to put together the 4 CNOT gates after initializing the 3 qubit logical state and then applying a random error. Note that the error function has 4 options, error on qubit 0, error on qubit 1, error on qubit 2, or no error at all."
   ]
  },
  {
   "cell_type": "code",
   "execution_count": 816,
   "id": "2c997172",
   "metadata": {},
   "outputs": [
    {
     "name": "stdout",
     "output_type": "stream",
     "text": [
      "[0 0 0 0 0 0 0 0 0 0 0 0 0 0 0 0 0 0 0 0 0 0 0 0 0 0 0 0 1 0 0 0]\n"
     ]
    }
   ],
   "source": [
    "# Code implementing the Syndrome Ancilla Qubits to check where the error occured\n",
    "zero = np.array([1, 0])\n",
    "one = np.array([0, 1])\n",
    "initial_psi = one\n",
    "# Initialize our system and apply an X error\n",
    "initial_state = three_qubit_initialize_logical_state(initial_psi)[0] # Initialize our 3 qubit logical state\n",
    "error_state = three_qubit_random_qubit_x_error(initial_state)[0] # Apply a random X error to one of our 3 qubits\n",
    "\n",
    "# Now we can apply the CNOT gates that we just derived.\n",
    "def three_qubit_extend_system(state):\n",
    "    full_system = np.kron(state, np.kron(zero, zero)) # Extend our system to add in the 2 syndrome ancilla qubits\n",
    "    # Using the first method derived for each non-adjacent CNOT gate\n",
    "#     final_state = np.dot(fourth_cnot(), np.dot(third_cnot(), np.dot(second_cnot(), np.dot(first_cnot(), full_system))))\n",
    "    # Using the new function created above\n",
    "    final_state = np.dot(non_adj_CNOT(2,4,5), np.dot(non_adj_CNOT(0,4,5), \n",
    "                                                     np.dot(non_adj_CNOT(1,3,5), np.dot(non_adj_CNOT(0,3,5), full_system))))\n",
    "    return final_state\n",
    "\n",
    "final_state = three_qubit_extend_system(error_state)\n",
    "print(final_state.astype(int))"
   ]
  },
  {
   "cell_type": "markdown",
   "id": "fc66bfb0",
   "metadata": {},
   "source": [
    "#### We can now construct a table with the possible results of bit flip error which can occur and how we will detect them using the two syndrome ancilla qubits. For each different error, the syndrome ancillas are flipped to a unique state which we can then measure and apply a correction. The $\\sigma_x$ or bit flip correction would be classically controlled depending on the syndrome ancilla."
   ]
  },
  {
   "cell_type": "code",
   "execution_count": 817,
   "id": "de0ebd5a",
   "metadata": {
    "scrolled": true
   },
   "outputs": [
    {
     "name": "stdout",
     "output_type": "stream",
     "text": [
      "+-----------------+---------------------------------+\n",
      "|  Error Location |   Final State, |data⟩|ancilla⟩  |\n",
      "+-----------------+---------------------------------+\n",
      "|     No Error    |  alpha|000⟩|00⟩ + beta|111⟩|00⟩ |\n",
      "|  Qubit 0 (|ψ⟩)  | alpha |100⟩|11⟩ + beta|011⟩|11⟩ |\n",
      "| Qubit 1 (|0⟩_0) | alpha |010⟩|10⟩ + beta|101⟩|10⟩ |\n",
      "| Qubit 2 (|0⟩_1) | alpha |001⟩|01⟩ + beta|110⟩|01⟩ |\n",
      "+-----------------+---------------------------------+\n"
     ]
    }
   ],
   "source": [
    "error_table = PrettyTable([\"Error Location\", \"Final State, |data⟩|ancilla⟩\"])\n",
    " \n",
    "error_table.add_row([\"No Error\", \"alpha|000⟩|00⟩ + beta|111⟩|00⟩\"])\n",
    "error_table.add_row([\"Qubit 0 (|ψ⟩)\", \"alpha |100⟩|11⟩ + beta|011⟩|11⟩\"])\n",
    "error_table.add_row([\"Qubit 1 (|0⟩_0)\", \"alpha |010⟩|10⟩ + beta|101⟩|10⟩\"])\n",
    "error_table.add_row([\"Qubit 2 (|0⟩_1)\", \"alpha |001⟩|01⟩ + beta|110⟩|01⟩\"])\n",
    " \n",
    "print(error_table)"
   ]
  },
  {
   "cell_type": "markdown",
   "id": "4f7f0764",
   "metadata": {},
   "source": [
    "#### However it is important to note that this 3 qubit code can only correct a maximum of one bit flip error on a single qubit. Anything else will cause ambiguity of syndrome results. This can be seen in the table below where we see multiple errors occuring and the assumed error that our ancilla tell us."
   ]
  },
  {
   "cell_type": "code",
   "execution_count": 818,
   "id": "2b1e17bc",
   "metadata": {},
   "outputs": [
    {
     "name": "stdout",
     "output_type": "stream",
     "text": [
      "We can see that with multiple errors occuring at different qubits we would not be able to tell what is going on.\n",
      "+-------------------+---------------------------------+--------------------+\n",
      "|   Error Location  |   Final State, |data⟩|ancilla⟩  |   Assumed Error    |\n",
      "+-------------------+---------------------------------+--------------------+\n",
      "|   Qubit 0 and 1   |  alpha|110⟩|01⟩ + beta|001⟩|01⟩ | sigma_x on Qubit 2 |\n",
      "|   Qubit 1 and 2   | alpha |011⟩|11⟩ + beta|100⟩|11⟩ | sigma_x on Qubit 0 |\n",
      "|   Qubit 0 and 2   | alpha |101⟩|10⟩ + beta|010⟩|10⟩ | sigma_x on Qubit 1 |\n",
      "| Qubit 0, 1, and 2 | alpha |111⟩|00⟩ + beta|000⟩|00⟩ |      no error      |\n",
      "+-------------------+---------------------------------+--------------------+\n"
     ]
    }
   ],
   "source": [
    "multi_error_table = PrettyTable([\"Error Location\", \"Final State, |data⟩|ancilla⟩\", \"Assumed Error\"])\n",
    " \n",
    "multi_error_table.add_row([\"Qubit 0 and 1\", \"alpha|110⟩|01⟩ + beta|001⟩|01⟩\", \"sigma_x on Qubit 2\"])\n",
    "multi_error_table.add_row([\"Qubit 1 and 2\", \"alpha |011⟩|11⟩ + beta|100⟩|11⟩\", \"sigma_x on Qubit 0\"])\n",
    "multi_error_table.add_row([\"Qubit 0 and 2\", \"alpha |101⟩|10⟩ + beta|010⟩|10⟩\", \"sigma_x on Qubit 1\"])\n",
    "multi_error_table.add_row([\"Qubit 0, 1, and 2\", \"alpha |111⟩|00⟩ + beta|000⟩|00⟩\", \"no error\"])\n",
    "\n",
    "print('We can see that with multiple errors occuring at different qubits we would not be able to tell what is going on.')\n",
    "print(multi_error_table)"
   ]
  },
  {
   "cell_type": "markdown",
   "id": "cc08f78f",
   "metadata": {},
   "source": [
    "#### Thus from above we can see that our tensored vectors will look different depending on where the error is.\n"
   ]
  },
  {
   "cell_type": "code",
   "execution_count": 819,
   "id": "9f475c9c",
   "metadata": {},
   "outputs": [
    {
     "name": "stdout",
     "output_type": "stream",
     "text": [
      "When the Initial Logical State is |0>\n",
      "No Error:  [0 0 0 0 0 0 0 0 0 0 0 0 0 0 0 0 0 0 0 0 0 0 0 0 0 0 0 0 1 0 0 0]\n",
      "Error on 0th qubit:  [0 0 0 0 0 0 0 0 0 0 0 0 0 0 0 1 0 0 0 0 0 0 0 0 0 0 0 0 0 0 0 0]\n",
      "Error on 1st qubit:  [0 0 0 0 0 0 0 0 0 0 0 0 0 0 0 0 0 0 0 0 0 0 1 0 0 0 0 0 0 0 0 0]\n",
      "Error on 2nd qubit:  [0 0 0 0 0 0 0 0 0 0 0 0 0 0 0 0 0 0 0 0 0 0 0 0 0 1 0 0 0 0 0 0]\n",
      "\n",
      "When the Initial Logical State is |1>\n",
      "No Error:  [1 0 0 0 0 0 0 0 0 0 0 0 0 0 0 0 0 0 0 0 0 0 0 0 0 0 0 0 0 0 0 0]\n",
      "Error on 0th qubit:  [0 0 0 0 0 0 0 0 0 0 0 0 0 0 0 0 0 0 0 1 0 0 0 0 0 0 0 0 0 0 0 0]\n",
      "Error on 1st qubit:  [0 0 0 0 0 0 0 0 0 0 1 0 0 0 0 0 0 0 0 0 0 0 0 0 0 0 0 0 0 0 0 0]\n",
      "Error on 2nd qubit:  [0 0 0 0 0 1 0 0 0 0 0 0 0 0 0 0 0 0 0 0 0 0 0 0 0 0 0 0 0 0 0 0]\n"
     ]
    }
   ],
   "source": [
    "# When the Initial Logical State is |0>\n",
    "a = 0\n",
    "b = 1\n",
    "print('When the Initial Logical State is |0>')\n",
    "print('No Error: ', a * np.kron(zero, np.kron(zero, np.kron(zero, np.kron(zero, zero)))).astype(int) +\n",
    "     b * np.kron(one, np.kron(one, np.kron(one, np.kron(zero, zero)))).astype(int))\n",
    "print('Error on 0th qubit: ', a * np.kron(one, np.kron(zero, np.kron(zero, np.kron(one, one)))).astype(int) +\n",
    "     b * np.kron(zero, np.kron(one, np.kron(one, np.kron(one, one)))).astype(int))\n",
    "print('Error on 1st qubit: ', a * np.kron(zero, np.kron(one, np.kron(zero, np.kron(one, zero)))).astype(int) +\n",
    "     b * np.kron(one, np.kron(zero, np.kron(one, np.kron(one, zero)))).astype(int))\n",
    "print('Error on 2nd qubit: ', a * np.kron(zero, np.kron(zero, np.kron(one, np.kron(zero, one)))).astype(int) +\n",
    "     b * np.kron(one, np.kron(one, np.kron(zero, np.kron(zero, one)))).astype(int))\n",
    "# When the Initial Logical State is |1> \n",
    "a = 1\n",
    "b = 0\n",
    "print('\\nWhen the Initial Logical State is |1>')\n",
    "print('No Error: ', a * np.kron(zero, np.kron(zero, np.kron(zero, np.kron(zero, zero)))).astype(int) +\n",
    "     b * np.kron(one, np.kron(one, np.kron(one, np.kron(zero, zero)))).astype(int))\n",
    "print('Error on 0th qubit: ', a * np.kron(one, np.kron(zero, np.kron(zero, np.kron(one, one)))).astype(int) +\n",
    "     b * np.kron(zero, np.kron(one, np.kron(one, np.kron(one, one)))).astype(int))\n",
    "print('Error on 1st qubit: ', a * np.kron(zero, np.kron(one, np.kron(zero, np.kron(one, zero)))).astype(int) +\n",
    "     b * np.kron(one, np.kron(zero, np.kron(one, np.kron(one, zero)))).astype(int))\n",
    "print('Error on 2nd qubit: ', a * np.kron(zero, np.kron(zero, np.kron(one, np.kron(zero, one)))).astype(int) +\n",
    "     b * np.kron(one, np.kron(one, np.kron(zero, np.kron(zero, one)))).astype(int))"
   ]
  },
  {
   "cell_type": "markdown",
   "id": "f8cc25b5",
   "metadata": {},
   "source": [
    "#### The function below was made to be able to detect where the error occurs:"
   ]
  },
  {
   "cell_type": "code",
   "execution_count": 820,
   "id": "54a38c4d",
   "metadata": {},
   "outputs": [
    {
     "name": "stdout",
     "output_type": "stream",
     "text": [
      "No bit flip error occured.\n"
     ]
    },
    {
     "data": {
      "text/plain": [
       "(-1, None)"
      ]
     },
     "execution_count": 820,
     "metadata": {},
     "output_type": "execute_result"
    }
   ],
   "source": [
    "# Used to find where this error actually occured from the vector \n",
    "def three_qubit_detect_error_location_from_vector(logical_state):\n",
    "    error_index = -1\n",
    "    if (logical_state[28] != 0) or (logical_state[0] != 0):\n",
    "        error_index = -1\n",
    "        return error_index, print(\"No bit flip error occured.\")\n",
    "    elif (logical_state[15] != 0) or (logical_state[19] != 0):\n",
    "        error_index = 0\n",
    "    elif (logical_state[22] != 0) or (logical_state[10] != 0):\n",
    "        error_index = 1\n",
    "    elif (logical_state[25] != 0) or (logical_state[5] != 0):\n",
    "        error_index = 2\n",
    "        \n",
    "    return error_index, print(\"Bit flip error occured on qubit\", error_index )\n",
    "\n",
    "three_qubit_detect_error_location_from_vector(final_state)"
   ]
  },
  {
   "cell_type": "markdown",
   "id": "3d827ab2",
   "metadata": {},
   "source": [
    "### Now to correct the error:"
   ]
  },
  {
   "cell_type": "code",
   "execution_count": 821,
   "id": "6abed3bb",
   "metadata": {},
   "outputs": [
    {
     "name": "stdout",
     "output_type": "stream",
     "text": [
      "No bit flip error occured.\n",
      "[0 0 0 0 0 0 0 0 0 0 0 0 0 0 0 0 0 0 0 0 0 0 0 0 0 0 0 0 1 0 0 0]\n"
     ]
    }
   ],
   "source": [
    "### Now we can correct for these errors by applying X gates to the qubit where the error occured.\n",
    "def three_qubit_correct_full_x_error(final_state):\n",
    "    qubit_index = three_qubit_detect_error_location_from_vector(final_state)[0]\n",
    "    if qubit_index == 0:\n",
    "        corrected_state = np.dot(np.kron(sigma_x, np.identity(16)), final_state)\n",
    "    elif qubit_index == 1:\n",
    "        corrected_state = np.dot(np.kron(np.identity(2), np.kron(sigma_x, np.identity(8))), final_state)\n",
    "    elif qubit_index == 2:\n",
    "        corrected_state = np.dot(np.kron(np.identity(4), np.kron(sigma_x, np.identity(4))), final_state)\n",
    "    else:\n",
    "        corrected_state = final_state\n",
    "    \n",
    "    return corrected_state\n",
    "\n",
    "\n",
    "print(three_qubit_correct_full_x_error(final_state).astype(int))"
   ]
  },
  {
   "cell_type": "markdown",
   "id": "5dc7e863",
   "metadata": {},
   "source": [
    "#### Below we take the qubit state (32 element array) and take only the first 3 qubits to make sure that the correction worked. This is done by using the function below, but you are able to take as many qubits as youd like from the full system using the function."
   ]
  },
  {
   "cell_type": "code",
   "execution_count": 827,
   "id": "01607aa6",
   "metadata": {
    "scrolled": false
   },
   "outputs": [
    {
     "data": {
      "text/plain": [
       "'01101'"
      ]
     },
     "execution_count": 827,
     "metadata": {},
     "output_type": "execute_result"
    }
   ],
   "source": [
    "# Maybe add in n number of qubits so it works for any system. (currently only works for 5 maximum)\n",
    "def full_state_to_logical_state(state, k):\n",
    "    # state: the full logical state of the qubit system you wish to reduce\n",
    "    # k: the number of qubits you wish to reduce the system to (must be less than the full system size)\n",
    "    index_of_element = -1\n",
    "    for i in range(state.size):\n",
    "        if state[i] != 0:\n",
    "            index_of_element = i\n",
    "            break\n",
    "\n",
    "    bits = bin(index_of_element)\n",
    "    n = int(np.log(len(state))/np.log(2) + 2)\n",
    "    if len(bits) == n:\n",
    "        bits = bits[2:2+k]\n",
    "    elif len(bits) == n-1:\n",
    "        bits = '0' + bits[2:2+k-1]\n",
    "    elif len(bits) == n-2:\n",
    "        bits = '00' + bits[2:2+k-2]\n",
    "    else:\n",
    "        bits = '000' + bits[2:2+k-3]\n",
    "    \n",
    "    for i in range(0,k):\n",
    "        if len(bits) < k:\n",
    "            bits = bits + '0'\n",
    "        else:\n",
    "            break\n",
    "    return bits\n",
    "\n",
    "state = np.kron(zero, np.kron(one, np.kron(one, np.kron(zero, one))))\n",
    "full_state_to_logical_state(state, 5)"
   ]
  },
  {
   "cell_type": "markdown",
   "id": "a787d9c1",
   "metadata": {},
   "source": [
    "### We will now take all of the code above and demonstrate the 3 qubit correction code"
   ]
  },
  {
   "cell_type": "code",
   "execution_count": 828,
   "id": "12ffde06",
   "metadata": {
    "scrolled": true
   },
   "outputs": [
    {
     "name": "stdout",
     "output_type": "stream",
     "text": [
      "Bit flip error occured on qubit 1\n",
      "Error State:      [0 0 0 0 0 0 0 0 0 0 0 0 0 0 0 0 0 0 0 0 0 0 1 0 0 0 0 0 0 0 0 0]\n",
      "Corrected State:  [0 0 0 0 0 0 0 0 0 0 0 0 0 0 0 0 0 0 0 0 0 0 0 0 0 0 0 0 0 0 1 0]\n",
      "Error logical state:      101\n",
      "Corrected logical state:  111\n"
     ]
    }
   ],
   "source": [
    "# Our initial single qubit state (Psi) # |0> or |1>\n",
    "initial_psi = np.array([0, 1]) \n",
    "\n",
    "# Initialize our 3 qubit logical state and apply an X error\n",
    "initial_state = three_qubit_initialize_logical_state(initial_psi)[0] # Initialize our 3 qubit logical state\n",
    "error_state = three_qubit_random_qubit_x_error(initial_state)[0] # Apply a random X error to one of our 3 qubits\n",
    "# Now we can apply the CNOT gates to combine our 3 qubit logical state with the 2 syndrome ancillas\n",
    "full_error_state = three_qubit_extend_system(error_state)\n",
    "\n",
    "\n",
    "# Next we correct the final state of our system\n",
    "corrected_state = three_qubit_correct_full_x_error(full_error_state)\n",
    "print('Error State:     ', full_error_state.astype(int))\n",
    "print('Corrected State: ', corrected_state.astype(int))\n",
    "\n",
    "# Output the 3 qubit logical state with the error\n",
    "print('Error logical state:     ', full_state_to_logical_state(full_error_state, 3))\n",
    "# Output our corrected 3 qubitlogical state\n",
    "print('Corrected logical state: ',full_state_to_logical_state(corrected_state, 3))"
   ]
  },
  {
   "cell_type": "markdown",
   "id": "a5a05e2d",
   "metadata": {},
   "source": [
    "### To output the corrected states in a superposition using $\\alpha\\vert0\\rangle_L + \\beta\\vert1\\rangle_L$ we redefine our logical state conversion function to allow for this:\n"
   ]
  },
  {
   "cell_type": "code",
   "execution_count": 829,
   "id": "1273c5c9",
   "metadata": {},
   "outputs": [],
   "source": [
    "# Maybe add in n number of qubits so it works for any system. (only works for max of 5 right now)\n",
    "def full_state_to_logical_state(state, k):\n",
    "# state: the full logical state of the qubit system you wish to reduce\n",
    "# k: the number of qubits you wish to reduce the system to (must be less than the full system size)\n",
    "    index_of_element = np.array([])\n",
    "    for i in range(state.size):\n",
    "        if state[i] != 0:\n",
    "            index_of_element = np.append(index_of_element, i)\n",
    "    \n",
    "    n = int(np.log(len(state))/np.log(2) + 2)\n",
    "    log_bit = np.array([])\n",
    "    for j in range(index_of_element.size):\n",
    "        bits = bin(index_of_element[j].astype(int))\n",
    "        if len(bits) == n:\n",
    "            log_bit = np.append(log_bit, bits[2:2+k])\n",
    "        elif len(bits) == n-1:\n",
    "            log_bit = np.append(log_bit, '0' + bits[2:2+k-1])\n",
    "        elif len(bits) == n-2:\n",
    "            log_bit = np.append(log_bit, '00' + bits[2:2+k-2])\n",
    "        elif len(bits) == n-3:\n",
    "            log_bit = np.append(log_bit, '000' + bits[2:2+k-3])\n",
    "        else:\n",
    "            log_bit = np.append(log_bit, '0000' + bits[2:2+k-4])\n",
    "    for i in range(0,k):\n",
    "        if len(bits) < k:\n",
    "            bits = bits + '0'\n",
    "        else:\n",
    "            break\n",
    "\n",
    "    return log_bit, index_of_element, state\n"
   ]
  },
  {
   "cell_type": "markdown",
   "id": "79a2d904",
   "metadata": {},
   "source": [
    "### Running our 3 qubit code again but with our initial state being some $\\alpha\\vert0\\rangle_L + \\beta\\vert1\\rangle_L$"
   ]
  },
  {
   "cell_type": "code",
   "execution_count": 830,
   "id": "a6193d58",
   "metadata": {},
   "outputs": [
    {
     "name": "stdout",
     "output_type": "stream",
     "text": [
      "Bit flip error occured on qubit 0\n",
      "Full system error logical state:      0.7071067811865475 01111 0.7071067811865475 10011\n",
      "Full system corrected logical state:  0.7071067811865475 00011 0.7071067811865475 11111\n",
      "Error logical state:      0.7071067811865475 011 0.7071067811865475 100\n",
      "Corrected logical state:  0.7071067811865475 000 0.7071067811865475 111\n"
     ]
    }
   ],
   "source": [
    "# Our initial single qubit state (Psi) # alpha |0>  + beta |1>\n",
    "initial_psi = 1/np.sqrt(2)* np.array([1, 1]) \n",
    "# initial_psi = np.array([0, 1])\n",
    "\n",
    "# Initialize our 3 qubit logical state and apply an X error\n",
    "initial_state = three_qubit_initialize_logical_state(initial_psi)[0] # Initialize our 3 qubit logical state\n",
    "error_state = three_qubit_random_qubit_x_error(initial_state)[0] # Apply a random X error to one of our 3 qubits\n",
    "# Now we can apply the CNOT gates to combine our 3 qubit logical state with the 2 syndrome ancillas\n",
    "full_error_state = three_qubit_extend_system(error_state)\n",
    "\n",
    "\n",
    "# Next we correct the final state of our system\n",
    "full_corrected_state = correct_for_error(full_error_state)\n",
    "\n",
    "\n",
    "# Output the 5 qubit logical state with the error\n",
    "error_logical_bits, error_index, error_state = full_state_to_logical_state(full_error_state, 5)\n",
    "if len(error_index) < 2:\n",
    "    print('Full system error logical state:     ', error_state[error_index[0].astype(int)], error_logical_bits[0])\n",
    "else:\n",
    "    print('Full system error logical state:     ', error_state[error_index[0].astype(int)], error_logical_bits[0], \n",
    "          error_state[error_index[1].astype(int)], error_logical_bits[1])\n",
    "\n",
    "# Output our corrected 5 qubit logical state\n",
    "corrected_logical_bits, corrected_index, corrected_state = full_state_to_logical_state(full_corrected_state, 5)\n",
    "if len(corrected_index) < 2:\n",
    "    print('Full system corrected logical state: ', corrected_state[corrected_index[0].astype(int)], corrected_logical_bits[0])\n",
    "else:\n",
    "    print('Full system corrected logical state: ', corrected_state[corrected_index[0].astype(int)], corrected_logical_bits[0], \n",
    "          corrected_state[corrected_index[1].astype(int)], corrected_logical_bits[1])\n",
    "\n",
    "\n",
    "# Output the 3 qubit logical state with the error\n",
    "error_logical_bits, error_index, error_state = full_state_to_logical_state(error_state, 3)\n",
    "if len(error_index) < 2:\n",
    "    print('Error logical state:     ', error_state[error_index[0].astype(int)], error_logical_bits[0])\n",
    "else:\n",
    "    print('Error logical state:     ', error_state[error_index[0].astype(int)], error_logical_bits[0], \n",
    "          error_state[error_index[1].astype(int)], error_logical_bits[1])\n",
    "# Output our corrected 3 qubit logical state\n",
    "corrected_logical_bits, corrected_index, corrected_state = full_state_to_logical_state(full_corrected_state, 3)\n",
    "if len(corrected_index) < 2:\n",
    "    print('Corrected logical state: ', corrected_state[corrected_index[0].astype(int)], corrected_logical_bits[0])\n",
    "else:\n",
    "    print('Corrected logical state: ', corrected_state[corrected_index[0].astype(int)], corrected_logical_bits[0], \n",
    "          corrected_state[corrected_index[1].astype(int)], corrected_logical_bits[1])\n"
   ]
  },
  {
   "cell_type": "code",
   "execution_count": null,
   "id": "c968579a",
   "metadata": {},
   "outputs": [],
   "source": [
    "# - - - - - - - - - IN PROGRESS - - - - - - - - - - #"
   ]
  },
  {
   "cell_type": "markdown",
   "id": "fa9ba04e",
   "metadata": {},
   "source": [
    "## A more physically realistic example:\n",
    "#### Next we will consider a different and more physically realistic example by assuming that the errors acting on the qubits are coherent rotations in the form $U = e^{i\\epsilon\\theta_x}$ on each qubit and $\\epsilon << 1$ will be assumed\n",
    "\n",
    "#### The coherent rotations are used in order to be able to represent the state as a state vector rather than having to move to the density matrix.\n",
    "\n",
    "#### Lets assume each qubit experiences the same error: $\\vert\\psi\\rangle_E = E\\vert\\psi\\rangle$ , where \n",
    "$$ E = U^{\\otimes3} = (cos(\\epsilon)\\sigma_I + isin(\\epsilon)\\sigma_x)^{\\otimes3}$$ $$= c_0\\sigma_I\\sigma_I\\sigma_I + c_1(\\sigma_x\\sigma_I\\sigma_I + \\sigma_I\\sigma_x\\sigma_I + \\sigma_I\\sigma_I\\sigma_x) + c_2(\\sigma_x\\sigma_x\\sigma_I + \\sigma_I\\sigma_x\\sigma_x + \\sigma_x\\sigma_I\\sigma_x) + c_3\\sigma_x\\sigma_x\\sigma_x$$\n",
    "#### Where $$ c_0 = cos^3(\\epsilon), \\quad c_1 = icos^2(\\epsilon)sin(\\epsilon), \\quad c_2 = -cos(\\epsilon)sin^2(\\epsilon), \\quad c_3 = -isin^3(\\epsilon)$$\n",
    "\n",
    "#### Now we can run our QEC using the 2 ancilla qubits: \n",
    "$$ U_{QEC}(E\\vert\\psi\\rangle_L\\vert00\\rangle) = U_{QEC}\\biggl(\\biggl( c_0\\sigma_I\\sigma_I\\sigma_I + c_1 (\\sigma_x\\sigma_I\\sigma_I + \\sigma_I\\sigma_x\\sigma_I + \\sigma_I\\sigma_I\\sigma_x) + c_2 (\\sigma_x\\sigma_x\\sigma_I + \\sigma_I\\sigma_x\\sigma_x + \\sigma_x\\sigma_I\\sigma_x) + c_3\\sigma_x\\sigma_x\\sigma_x\\biggr)\\vert00\\rangle\\biggr) $$\n",
    "$$ = c_0\\sigma_I\\sigma_I\\sigma_I\\vert00\\rangle + c_1\\sigma_x\\sigma_I\\sigma_I\\vert11\\rangle + c_1\\sigma_I\\sigma_x\\sigma_I\\vert10\\rangle + c_1\\sigma_I\\sigma_I\\sigma_x\\vert01\\rangle + c_2\\sigma_x\\sigma_x\\sigma_I\\vert10\\rangle + c_2\\sigma_I\\sigma_x\\sigma_x\\vert11\\rangle + c_2\\sigma_x\\sigma_I\\sigma_x\\vert01\\rangle + c_3\\sigma_x\\sigma_x\\sigma_x\\vert00\\rangle $$\n",
    "\n",
    "#### Next we measure the ancilla block and apply the correction. As we can see in the table below, after each correction we have a superposition of a logically correct state and a logically flipped state. "
   ]
  },
  {
   "cell_type": "code",
   "execution_count": 24,
   "id": "20bbd466",
   "metadata": {
    "scrolled": true
   },
   "outputs": [
    {
     "name": "stdout",
     "output_type": "stream",
     "text": [
      "+---------------------+-----------------------------------+\n",
      "| Ancilla Measurement |          Corrected State          |\n",
      "+---------------------+-----------------------------------+\n",
      "|         |00⟩        | c_0|ψ⟩_L + c_3 σ_x σ_x σ_x |ψ⟩_L  |\n",
      "|         |11⟩        |  c_1|ψ⟩_L + c_2 σ_x σ_x σ_x |ψ⟩_L |\n",
      "|         |10⟩        |  c_1|ψ⟩_L + c_2 σ_x σ_x σ_x |ψ⟩_L |\n",
      "|         |01⟩        |  c_1|ψ⟩_L + c_2 σ_x σ_x σ_x |ψ⟩_L |\n",
      "+---------------------+-----------------------------------+\n"
     ]
    }
   ],
   "source": [
    "ancilla_measurement_table = PrettyTable([\"Ancilla Measurement\", \"Corrected State\"])\n",
    " \n",
    "ancilla_measurement_table.add_row([\"|00⟩\", \"c_0|ψ⟩_L + c_3 σ_x σ_x σ_x |ψ⟩_L \"])\n",
    "ancilla_measurement_table.add_row([\"|11⟩\", \"c_1|ψ⟩_L + c_2 σ_x σ_x σ_x |ψ⟩_L\"])\n",
    "ancilla_measurement_table.add_row([\"|10⟩\", \"c_1|ψ⟩_L + c_2 σ_x σ_x σ_x |ψ⟩_L\"])\n",
    "ancilla_measurement_table.add_row([\"|01⟩\", \"c_1|ψ⟩_L + c_2 σ_x σ_x σ_x |ψ⟩_L\"])\n",
    " \n",
    "print(ancilla_measurement_table)"
   ]
  },
  {
   "cell_type": "markdown",
   "id": "24455609",
   "metadata": {},
   "source": [
    "### Calculating the fidelity associated with each term:\n",
    "\n",
    "#### Fidelity without any error correction:\n",
    "#### $$F_{UNENCODED} = \\vert\\langle\\psi\\vert U \\vert\\psi\\rangle\\vert^2 = \\vert\\biggl(\\alpha\\langle0_L\\vert + \\beta\\langle1\\vert_L \\biggr)\\biggl((cos(\\epsilon) + isin(\\epsilon)\\alpha\\vert0\\rangle_L + (cos(\\epsilon) + isin(\\epsilon)\\beta\\vert1\\rangle_L\\biggr)\\vert^2 $$ $$= \\vert\\alpha^2(cos(\\epsilon) + isin(\\epsilon)) + \\beta^2(cos(\\epsilon) + isin(\\epsilon)\\vert^2 = \\vert(\\alpha^2 + \\beta^2)(cos(\\epsilon) + isin(\\epsilon))\\vert^2 = \\biggl(\\vert\\alpha\\vert^2 + \\vert\\beta\\vert^2\\biggr)^2cos^2(\\epsilon) + \\biggl(\\alpha\\beta^* + \\alpha^*\\beta\\biggr)^2sin^2(\\epsilon)$$\n",
    "\n",
    "#### Now lets let $\\vert\\psi\\rangle_L = \\vert0\\rangle_L$ or $\\vert1\\rangle_L$, lets say $\\vert0\\rangle_L$ in this case. so now we have either $\\alpha = 1$ and $\\beta = 0$ or $\\alpha = 0$ and $\\beta = 1$ (the 2nd term above is 0 and the first goes to $cos^2(\\epsilon)$. Thus using small angle approximation $(\\epsilon<<1)$ we can see that $ F_{UNENCODED} = cos^2(\\epsilon) \\approx 1-\\epsilon^2$\n",
    "\n",
    "#### Fidelity after error correction:\n",
    "$$ F_{NO\\space ERROR\\space DETECTED} = \\frac{\\vert Desired\\space State\\vert^2}{\\vert Desired\\space State\\vert^2 + \\vert Error\\space State\\vert^2} = \\frac{\\vert c_0 \\vert^2}{\\vert c_0\\vert^2 + \\vert c_3\\vert^2} = \\frac{cos^6(\\epsilon)}{cos^6(\\epsilon) + sin^6(\\epsilon)} \\approx 1 - \\epsilon^6$$\n",
    "\n",
    "\n",
    "$$ F_{ERROR\\space DETECTED} = \\frac{\\vert Desired\\space State\\vert^2}{\\vert Desired\\space State\\vert^2 + \\vert Error\\space State\\vert^2} = \\frac{\\vert c_1 \\vert^2}{\\vert c_1\\vert^2 + \\vert c_2\\vert^2} = \\frac{cos^4(\\epsilon)sin^2(\\epsilon)}{cos^4(\\epsilon)sin^2(\\epsilon) + cos^2(\\epsilon)sin^4(\\epsilon)} \\approx 1 - \\epsilon^2$$\n",
    "\n",
    "\n",
    "#### As we can see above, the fidelity when no error is detected the error state is surpressed from $O(\\epsilon^2) to O(\\epsilon^6)$ and fidelity increases, while when detecting an error we can see that the error state remains the same and so does our fidelity compared to when we do not encode the system using syndrome ancilla.\n",
    "#### Since $\\epsilon^2 << 1$ we can see that most of the time we will not detect an error, thus our overall fidelity will improve.\n",
    "#### It is important to note that we will never be able to achieve 100% fidelity simply because the final logical state will always contain some superposition (mixture) of the desired state and error state when dealing with coherent (incoherent) errors.\n",
    "\n",
    "#### We can also calculate the probability of having each of these outcomes occur. This can be done by using the magnitude of the resulting logical states after the round of error correction since we know that the probability of being in a certain state say $\\vert0\\rangle$ is $P(\\vert0\\rangle) = \\alpha^2$ and for $\\vert1\\rangle$ is $P(\\vert1\\rangle) = \\beta^2$ when $\\vert\\psi\\rangle = \\alpha\\vert0\\rangle + \\beta\\vert1\\rangle$.\n",
    "\n",
    "#### Thus for no error being detected we have a probability of\n",
    "$$ P_{NO\\space ERROR\\space DETECTED} = \\vert cos^3(\\epsilon) - isin^3(\\epsilon)\\vert^2 = cos^6(\\epsilon) + sin^6(\\epsilon) \\approx 1 - 3\\epsilon^2 + O(\\epsilon^4)$$\n",
    "#### And our probability of detecting an error is \n",
    "$$ P_{ERROR\\space DETECTED} = 3 \\vert icos^2(\\epsilon)sin(\\epsilon) - cos(\\epsilon)sin^2(\\epsilon)\\vert^2 = 3 ( cos^4(\\epsilon)sin^2(\\epsilon) + cos^2(\\epsilon)sin^4(\\epsilon)) \\approx 3\\epsilon^2 + O(\\epsilon^4)$$"
   ]
  },
  {
   "cell_type": "markdown",
   "id": "9d1f44f2",
   "metadata": {},
   "source": [
    "### Below we implement this error model to the 3 qubit code to be able to see how our error correction works now that we have a more realistic error."
   ]
  },
  {
   "cell_type": "code",
   "execution_count": 831,
   "id": "b5ef5329",
   "metadata": {
    "scrolled": false
   },
   "outputs": [],
   "source": [
    "def three_qubit_coherent_x_rotation_error(logical_state, epsilon):\n",
    "    # logical_state: state of the logical qubit before error occurs\n",
    "    # epsilon: error constant in a coherent rotation error\n",
    "    \n",
    "    U = np.cos(epsilon) * sigma_I + 1j*np.sin(epsilon) * sigma_x # Create the Unitary error operator \n",
    "    E = np.kron(U, np.kron(U, U)) # Create the Error operator that will act on our logical qubit\n",
    "    errored_state = np.dot(E, logical_state) # Apply error\n",
    "    return errored_state, E, U\n",
    "\n",
    "# initial_state = three_qubit_initialize_logical_state(initial_psi)[0]\n",
    "# three_qubit_coherent_x_rotation_error(initial_state, 0.05)[0]\n",
    "# U = np.cos(0.05) * sigma_I + 1j*np.sin(0.05) * sigma_x\n",
    "# E = np.kron(U, np.kron(U, U))\n",
    "# print(np.shape(E))\n",
    "# print(np.shape(initial_state))\n",
    "# print(np.shape(np.dot(E, initial_state)))\n",
    "\n",
    "def three_qubit_detect_error_location_from_logical_state(logical_bits):\n",
    "    # logical_bits: set of 5 qubits to detect errors with 2 ancilla within the 5\n",
    "    \n",
    "    error_index = -1\n",
    "    if ((logical_bits[3] == '1') and (logical_bits[4] == '1')):\n",
    "        error_index = 0\n",
    "    elif ((logical_bits[3] == '1') and (logical_bits[4] == '0')):\n",
    "        error_index = 1\n",
    "    elif ((logical_bits[3] == '0') and (logical_bits[4] == '1')):\n",
    "        error_index = 2\n",
    "    elif(logical_bits[3] and logical_bits[4] == '0'):\n",
    "        return error_index, print(\"No bit flip error occured.\")\n",
    "    \n",
    "    return error_index, print(\"Bit flip error occured on qubit\", error_index )\n",
    "\n",
    "# state = np.kron(zero, np.kron(one, np.kron(one, np.kron(one, zero))))\n",
    "# s = full_state_to_logical_state(state, 5)[0][0]\n",
    "# print(s)\n",
    "\n",
    "from numpy.linalg import inv\n",
    "def three_qubit_correct_coherent_x_error(errored_logical_states, error_state, U, k):\n",
    "    # errored_logical_states: array of logical states that contain errors\n",
    "    # error_state: the state that makes up the logically errored states\n",
    "    # U: coherent error operator that acts on each qubit\n",
    "    # k: number of qubits in your system including ancilla\n",
    "    \n",
    "#     logical_corrected_states = np.array([[]])\n",
    "#     corrected_states = np.array([[]])\n",
    "    for i in range(0,len(errored_logical_states)):\n",
    "        qubit_index = three_qubit_detect_error_location_from_logical_state(errored_logical_states[i])[0]\n",
    "        if qubit_index == 0:\n",
    "            corrected_state = np.dot(np.kron(inv(U), np.identity(16)), error_state)\n",
    "            corrected_state[np.abs(corrected_state) < 1e-11] = 0\n",
    "\n",
    "            if i == 0:\n",
    "                corrected_states = np.array([corrected_state])\n",
    "                logical_corrected_states = np.array([full_state_to_logical_state(corrected_state, k)[0]])\n",
    "            else:\n",
    "                corrected_states = np.append(corrected_states, [corrected_state])\n",
    "                logical_corrected_states = np.append(logical_corrected_states,\n",
    "                                                     [full_state_to_logical_state(corrected_state, k)[0]])\n",
    "        elif qubit_index == 1:\n",
    "            corrected_state = np.dot(np.kron(np.identity(2), np.kron(inv(U), np.identity(8))), error_state)\n",
    "            corrected_state[np.abs(corrected_state) < 1e-10] = 0\n",
    "\n",
    "            if i == 0:\n",
    "                corrected_states = np.array([corrected_state])\n",
    "                logical_corrected_states = np.array([full_state_to_logical_state(corrected_state, k)[0]])\n",
    "            else:\n",
    "                corrected_states = np.append(corrected_states, [corrected_state])\n",
    "                logical_corrected_states = np.append(logical_corrected_states,\n",
    "                                                     [full_state_to_logical_state(corrected_state, k)[0]])\n",
    "        elif qubit_index == 2:\n",
    "            corrected_state = np.dot(np.kron(np.identity(4), np.kron(inv(U), np.identity(4))), error_state)\n",
    "            corrected_state[np.abs(corrected_state) < 1e-10] = 0\n",
    "            \n",
    "            if i == 0:\n",
    "                corrected_states = np.array([corrected_state])\n",
    "                logical_corrected_states = np.array([full_state_to_logical_state(corrected_state, k)[0]])\n",
    "            else: \n",
    "                corrected_states = np.append(corrected_states, [corrected_state])\n",
    "                logical_corrected_states = np.append(logical_corrected_states,\n",
    "                                                     [full_state_to_logical_state(corrected_state, k)[0]])\n",
    "        else:\n",
    "            corrected_state = error_state\n",
    "            corrected_state[np.abs(corrected_state) < 1e-10] = 0\n",
    "           \n",
    "            if i == 0:\n",
    "                corrected_states = np.array([corrected_state])\n",
    "                logical_corrected_states = np.array([full_state_to_logical_state(corrected_state,k)[0]])\n",
    "            else:\n",
    "                corrected_states = np.append(corrected_states, [corrected_state])\n",
    "                logical_corrected_states = np.append(logical_corrected_states,\n",
    "                                                     [full_state_to_logical_state(corrected_state, k)[0]])\n",
    "#     corrected_states = np.reshape(corrected_states, [8, 32])\n",
    "#     final_corrected_state = np.zeros_like([[8],[32]])\n",
    "#     for i in range(0,7):\n",
    "#         final_corrected_state = final_corrected_state + corrected_states[i]\n",
    "        \n",
    "    return logical_corrected_states, corrected_states\n",
    "\n",
    "# three_qubit_detect_error_location_from_logical_state(s)"
   ]
  },
  {
   "cell_type": "code",
   "execution_count": 832,
   "id": "31ee49ac",
   "metadata": {
    "scrolled": false
   },
   "outputs": [],
   "source": [
    "# Maybe add in n number of qubits so it works for any system. (only works for max of 5 right now)\n",
    "def full_state_to_logical_state(state, k):\n",
    "# state: the full logical state of the qubit system you wish to reduce\n",
    "# k: the number of qubits you wish to reduce the system to (must be less than the full system size)\n",
    "    \n",
    "    index_of_element = np.array([]) # Used to know the index to create the bit string representation of the 32x1 array\n",
    "    \n",
    "    # Add all nonzero indices to an array \n",
    "    for i in range(0, state.size):\n",
    "        if (np.abs(state[i]) != 0): # used as a threashold to account for small rounding errors made by python\n",
    "            index_of_element = np.append(index_of_element, i)\n",
    "    \n",
    "    n = int(np.log(len(state))/np.log(2) + 2) #Number of bits needed to represent array\n",
    "    log_bit = np.array([]) # An array to hold the logical bits\n",
    "    # Used to add logical bits to the array of logical bits\n",
    "    for j in range(index_of_element.size):\n",
    "        bits = bin(index_of_element[j].astype(int))\n",
    "        if len(bits) == n:\n",
    "            log_bit = np.append(log_bit, bits[2:2+k])\n",
    "        elif len(bits) == n-1:\n",
    "            log_bit = np.append(log_bit, '0' + bits[2:2+k-1])\n",
    "        elif len(bits) == n-2:\n",
    "            log_bit = np.append(log_bit, '00' + bits[2:2+k-2])\n",
    "        elif len(bits) == n-3:\n",
    "            log_bit = np.append(log_bit, '000' + bits[2:2+k-3])\n",
    "        elif len(bits) == n-4:\n",
    "            log_bit = np.append(log_bit, '0000' + bits[2:2+k-3])\n",
    "    \n",
    "    # Used to correctly output the logical bits with zeros if needed at the end\n",
    "    for i in range(0,k):\n",
    "        if len(bits) < k:\n",
    "            bits = bits + '0'\n",
    "        else:\n",
    "            break\n",
    "\n",
    "#     state[np.abs(state) < 1e-10] = 0 # used as a threashold to account for small rounding errors made by python\n",
    "    return log_bit, index_of_element, state"
   ]
  },
  {
   "cell_type": "code",
   "execution_count": null,
   "id": "afe62097",
   "metadata": {},
   "outputs": [],
   "source": []
  },
  {
   "cell_type": "code",
   "execution_count": 833,
   "id": "aa766e8c",
   "metadata": {
    "scrolled": false
   },
   "outputs": [
    {
     "name": "stdout",
     "output_type": "stream",
     "text": [
      "[ 7.06894677e-01-5.88647150e-22j  7.07012505e-05-4.97376804e-23j\n",
      "  7.07012505e-05-4.97376804e-23j  7.07012505e-05-4.35119086e-24j\n",
      " -7.07012505e-05-7.06918234e-03j -7.07012505e-05+7.06918234e-03j\n",
      "  7.07012505e-05-4.35119086e-24j  7.07012505e-05+1.41901637e-22j\n",
      " -7.07012505e-05-7.06918234e-03j  7.07012505e-05-4.35119086e-24j\n",
      " -7.07012505e-05+7.06918234e-03j  7.07012505e-05+1.41901637e-22j\n",
      " -7.07012505e-05-7.06918234e-03j  7.07012505e-05+3.23481495e-22j\n",
      "  7.07012505e-05+3.23481495e-22j -7.07012505e-05+7.06918234e-03j\n",
      " -7.07012505e-05-7.06918234e-03j  7.07012505e-05-4.35119086e-24j\n",
      "  7.07012505e-05+1.01527928e-22j -7.07012505e-05+7.06918234e-03j\n",
      " -7.07012505e-05-7.06918234e-03j  7.07012505e-05+3.23481495e-22j\n",
      " -7.07012505e-05+7.06918234e-03j  7.07012505e-05+2.96512031e-22j\n",
      " -7.07012505e-05-7.06918234e-03j -7.07012505e-05+7.06918234e-03j\n",
      "  7.07012505e-05+3.23481495e-22j  7.07012505e-05+2.96512031e-22j\n",
      "  7.06894677e-01-6.28018523e-22j  7.07012505e-05+2.79737898e-22j\n",
      "  7.07012505e-05+2.79737898e-22j  7.07012505e-05+3.13422035e-22j]\n",
      "['00000' '00001' '00010' '00011' '00100' '00101' '00110' '00111' '01000'\n",
      " '01001' '01010' '01011' '01100' '01101' '01110' '01111' '10000' '10001'\n",
      " '10010' '10011' '10100' '10101' '10110' '10111' '11000' '11001' '11010'\n",
      " '11011' '11100' '11101' '11110' '11111']\n",
      "32\n"
     ]
    }
   ],
   "source": [
    "error_state, E, U = three_qubit_coherent_x_rotation_error(initial_state, epsilon) # Apply a coherent error to each of our 3 qubits\n",
    "\n",
    "# Now we can apply the CNOT gates to combine our 3 qubit logical state with the 2 syndrome ancillas\n",
    "full_error_state = three_qubit_extend_system(error_state)\n",
    "\n",
    "# corrected_state = np.dot(np.kron(inv(U), np.kron(inv(U), np.kron(inv(U), np.identity(4)))), full_error_state)\n",
    "corrected_state = np.dot(np.kron(inv(E), np.identity(4)), full_error_state)\n",
    "# corrected_state[np.abs(corrected_state) < 1e-10] = 0\n",
    "print(corrected_state)\n",
    "\n",
    "logical_bits, index, state = full_state_to_logical_state(corrected_state, 5)\n",
    "# print(np.abs(corrected_state) > 1e-5)\n",
    "print(logical_bits)\n",
    "print(len(logical_bits))"
   ]
  },
  {
   "cell_type": "code",
   "execution_count": 834,
   "id": "7e1810d3",
   "metadata": {
    "scrolled": true
   },
   "outputs": [
    {
     "name": "stdout",
     "output_type": "stream",
     "text": [
      "- - - no error detected states - - -\n",
      "(0.7068946774349542-5.886471498877665e-22j) 00000\n",
      "(-7.070125053105598e-05-0.00706918234462601j) 00100\n",
      "(-7.070125053105598e-05-0.00706918234462601j) 01000\n",
      "(-7.070125053105604e-05-0.007069182344626007j) 01100\n",
      "(-7.070125053105598e-05-0.00706918234462601j) 10000\n",
      "(-7.070125053105604e-05-0.007069182344626007j) 10100\n",
      "(-7.070125053105604e-05-0.007069182344626007j) 11000\n",
      "(0.706894677434954-6.2801852253819005e-22j) 11100\n",
      "- - - error detected at qubit 0 - - -\n",
      "(7.070125053105604e-05-4.351190857420537e-24j) 00011\n",
      "(7.070125053105604e-05+1.4190163713159348e-22j) 00111\n",
      "(7.070125053105604e-05+1.4190163713159348e-22j) 01011\n",
      "(-7.070125053105604e-05+0.00706918234462601j) 01111\n",
      "(-7.070125053105604e-05+0.007069182344626009j) 10011\n",
      "(7.070125053105602e-05+2.9651203108110993e-22j) 10111\n",
      "(7.070125053105602e-05+2.9651203108110993e-22j) 11011\n",
      "(7.070125053105602e-05+3.134220353793941e-22j) 11111\n",
      "- - - error detected at qubit 1 - - -\n",
      "(7.070125053105604e-05-4.973768039909435e-23j) 00010\n",
      "(7.070125053105604e-05-4.351190857420537e-24j) 00110\n",
      "(-7.070125053105604e-05+0.00706918234462601j) 01010\n",
      "(7.070125053105602e-05+3.234814950208377e-22j) 01110\n",
      "(7.070125053105604e-05+1.01527927549367e-22j) 10010\n",
      "(-7.070125053105604e-05+0.007069182344626009j) 10110\n",
      "(7.070125053105602e-05+3.234814950208377e-22j) 11010\n",
      "(7.070125053105601e-05+2.7973789779927777e-22j) 11110\n",
      "- - - error detected at qubit 2 - - -\n",
      "(7.070125053105604e-05-4.973768039909435e-23j) 00001\n",
      "(-7.070125053105604e-05+0.00706918234462601j) 00101\n",
      "(7.070125053105604e-05-4.351190857420537e-24j) 01001\n",
      "(7.070125053105602e-05+3.234814950208377e-22j) 01101\n",
      "(7.070125053105604e-05-4.351190857420537e-24j) 10001\n",
      "(7.070125053105602e-05+3.234814950208377e-22j) 10101\n",
      "(-7.070125053105604e-05+0.007069182344626009j) 11001\n",
      "(7.070125053105601e-05+2.7973789779927777e-22j) 11101\n"
     ]
    }
   ],
   "source": [
    "# logical_bits = logical_corrected_state\n",
    "# corrected_state = full_corrected_states\n",
    "print('- - - no error detected states - - -')\n",
    "for i in range(len(logical_bits)):\n",
    "    num = int(logical_bits[i], 2)\n",
    "    if logical_bits[i][3:5] == '00':\n",
    "        print(corrected_state[num], logical_bits[i])\n",
    "\n",
    "print('- - - error detected at qubit 0 - - -')\n",
    "for i in range(len(logical_bits)):\n",
    "    num = int(logical_bits[i], 2)\n",
    "    if logical_bits[i][3:5] == '11':\n",
    "        print(corrected_state[num], logical_bits[i])\n",
    "                \n",
    "\n",
    "print('- - - error detected at qubit 1 - - -')\n",
    "for i in range(len(logical_bits)):\n",
    "    num = int(logical_bits[i], 2)\n",
    "    if logical_bits[i][3:5] == '10':\n",
    "        print(corrected_state[num], logical_bits[i])\n",
    "    \n",
    "print('- - - error detected at qubit 2 - - -')\n",
    "for i in range(len(logical_bits)):\n",
    "    num = int(logical_bits[i], 2)\n",
    "    if logical_bits[i][3:5] == '01':\n",
    "        print(corrected_state[num], logical_bits[i])\n",
    "    "
   ]
  },
  {
   "cell_type": "code",
   "execution_count": 835,
   "id": "3faf4d35",
   "metadata": {},
   "outputs": [],
   "source": [
    "# Our initial single qubit state (Psi) # alpha |0>  + beta |1>\n",
    "# initial_psi = 1/np.sqrt(2) * np.array([1, 1]) \n",
    "initial_psi = np.array([0, 1])\n",
    "\n",
    "# Define epsilon << 1\n",
    "epsilon = 0.01\n",
    "\n",
    "# Initialize our 3 qubit logical state and apply a coherent rotation error to the logical qubit\n",
    "initial_state = three_qubit_initialize_logical_state(initial_psi)[0] # Initialize our 3 qubit logical state\n",
    "error_state, E, U = three_qubit_coherent_x_rotation_error(initial_state, epsilon) # Apply a coherent error to each of our 3 qubits\n",
    "# Now we can apply the CNOT gates to combine our 3 qubit logical state with the 2 syndrome ancillas\n",
    "full_error_state = three_qubit_extend_system(error_state)\n",
    "\n",
    "# print(error_state)\n",
    "# print(full_error_state)"
   ]
  },
  {
   "cell_type": "code",
   "execution_count": 836,
   "id": "90b20a6a",
   "metadata": {
    "scrolled": true
   },
   "outputs": [
    {
     "name": "stdout",
     "output_type": "stream",
     "text": [
      "['00000' '00101' '01010' '01111' '10011' '10110' '11001' '11100']\n",
      "[ 0.  5. 10. 15. 19. 22. 25. 28.]\n",
      "[ 0.00000000e+00-9.99950001e-07j  0.00000000e+00+0.00000000e+00j\n",
      "  0.00000000e+00+0.00000000e+00j  0.00000000e+00+0.00000000e+00j\n",
      "  0.00000000e+00+0.00000000e+00j -9.99916669e-05+0.00000000e+00j\n",
      "  0.00000000e+00+0.00000000e+00j  0.00000000e+00+0.00000000e+00j\n",
      "  0.00000000e+00+0.00000000e+00j  0.00000000e+00+0.00000000e+00j\n",
      " -9.99916669e-05+0.00000000e+00j  0.00000000e+00+0.00000000e+00j\n",
      "  0.00000000e+00+0.00000000e+00j  0.00000000e+00+0.00000000e+00j\n",
      "  0.00000000e+00+0.00000000e+00j  0.00000000e+00+9.99883338e-03j\n",
      "  0.00000000e+00+0.00000000e+00j  0.00000000e+00+0.00000000e+00j\n",
      "  0.00000000e+00+0.00000000e+00j -9.99916669e-05+0.00000000e+00j\n",
      "  0.00000000e+00+0.00000000e+00j  0.00000000e+00+0.00000000e+00j\n",
      "  0.00000000e+00+9.99883338e-03j  0.00000000e+00+0.00000000e+00j\n",
      "  0.00000000e+00+0.00000000e+00j  0.00000000e+00+9.99883338e-03j\n",
      "  0.00000000e+00+0.00000000e+00j  0.00000000e+00+0.00000000e+00j\n",
      "  9.99850009e-01+0.00000000e+00j  0.00000000e+00+0.00000000e+00j\n",
      "  0.00000000e+00+0.00000000e+00j  0.00000000e+00+0.00000000e+00j]\n"
     ]
    }
   ],
   "source": [
    "error_logical_bits, error_index, error_state = full_state_to_logical_state(full_error_state, 5)\n",
    "print(error_logical_bits)\n",
    "print(error_index)\n",
    "print(error_state)"
   ]
  },
  {
   "cell_type": "code",
   "execution_count": 837,
   "id": "f8b31777",
   "metadata": {
    "scrolled": true
   },
   "outputs": [
    {
     "name": "stdout",
     "output_type": "stream",
     "text": [
      "No bit flip error occured.\n",
      "Bit flip error occured on qubit 2\n",
      "Bit flip error occured on qubit 1\n",
      "Bit flip error occured on qubit 0\n",
      "Bit flip error occured on qubit 0\n",
      "Bit flip error occured on qubit 1\n",
      "Bit flip error occured on qubit 2\n",
      "No bit flip error occured.\n",
      " - - - - - - - - - - - - - - - - - - - - -\n",
      "error logical bits:  ['00000' '00101' '01010' '01111' '10011' '10110' '11001' '11100']\n",
      "error indices:  [ 0.  5. 10. 15. 19. 22. 25. 28.]\n",
      " - - - - - - - - - - - - - - - - - - - - -\n",
      "number of logical corrected states:  (112,)\n",
      "shape of full_corrected states:  (256,)\n",
      " - - - - - - - - - - - - - - - - - - - - -\n",
      "shape of reshaped corrected states:  (8, 32)\n",
      " - - - - - - - - - - - - - - - - - - - - -\n",
      " - - - - - - - - - - - - - - 0  - - - - - - - - - - - - - - - \n",
      "-9.999500010833198e-07j 00000\n",
      "(-9.999166691944038e-05+0j) 00101\n",
      "(-9.999166691944038e-05+0j) 01010\n",
      "0.009998833384165582j 01111\n",
      "(-9.999166691944038e-05+0j) 10011\n",
      "0.009998833384165582j 10110\n",
      "0.009998833384165582j 11001\n",
      "(0.9998500087497458+0j) 11100\n",
      "-9.999500010833198e-07j 00000\n",
      "0j 00001\n",
      "0j 00100\n",
      "(-9.999166691944038e-05+0j) 00101\n",
      "(-9.999166691944038e-05+0j) 01010\n",
      "0j 01011\n",
      " - - - - - - - - - - - - - - 1  - - - - - - - - - - - - - - - \n",
      "9.9990000399991e-07j 01110\n",
      "0.009998333446662542j 01111\n",
      "(9.998666737775746e-05+0j) 10010\n",
      "(-9.998666737775746e-05+0j) 10011\n",
      "0.009998333446662542j 10110\n",
      "9.9990000399991e-07j 10111\n",
      "-0.00999833344666254j 11000\n",
      "0.009998333446662538j 11001\n",
      "(0.9998000166659112+0j) 11100\n",
      "(9.998666737775746e-05+0j) 11101\n",
      "-9.9990000399991e-07j 00000\n",
      "0j 00010\n",
      "(-9.998666737775747e-05+0j) 00101\n",
      "0j 00111\n",
      " - - - - - - - - - - - - - - 2  - - - - - - - - - - - - - - - \n",
      "(-9.999333353332974e-09+0j) 01000\n",
      "(-9.998666737775747e-05+0j) 01010\n",
      "9.9990000399991e-07j 01101\n",
      "0.009998333446662542j 01111\n",
      "(9.998666737775746e-05+0j) 10001\n",
      "(-9.998666737775746e-05+0j) 10011\n",
      "-0.00999833344666254j 10100\n",
      "0.009998333446662538j 10110\n",
      "0.009998333446662542j 11001\n",
      "9.9990000399991e-07j 11011\n",
      "(0.9998000166659112+0j) 11100\n",
      "(9.998666737775746e-05+0j) 11110\n",
      "-9.9990000399991e-07j 00000\n",
      "0j 00011\n",
      " - - - - - - - - - - - - - - 3  - - - - - - - - - - - - - - - \n",
      "(-9.998666737775746e-05+0j) 00101\n",
      "(9.998666737775746e-05+0j) 00110\n",
      "(9.998666737775746e-05+0j) 01001\n",
      "(-9.998666737775746e-05+0j) 01010\n",
      "-0.00999833344666254j 01100\n",
      "0.009998333446662538j 01111\n",
      "(-9.999333353332974e-09+0j) 10000\n",
      "(-9.998666737775747e-05+0j) 10011\n",
      "9.9990000399991e-07j 10101\n",
      "0.009998333446662542j 10110\n",
      "0.009998333446662542j 11001\n",
      "9.9990000399991e-07j 11010\n",
      "(0.9998000166659112+0j) 11100\n",
      "(9.998666737775746e-05+0j) 11111\n",
      " - - - - - - - - - - - - - - 4  - - - - - - - - - - - - - - - \n",
      "-9.9990000399991e-07j 00000\n",
      "9.9990000399991e-07j 00011\n",
      "(-9.998666737775746e-05+0j) 00101\n",
      "(9.998666737775746e-05+0j) 00110\n",
      "(9.998666737775746e-05+0j) 01001\n",
      "(-9.998666737775746e-05+0j) 01010\n",
      "-0.00999833344666254j 01100\n",
      "0.009998333446662538j 01111\n",
      "(-9.999333353332974e-09+0j) 10000\n",
      "(-9.998666737775747e-05+0j) 10011\n",
      "9.9990000399991e-07j 10101\n",
      "0.009998333446662542j 10110\n",
      "0.009998333446662542j 11001\n",
      "9.9990000399991e-07j 11010\n",
      " - - - - - - - - - - - - - - 5  - - - - - - - - - - - - - - - \n",
      "(0.9998000166659112+0j) 11100\n",
      "0j 11111\n",
      "-9.9990000399991e-07j 00000\n",
      "9.9990000399991e-07j 00010\n",
      "(-9.998666737775746e-05+0j) 00101\n",
      "(9.998666737775746e-05+0j) 00111\n",
      "(-9.999333353332974e-09+0j) 01000\n",
      "(-9.998666737775747e-05+0j) 01010\n",
      "9.9990000399991e-07j 01101\n",
      "0.009998333446662542j 01111\n",
      "(9.998666737775746e-05+0j) 10001\n",
      "(-9.998666737775746e-05+0j) 10011\n",
      "-0.00999833344666254j 10100\n",
      "0.009998333446662538j 10110\n",
      " - - - - - - - - - - - - - - 6  - - - - - - - - - - - - - - - \n",
      "0.009998333446662538j 11001\n",
      "0j 11011\n",
      "(0.9998000166659112+0j) 11100\n",
      "0j 11110\n",
      "-9.9990000399991e-07j 00000\n",
      "9.9990000399991e-07j 00001\n",
      "(-9.999333353332974e-09+0j) 00100\n",
      "(-9.998666737775747e-05+0j) 00101\n",
      "(-9.998666737775746e-05+0j) 01010\n",
      "(9.998666737775746e-05+0j) 01011\n",
      "9.9990000399991e-07j 01110\n",
      "0.009998333446662542j 01111\n",
      "(9.998666737775746e-05+0j) 10010\n",
      "(-9.998666737775746e-05+0j) 10011\n",
      " - - - - - - - - - - - - - - 7  - - - - - - - - - - - - - - - \n",
      "0.009998833384165582j 10110\n",
      "0j 10111\n",
      "0j 11000\n",
      "0.009998833384165582j 11001\n",
      "(0.9998500087497458+0j) 11100\n",
      "0j 11101\n",
      "-9.999500010833198e-07j 00000\n",
      "(-9.999166691944038e-05+0j) 00101\n",
      "(-9.999166691944038e-05+0j) 01010\n",
      "0.009998833384165582j 01111\n",
      "(-9.999166691944038e-05+0j) 10011\n",
      "0.009998833384165582j 10110\n",
      "0.009998833384165582j 11001\n",
      "(0.9998500087497458+0j) 11100\n"
     ]
    }
   ],
   "source": [
    "# logical_corrected_state = np.array([])\n",
    "# for i in range(0,len(error_logical_bits)):\n",
    "#     logical_corrected_state = np.append(logical_corrected_state, three_qubit_correct_full_x_error(error_logical_bits[i], error_state, U, 5))\n",
    "#     print(logical_corrected_state)\n",
    "logical_corrected_state, full_corrected_states = three_qubit_correct_coherent_x_error(error_logical_bits, error_state, U, 5)\n",
    "print(' - - - - - - - - - - - - - - - - - - - - -')\n",
    "print('error logical bits: ', error_logical_bits)\n",
    "print('error indices: ', error_index)\n",
    "print(' - - - - - - - - - - - - - - - - - - - - -')\n",
    "# log = np.reshape(logical_corrected_state, [8, 14])\n",
    "# print('corrected logical bits: ', log)\n",
    "print('number of logical corrected states: ', np.shape(logical_corrected_state))\n",
    "print('shape of full_corrected states: ', np.shape(full_corrected_states))\n",
    "print(' - - - - - - - - - - - - - - - - - - - - -')\n",
    "full = np.reshape(full_corrected_states, [8, 32])\n",
    "# print(full_corrected_states)\n",
    "print('shape of reshaped corrected states: ', np.shape(full))\n",
    "# print('corrected states reshaped: ', full)\n",
    "# print(final_state)\n",
    "# print(np.shape(final_state))\n",
    "# print(full_state_to_logical_state(final_state[0], 5)[0])\n",
    "print(' - - - - - - - - - - - - - - - - - - - - -')\n",
    "\n",
    "number_rep = np.array([])\n",
    "for j in range(8):\n",
    "    print(' - - - - - - - - - - - - - -', j, ' - - - - - - - - - - - - - - - ')\n",
    "    for i in range(len(log[j])):\n",
    "        num = int(log[j][i], 2)\n",
    "        number_rep = np.append(number_rep, num)\n",
    "        print(full[j][num], log[j][i])\n",
    "    "
   ]
  },
  {
   "cell_type": "code",
   "execution_count": null,
   "id": "ebcd2c2b",
   "metadata": {},
   "outputs": [],
   "source": []
  },
  {
   "cell_type": "markdown",
   "id": "fa6c2100",
   "metadata": {},
   "source": [
    "### Now to calculate the fidelities of our system"
   ]
  },
  {
   "cell_type": "code",
   "execution_count": 796,
   "id": "78a4ab17",
   "metadata": {},
   "outputs": [
    {
     "name": "stdout",
     "output_type": "stream",
     "text": [
      "Unencoded Fidelity:  0.9999000033332889\n",
      "Encoded No Error Detected Fidelity:  0.9999999999989998 with a probability of  0.9997000399978666\n",
      "Encoded Error Detected Fidelity:  0.9999000033332889 with a probability of  0.0002999600021332724\n",
      "As you can see our probabilities add up to 1 (with some rounding):\n",
      " 0.9997000399978666  +  0.0002999600021332724  =  0.9999999999999999\n"
     ]
    }
   ],
   "source": [
    "# Unencoded Fidelity:\n",
    "F_unencoded = (np.cos(epsilon))**2\n",
    "\n",
    "# Encoded Fidelity with no error detected:\n",
    "F_no_error_detected = ((np.cos(epsilon))**6)/((np.cos(epsilon))**6 + (np.sin(epsilon))**6)\n",
    "Prob_no_error_detected = (np.cos(epsilon))**6 + (np.sin(epsilon))**6\n",
    "\n",
    "# Encoded Fidelity with error detected:\n",
    "F_error_detected = (((np.cos(epsilon))**4)*(np.sin(epsilon))**2)/(((np.cos(epsilon))**4)*(np.sin(epsilon))**2 + ((np.sin(epsilon))**4)*(np.cos(epsilon))**2)\n",
    "Prob_error_detected = 3*((np.cos(epsilon)**4 * (np.sin(epsilon))**2) + (np.sin(epsilon)**4 * (np.cos(epsilon))**2))\n",
    "\n",
    "print('Unencoded Fidelity: ', F_unencoded)\n",
    "print('Encoded No Error Detected Fidelity: ', F_no_error_detected, 'with a probability of ', Prob_no_error_detected)\n",
    "print('Encoded Error Detected Fidelity: ', F_error_detected, 'with a probability of ', Prob_error_detected)\n",
    "\n",
    "print('As you can see our probabilities add up to 1 (with some rounding):\\n', Prob_no_error_detected, ' + ', Prob_error_detected,\n",
    "     ' = ', Prob_no_error_detected + Prob_error_detected)\n"
   ]
  },
  {
   "cell_type": "markdown",
   "id": "d7f90ce7",
   "metadata": {},
   "source": [
    "### Extra resources that could be helpful"
   ]
  },
  {
   "cell_type": "markdown",
   "id": "9a3ed7cf",
   "metadata": {},
   "source": [
    "https://qiskit.org/documentation/stable/0.35/tutorials/circuits/3_summary_of_quantum_operations.html\n",
    "\n",
    "https://www.oreilly.com/library/view/qiskit-pocket-guide/9781098112462/ch01.html\n",
    "\n",
    "Fidelity:\n",
    "https://www.frontiersin.org/articles/10.3389/fphy.2022.893507/full\n",
    "\n",
    "General QEC:\n",
    "http://theory.caltech.edu/~preskill/ph229/notes/chap7.pdf"
   ]
  },
  {
   "cell_type": "code",
   "execution_count": null,
   "id": "325bd3b0",
   "metadata": {},
   "outputs": [],
   "source": []
  },
  {
   "cell_type": "markdown",
   "id": "c4907f87",
   "metadata": {},
   "source": [
    "### Attempting to 'detangle' the last 2 qubits so that we can see the new corrected logical state properly:\n",
    "#### Method for uncoupling: https://quantumcomputing.stackexchange.com/questions/9648/unentangling-a-qubit-from-a-system-can-we-convert-alpha000-rangle-beta111\n",
    "#### Measurement: https://inst.eecs.berkeley.edu/~cs191/fa14/lectures/lecture89.pdf\n",
    "\n",
    "###  ---- Done by using masking technique ----"
   ]
  },
  {
   "cell_type": "code",
   "execution_count": null,
   "id": "2257387f",
   "metadata": {},
   "outputs": [
    {
     "name": "stdout",
     "output_type": "stream",
     "text": [
      "Enter the control qubit index: 0\n",
      "Enter the target qubit index: 9\n",
      "Enter the total number of qubits in the system: 30\n"
     ]
    }
   ],
   "source": [
    "import numpy as np\n",
    "from scipy.sparse import kron, identity, csc_matrix\n",
    "\n",
    "def non_adj_CNOT(control, target, tot_qubits):\n",
    "    p = target - control  # used to index over all gates needed to compose the final gate\n",
    "    all_dots = []  # list to keep track of the components we will combine at the end\n",
    "    \n",
    "    # Indexing over the values of p to get the first half of the formula\n",
    "    for j in range(p):\n",
    "        # Sets the next component of the matrix multiplication up\n",
    "        next_dot = kron(identity(2 ** j, format='csc'), kron(cnot, identity(2 ** (p - j - 1), format='csc')))\n",
    "        \n",
    "        # Adds the components to the list\n",
    "        all_dots.append(next_dot)\n",
    "        \n",
    "    gate = all_dots[0]  # initialize the gate with the first component\n",
    "    \n",
    "    # Multiply all components together\n",
    "    for j in range(1, len(all_dots)):\n",
    "        gate = gate.dot(all_dots[j])\n",
    "    \n",
    "    # Squares the final matrix\n",
    "    final_gate = gate.dot(gate)\n",
    "    \n",
    "    # Adds the dimensions needed depending on the tot_qubits\n",
    "    n1 = control  # exponent used to tensor the left side identity matrix for our full system\n",
    "    n2 = tot_qubits - target - 1  # exponent used to tensor the right side identity matrix for our full system\n",
    "    final_total_gate = csc_matrix(kron(identity(2 ** n1, format='coo'), kron(final_gate, identity(2 ** n2, format='coo'))))\n",
    "\n",
    "    \n",
    "    return final_total_gate\n",
    "\n",
    "\n",
    "# Example usage\n",
    "control = int(input(\"Enter the control qubit index: \"))\n",
    "target = int(input(\"Enter the target qubit index: \"))\n",
    "tot_qubits = int(input(\"Enter the total number of qubits in the system: \"))\n",
    "\n",
    "result = non_adj_CNOT(control, target, tot_qubits)\n",
    "print(\"Resultant gate:\")\n",
    "print(result)\n",
    "\n"
   ]
  }
 ],
 "metadata": {
  "kernelspec": {
   "display_name": "Python 3 (ipykernel)",
   "language": "python",
   "name": "python3"
  },
  "language_info": {
   "codemirror_mode": {
    "name": "ipython",
    "version": 3
   },
   "file_extension": ".py",
   "mimetype": "text/x-python",
   "name": "python",
   "nbconvert_exporter": "python",
   "pygments_lexer": "ipython3",
   "version": "3.9.12"
  }
 },
 "nbformat": 4,
 "nbformat_minor": 5
}
