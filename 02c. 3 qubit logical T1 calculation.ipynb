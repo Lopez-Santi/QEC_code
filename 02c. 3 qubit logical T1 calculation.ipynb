{
 "cells": [
  {
   "cell_type": "code",
   "execution_count": 2,
   "id": "01b89374",
   "metadata": {},
   "outputs": [],
   "source": [
    "import numpy as np\n",
    "import random\n",
    "import matplotlib.pyplot as plt\n",
    "\n",
    "from circuit_specific.drawing_helpers import *\n",
    "from general_qec.qec_helpers import *\n",
    "from general_qec.gates import *\n",
    "from general_qec.errors import *"
   ]
  },
  {
   "cell_type": "markdown",
   "id": "b305f744",
   "metadata": {},
   "source": [
    "# 3 qubit logical T1 calculation\n",
    "\n",
    "## In this file we will restrict our 3 qubit connectivity to line connected circuit and implement our T1 and T2 error model to check for our logical T1 and T2 after running our 3 qubit correction circuit many times."
   ]
  },
  {
   "cell_type": "markdown",
   "id": "7efd250a",
   "metadata": {},
   "source": [
    "Recall the circuit for the 3 qubit error correction below"
   ]
  },
  {
   "cell_type": "code",
   "execution_count": 3,
   "id": "e5110681",
   "metadata": {},
   "outputs": [
    {
     "name": "stdout",
     "output_type": "stream",
     "text": [
      "                                    ░                            ░ \n",
      "                    |ψ⟩: ──■────────░───■─────────■──────────────░─\n",
      "                         ┌─┴─┐      ░   │         │              ░ \n",
      "                  |0⟩_0: ┤ X ├──■───░───┼────■────┼──────────────░─\n",
      "                         └───┘┌─┴─┐ ░   │    │    │              ░ \n",
      "                  |0⟩_1: ─────┤ X ├─░───┼────┼────┼────■─────────░─\n",
      "                              └───┘ ░ ┌─┴─┐┌─┴─┐  │    │  ┌─┐    ░ \n",
      "         syndrome |0⟩_0: ─────────────┤ X ├┤ X ├──┼────┼──┤M├────░─\n",
      "                                      └───┘└───┘┌─┴─┐┌─┴─┐└╥┘┌─┐ ░ \n",
      "         syndrome |0⟩_1: ───────────────────────┤ X ├┤ X ├─╫─┤M├─░─\n",
      "                                                └───┘└───┘ ║ └╥┘ ░ \n",
      "classical_measurement: 2/══════════════════════════════════╩══╩════\n",
      "                                                           0  1    \n",
      "+-----------------+---------------------------------+\n",
      "|  Error Location |   Final State, |data⟩|ancilla⟩  |\n",
      "+-----------------+---------------------------------+\n",
      "|     No Error    |  alpha|000⟩|00⟩ + beta|111⟩|00⟩ |\n",
      "|  Qubit 0 (|ψ⟩)  | alpha |100⟩|11⟩ + beta|011⟩|11⟩ |\n",
      "| Qubit 1 (|0⟩_0) | alpha |010⟩|10⟩ + beta|101⟩|10⟩ |\n",
      "| Qubit 2 (|0⟩_1) | alpha |001⟩|01⟩ + beta|110⟩|01⟩ |\n",
      "+-----------------+---------------------------------+\n"
     ]
    }
   ],
   "source": [
    "draw_three_qubit_code()"
   ]
  },
  {
   "cell_type": "markdown",
   "id": "152638bf",
   "metadata": {},
   "source": [
    "Since we implemented our 3 qubit code using functions, we will need to pull those in here but change them up a bit."
   ]
  },
  {
   "cell_type": "code",
   "execution_count": 4,
   "id": "320bf53f",
   "metadata": {},
   "outputs": [
    {
     "name": "stdout",
     "output_type": "stream",
     "text": [
      "11100 :  0.9988340150115762\n"
     ]
    }
   ],
   "source": [
    "zero = np.array([1, 0])\n",
    "one = np.array([0, 1])\n",
    "\n",
    "initial_psi = one # initialize our psi\n",
    "initial_ancilla_state = np.array([1,0]) # initializing the |0> state of the qubits\n",
    "\n",
    "# the parameters of our system\n",
    "t1 = 200 * 10**-6\n",
    "t2 = 150 * 10**-6\n",
    "tg = 20 * 10**-9\n",
    "\n",
    "# Initialize the 3 qubit logical state\n",
    "initial_logical_state = np.kron(initial_psi, np.kron(initial_ancilla_state, np.kron(\n",
    "    initial_ancilla_state, np.kron(initial_ancilla_state, initial_ancilla_state))))\n",
    "\n",
    "# Find the density matrix of our logical system\n",
    "initial_rho = np.kron(initial_logical_state, initial_logical_state[np.newaxis].conj().T)\n",
    "\n",
    "\n",
    "# Apply the CNOT gates to the kronecker product of the current 3 qubit density matrix (the gates will implement t1 and t2)\n",
    "final_rho = line_rad_CNOT(initial_rho, 0, 1, t1, t2, tg, form = 'rho') # first CNOT gate\n",
    "final_rho = line_rad_CNOT(final_rho, 1, 2, t1, t2, tg, form = 'rho') # second CNOT gate\n",
    "\n",
    "# probability of the state measurments from the density matrix are defined as Tr(p*rho)\n",
    "prob_sum = 0\n",
    "state_probs = np.array([])\n",
    "for i in range(len(final_rho)):\n",
    "    prob_sum += np.abs(final_rho[i,i])\n",
    "    state_probs = np.append(state_probs, final_rho[i,i])\n",
    "    \n",
    "print_state_info(state_probs, 5)"
   ]
  },
  {
   "cell_type": "code",
   "execution_count": 5,
   "id": "09980801",
   "metadata": {},
   "outputs": [
    {
     "name": "stdout",
     "output_type": "stream",
     "text": [
      "01100 :  0.9988340150115762\n"
     ]
    }
   ],
   "source": [
    "# apply a random x error using the density matrix\n",
    "\n",
    "# Choose the index of the qubit you want to apply the error to.\n",
    "error_index = random.randint(-1,2)\n",
    "# Apply the error to the qubit (no error may occur)\n",
    "if error_index == 0:\n",
    "    gate = np.kron(sigma_x, np.identity(2**4))\n",
    "    errored_rho = np.dot(gate, np.dot(final_rho, gate.conj().T))\n",
    "                   \n",
    "elif error_index == 1:\n",
    "    gate = np.kron(np.kron(np.identity(2), sigma_x), np.identity(2**3))\n",
    "    errored_rho = np.dot(gate, np.dot(final_rho, gate.conj().T))\n",
    "                   \n",
    "elif error_index == 2:\n",
    "    gate = np.kron(np.identity(2**2), np.kron(sigma_x, np.identity(2**2)))\n",
    "    errored_rho = np.dot(gate, np.dot(final_rho, gate.conj().T))\n",
    "\n",
    "else:\n",
    "    errored_rho = final_rho\n",
    "\n",
    "                   \n",
    "# probability of the state measurments from the density matrix are defined as Tr(p*rho)\n",
    "prob_sum = 0\n",
    "state_probs = np.array([])\n",
    "for i in range(len(errored_rho)):\n",
    "    prob_sum += np.abs(errored_rho[i,i])\n",
    "    state_probs = np.append(state_probs, errored_rho[i,i])\n",
    "    \n",
    "print_state_info(state_probs, 5)"
   ]
  },
  {
   "cell_type": "markdown",
   "id": "645b03c5",
   "metadata": {},
   "source": [
    "Now to implement the CNOT gates to couple the syndrome ancilla with the logical qubit"
   ]
  },
  {
   "cell_type": "code",
   "execution_count": 6,
   "id": "291d64e3",
   "metadata": {},
   "outputs": [
    {
     "name": "stdout",
     "output_type": "stream",
     "text": [
      "01111 :  0.9826522561370129\n"
     ]
    }
   ],
   "source": [
    "# Apply the CNOT gates needed to change the state of the syndrome ancilla \n",
    "detection_rho = line_rad_CNOT(errored_rho, 0, 3, t1, t2, tg, form = 'rho')\n",
    "detection_rho = line_rad_CNOT(detection_rho, 1, 3, t1, t2, tg, form = 'rho')\n",
    "detection_rho = line_rad_CNOT(detection_rho, 0, 4, t1, t2, tg, form = 'rho')\n",
    "detection_rho = line_rad_CNOT(detection_rho, 2, 4, t1, t2, tg, form = 'rho')\n",
    "\n",
    "# probability of the state measurments from the density matrix are defined as Tr(p*rho)\n",
    "prob_sum = 0\n",
    "state_probs = np.array([])\n",
    "for i in range(len(detection_rho)):\n",
    "    prob_sum += np.abs(detection_rho[i,i])\n",
    "    state_probs = np.append(state_probs, detection_rho[i,i])\n",
    "    \n",
    "print_state_info(state_probs, 5)"
   ]
  },
  {
   "cell_type": "markdown",
   "id": "cb34278c",
   "metadata": {},
   "source": [
    "Now detect where the error occured by measuring the two syndrom ancilla"
   ]
  },
  {
   "cell_type": "code",
   "execution_count": 7,
   "id": "f5dd35d8",
   "metadata": {},
   "outputs": [
    {
     "name": "stdout",
     "output_type": "stream",
     "text": [
      "Error occured on qubit:  0\n"
     ]
    }
   ],
   "source": [
    "logical_bits = vector_state_to_bit_state(state_probs, 5)[0][0]\n",
    "\n",
    "# Initialize error index\n",
    "error_index = -1\n",
    "\n",
    "if ((logical_bits[3] == '1') and (logical_bits[4] == '1')): # Error on qubit 0\n",
    "    error_index = 0\n",
    "elif ((logical_bits[3] == '1') and (logical_bits[4] == '0')): # Error on qubit 1\n",
    "    error_index = 1\n",
    "elif ((logical_bits[3] == '0') and (logical_bits[4] == '1')): # Error on qubit 2\n",
    "    error_index = 2\n",
    "elif(logical_bits[3] and logical_bits[4] == '0'): # No error occured\n",
    "    print(\"No bit flip error occured.\")\n",
    "\n",
    "print('Error occured on qubit: ', error_index)"
   ]
  },
  {
   "cell_type": "markdown",
   "id": "099a65b3",
   "metadata": {},
   "source": [
    "Now to correct for our error"
   ]
  },
  {
   "cell_type": "code",
   "execution_count": 8,
   "id": "afd34890",
   "metadata": {},
   "outputs": [
    {
     "name": "stdout",
     "output_type": "stream",
     "text": [
      "11111 :  0.9826522561370129\n"
     ]
    }
   ],
   "source": [
    "if error_index == 0: # Error on qubit 0\n",
    "    correction_gate = np.kron(sigma_x, np.identity(2**4))\n",
    "    corrected_rho = np.dot(correction_gate, np.dot(detection_rho, correction_gate.conj().T))\n",
    "    \n",
    "elif error_index == 1: # Error on qubit 1\n",
    "    correction_gate = np.kron(np.identity(2), np.kron(sigma_x, np.identity(2**3)))\n",
    "    corrected_rho = np.dot(correction_gate, np.dot(detection_rho, correction_gate.conj().T))\n",
    "\n",
    "    \n",
    "elif error_index == 2: # Error on qubit 2\n",
    "    correction_gate = np.kron(np.identity(2**2), np.kron(sigma_x, np.identity(2**2)))\n",
    "    corrected_rho = np.dot(correction_gate, np.dot(detection_rho, correction_gate.conj().T))\n",
    "    \n",
    "    \n",
    "else: # No error occured\n",
    "    corrected_rho = detection_rho\n",
    "                           \n",
    "# probability of the state measurments from the density matrix are defined as Tr(p*rho)\n",
    "prob_sum = 0\n",
    "state_probs = np.array([])\n",
    "for i in range(len(corrected_rho)):\n",
    "    prob_sum += np.abs(corrected_rho[i,i])\n",
    "    state_probs = np.append(state_probs, corrected_rho[i,i])\n",
    "    \n",
    "print_state_info(state_probs, 5)"
   ]
  },
  {
   "cell_type": "code",
   "execution_count": 9,
   "id": "730221d8",
   "metadata": {},
   "outputs": [
    {
     "name": "stdout",
     "output_type": "stream",
     "text": [
      "11100 :  0.9826522561370129\n"
     ]
    }
   ],
   "source": [
    "reset_state = ancilla_reset(state_probs, 2)\n",
    "print_state_info(reset_state, 5)"
   ]
  },
  {
   "cell_type": "markdown",
   "id": "312e3ee6",
   "metadata": {},
   "source": [
    "Now to calculate the logical T1 for the 3 qubit bit correction circuit"
   ]
  },
  {
   "cell_type": "code",
   "execution_count": 10,
   "id": "b95a5187",
   "metadata": {},
   "outputs": [],
   "source": [
    "def three_qubit_logical_t1_test(initial_rho, t1, t2, tg):\n",
    "    # apply a random x error using the density matrix\n",
    "    \n",
    "    # Choose the index of the qubit you want to apply the error to.\n",
    "    error_index = random.randint(-1,2)\n",
    "    # Apply the error to the qubit (no error may occur)\n",
    "    if error_index == 0:\n",
    "        gate = np.kron(sigma_x, np.identity(2**4))\n",
    "        errored_rho = np.dot(gate, np.dot(initial_rho, gate.conj().T))\n",
    "\n",
    "    elif error_index == 1:\n",
    "        gate = np.kron(np.kron(np.identity(2), sigma_x), np.identity(2**3))\n",
    "        errored_rho = np.dot(gate, np.dot(initial_rho, gate.conj().T))\n",
    "\n",
    "    elif error_index == 2:\n",
    "        gate = np.kron(np.identity(2**2), np.kron(sigma_x, np.identity(2**2)))\n",
    "        errored_rho = np.dot(gate, np.dot(initial_rho, gate.conj().T))\n",
    "\n",
    "    else:\n",
    "        errored_rho = initial_rho\n",
    "\n",
    "\n",
    "    # probability of the state measurments from the density matrix are defined as Tr(p*rho)\n",
    "    prob_sum = 0\n",
    "    state_probs = np.array([])\n",
    "    for i in range(len(errored_rho)):\n",
    "        prob_sum += np.abs(errored_rho[i,i])\n",
    "        state_probs = np.append(state_probs, errored_rho[i,i])\n",
    "\n",
    "    # Apply the CNOT gates needed to change the state of the syndrome ancilla \n",
    "    detection_rho = line_rad_CNOT(errored_rho, 0, 3, t1, t2, tg, form = 'rho')\n",
    "    detection_rho = line_rad_CNOT(detection_rho, 1, 3, t1, t2, tg, form = 'rho')\n",
    "    detection_rho = line_rad_CNOT(detection_rho, 0, 4, t1, t2, tg, form = 'rho')\n",
    "    detection_rho = line_rad_CNOT(detection_rho, 2, 4, t1, t2, tg, form = 'rho')\n",
    "\n",
    "    # probability of the state measurments from the density matrix are defined as Tr(p*rho)\n",
    "    prob_sum = 0\n",
    "    state_probs = np.array([])\n",
    "    for i in range(len(detection_rho)):\n",
    "        prob_sum += np.abs(detection_rho[i,i])\n",
    "        state_probs = np.append(state_probs, detection_rho[i,i])\n",
    "\n",
    "    logical_bits = vector_state_to_bit_state(state_probs, 5)[0][0]\n",
    "\n",
    "    # Initialize error index\n",
    "    error_index = -1\n",
    "\n",
    "    if ((logical_bits[3] == '1') and (logical_bits[4] == '1')): # Error on qubit 0\n",
    "        error_index = 0\n",
    "    elif ((logical_bits[3] == '1') and (logical_bits[4] == '0')): # Error on qubit 1\n",
    "        error_index = 1\n",
    "    elif ((logical_bits[3] == '0') and (logical_bits[4] == '1')): # Error on qubit 2\n",
    "        error_index = 2\n",
    "\n",
    "\n",
    "    if error_index == 0: # Error on qubit 0\n",
    "        correction_gate = np.kron(sigma_x, np.identity(2**4))\n",
    "        corrected_rho = np.dot(correction_gate, np.dot(detection_rho, correction_gate.conj().T))\n",
    "        corrected_rho = qubit_rad_error_matrix(corrected_rho, t1, t2, tg) # apply rad error\n",
    "\n",
    "    elif error_index == 1: # Error on qubit 1\n",
    "        correction_gate = np.kron(np.identity(2), np.kron(sigma_x, np.identity(2**3)))\n",
    "        corrected_rho = np.dot(correction_gate, np.dot(detection_rho, correction_gate.conj().T))\n",
    "        corrected_rho = qubit_rad_error_matrix(corrected_rho, t1, t2, tg) # apply rad error\n",
    "\n",
    "\n",
    "    elif error_index == 2: # Error on qubit 2\n",
    "        correction_gate = np.kron(np.identity(2**2), np.kron(sigma_x, np.identity(2**2)))\n",
    "        corrected_rho = np.dot(correction_gate, np.dot(detection_rho, correction_gate.conj().T))\n",
    "        corrected_rho = qubit_rad_error_matrix(corrected_rho, t1, t2, tg) # apply rad error\n",
    "\n",
    "\n",
    "    else: # No error occured\n",
    "        corrected_rho = detection_rho\n",
    "        corrected_rho = qubit_rad_error_matrix(corrected_rho, t1, t2, tg) # apply rad error\n",
    "\n",
    "    # probability of the state measurments from the density matrix are defined as Tr(p*rho)\n",
    "    prob_sum = 0\n",
    "    state_probs = np.array([])\n",
    "    for i in range(len(corrected_rho)):\n",
    "        prob_sum += np.abs(corrected_rho[i,i])\n",
    "        state_probs = np.append(state_probs, corrected_rho[i,i])\n",
    "\n",
    "    # reset ancilla qubits (since we have a probability of being in a state we squareroot it to find the magnitude)\n",
    "    reset_state = np.sqrt(ancilla_reset(state_probs, 2))\n",
    "\n",
    "    # now we find the density matrix of our state \n",
    "    reset_rho = np.kron(reset_state, reset_state[np.newaxis].conj().T)\n",
    "    \n",
    "    return reset_rho, prob_sum"
   ]
  },
  {
   "cell_type": "code",
   "execution_count": 11,
   "id": "2bcedc53",
   "metadata": {
    "scrolled": false
   },
   "outputs": [],
   "source": [
    "zero = np.array([1, 0])\n",
    "one = np.array([0, 1])\n",
    "\n",
    "initial_psi = one # initialize our psi\n",
    "initial_ancilla_state = np.array([1,0]) # initializing the |0> state of the qubits\n",
    "\n",
    "# the parameters of our system\n",
    "t1 = 200 * 10**-6 # 200 us\n",
    "t2 = 150 * 10**-6 # 150 us\n",
    "tg = 20 * 10**-9 # 20 ns\n",
    "\n",
    "# Initialize the 3 qubit logical state\n",
    "initial_logical_state = np.kron(initial_psi, np.kron(initial_ancilla_state, np.kron(\n",
    "    initial_ancilla_state, np.kron(initial_ancilla_state, initial_ancilla_state))))\n",
    "\n",
    "# Find the density matrix of our logical system\n",
    "rho = np.kron(initial_logical_state, initial_logical_state[np.newaxis].conj().T)\n",
    "\n",
    "\n",
    "# Apply the CNOT gates to the kronecker product of the current 3 qubit density matrix (the gates will implement t1 and t2)\n",
    "initial_rho = line_rad_CNOT(rho, 0, 1, t1, t2, tg, form = 'rho') # first CNOT gate\n",
    "initial_rho = line_rad_CNOT(initial_rho, 1, 2, t1, t2, tg, form = 'rho') # second CNOT gate\n",
    "\n",
    "all_probs = np.array([])\n",
    "count = np.array([])\n",
    "# Apply the function above 100 times to run the circuit 100 times\n",
    "for i in range(200):\n",
    "    count = np.append(count, i)\n",
    "    if i == 0:\n",
    "        reset_rho, prob_sum = three_qubit_logical_t1_test(initial_rho, t1, t2, tg)\n",
    "    else:\n",
    "        reset_rho, prob_sum = three_qubit_logical_t1_test(reset_rho, t1, t2, tg)\n",
    "    \n",
    "    all_probs = np.append(all_probs, prob_sum)\n",
    "    "
   ]
  },
  {
   "cell_type": "code",
   "execution_count": 12,
   "id": "642aef8f",
   "metadata": {},
   "outputs": [
    {
     "data": {
      "image/png": "[encoded data removed]",
      "text/plain": [
       "<Figure size 640x480 with 1 Axes>"
      ]
     },
     "metadata": {},
     "output_type": "display_data"
    }
   ],
   "source": [
    "plt.scatter(count, all_probs, s = 1)\n",
    "plt.title('5 Qubit population as a function of running 3 qubit code')\n",
    "plt.xlabel('number of iterations')\n",
    "plt.ylabel('qubit population')\n",
    "plt.axhline(y = 1/np.e, color = 'r', linestyle = '-')\n",
    "plt.axvline(x = 58, color = 'g', linestyle = '-')\n",
    "\n",
    "plt.show()"
   ]
  },
  {
   "cell_type": "markdown",
   "id": "ea24ea91",
   "metadata": {},
   "source": [
    "58 iterations is where we have logical T1\n",
    "\n",
    "each iteration is composed of 29 gates (including correction but not including initialization since that is not repeated)"
   ]
  },
  {
   "cell_type": "code",
   "execution_count": 13,
   "id": "90912db6",
   "metadata": {},
   "outputs": [
    {
     "name": "stdout",
     "output_type": "stream",
     "text": [
      "The total number of gates are  1684  with each gate taking  2e-08  seconds\n",
      " - - - - - \n",
      "Each qubit has a physical T1 and T2 of  0.00019999999999999998  and  0.00015  seconds respectivly\n",
      " - - - - - \n",
      "The total system has a Logical T1 of  3.368e-05  seconds\n"
     ]
    }
   ],
   "source": [
    "n_gates = 58 * 29 + 2 # total number of gates until population reaches 1/e\n",
    "tg # time per gate operation\n",
    "print('The total number of gates are ', n_gates, ' with each gate taking ', tg, ' seconds')\n",
    "print(' - - - - - ')\n",
    "\n",
    "print('Each qubit has a physical T1 and T2 of ', t1, ' and ', t2, ' seconds respectivly')\n",
    "print(' - - - - - ')\n",
    "\n",
    "total_time = n_gates * tg # total time until logical T1\n",
    "print('The total system has a Logical T1 of ', total_time, ' seconds')"
   ]
  },
  {
   "cell_type": "code",
   "execution_count": null,
   "id": "19a2f801",
   "metadata": {},
   "outputs": [],
   "source": []
  },
  {
   "cell_type": "markdown",
   "id": "9044ff0b",
   "metadata": {},
   "source": [
    "Now to sweep over the T1 of our physical qubits and see how that effects the logical T1 of our system"
   ]
  },
  {
   "cell_type": "code",
   "execution_count": 15,
   "id": "507be32b",
   "metadata": {},
   "outputs": [],
   "source": [
    "initial_psi = one # initialize our psi\n",
    "initial_ancilla_state = np.array([1,0]) # initializing the |0> state of the qubits\n",
    "\n",
    "# the parameters of our system\n",
    "t1 = 100 * 10**-6 # 100 us - the initial T1\n",
    "t2 = 100 * 10**-6 # 150 us - Make sure this is less than or equal to T1\n",
    "tg = 20 * 10**-9 # 20 ns\n",
    "\n",
    "# Initialize the 3 qubit logical state\n",
    "initial_logical_state = np.kron(initial_psi, np.kron(initial_ancilla_state, np.kron(\n",
    "    initial_ancilla_state, np.kron(initial_ancilla_state, initial_ancilla_state))))\n",
    "\n",
    "# Find the density matrix of our logical system\n",
    "rho = np.kron(initial_logical_state, initial_logical_state[np.newaxis].conj().T)\n",
    "all_probs = np.array([[]])\n",
    "all_counts = np.array([[]])\n",
    "all_t1 = np.array([])\n",
    "for j in range(200):\n",
    "    \n",
    "    all_t1 = np.append(all_t1, t1)\n",
    "    \n",
    "    # Apply the CNOT gates to the kronecker product of the current 3 qubit density matrix (the gates will implement t1 and t2)\n",
    "    initial_rho = line_rad_CNOT(rho, 0, 1, t1, t2, tg, form = 'rho') # first CNOT gate\n",
    "    initial_rho = line_rad_CNOT(initial_rho, 1, 2, t1, t2, tg, form = 'rho') # second CNOT gate\n",
    "\n",
    "    probs = np.array([])\n",
    "    count = np.array([])\n",
    "    # Apply the function above 100 times to run the circuit 100 times\n",
    "    for i in range(200):\n",
    "        count = np.append(count, i)\n",
    "        if i == 0:\n",
    "            reset_rho, prob_sum = three_qubit_logical_t1_test(initial_rho, t1, t2, tg)\n",
    "        else:\n",
    "            reset_rho, prob_sum = three_qubit_logical_t1_test(reset_rho, t1, t2, tg)\n",
    "\n",
    "        probs = np.append(probs, prob_sum)\n",
    "    \n",
    "    if j == 0:\n",
    "        all_probs = [probs]\n",
    "        all_counts = [count]\n",
    "    else:\n",
    "        all_probs = np.append(all_probs, [probs], axis = 0)\n",
    "        all_counts = np.append(all_counts, [count], axis = 0)\n",
    "\n",
    "    t1+= 5 * 10**-7 # add 0.5 us to T1\n"
   ]
  },
  {
   "cell_type": "code",
   "execution_count": 16,
   "id": "759c6a07",
   "metadata": {},
   "outputs": [
    {
     "data": {
      "image/png": "[encoded data removed]",
      "text/plain": [
       "<Figure size 640x480 with 2 Axes>"
      ]
     },
     "metadata": {},
     "output_type": "display_data"
    }
   ],
   "source": [
    "# Creating 2-D grid of features\n",
    "[X, Y] = np.meshgrid(all_counts[0], all_t1)\n",
    "  \n",
    "fig, ax = plt.subplots(1, 1)\n",
    "  \n",
    "Z = all_probs\n",
    "levels = np.arange(0, 1, 0.025)\n",
    "\n",
    "cp = plt.contourf(X, Y * 10**6, Z, levels)\n",
    "cbar = plt.colorbar()\n",
    "ax.set_title('Qubit population after iterations of 3 qubit code')\n",
    "ax.set_xlabel('iterations of 3 qubit code')\n",
    "ax.set_ylabel('physical t1 (us)')\n",
    "cbar.set_label('System qubit population')\n",
    "\n",
    "plt.show()"
   ]
  },
  {
   "cell_type": "code",
   "execution_count": 17,
   "id": "383784a6",
   "metadata": {},
   "outputs": [
    {
     "data": {
      "image/png": "[encoded data removed]",
      "text/plain": [
       "<Figure size 640x480 with 2 Axes>"
      ]
     },
     "metadata": {},
     "output_type": "display_data"
    }
   ],
   "source": [
    "levels = np.arange(0, 1, 1/np.e)\n",
    "\n",
    "cp = plt.contourf(X, Y * 10**6, Z, levels)\n",
    "cbar = plt.colorbar()\n",
    "ax.set_title('Qubit population after iterations of 3 qubit code')\n",
    "ax.set_xlabel('iterations of 3 qubit code')\n",
    "ax.set_ylabel('physical t1 (us)')\n",
    "cbar.set_label('System qubit population')\n",
    "\n",
    "plt.show()"
   ]
  },
  {
   "cell_type": "code",
   "execution_count": null,
   "id": "fe985506",
   "metadata": {},
   "outputs": [],
   "source": []
  }
 ],
 "metadata": {
  "kernelspec": {
   "display_name": "Python 3 (ipykernel)",
   "language": "python",
   "name": "python3"
  },
  "language_info": {
   "codemirror_mode": {
    "name": "ipython",
    "version": 3
   },
   "file_extension": ".py",
   "mimetype": "text/x-python",
   "name": "python",
   "nbconvert_exporter": "python",
   "pygments_lexer": "ipython3",
   "version": "3.10.7"
  }
 },
 "nbformat": 4,
 "nbformat_minor": 5
}
