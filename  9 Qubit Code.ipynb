{
 "cells": [
  {
   "cell_type": "markdown",
   "id": "d7d0e7ad",
   "metadata": {},
   "source": [
    "# 9-Qubit Error Correcting Code\n"
   ]
  },
  {
   "cell_type": "markdown",
   "id": "884e4dc0",
   "metadata": {},
   "source": [
    "#### In this notebook, we will show the functionality of the First Full Quantum Code.\n",
    "#### We will refer back to the 3-Qubit Code, as the 9-Qubit Code is a repetition code."
   ]
  },
  {
   "cell_type": "code",
   "execution_count": 1,
   "id": "1d3d2fe6",
   "metadata": {},
   "outputs": [
    {
     "name": "stdout",
     "output_type": "stream",
     "text": [
      "env: QISKIT_SETTINGS={}\n"
     ]
    }
   ],
   "source": [
    "import numpy as np\n",
    "\n",
    "from qec_helpers import *\n",
    "# Importing required libraries\n",
    "from qiskit import QuantumRegister, ClassicalRegister, QuantumCircuit, Aer, execute\n",
    "from qiskit.visualization import plot_histogram\n",
    "from qiskit import user_config\n",
    "from qiskit.quantum_info import partial_trace\n",
    "\n",
    "import random\n",
    "from qiskit.extensions import UnitaryGate\n",
    "\n",
    "\n",
    "\n",
    "# Visualization of circuits: Initializing backend simulators\n",
    "qasm_sim = Aer.get_backend('qasm_simulator')\n",
    "sv_sim = Aer.get_backend('statevector_simulator')\n",
    "\n",
    "# Setting mpl as default drawer\n",
    "%env QISKIT_SETTINGS {}\n",
    "user_config.set_config('circuit_drawer', 'mpl')\n",
    "\n"
   ]
  },
  {
   "cell_type": "code",
   "execution_count": 2,
   "id": "0707bfa7",
   "metadata": {},
   "outputs": [
    {
     "name": "stdout",
     "output_type": "stream",
     "text": [
      "Below we show the Pauli Operators which can be used to describe any quantum gate on an individual qubit:\n",
      "Pauli-X: \n",
      " [[0 1]\n",
      " [1 0]]\n",
      "Pauli-Y: \n",
      " [[ 0.+0.j  0.+1.j]\n",
      " [-0.-1.j  0.+0.j]]\n",
      "Pauli-Z: \n",
      " [[ 1  0]\n",
      " [ 0 -1]]\n",
      "Pauli-I: \n",
      " [[1. 0.]\n",
      " [0. 1.]]\n"
     ]
    }
   ],
   "source": [
    "# Initializing the Pauli operators\n",
    "sigma_x = np.array([[0,1],[1,0]])\n",
    "sigma_y = np.array([[0,1j],[-1j,0]])\n",
    "sigma_z = np.array([[1,0],[0,-1]])\n",
    "sigma_I = np.identity(2)\n",
    "print('Below we show the Pauli Operators which can be used to describe any quantum gate on an individual qubit:')\n",
    "print('Pauli-X: \\n', sigma_x) \n",
    "print('Pauli-Y: \\n', sigma_y)\n",
    "print('Pauli-Z: \\n', sigma_z)\n",
    "print('Pauli-I: \\n', sigma_I)"
   ]
  },
  {
   "cell_type": "markdown",
   "id": "007b5ffc",
   "metadata": {},
   "source": [
    "## 3 Qubit Code Review\n",
    "\n",
    "#### The 3 Qubit Code was shown to only be able to correct $\\sigma_x$ (Bit-Flip) Errors\n",
    "#### Only able to correct for one type of error at a time\n",
    "\n",
    "\n",
    "### For $\\sigma_z$ (Phase-Flip) Errors, does the error detection circuit signal an error?\n",
    "#### We can build a circuit that detects phase-flip instead of bit-flip errors,\n",
    "#### by instead encoding the qubits in a GHZ state in the $|±\\rangle$ basis:\n",
    "$\\alpha|0\\rangle + \\beta|1\\rangle \\rightarrow \\alpha|000\\rangle + \\beta|111\\rangle \\rightarrow \\alpha|+ + +\\rangle + \n",
    "\\beta|− − −\\rangle $\n",
    "\n"
   ]
  },
  {
   "cell_type": "markdown",
   "id": "3c7bb302",
   "metadata": {},
   "source": [
    "### Gate Operations Review ( CX and CZ ):\n",
    "\n",
    "\n",
    "\n",
    "#### The CNOT gate is typically used to establish entanglement between qubits and implement controlled operations. \n",
    "\n",
    "\n",
    "#### CNOT gate matrix representation:  $$\\begin{pmatrix}\n",
    "1 & 0 & 0 & 0 \\\\\n",
    "0 & 1 & 0 & 0 \\\\\n",
    "0 & 0 & 0 & 1 \\\\\n",
    "0 & 0 & 1 & 0\n",
    "\\end{pmatrix}$$\n",
    "\n",
    "\n",
    "#### The CZ gate, also known as the HGZ gate, is a two-qubit gate that introduces a phase shift of $\\pi$ to the qubit state. \n",
    "#### Phase Shift: Refers to a change in the timing or alignment of a wave or oscillation. \n",
    "\n",
    "\n",
    "#### The Z gate is represented by the following matrix: $$\\begin{pmatrix}\n",
    "1 & 0 & 0 & 0 \\\\\n",
    "0 & 1 & 0 & 0 \\\\\n",
    "0 & 0 & 1 & 0 \\\\\n",
    "0 & 0 & 0 & -1\n",
    "\\end{pmatrix}$$\n",
    "\n",
    "\n",
    "\n",
    "####  When applied to the $\\vert0\\rangle$ state, \n",
    "$$Z\\vert0\\rangle = \\vert0\\rangle$$\n",
    "\n",
    "#### However, when applied to the $\\vert1\\rangle$ state, the Z gate introduces a phase shift of $\\pi$ (or a phase flip) to the state.  \n",
    "$$Z\\vert1\\rangle = -\\vert1\\rangle$$\n",
    "\n",
    "\n",
    "\n"
   ]
  },
  {
   "cell_type": "markdown",
   "id": "97851567",
   "metadata": {},
   "source": [
    "### Foundations of Correction\n",
    "\n",
    "#### This algorithm a single logical qubit,  encoded using 9 physical qubits.\n",
    "#### Able to correct for both a single $\\sigma_x$ error per block of 3 Qubits (bit flip) \n",
    "#### and for a $\\sigma_z$ (phase-flip). \n",
    "\n",
    "#### In this case we will define our two logical states as $\\vert0\\rangle_L$ and $\\vert1\\rangle_L$ where $|0\\rangle_L = \\frac{1}{\\sqrt{8}} \\left( |000\\rangle + |111\\rangle \\right) \\left( |000\\rangle + |111\\rangle \\right) \\left( |000\\rangle + |111\\rangle \\right)$ and\n",
    "$|1\\rangle_L = \\frac{1}{\\sqrt{8}} \\left( |000\\rangle - |111\\rangle \\right) \\left( |000\\rangle - |111\\rangle \\right) \\left( |000\\rangle - |111\\rangle \\right)$ and $\\vert1\\rangle_L = \\vert111\\rangle$\n",
    "\n",
    "#### A single qubit state is still represented by $\\vert\\psi\\rangle_L = \\alpha\\vert0\\rangle_L + \\beta\\vert1\\rangle_L$\n",
    "\n",
    "\n"
   ]
  },
  {
   "cell_type": "markdown",
   "id": "b84f0626",
   "metadata": {
    "scrolled": true
   },
   "source": [
    "#### Below we show the quantum circuit for encoding a single logical qubit in a 9-qubit system."
   ]
  },
  {
   "cell_type": "markdown",
   "id": "98b60d1f",
   "metadata": {},
   "source": [
    "## Implementing for $\\sigma_x$ correction: Logical state of a 9 Qubit Code"
   ]
  },
  {
   "cell_type": "code",
   "execution_count": 3,
   "id": "f182b806",
   "metadata": {},
   "outputs": [
    {
     "data": {
      "image/png": "[encoded data removed]",
      "text/plain": [
       "<Figure size 465.97x565.88 with 1 Axes>"
      ]
     },
     "execution_count": 3,
     "metadata": {},
     "output_type": "execute_result"
    }
   ],
   "source": [
    "\n",
    "psi = QuantumRegister(1, '|ψ⟩')\n",
    "ancilla = QuantumRegister(8, '|0⟩')\n",
    "\n",
    "qc = QuantumCircuit(psi, ancilla)\n",
    "qc.cnot(0, 3)\n",
    "qc.cnot(0, 6)\n",
    "qc.h(0)\n",
    "qc.h(3)\n",
    "qc.h(6)\n",
    "qc.cnot(0, 1)\n",
    "qc.cnot(3, 4)\n",
    "qc.cnot(6, 7)\n",
    "qc.cnot(0, 2)\n",
    "qc.cnot(3, 5)\n",
    "qc.cnot(6, 8)\n",
    "qc.barrier()\n",
    "\n",
    "qc.draw()\n",
    " \n",
    "\n",
    "    \n",
    " "
   ]
  },
  {
   "cell_type": "code",
   "execution_count": null,
   "id": "668fb213",
   "metadata": {},
   "outputs": [],
   "source": [
    "\n",
    "hadamard = 1 / np.sqrt(2) * np.array([[1, 1], [1, -1]])\n",
    "cnot = np.array([[1, 0, 0, 0], [0, 1, 0, 0], [0, 0, 0, 1], [0, 0, 1, 0]])\n",
    "def non_adj_CNOT(control, target, tot_qubits):\n",
    "    p = target - control\n",
    "    all_dots = []\n",
    "\n",
    "    for j in range(p):\n",
    "        next_dot = np.kron(np.identity(2 ** j), np.kron(cnot, np.identity(2 ** (p - j - 1))))\n",
    "        all_dots.append(next_dot)\n",
    "\n",
    "    gate = all_dots[0]\n",
    "    for j in range(1, p):\n",
    "        gate = np.dot(gate, all_dots[j])\n",
    "\n",
    "    final_gate = np.dot(gate, gate)\n",
    "    n1 = control\n",
    "    n2 = tot_qubits - target - 1\n",
    "    final_total_gate = np.kron(np.identity(2 ** n1), np.kron(final_gate, np.identity(2 ** n2)))\n",
    "\n",
    "    return final_total_gate\n",
    "\n",
    "\n",
    "def vector_state_to_bit_state(vector_state, num_qubits):\n",
    "    bit_representation = [format(i, '0' + str(num_qubits) + 'b') for i in range(2 ** num_qubits)]\n",
    "    return bit_representation, vector_state.flatten()\n",
    "\n",
    "\n",
    "def nine_qubit_initialize_logical_state(initial_psi):\n",
    "    initial_ancilla_state = np.array([1, 0])\n",
    "    psi = initial_psi\n",
    "    \n",
    "\n",
    "    initial_logical_state = np.kron(psi, np.kron(initial_ancilla_state, np.identity(2 ** 8)))\n",
    "\n",
    "    non_adj_CNOT_psi_qthree = non_adj_CNOT(0, 3, 9)\n",
    "    non_adj_CNOT_psi_qsix = non_adj_CNOT(0, 6, 9)\n",
    "\n",
    "    hadamard_psi = np.kron(np.identity(2), hadamard)\n",
    "    hadamard_three = np.kron(np.identity(2 ** 2), hadamard)\n",
    "    hadamard_six = np.kron(np.identity(2 ** 5), hadamard)\n",
    "\n",
    "    cnot_psi_qone = np.kron(cnot, np.identity(2 ** 6))\n",
    "    cnot_qthree_qfour = np.kron(np.identity(2), cnot)\n",
    "    cnot_qsix_qseven = np.kron(np.identity(2 ** 2), cnot)\n",
    "\n",
    "    non_adj_CNOT_psi_qtwo = non_adj_CNOT(0, 2, 9)\n",
    "    non_adj_CNOT_qthree_qfive = non_adj_CNOT(3, 5, 9)\n",
    "    non_adj_CNOT_qsix_qeight = non_adj_CNOT(6, 8, 9)\n",
    "\n",
    "    final_logical_state = np.dot(\n",
    "        np.kron(non_adj_CNOT_qsix_qeight, np.kron(\n",
    "            non_adj_CNOT_qthree_qfive, np.kron(non_adj_CNOT_psi_qtwo, np.kron(\n",
    "                cnot_qsix_qseven, np.kron(cnot_qthree_qfour, np.kron(\n",
    "                    cnot_psi_qone, np.kron(hadamard_six, np.kron(\n",
    "                        hadamard_three, np.kron(hadamard_psi, np.kron(\n",
    "                            non_adj_CNOT_psi_qsix, non_adj_CNOT_psi_qthree)\n",
    "                        ))\n",
    "                    ))\n",
    "                ))\n",
    "            ))\n",
    "        )), initial_logical_state\n",
    "\n",
    "    return final_logical_state, psi\n",
    "\n",
    "\n",
    "# Example usage\n",
    "initial_psi = np.array([0, 1])\n",
    "final_logical_state, psi = nine_qubit_initialize_logical_state(initial_psi)\n",
    "k = 9  # Number of qubits in the reduced system\n",
    "\n",
    "bit_representation, reduced_logical_state = vector_state_to_bit_state(final_logical_state, k)\n",
    "\n",
    "print('Psi State:', psi)\n",
    "print('Final Logical State:', final_logical_state)\n",
    "print('Bit Representation:', bit_representation)\n",
    "print('Reduced Logical State:', reduced_logical_state)\n"
   ]
  },
  {
   "cell_type": "markdown",
   "id": "a0c70741",
   "metadata": {},
   "source": [
    "## Initializing for our Phase Correction"
   ]
  },
  {
   "cell_type": "markdown",
   "id": "badd252f",
   "metadata": {},
   "source": [
    "### 9 Qubit Phase Flip Error Detection & Correction\n",
    "\n",
    "\n"
   ]
  },
  {
   "cell_type": "code",
   "execution_count": 4,
   "id": "6988f784",
   "metadata": {},
   "outputs": [
    {
     "data": {
      "image/png": "[encoded data removed]",
      "text/plain": [
       "<Figure size 1002.43x686.28 with 1 Axes>"
      ]
     },
     "execution_count": 4,
     "metadata": {},
     "output_type": "execute_result"
    }
   ],
   "source": [
    "psi = QuantumRegister(1, '|ψ⟩')\n",
    "ancilla = QuantumRegister(8, '|0⟩')\n",
    "additional_ancilla = QuantumRegister(10, '|0⟩')\n",
    "qc = QuantumCircuit(11)\n",
    "\n",
    "# Hadamard gates on the left side (vertical arrangement)\n",
    "for i in range(9):\n",
    "    qc.h(i)\n",
    "\n",
    "# Define the Z error correction circuit for Shor's code\n",
    "qc.cx(0, 9)\n",
    "qc.cx(1, 9)\n",
    "qc.cx(2, 9)\n",
    "qc.cx(3, 9)\n",
    "qc.cx(4, 9)\n",
    "qc.cx(5, 9)\n",
    "\n",
    "qc.cx(5, 10)\n",
    "qc.cx(4, 10)\n",
    "qc.cx(5, 10)\n",
    "qc.cx(6, 10)\n",
    "qc.cx(7, 10)\n",
    "qc.cx(8, 10)\n",
    "\n",
    "# Add barrier gate after the error correction circuit\n",
    "qc.barrier()\n",
    "\n",
    "# Hadamard gates on the right side (vertical arrangement)\n",
    "for i in range(9):\n",
    "    qc.h(i)\n",
    "qc.draw()\n",
    "\n"
   ]
  },
  {
   "cell_type": "code",
   "execution_count": null,
   "id": "8f819e90",
   "metadata": {},
   "outputs": [],
   "source": [
    "\n",
    "\n",
    "def apply_random_z_error(logical_state):\n",
    "    error_index = random.randint(0, 8)\n",
    "    error_state = np.copy(logical_state)\n",
    "    error_state[error_index] *= -1\n",
    "    return error_state, error_index\n",
    "\n",
    "def apply_defined_z_error(logical_state, error_index):\n",
    "    error_state = np.copy(logical_state)\n",
    "    error_state[error_index] *= -1\n",
    "    return error_state, error_index\n",
    "\n",
    "# Example usage\n",
    "logical_state = np.zeros(2**9)\n",
    "logical_state[0] = 1  # Initialize the logical state to |0...0>\n",
    "\n",
    "# Apply random Z error to one of the qubits\n",
    "errored_state, error_qubit = apply_random_z_error(logical_state)\n",
    "print('Logical State without the random Z error:', logical_state.astype(int))\n",
    "print('Logical State with the random Z error:', errored_state.astype(int))\n",
    "print('The error occurred at qubit:', error_qubit)\n",
    "\n",
    "# Apply defined Z error to one of the qubits\n",
    "error_index = 4\n",
    "errored_state, error_qubit = apply_defined_z_error(logical_state, error_index)\n",
    "print('Logical State without the defined Z error:', logical_state.astype(int))\n",
    "print('Logical State with the defined Z error:', errored_state.astype(int))\n",
    "print('The error occurred at qubit:', error_qubit)\n"
   ]
  },
  {
   "cell_type": "code",
   "execution_count": 5,
   "id": "c37554f1",
   "metadata": {
    "scrolled": true
   },
   "outputs": [
    {
     "ename": "NameError",
     "evalue": "name 'final_logical_state' is not defined",
     "output_type": "error",
     "traceback": [
      "\u001b[0;31m---------------------------------------------------------------------------\u001b[0m",
      "\u001b[0;31mNameError\u001b[0m                                 Traceback (most recent call last)",
      "Input \u001b[0;32mIn [5]\u001b[0m, in \u001b[0;36m<cell line: 29>\u001b[0;34m()\u001b[0m\n\u001b[1;32m     26\u001b[0m     \u001b[38;5;28;01mreturn\u001b[39;00m errored_logical_state, error_index\n\u001b[1;32m     28\u001b[0m \u001b[38;5;66;03m# Print out the errored logical state and the index qubit which the error occured (using the final state from before)\u001b[39;00m\n\u001b[0;32m---> 29\u001b[0m state, qubit_errored \u001b[38;5;241m=\u001b[39m three_qubit_random_qubit_x_error(\u001b[43mfinal_logical_state\u001b[49m)\n\u001b[1;32m     30\u001b[0m \u001b[38;5;28mprint\u001b[39m(\u001b[38;5;124m'\u001b[39m\u001b[38;5;124mLogical State without the random X error: \u001b[39m\u001b[38;5;124m'\u001b[39m, final_logical_state\u001b[38;5;241m.\u001b[39mastype(\u001b[38;5;28mint\u001b[39m))\n\u001b[1;32m     31\u001b[0m \u001b[38;5;28mprint\u001b[39m(\u001b[38;5;124m'\u001b[39m\u001b[38;5;124mLogical Satte with the random X error: \u001b[39m\u001b[38;5;124m'\u001b[39m, state\u001b[38;5;241m.\u001b[39mastype(\u001b[38;5;28mint\u001b[39m))\n",
      "\u001b[0;31mNameError\u001b[0m: name 'final_logical_state' is not defined"
     ]
    }
   ],
   "source": [
    "# Afteri initializing the 9-qubit logical state with the additional ancillas, \n",
    "#we will apply a random Phase error to one of the qubits.\n",
    "\n",
    "def apply_random_x_error(logical_state):\n",
    "    error_index = random.randint(0, 8)\n",
    "    error_state = np.copy(logical_state)\n",
    "    error_state[error_index] = 1 - error_state[error_index]\n",
    "    return error_state, error_index\n",
    "\n",
    "def apply_defined_x_error(logical_state, error_index):\n",
    "    error_state = np.copy(logical_state)\n",
    "    error_state[error_index] = 1 - error_state[error_index]\n",
    "    return error_state, error_index\n",
    "\n",
    "# Example usage\n",
    "logical_state = np.zeros(2**9)\n",
    "logical_state[0] = 1  # Initialize the logical state to |0...0>\n",
    "\n",
    "# Apply random X error to one of the qubits\n",
    "errored_state, error_qubit = apply_random_x_error(logical_state)\n",
    "print('Logical State without the random X error:', logical_state.astype(int))\n",
    "print('Logical State with the random X error:', errored_state.astype(int))\n",
    "print('The error occurred at qubit:', error_qubit)\n",
    "\n",
    "# Apply defined X error to one of the qubits\n",
    "error_index = 4\n",
    "errored_state, error_qubit = apply_defined_x_error(logical_state, error_index)\n",
    "print('Logical State without the defined X error:', logical_state.astype(int))\n",
    "print('Logical State with the defined X error:', errored_state.astype(int))\n",
    "print('The error occurred at qubit:', error_qubit)\n",
    "# After we have initialized the 9-qubit logical state, we will apply a random error to one of the qubits."
   ]
  },
  {
   "cell_type": "code",
   "execution_count": 10,
   "id": "985ae4c5",
   "metadata": {
    "scrolled": true
   },
   "outputs": [
    {
     "name": "stdout",
     "output_type": "stream",
     "text": [
      "Enter the input state (e.g., '0 1'): 0\n",
      "Enter the number of bit flip errors: 1\n"
     ]
    },
    {
     "ename": "ValueError",
     "evalue": "shapes (512,512) and (4,1) not aligned: 512 (dim 1) != 4 (dim 0)",
     "output_type": "error",
     "traceback": [
      "\u001b[0;31m---------------------------------------------------------------------------\u001b[0m",
      "\u001b[0;31mValueError\u001b[0m                                Traceback (most recent call last)",
      "Input \u001b[0;32mIn [10]\u001b[0m, in \u001b[0;36m<cell line: 78>\u001b[0;34m()\u001b[0m\n\u001b[1;32m     75\u001b[0m num_bit_flip_errors \u001b[38;5;241m=\u001b[39m \u001b[38;5;28mint\u001b[39m(\u001b[38;5;28minput\u001b[39m(\u001b[38;5;124m\"\u001b[39m\u001b[38;5;124mEnter the number of bit flip errors: \u001b[39m\u001b[38;5;124m\"\u001b[39m))\n\u001b[1;32m     77\u001b[0m \u001b[38;5;66;03m# Perform error correction\u001b[39;00m\n\u001b[0;32m---> 78\u001b[0m result \u001b[38;5;241m=\u001b[39m \u001b[43mshors_code_error_correction\u001b[49m\u001b[43m(\u001b[49m\u001b[43minput_state\u001b[49m\u001b[43m,\u001b[49m\u001b[43m \u001b[49m\u001b[43mnum_bit_flip_errors\u001b[49m\u001b[43m)\u001b[49m\n\u001b[1;32m     79\u001b[0m \u001b[38;5;28mprint\u001b[39m(\u001b[38;5;124m'\u001b[39m\u001b[38;5;124mResult:\u001b[39m\u001b[38;5;124m'\u001b[39m, result)\n",
      "Input \u001b[0;32mIn [10]\u001b[0m, in \u001b[0;36mshors_code_error_correction\u001b[0;34m(input_state, num_bit_flip_errors)\u001b[0m\n\u001b[1;32m     43\u001b[0m \u001b[38;5;66;03m# Apply Hadamard gates to the data qubits\u001b[39;00m\n\u001b[1;32m     44\u001b[0m \u001b[38;5;28;01mfor\u001b[39;00m qubit \u001b[38;5;129;01min\u001b[39;00m \u001b[38;5;28mrange\u001b[39m(num_qubits):\n\u001b[0;32m---> 45\u001b[0m     initial_logical_state \u001b[38;5;241m=\u001b[39m \u001b[43mnp\u001b[49m\u001b[38;5;241;43m.\u001b[39;49m\u001b[43mdot\u001b[49m\u001b[43m(\u001b[49m\u001b[43mapply_hadamard_gate\u001b[49m\u001b[43m(\u001b[49m\u001b[43mqubit\u001b[49m\u001b[43m,\u001b[49m\u001b[43m \u001b[49m\u001b[43mnum_qubits\u001b[49m\u001b[43m)\u001b[49m\u001b[43m,\u001b[49m\u001b[43m \u001b[49m\u001b[43minitial_logical_state\u001b[49m\u001b[43m)\u001b[49m\n\u001b[1;32m     47\u001b[0m \u001b[38;5;66;03m# Apply non-adjacent CNOT gates for phase correction\u001b[39;00m\n\u001b[1;32m     48\u001b[0m \u001b[38;5;28;01mfor\u001b[39;00m qubit \u001b[38;5;129;01min\u001b[39;00m \u001b[38;5;28mrange\u001b[39m(num_qubits):\n",
      "File \u001b[0;32m<__array_function__ internals>:5\u001b[0m, in \u001b[0;36mdot\u001b[0;34m(*args, **kwargs)\u001b[0m\n",
      "\u001b[0;31mValueError\u001b[0m: shapes (512,512) and (4,1) not aligned: 512 (dim 1) != 4 (dim 0)"
     ]
    }
   ],
   "source": [
    "import numpy as np\n",
    "import random\n",
    "\n",
    "def apply_pauli_X(qubit_index, num_qubits):\n",
    "    pauli_X_matrix = np.array([[0, 1], [1, 0]])\n",
    "    gate = np.identity(2)\n",
    "    for _ in range(num_qubits - 1):\n",
    "        gate = np.kron(gate, np.identity(2))\n",
    "    gate[qubit_index][qubit_index] = pauli_X_matrix[0][0]\n",
    "    gate[qubit_index][qubit_index + 1] = pauli_X_matrix[0][1]\n",
    "    gate[qubit_index + 1][qubit_index] = pauli_X_matrix[1][0]\n",
    "    gate[qubit_index + 1][qubit_index + 1] = pauli_X_matrix[1][1]\n",
    "    return gate\n",
    "\n",
    "def apply_pauli_Z(qubit_index, num_qubits):\n",
    "    pauli_Z_matrix = np.array([[1, 0], [0, -1]])\n",
    "    gate = np.identity(2)\n",
    "    for _ in range(num_qubits - 1):\n",
    "        gate = np.kron(gate, np.identity(2))\n",
    "    gate[qubit_index][qubit_index] = pauli_Z_matrix[0][0]\n",
    "    gate[qubit_index][qubit_index + 1] = pauli_Z_matrix[0][1]\n",
    "    gate[qubit_index + 1][qubit_index] = pauli_Z_matrix[1][0]\n",
    "    gate[qubit_index + 1][qubit_index + 1] = pauli_Z_matrix[1][1]\n",
    "    return gate\n",
    "\n",
    "def nine_qubit_random_qubit_x_error(logical_state):\n",
    "    error_index = random.randint(0, 8)\n",
    "    error_gate = apply_pauli_X(error_index, 9)\n",
    "    errored_logical_state = np.dot(error_gate, logical_state)\n",
    "    return errored_logical_state, error_index\n",
    "\n",
    "def nine_qubit_defined_qubit_x_error(logical_state, error_index):\n",
    "    error_gate = apply_pauli_X(error_index, 9)\n",
    "    errored_logical_state = np.dot(error_gate, logical_state)\n",
    "    return errored_logical_state, error_index\n",
    "\n",
    "def nine_qubit_random_qubit_z_error(logical_state):\n",
    "    error_index = random.randint(0, 8)\n",
    "    error_gate = apply_pauli_Z(error_index, 9)\n",
    "    errored_logical_state = np.dot(error_gate, logical_state)\n",
    "    return errored_logical_state, error_index\n",
    "\n",
    "def nine_qubit_defined_qubit_z_error(logical_state, error_index):\n",
    "    error_gate = apply_pauli_Z(error_index, 9)\n",
    "    errored_logical_state = np.dot(error_gate, logical_state)\n",
    "    return errored_logical_state, error_index\n",
    "\n",
    "# Example usage\n",
    "logical_state = np.zeros(2 ** 9)\n",
    "logical_state[0] = 1  # Initialize the logical state to |0...0>\n",
    "\n",
    "# Apply random X error to one of the qubits\n",
    "errored_state, error_qubit = nine_qubit_random_qubit_x_error(logical_state)\n",
    "print('Logical State without the random X error:', logical_state.astype(int))\n",
    "print('Logical State with the random X error:', errored_state.astype(int))\n",
    "print('The error occurred at qubit:', error_qubit)\n",
    "\n",
    "# Apply defined X error to one of the qubits\n",
    "error_index = 4\n",
    "errored_state, error_qubit = nine_qubit_defined_qubit_x_error(logical_state, error_index)\n",
    "print('Logical State without the defined X error:', logical_state.astype(int))\n",
    "print('Logical State with the defined X error:', errored_state.astype(int))\n",
    "print('The error occurred at qubit:', error_qubit)\n",
    "\n",
    "# Apply random Z error to one of the qubits\n",
    "errored_state, error_qubit = nine_qubit_random_qubit_z_error(logical_state)\n",
    "print('Logical State without the random Z error:', logical_state.astype(int))\n",
    "print('Logical State with the random Z error:', errored_state.astype(int))\n",
    "print('The error occurred at qubit:', error_qubit)\n",
    "\n",
    "# Apply defined Z error to one of the qubits\n",
    "error_index = 7\n",
    "errored_state, error_qubit = nine_qubit_defined_qubit_z_error(logical_state, error_index)\n",
    "print('Logical State without the defined Z error:', logical_state.astype(int))\n",
    "print('Logical State with the defined Z error:', errored_state.astype(int))\n",
    "print('The error occurred at qubit:', error_qubit)\n",
    "\n"
   ]
  },
  {
   "cell_type": "code",
   "execution_count": 11,
   "id": "fe2f9402",
   "metadata": {},
   "outputs": [
    {
     "data": {
      "image/png": "[encoded data removed]",
      "text/plain": [
       "<Figure size 1170.2x626.08 with 1 Axes>"
      ]
     },
     "execution_count": 11,
     "metadata": {},
     "output_type": "execute_result"
    }
   ],
   "source": [
    "#####Shor code starts here ########\n",
    "q = QuantumRegister(9,'q')\n",
    "c = ClassicalRegister(1,'c')\n",
    "\n",
    "circuit = QuantumCircuit(q,c)\n",
    "\n",
    "circuit.cx(q[0],q[3])\n",
    "circuit.cx(q[0],q[6])\n",
    "\n",
    "circuit.h(q[0])\n",
    "circuit.h(q[3])\n",
    "circuit.h(q[6])\n",
    "\n",
    "circuit.cx(q[0],q[1])\n",
    "circuit.cx(q[3],q[4])\n",
    "circuit.cx(q[6],q[7])\n",
    "\n",
    "circuit.cx(q[0],q[2])\n",
    "circuit.cx(q[3],q[5])\n",
    "circuit.cx(q[6],q[8])\n",
    "\n",
    "circuit.barrier(q)\n",
    "\n",
    "####error here############\n",
    "circuit.x(q[0])#Bit flip error\n",
    "#circuit.x(q[5])#Bit flip error\n",
    "#circuit.x(q[8])#Bit flip error\n",
    "circuit.z(q[0])#Phase flip error\n",
    "############################\n",
    "\n",
    "circuit.barrier(q)\n",
    "circuit.cx(q[0],q[1])\n",
    "circuit.cx(q[3],q[4])\n",
    "circuit.cx(q[6],q[7])\n",
    "\n",
    "circuit.cx(q[0],q[2])\n",
    "circuit.cx(q[3],q[5])\n",
    "circuit.cx(q[6],q[8])\n",
    "\n",
    "circuit.ccx(q[1],q[2],q[0])\n",
    "circuit.ccx(q[4],q[5],q[3])\n",
    "circuit.ccx(q[8],q[7],q[6])\n",
    "\n",
    "circuit.h(q[0])\n",
    "circuit.h(q[3])\n",
    "circuit.h(q[6])\n",
    "\n",
    "circuit.cx(q[0],q[3])\n",
    "circuit.cx(q[0],q[6])\n",
    "circuit.ccx(q[6],q[3],q[0])\n",
    "\n",
    "circuit.barrier(q)\n",
    "\n",
    "circuit.measure(q[0],c[0])\n",
    "\n",
    "circuit.draw()"
   ]
  },
  {
   "cell_type": "code",
   "execution_count": null,
   "id": "e59eeaa4",
   "metadata": {},
   "outputs": [],
   "source": []
  }
 ],
 "metadata": {
  "kernelspec": {
   "display_name": "Python 3 (ipykernel)",
   "language": "python",
   "name": "python3"
  },
  "language_info": {
   "codemirror_mode": {
    "name": "ipython",
    "version": 3
   },
   "file_extension": ".py",
   "mimetype": "text/x-python",
   "name": "python",
   "nbconvert_exporter": "python",
   "pygments_lexer": "ipython3",
   "version": "3.9.12"
  }
 },
 "nbformat": 4,
 "nbformat_minor": 5
}
