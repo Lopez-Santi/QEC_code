{
 "cells": [
  {
   "cell_type": "code",
   "execution_count": 101,
   "id": "4434d0ea",
   "metadata": {},
   "outputs": [],
   "source": [
    "import numpy as np\n",
    "import random\n",
    "import matplotlib.pyplot as plt\n",
    "\n",
    "from helpers.qec_helpers import *\n",
    "from helpers.gates import *\n",
    "from helpers.steane_helpers import *\n",
    "from helpers.errors import *\n",
    "from helpers.fault_tolerance import *\n",
    "\n"
   ]
  },
  {
   "cell_type": "markdown",
   "id": "27d05b7a",
   "metadata": {},
   "source": [
    "# Modelling and simulating noisy quantum computers"
   ]
  },
  {
   "cell_type": "markdown",
   "id": "c9962711",
   "metadata": {},
   "source": [
    "## Depolarizing Channel:\n",
    "### Simulates bit and phase flips due to gate infidelities with in the circuit (probability $p_1$)\n",
    "$$ K_{D_0} = \\sqrt{1-p_1}, \\quad K_{D_1} = \\sqrt{\\frac{p_1}{3}}X, \\quad K_{D_2} = \\sqrt{\\frac{p_1}{3}}Z, \\quad K_{D_3} = \\sqrt{\\frac{p_1}{3}}Y$$\n",
    "$$ \\rho \\mapsto D(\\rho) = \\sum_{i = 0}^{3}K_{D_i}\\rho K^\\dagger_{D_i}$$\n"
   ]
  },
  {
   "cell_type": "markdown",
   "id": "c44ac7ec",
   "metadata": {},
   "source": [
    "<u>Single qubit gate model:</u> error after single qubit gate according to single qubit error rates\n",
    "\n",
    "This example will show a hadamard gate but all other single qubit gate operations will work similarly."
   ]
  },
  {
   "cell_type": "code",
   "execution_count": 314,
   "id": "6b980c11",
   "metadata": {
    "scrolled": false
   },
   "outputs": [
    {
     "name": "stdout",
     "output_type": "stream",
     "text": [
      "State after perfect gate operation: \n",
      " [0 1]\n",
      "1 :  1\n",
      "- - - - - - - - - - \n",
      "State after perfect gate operation: \n",
      " [[0 0]\n",
      " [0 1]]\n",
      "State after errored gate operation: \n",
      " [[6.66666667e-04+0.j 0.00000000e+00+0.j]\n",
      " [0.00000000e+00+0.j 9.99333333e-01+0.j]]\n"
     ]
    }
   ],
   "source": [
    "psi = np.array([1, 0]) # initial state\n",
    "gate = sigma_x # single qubit gate we want to implement\n",
    "\n",
    "psi_prime = np.dot(gate, psi) # state after perfect gate operation\n",
    "print('State after perfect gate operation: \\n', psi_prime)\n",
    "print_state_info(psi_prime, 2)\n",
    "print('- - - - - - - - - - ')\n",
    "# dens.reshape(2,2)\n",
    "rho = np.kron(psi_prime, psi_prime.conj().T)\n",
    "print('State after perfect gate operation: \\n', rho.reshape(2,2))\n",
    "# print_state_info(dens, 2)\n",
    "\n",
    "p_1 = 0.001 # error probability of the hadamrd gate operation\n",
    "KD0 = np.sqrt(1-p_1) * sigma_I\n",
    "KD1 = np.sqrt(p_1/3) * sigma_x\n",
    "KD2 = np.sqrt(p_1/3) * sigma_z\n",
    "KD3 = np.sqrt(p_1/3) * sigma_y\n",
    "\n",
    "# apply the error operators on the density matrix after we have applied our 'perfect gate'\n",
    "D_rho = np.dot(KD0, np.dot(rho.reshape(2,2), KD0.conj().T)) + np.dot(KD1, np.dot(rho.reshape(2,2), KD1.conj().T)) + np.dot(\n",
    "    KD2, np.dot(rho.reshape(2,2), KD2.conj().T)) + np.dot(KD3, np.dot(rho.reshape(2,2), KD3.conj().T))\n",
    "\n",
    "print('State after errored gate operation: \\n', D_rho)\n",
    "# print_state_info(D_rho.reshape(4, 1), 2)\n",
    "# print_state_info(D_rho, 1)"
   ]
  },
  {
   "cell_type": "code",
   "execution_count": 315,
   "id": "5fcf64d1",
   "metadata": {
    "scrolled": true
   },
   "outputs": [
    {
     "name": "stdout",
     "output_type": "stream",
     "text": [
      "(0.0006666666666666666+0j) (0.9993333333333334+0j)\n",
      "total probabilities:  1.0\n"
     ]
    }
   ],
   "source": [
    "# probability of the density matrix is defined as Tr(p*rho)\n",
    "prob_sum = 0\n",
    "state_probs = np.array([])\n",
    "for i in range(len(D_rho)):\n",
    "    prob_sum += np.abs(D_rho[i,i])\n",
    "    state_probs = np.append(state_probs, D_rho[i,i])\n",
    "    \n",
    "print(state_probs[0], state_probs[1])\n",
    "\n",
    "print('total probabilities: ', prob_sum)\n"
   ]
  },
  {
   "cell_type": "code",
   "execution_count": 316,
   "id": "9ad51858",
   "metadata": {},
   "outputs": [
    {
     "data": {
      "image/png": "[encoded data removed]",
      "text/plain": [
       "<Figure size 2000x480 with 1 Axes>"
      ]
     },
     "metadata": {},
     "output_type": "display_data"
    }
   ],
   "source": [
    "bits = vector_state_to_bit_state(state_probs, 1)[0]\n",
    "\n",
    "# Plotting the error state probabilities\n",
    "fig, ax = plt.subplots()\n",
    "fig.set_figwidth(20)\n",
    "error_state_bars = ax.bar(bits, state_probs, label = 'States Probability Distribution', color = 'skyblue')\n",
    "plt.title('Probability Distribution of States')\n",
    "plt.xlabel('logcial bit states') \n",
    "plt.ylabel('probability') \n",
    "ax.bar_label(error_state_bars)\n",
    "plt.show()"
   ]
  },
  {
   "cell_type": "markdown",
   "id": "e0b24ece",
   "metadata": {},
   "source": [
    "<u> Two qubit gate model:</u> Error occurs after a two qubit gate according to two qubit error rates\n",
    "\n",
    "\n",
    "This example will use a CNOT matrix between 2 qubits in a 3 qubit system. We will first show all-to-all connectivity and then restrict to line to line (after that grid will work similarly to both of these)"
   ]
  },
  {
   "cell_type": "code",
   "execution_count": 318,
   "id": "8fbe31ed",
   "metadata": {},
   "outputs": [
    {
     "ename": "ValueError",
     "evalue": "shapes (8,8) and (1,8) not aligned: 8 (dim 1) != 1 (dim 0)",
     "output_type": "error",
     "traceback": [
      "\u001b[0;31m---------------------------------------------------------------------------\u001b[0m",
      "\u001b[0;31mValueError\u001b[0m                                Traceback (most recent call last)",
      "Cell \u001b[0;32mIn[318], line 4\u001b[0m\n\u001b[1;32m      1\u001b[0m psi \u001b[38;5;241m=\u001b[39m np\u001b[38;5;241m.\u001b[39mkron(one, np\u001b[38;5;241m.\u001b[39mkron(zero, one)) \u001b[38;5;66;03m# set an initial_state\u001b[39;00m\n\u001b[1;32m      2\u001b[0m cnot_gate \u001b[38;5;241m=\u001b[39m CNOT(\u001b[38;5;241m0\u001b[39m, \u001b[38;5;241m1\u001b[39m, \u001b[38;5;241m3\u001b[39m) \u001b[38;5;66;03m# CNOT gate with q0 as control and q1 as target\u001b[39;00m\n\u001b[0;32m----> 4\u001b[0m psi_prime \u001b[38;5;241m=\u001b[39m \u001b[43mnp\u001b[49m\u001b[38;5;241;43m.\u001b[39;49m\u001b[43mdot\u001b[49m\u001b[43m(\u001b[49m\u001b[43mcnot_gate\u001b[49m\u001b[43m,\u001b[49m\u001b[43m \u001b[49m\u001b[43mpsi\u001b[49m\u001b[43m)\u001b[49m \u001b[38;5;66;03m# apply a cnot gate\u001b[39;00m\n\u001b[1;32m      6\u001b[0m rho \u001b[38;5;241m=\u001b[39m np\u001b[38;5;241m.\u001b[39mkron(psi_prime, psi_prime\u001b[38;5;241m.\u001b[39mconj()\u001b[38;5;241m.\u001b[39mT) \u001b[38;5;66;03m# convert to the density matrix to apply error gates\u001b[39;00m\n\u001b[1;32m      8\u001b[0m rho_prime \u001b[38;5;241m=\u001b[39m np\u001b[38;5;241m.\u001b[39mdot(cnot_gate, rho) \u001b[38;5;66;03m# apply perfect CNOT gate\u001b[39;00m\n",
      "File \u001b[0;32m<__array_function__ internals>:180\u001b[0m, in \u001b[0;36mdot\u001b[0;34m(*args, **kwargs)\u001b[0m\n",
      "\u001b[0;31mValueError\u001b[0m: shapes (8,8) and (1,8) not aligned: 8 (dim 1) != 1 (dim 0)"
     ]
    }
   ],
   "source": [
    "zero = np.array([1, 0])\n",
    "one = np.array([0, 1])\n",
    "psi = np.kron(one, np.kron(zero, one)) # set an initial_state\n",
    "cnot_gate = CNOT(0, 1, 3) # CNOT gate with q0 as control and q1 as target\n",
    "\n",
    "psi_prime = np.dot(cnot_gate, psi) # apply a cnot gate\n",
    "\n",
    "rho = np.kron(psi_prime, psi_prime.conj().T) # convert to the density matrix to apply error gates\n",
    "\n",
    "rho_prime = np.dot(cnot_gate, rho) # apply perfect CNOT gate\n",
    "\n",
    "# qubit 0 error rates:\n",
    "p_1_q0 = 0.00001 # error probability of a gate operation\n",
    "KD0_q0 = np.sqrt(1-p_1_q0) * sigma_I\n",
    "KD1_q0 = np.sqrt(p_1_q0/3) * sigma_x\n",
    "KD2_q0 = np.sqrt(p_1_q0/3) * sigma_z\n",
    "KD3_q0 = np.sqrt(p_1_q0/3) * sigma_y\n",
    "\n",
    "KD0_q0 = np.kron(KD0_q0, np.identity(2**2)) \n",
    "KD1_q0 = np.kron(KD1_q0, np.identity(2**2)) \n",
    "KD2_q0 = np.kron(KD2_q0, np.identity(2**2)) \n",
    "KD3_q0 = np.kron(KD3_q0, np.identity(2**2)) \n",
    "\n",
    "# qubit 1 error rates:\n",
    "p_1_q1 = 0.00001 # error probability of a gate operation\n",
    "KD0_q1 = np.sqrt(1-p_1_q1) * sigma_I\n",
    "KD1_q1 = np.sqrt(p_1_q1/3) * sigma_x\n",
    "KD2_q1 = np.sqrt(p_1_q1/3) * sigma_z\n",
    "KD3_q1 = np.sqrt(p_1_q1/3) * sigma_y\n",
    "\n",
    "KD0_q0 = np.kron(KD0_q0, np.identity(2**2)) \n",
    "KD1_q0 = np.kron(KD1_q0, np.identity(2**2)) \n",
    "KD2_q0 = np.kron(KD2_q0, np.identity(2**2)) \n",
    "KD3_q0 = np.kron(KD3_q0, np.identity(2**2))\n",
    "\n",
    "# qubit 2 error rates:\n",
    "p_1_q2 = 0.00001 # error probability of a gate operation\n",
    "KD0_q2 = np.sqrt(1-p_1_q2) * sigma_I\n",
    "KD1_q2 = np.sqrt(p_1_q2/3) * sigma_x\n",
    "KD2_q2 = np.sqrt(p_1_q2/3) * sigma_z\n",
    "KD3_q2 = np.sqrt(p_1_q2/3) * sigma_y\n",
    "\n",
    "KD0_q0 = np.kron(KD0_q0, np.identity(2**2)) \n",
    "KD1_q0 = np.kron(KD1_q0, np.identity(2**2)) \n",
    "KD2_q0 = np.kron(KD2_q0, np.identity(2**2)) \n",
    "KD3_q0 = np.kron(KD3_q0, np.identity(2**2))\n",
    "\n",
    "# apply error gates (qubit 0 and qubibt 1 will not be affected by error gates, although we do apply Identity to q0)\n",
    "D_rho_q1 = np.dot(KD0_q1, np.dot(rho_prime, KD0_q1.conj().T)) + np.dot(\n",
    "    KD1_q1, np.dot(rho_prime, KD1_q1.conj().T)) + np.dot(\n",
    "    KD2_q1, np.dot(rho_prime, KD2_q1.conj().T)) + np.dot(\n",
    "    KD3_q1, np.dot(rho_prime, KD3_q1.conj().T))\n",
    "final_rho = D_rho_q1\n",
    "# D_rho_q0 = np.kron(D_rho_q0, np.identity(2**2))\n",
    "\n",
    "# D_rho_q1 = np.dot(np.identity(2), np.dot(rho_prime, np.identity(2).conj().T)) + np.dot(\n",
    "#     np.identity(2), np.dot(rho_prime, np.identity(2).conj().T)) + np.dot(\n",
    "#     np.identity(2), np.dot(rho_prime, np.identity(2).conj().T)) + np.dot(\n",
    "#     np.identity(2), np.dot(rho_prime, np.identity(2).conj().T))\n",
    "\n",
    "# D_rho_q1 = np.kron(np.identity(2), np.kron(D_rho_q1, np.identity(2)))\n",
    "\n",
    "# final_rho = np.dot(D_rho_q0, D_rho_q1)\n",
    "\n",
    "print_state_info(final_rho.reshape(64, 1), 6)\n"
   ]
  },
  {
   "cell_type": "code",
   "execution_count": 87,
   "id": "5882542e",
   "metadata": {},
   "outputs": [
    {
     "name": "stdout",
     "output_type": "stream",
     "text": [
      "[[0.+0.j 0.+0.j 0.+0.j 0.+0.j 0.+0.j 0.+0.j 0.+0.j 0.+0.j]\n",
      " [0.+0.j 0.+0.j 0.+0.j 0.+0.j 0.+0.j 0.+0.j 0.+0.j 0.+0.j]\n",
      " [0.+0.j 0.+0.j 0.+0.j 0.+0.j 0.+0.j 0.+0.j 0.+0.j 0.+0.j]\n",
      " [0.+0.j 0.+0.j 0.+0.j 0.+0.j 0.+0.j 0.+0.j 0.+0.j 0.+0.j]\n",
      " [0.+0.j 0.+0.j 0.+0.j 0.+0.j 0.+0.j 0.+0.j 0.+0.j 0.+0.j]\n",
      " [0.+0.j 0.+0.j 0.+0.j 0.+0.j 0.+0.j 0.+0.j 0.+0.j 0.+0.j]\n",
      " [0.+0.j 0.+0.j 0.+0.j 0.+0.j 0.+0.j 0.+0.j 0.+0.j 0.+0.j]\n",
      " [0.+0.j 0.+0.j 0.+0.j 0.+0.j 0.+0.j 0.+0.j 0.+0.j 0.+0.j]]\n"
     ]
    }
   ],
   "source": [
    "print(final_rho)"
   ]
  },
  {
   "cell_type": "code",
   "execution_count": null,
   "id": "db2b008a",
   "metadata": {},
   "outputs": [],
   "source": []
  },
  {
   "cell_type": "code",
   "execution_count": null,
   "id": "151e3ea5",
   "metadata": {},
   "outputs": [],
   "source": []
  },
  {
   "cell_type": "markdown",
   "id": "f5fc0e96",
   "metadata": {},
   "source": [
    "## State Preparation and Measuremnt:"
   ]
  },
  {
   "cell_type": "code",
   "execution_count": null,
   "id": "33912e66",
   "metadata": {},
   "outputs": [],
   "source": []
  },
  {
   "cell_type": "code",
   "execution_count": null,
   "id": "a11b37c2",
   "metadata": {},
   "outputs": [],
   "source": []
  },
  {
   "cell_type": "code",
   "execution_count": null,
   "id": "ada69be3",
   "metadata": {},
   "outputs": [],
   "source": []
  },
  {
   "cell_type": "markdown",
   "id": "aaa2ec92",
   "metadata": {},
   "source": [
    "## Thermal Decoherence and Dephasing Channel:"
   ]
  },
  {
   "cell_type": "code",
   "execution_count": null,
   "id": "c74c1f92",
   "metadata": {},
   "outputs": [],
   "source": []
  },
  {
   "cell_type": "code",
   "execution_count": null,
   "id": "3c639aef",
   "metadata": {},
   "outputs": [],
   "source": []
  },
  {
   "cell_type": "code",
   "execution_count": null,
   "id": "1f068c6f",
   "metadata": {},
   "outputs": [],
   "source": []
  }
 ],
 "metadata": {
  "kernelspec": {
   "display_name": "Python 3 (ipykernel)",
   "language": "python",
   "name": "python3"
  },
  "language_info": {
   "codemirror_mode": {
    "name": "ipython",
    "version": 3
   },
   "file_extension": ".py",
   "mimetype": "text/x-python",
   "name": "python",
   "nbconvert_exporter": "python",
   "pygments_lexer": "ipython3",
   "version": "3.10.7"
  }
 },
 "nbformat": 4,
 "nbformat_minor": 5
}
