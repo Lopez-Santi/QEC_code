{
 "cells": [
  {
   "cell_type": "markdown",
   "id": "d7d0e7ad",
   "metadata": {},
   "source": [
    "# 3 Qubit Error Correcting Code"
   ]
  },
  {
   "cell_type": "markdown",
   "id": "884e4dc0",
   "metadata": {},
   "source": [
    "### In this nnotebook we will introduce the 3 qubit code and demonstrate how it works as well as create a running example. We will only use numpy to derive the math as well as create the algorithm, while qiskit will only be used to draw the circuits so that we are able to visualize them."
   ]
  },
  {
   "cell_type": "code",
   "execution_count": 64,
   "id": "1d3d2fe6",
   "metadata": {},
   "outputs": [
    {
     "name": "stdout",
     "output_type": "stream",
     "text": [
      "env: QISKIT_SETTINGS={}\n"
     ]
    }
   ],
   "source": [
    "# Importing required libraries\n",
    "from qiskit import QuantumRegister, ClassicalRegister, QuantumCircuit, Aer, execute\n",
    "from qiskit.visualization import plot_histogram\n",
    "from qiskit import user_config\n",
    "from qiskit.quantum_info import partial_trace\n",
    "import numpy as np\n",
    "import random\n",
    "from numpy.linalg import inv\n",
    "import matplotlib.pyplot as plt\n",
    "from qiskit.extensions import UnitaryGate\n",
    "\n",
    "# For creating tables:\n",
    "from tabulate import tabulate\n",
    "from prettytable import PrettyTable\n",
    "\n",
    "# Initialize backends simulators to visualize circuits\n",
    "sv_sim = Aer.get_backend('statevector_simulator')\n",
    "qasm_sim = Aer.get_backend('qasm_simulator')\n",
    "\n",
    "# Setting mpl as default drawer\n",
    "%env QISKIT_SETTINGS {}\n",
    "user_config.set_config('circuit_drawer', 'mpl')\n"
   ]
  },
  {
   "cell_type": "code",
   "execution_count": 93,
   "id": "0707bfa7",
   "metadata": {},
   "outputs": [
    {
     "name": "stdout",
     "output_type": "stream",
     "text": [
      "Below we show the Pauli Operators which can be used to describe any quantum gate on an individual qubit:\n",
      "Pauli-X: \n",
      " [[0 1]\n",
      " [1 0]]\n",
      "Pauli-Y: \n",
      " [[ 0.+0.j  0.+1.j]\n",
      " [-0.-1.j  0.+0.j]]\n",
      "Pauli-Z: \n",
      " [[ 1  0]\n",
      " [ 0 -1]]\n",
      "Pauli-I: \n",
      " [[1. 0.]\n",
      " [0. 1.]]\n"
     ]
    }
   ],
   "source": [
    "# Initializing the Pauli operators\n",
    "sigma_x = np.array([[0,1],[1,0]])\n",
    "sigma_y = np.array([[0,1j],[-1j,0]])\n",
    "sigma_z = np.array([[1,0],[0,-1]])\n",
    "sigma_I = np.identity(2)\n",
    "print('Below we show the Pauli Operators which can be used to describe any quantum gate on an individual qubit:')\n",
    "print('Pauli-X: \\n', sigma_x) \n",
    "print('Pauli-Y: \\n', sigma_y)\n",
    "print('Pauli-Z: \\n', sigma_z)\n",
    "print('Pauli-I: \\n', sigma_I)"
   ]
  },
  {
   "cell_type": "markdown",
   "id": "97851567",
   "metadata": {},
   "source": [
    "## Initializing the 3-qubit logical state\n",
    "#### The 3 Qubit code is the most basic algorithm used for quantum error correction. However, it does not actually represent a full quantum code since it cannot simultaneously correct for bit flips and phase flips.\n",
    "#### In this algorithm a single logical qubit is encoded using 3 physical qubits, and it is able to correct for a single $\\sigma_x$ error (bit flip)\n",
    "\n",
    "#### In this case we will define our two logical states as $\\vert0\\rangle_L$ and $\\vert1\\rangle_L$ where $\\vert0\\rangle_L = \\vert000\\rangle$ and $\\vert1\\rangle_L = \\vert111\\rangle$\n",
    "\n",
    "#### Thus a single qubit state will be represented by $\\vert\\psi\\rangle_L = \\alpha\\vert0\\rangle_L + \\beta\\vert1\\rangle_L$\n",
    "\n",
    "#### Below we show the quantum circuit for encoding a single logical qubit. Here we use two ancilla qubits initialized to $\\vert0\\rangle$ and two CNOT gates.\n",
    "\n",
    "#### CNOT gates can be represented with the matrix below and it performs an operation on two qubits. One being the target qubit and the other the control. Basically, if the control is $\\vert0\\rangle$ then nothing happens, but if the control is $\\vert1\\rangle$ then the target qubit switches states, either to a $\\vert0\\rangle$ or $\\vert1\\rangle$\n",
    "\n",
    "#### CNOT gate matrix representation:  $$\\begin{pmatrix}\n",
    "1 & 0 & 0 & 0 \\\\\n",
    "0 & 1 & 0 & 0 \\\\\n",
    "0 & 0 & 0 & 1 \\\\\n",
    "0 & 0 & 1 & 0\n",
    "\\end{pmatrix}$$\n"
   ]
  },
  {
   "cell_type": "code",
   "execution_count": 8,
   "id": "0f321052",
   "metadata": {
    "scrolled": true
   },
   "outputs": [
    {
     "data": {
      "image/png": "[encoded data removed]",
      "text/plain": [
       "<Figure size 312.535x284.278 with 1 Axes>"
      ]
     },
     "execution_count": 8,
     "metadata": {},
     "output_type": "execute_result"
    }
   ],
   "source": [
    "psi = QuantumRegister(1, '|ψ⟩')\n",
    "ancilla = QuantumRegister(2, '|0⟩')\n",
    "qc = QuantumCircuit(psi, ancilla)\n",
    "qc.cnot(0, 1)\n",
    "qc.cnot(1, 2)\n",
    "qc.draw()"
   ]
  },
  {
   "cell_type": "markdown",
   "id": "1d449600",
   "metadata": {},
   "source": [
    "#### Mathematically we are able to show what this would look like in terms of matrices and vectors. Our operation will look something like:\n",
    "$$ CNOT_{\\psi, 0} CNOT_{0, 1} \\vert\\psi\\rangle \\vert0\\rangle_0 \\vert0\\rangle_0 = CNOT_{\\psi, 0} CNOT_{0, 1} \\vert\\psi 0_0 0_1\\rangle$$\n",
    "#### Where $CNOT_{\\psi, 0}$ is the CNOT operation on qubit $\\vert0\\rangle_0$, $CNOT_{0, 1}$ is the CNOT operation on $\\vert0\\rangle_0$, and $\\vert\\psi\\rangle$, $\\vert0\\rangle_0$, and $\\vert0\\rangle_1$ are the initial states for the three qubits respectively.\n",
    "#### Operations on multiple qubits: https://learn.microsoft.com/en-us/azure/quantum/concepts-multiple-qubits\n",
    "#### In order to achieve this we need to derive two operators (the CNOT gates). Although they are the same gate, the operators themselves will look slightly different due to the fact that our qubit $\\vert\\psi\\rangle$ is adjacent to qubit $\\vert0\\rangle_0$ but not adjacent to qubit $\\vert0\\rangle_1$, and $\\vert0\\rangle_0$ is adjacent to qubit $\\vert0\\rangle_1$. We know that the dimensions of our operations $CNOT_{\\psi, 0}$ and  $CNOT_{0, 1}$ should be 8 x 8 matrices. This is due to the fact that $\\vert\\psi 0_0 0_1\\rangle$ is an 8 x 1 vector and we want to arrive at a vector of the same dimension in the end.\n",
    "\n",
    "#### Thus for qubit $\\vert0\\rangle_0$ we know that the operation should not affect qubit $\\vert0\\rangle_1$. Therefore we know that $CNOT_{\\psi, 0} = CNOT \\otimes I_2$ where CNOT is our usual CNOT operation between $\\vert\\psi\\rangle$ and $\\vert0\\rangle_0$ defined above and $I_2$ is the 2 x 2 identity matrix for $\\vert0\\rangle_1$. Also $I_2 \\otimes CNOT_{0, 1} = CNOT$ where CNOT is our usual CNOT operation between $\\vert0\\rangle_0$ and $\\vert0\\rangle_1$ defined above and $I_2$ is the 2 x 2 identity matrix for $\\vert\\psi\\rangle_1$. Thus \n",
    "\n",
    "$$CNOT_{\\psi, 0} = \\begin{pmatrix}\n",
    "1 & 0 & 0 & 0 & 0 & 0 & 0 & 0 \\\\\n",
    "0 & 1 & 0 & 0 & 0 & 0 & 0 & 0 \\\\\n",
    "0 & 0 & 1 & 0 & 0 & 0 & 0 & 0 \\\\\n",
    "0 & 0 & 0 & 1 & 0 & 0 & 0 & 0 \\\\\n",
    "0 & 0 & 0 & 0 & 0 & 0 & 1 & 0 \\\\\n",
    "0 & 0 & 0 & 0 & 0 & 0 & 0 & 1 \\\\\n",
    "0 & 0 & 0 & 0 & 1 & 0 & 0 & 0 \\\\\n",
    "0 & 0 & 0 & 0 & 0 & 1 & 0 & 0\n",
    "\\end{pmatrix},\\quad and \\quad\n",
    "CNOT_{0, 1} = \\begin{pmatrix}\n",
    "1 & 0 & 0 & 0 & 0 & 0 & 0 & 0 \\\\\n",
    "0 & 1 & 0 & 0 & 0 & 0 & 0 & 0 \\\\\n",
    "0 & 0 & 0 & 1 & 0 & 0 & 0 & 0 \\\\\n",
    "0 & 0 & 1 & 0 & 0 & 0 & 0 & 0 \\\\\n",
    "0 & 0 & 0 & 0 & 1 & 0 & 0 & 0 \\\\\n",
    "0 & 0 & 0 & 0 & 0 & 1 & 0 & 0 \\\\\n",
    "0 & 0 & 0 & 0 & 0 & 0 & 0 & 1 \\\\\n",
    "0 & 0 & 0 & 0 & 0 & 0 & 1 & 0\n",
    "\\end{pmatrix}$$\n",
    "\n",
    "#### Below is an implementation of the 3-qubit code shown in the circuit above for initializing the logical state of the system\n"
   ]
  },
  {
   "cell_type": "code",
   "execution_count": 9,
   "id": "4434c48b",
   "metadata": {},
   "outputs": [],
   "source": [
    "# Used to perform a CNOT gate on 2 adjacent qubits (i.e. |psi> and |q_0>)\n",
    "cnot = np.array([[1, 0, 0, 0],[0, 1, 0, 0],[0, 0, 0, 1],[0, 0, 1, 0]])"
   ]
  },
  {
   "cell_type": "code",
   "execution_count": 37,
   "id": "aa524d45",
   "metadata": {
    "scrolled": false
   },
   "outputs": [
    {
     "name": "stdout",
     "output_type": "stream",
     "text": [
      "Psi State:  [0 1]\n",
      "Initial Logical State:  [0 0 0 0 1 0 0 0]\n",
      "Final Logical State:  [0 0 0 0 0 0 0 1]\n"
     ]
    }
   ],
   "source": [
    "### Initializes the three qubit logical state using an initial single qubit psi ###\n",
    "def three_qubit_initialize_logical_state(initial_psi):\n",
    "    # initial_psi: initial state of your single qubit that you want to use as your logical state (2 x 1)\n",
    "    \n",
    "    initial_ancilla_state = np.array([1,0]) # initializing the |0> state of the qubits\n",
    "    \n",
    "    # Initialize the 3 qubit logical state by using thr kronecker product\n",
    "    initial_logical_state = np.kron(initial_psi, np.kron(initial_ancilla_state, initial_ancilla_state))\n",
    "\n",
    "    # Setting up the 2 CNOT gates to initialize the correct logical qubit\n",
    "    cnot_psi_qzero = np.kron(cnot, np.identity(2))\n",
    "    cnot_qzero_qone = np.kron(np.identity(2), cnot)\n",
    "    \n",
    "    # Apply the CNOT gates to the kronecker product of the current 3 qubit state\n",
    "    final_logical_state = np.dot(cnot_qzero_qone, np.dot(cnot_psi_qzero, initial_logical_state))\n",
    "    \n",
    "    return final_logical_state, psi, initial_logical_state\n",
    "\n",
    "\n",
    "# Print the initial and final logical state, try to convince yourself that this makes sense\n",
    "final_logical_state, psi, initial_logical_state = three_qubit_initialize_logical_state(np.array([0,1]))\n",
    "print('Psi State: ', psi)\n",
    "print('Initial Logical State: ', initial_logical_state)\n",
    "print('Final Logical State: ', final_logical_state.astype(int))\n"
   ]
  },
  {
   "cell_type": "markdown",
   "id": "badd252f",
   "metadata": {},
   "source": [
    "## Encoding and correcting for a single X error\n",
    "#### One thing to note about the circuit above is that three bit flips are required to encode a single qubit. This number is defined as the distance between two codeword states and is given the variable d. With this we are able to calculate the number of errors that can be corrected:\n",
    "$$ t = \\left\\lfloor \\frac{(d-1)}{2} \\right\\rfloor$$\n",
    "#### In the case of the 3 qubit code, we can see that d = 3 and thus t = 1\n",
    "\n",
    "#### Now in order to actually be able to correct for errors we require two more ancilla qubits to obtain information about possible errors (syndrome information) without directly measuring the exact state of any of the qubits in the logical qubit.\n",
    "#### Our new circuit will now look like this:"
   ]
  },
  {
   "cell_type": "code",
   "execution_count": 11,
   "id": "09f7b024",
   "metadata": {},
   "outputs": [
    {
     "data": {
      "image/png": "[encoded data removed]",
      "text/plain": [
       "<Figure size 1258.45x535.111 with 1 Axes>"
      ]
     },
     "execution_count": 11,
     "metadata": {},
     "output_type": "execute_result"
    }
   ],
   "source": [
    "psi = QuantumRegister(1, '|ψ⟩')\n",
    "ancilla = QuantumRegister(2, '|0⟩')\n",
    "syndrome_ancilla = QuantumRegister(2, 'syndrome |0⟩')\n",
    "classical_bits = ClassicalRegister(2, 'classical_measurement')\n",
    "qc = QuantumCircuit(psi, ancilla, syndrome_ancilla, classical_bits)\n",
    "qc.cnot(0, 1)\n",
    "qc.cnot(1, 2)\n",
    "qc.barrier(0,1,2) # A bit flip error occurs here\n",
    "qc.cnot(0, 3)\n",
    "qc.cnot(1, 3)\n",
    "qc.cnot(0, 4)\n",
    "qc.cnot(2, 4)\n",
    "qc.measure(syndrome_ancilla, classical_bits)\n",
    "qc.barrier()\n",
    "qc.draw()"
   ]
  },
  {
   "cell_type": "markdown",
   "id": "a6e51dd1",
   "metadata": {},
   "source": [
    "#### The first dashed line represents the bit flip (X) error that occurs to any of the first 3 data qubits. After that we apply 4 CNOT gates to obtain the error information. Then we classically measure the syndrome qubits to see if an error occured and where the error is. \n",
    "\n",
    "#### In this example we assume that the error only occurs where the dashed line is and all other gate operations are 'perfect'. Additionally we assume that only a single bit flip error occurs.\n",
    "\n",
    "#### Now we will simulate what would happen if a single X bit flip error occurs at a random location after we have initialized the 3 qubit logical state. We can mathematically represent each errror at a location as the following:\n",
    "\n",
    "#### If the error occurs at the 0th qubit ($\\vert\\psi\\rangle$): $(X \\otimes I_2 \\otimes I_2)\\vert\\psi q_1 q_2 \\rangle$\n",
    "#### If the error occurs at the 1st qubit ($\\vert q_1\\rangle$): $(I_2 \\otimes X \\otimes I_2)\\vert\\psi q_1 q_2 \\rangle$\n",
    "#### If the error occurs at the 2nd qubit ($\\vert q_2\\rangle$): $(I_2 \\otimes I_2 \\otimes X)\\vert\\psi q_1 q_2 \\rangle$\n",
    "#### Where X is the Pauli-x ($\\sigma_x$) operator"
   ]
  },
  {
   "cell_type": "code",
   "execution_count": 38,
   "id": "c37554f1",
   "metadata": {},
   "outputs": [
    {
     "name": "stdout",
     "output_type": "stream",
     "text": [
      "Logical State without the random X error:  [0 0 0 0 0 0 0 1]\n",
      "Logical Satte with the random X error:  [0 0 0 1 0 0 0 0]\n",
      "The Error occured at qubit:  0\n"
     ]
    }
   ],
   "source": [
    "### Applies a random X rotation to one of the three physical qubits in your system (randomly) ###\n",
    "def three_qubit_random_qubit_x_error(logical_state):\n",
    "    # logical_state: The logical state of the three qubit system you wish to apply the error to (8 x 1)\n",
    "    \n",
    "    # Choose the index of the qubit you want to apply the error to.\n",
    "    error_index = random.randint(-1,2)\n",
    "    # Apply the error to the qubit (no error may occur)\n",
    "    if error_index == 0:\n",
    "        errored_logical_state = np.dot(np.kron(sigma_x, np.identity(4)), logical_state)\n",
    "    elif error_index == 1:\n",
    "        errored_logical_state = np.dot(np.kron(np.kron(np.identity(2), sigma_x), np.identity(2)), logical_state)\n",
    "    elif error_index == 2:\n",
    "        errored_logical_state = np.dot(np.kron(np.identity(4), sigma_x), logical_state)\n",
    "    else:\n",
    "        errored_logical_state = logical_state\n",
    "        \n",
    "    return errored_logical_state, error_index\n",
    "\n",
    "\n",
    "### Applies an X rotation to one of the three physical qubits in your system (your choice for which qubit is errored) ###\n",
    "def three_qubit_defined_qubit_x_error(logical_state, error_index):\n",
    "    # logical_state: The logical state of the three qubit system you wish to apply the error to (8 x 1)\n",
    "    # error_index: Which qubit you want the error to occur.\n",
    "    \n",
    "    # Apply the error to the qubit (no error may occur)\n",
    "    if error_index == 0:\n",
    "        errored_logical_state = np.dot(np.kron(sigma_x, np.identity(4)), logical_state)\n",
    "    elif error_index == 1:\n",
    "        errored_logical_state = np.dot(np.kron(np.kron(np.identity(2), sigma_x), np.identity(2)), logical_state)\n",
    "    elif error_index == 2:\n",
    "        errored_logical_state = np.dot(np.kron(np.identity(4), sigma_x), logical_state)\n",
    "    else:\n",
    "        errored_logical_state = logical_state\n",
    "        \n",
    "    return errored_logical_state, error_index\n",
    "\n",
    "# Print out the errored logical state and the index qubit which the error occured (using the final state from before)\n",
    "state, qubit_errored = three_qubit_random_qubit_x_error(final_logical_state)\n",
    "print('Logical State without the random X error: ', final_logical_state.astype(int))\n",
    "print('Logical Satte with the random X error: ', state.astype(int))\n",
    "print('The Error occured at qubit: ', qubit_errored)"
   ]
  },
  {
   "cell_type": "markdown",
   "id": "f24b7644",
   "metadata": {},
   "source": [
    "### Next we need to be able to find where the qubit errored without directly knowing where it errored (kind of counter intuitive). Since this is a simulation we are able to print out what index the qubit actaully errored at to check our work, but in reality we wont know. So we should have a way to determine this. That is where our syndrome ancilla qubits come into play. They will tell us where our error occured!\n",
    "\n",
    "#### Below we derive each CNOT gate represented in the ciruit above as a 32 x 32 matrix. Since the matrix is too large to show, we can follow a different process to deriving the CNOT gates than we did earlier for the logical state initialization. \n",
    "\n",
    "#### We will be using the following derivation method for a CNOT gate with one qubit in between the control and target qubits (thus the qubits that the gate acts on are non-adjacent). For this CNOT gate it is not so simple, like our previous derivation for a 3-qubit CNOT since there is no known kronecker product that would lead to the transformation needed. Thus we can derive it by looking at what happens to the logical states of the qubit when we apply this gate.\n",
    "https://quantumcomputing.stackexchange.com/questions/4252/how-to-derive-the-cnot-matrix-for-a-3-qubit-system-where-the-control-target-qu/4254#4254\n",
    "\n",
    "$$ CNOT\\vert000\\rangle \\to \\vert000\\rangle = [1 0 0 0 0 0 0 0 ]^T\\\\ CNOT\\vert001\\rangle \\to \\vert001\\rangle = [0 1 0 0 0 0 0 0 ]^T \\\\\n",
    "CNOT\\vert010\\rangle \\to \\vert010\\rangle = [0 0 1 0 0 0 0 0 ]^T\\\\ CNOT\\vert011\\rangle \\to \\vert011\\rangle = [0 0 0 1 0 0 0 0 ]^T \\\\\n",
    "CNOT\\vert100\\rangle \\to \\vert101\\rangle = [0 0 0 0 0 1 0 0 ]^T\\\\ CNOT\\vert101\\rangle \\to \\vert100\\rangle = [0 0 0 0 1 0 0 0 ]^T \\\\\n",
    "CNOT\\vert110\\rangle \\to \\vert111\\rangle = [0 0 0 0 0 0 0 1 ]^T\\\\ CNOT\\vert111\\rangle \\to \\vert110\\rangle = [0 0 0 0 0 0 1 0 ]^T $$\n",
    "\n",
    "#### Now if you look closely when we put these together as the collumns of out matrix we get:\n",
    "\n",
    "\n",
    "$$ CNOT_{\\psi, 1} = \\begin{pmatrix}\n",
    "1 & 0 & 0 & 0 & 0 & 0 & 0 & 0 \\\\\n",
    "0 & 1 & 0 & 0 & 0 & 0 & 0 & 0 \\\\\n",
    "0 & 0 & 1 & 0 & 0 & 0 & 0 & 0 \\\\\n",
    "0 & 0 & 0 & 1 & 0 & 0 & 0 & 0 \\\\\n",
    "0 & 0 & 0 & 0 & 0 & 1 & 0 & 0 \\\\\n",
    "0 & 0 & 0 & 0 & 1 & 0 & 0 & 0 \\\\\n",
    "0 & 0 & 0 & 0 & 0 & 0 & 0 & 1 \\\\\n",
    "0 & 0 & 0 & 0 & 0 & 0 & 1 & 0\n",
    "\\end{pmatrix}$$\n",
    "\n",
    "#### Which is the matrix representation for the CNOT gate when our 2 qubits are not adjacent in the 3-qubit system.\n",
    "\n",
    "## Deriving the qubit gates for the Circuit above:\n",
    "#### For the first CNOT gate, we can see that there are 2 qubits in between the control and target qubits. Thus we need to use the second method when we derived the CNOT for non-adjacent qubits, only this time we have 5 qubits to keep track of. But we do not actually need to compute 32 states of the qubit. If we notice that the first 16 transformations will do nothing to our state since the first qubit is in the $\\vert0\\rangle$ state. Thus we only need to change the last 16 columns. We can compute the transformations that occur and set the new tensor products of the qubit states as the columns of our matrix. (again this is the same process as deriving the non-adjacent CNOT, just with more qubits)"
   ]
  },
  {
   "cell_type": "code",
   "execution_count": 13,
   "id": "76448ad3",
   "metadata": {},
   "outputs": [],
   "source": [
    "# Used to perform a CNOT gate on 2 non-adjacent qubits (i.e. |psi> and |q_1>)\n",
    "def non_adjacent_qubit_cnot():\n",
    "    cnot = np.identity(8)\n",
    "    cnot[4:] = 0\n",
    "    cnot[4][5] = 1\n",
    "    cnot[5][4] = 1\n",
    "    cnot[7][6] = 1\n",
    "    cnot[6][7] = 1\n",
    "    return cnot"
   ]
  },
  {
   "cell_type": "code",
   "execution_count": 14,
   "id": "f26a517a",
   "metadata": {},
   "outputs": [
    {
     "name": "stdout",
     "output_type": "stream",
     "text": [
      "[0 0 0 0 0 0 0 0 0 0 0 0 0 0 0 0 0 0 0 0 0 0 1 0 0 0 0 0 0 0 0 0]\n",
      "[0 0 0 0 0 0 0 0 0 0 0 0 0 0 0 0 0 0 0 0 0 0 1 0 0 0 0 0 0 0 0 0]\n"
     ]
    }
   ],
   "source": [
    "# Finding the matrix operation for first cnot gate after the error occurs in the circuit above\n",
    "np.set_printoptions(threshold=np.inf)\n",
    "zero = np.array([1, 0])\n",
    "one = np.array([0, 1])\n",
    "def first_cnot():\n",
    "    matrix = np.identity(32)\n",
    "    matrix[:][16] = np.kron(one, np.kron(zero, np.kron(zero, np.kron(one, zero))))\n",
    "    matrix[:][17] = np.kron(one, np.kron(zero, np.kron(zero, np.kron(one, one))))\n",
    "    matrix[:][18] = np.kron(one, np.kron(zero, np.kron(zero, np.kron(zero, zero))))\n",
    "    matrix[:][19] = np.kron(one, np.kron(zero, np.kron(zero, np.kron(zero, one))))\n",
    "    matrix[:][20] = np.kron(one, np.kron(zero, np.kron(one, np.kron(one, zero))))\n",
    "    matrix[:][21] = np.kron(one, np.kron(zero, np.kron(one, np.kron(one, one))))\n",
    "    matrix[:][22] = np.kron(one, np.kron(zero, np.kron(one, np.kron(zero, zero))))\n",
    "    matrix[:][23] = np.kron(one, np.kron(zero, np.kron(one, np.kron(zero, one))))\n",
    "    matrix[:][24] = np.kron(one, np.kron(one, np.kron(zero, np.kron(one, zero))))\n",
    "    matrix[:][25] = np.kron(one, np.kron(one, np.kron(zero, np.kron(one, one))))\n",
    "    matrix[:][26] = np.kron(one, np.kron(one, np.kron(zero, np.kron(zero, zero))))\n",
    "    matrix[:][27] = np.kron(one, np.kron(one, np.kron(zero, np.kron(zero, one))))\n",
    "    matrix[:][28] = np.kron(one, np.kron(one, np.kron(one, np.kron(one, zero))))\n",
    "    matrix[:][29] = np.kron(one, np.kron(one, np.kron(one, np.kron(one, one))))\n",
    "    matrix[:][30] = np.kron(one, np.kron(one, np.kron(one, np.kron(zero, zero))))\n",
    "    matrix[:][31] = np.kron(one, np.kron(one, np.kron(one, np.kron(zero, one))))\n",
    "    return matrix\n",
    "\n",
    "# Testing outputs\n",
    "print(np.dot(first_cnot(), np.kron(one, np.kron(zero, np.kron(one, np.kron(zero, zero))))).astype(int)) # applying CNOT\n",
    "print(np.kron(one, np.kron(zero, np.kron(one, np.kron(one, zero))))) # Put state that it should be in after operation"
   ]
  },
  {
   "cell_type": "markdown",
   "id": "d01485ad",
   "metadata": {},
   "source": [
    "#### For the second CNOT gate we notice that there is only one qubit in between the control and the target. Thus we can implement the non-adjacent CNOT gate and just tensor it with the Identity 2x2 matrix as shown below.\n",
    "$$CNOT_{q_1, q_3} = I_2 \\otimes CNOT_{non-adj} \\otimes I_2$$"
   ]
  },
  {
   "cell_type": "code",
   "execution_count": 15,
   "id": "e9ccc6db",
   "metadata": {
    "scrolled": true
   },
   "outputs": [
    {
     "name": "stdout",
     "output_type": "stream",
     "text": [
      "[0 0 0 0 0 0 0 0 0 0 0 0 0 0 0 0 0 0 0 0 0 0 0 0 0 0 0 0 1 0 0 0]\n",
      "[0 0 0 0 0 0 0 0 0 0 0 0 0 0 0 0 0 0 0 0 0 0 0 0 0 0 0 0 1 0 0 0]\n"
     ]
    }
   ],
   "source": [
    "# Finding the matrix operation for second cnot gate after the error occurs in the circuit above\n",
    "# For this we will be able to implement the non-adjacent CNOT gate that we derived earlier in the notebook\n",
    "def second_cnot():\n",
    "    matrix = np.kron(np.identity(2), np.kron(non_adjacent_qubit_cnot(), np.identity(2)))\n",
    "    return matrix\n",
    "\n",
    "# Testing outputs\n",
    "print(np.dot(second_cnot(), np.kron(one, np.kron(one, np.kron(one, np.kron(one, zero))))).astype(int)) # applying CNOT\n",
    "print(np.kron(one, np.kron(one, np.kron(one, np.kron(zero, zero))))) # Put state that it should be in after operation\n"
   ]
  },
  {
   "cell_type": "markdown",
   "id": "9cc51d2c",
   "metadata": {},
   "source": [
    "#### For the third CNOT gate, we can see that there are 3 qubits in between the control and target qubits. Thus we need to use the second method when we derived the CNOT for non-adjacent qubits, only this time we have 5 qubits to keep track of. But we do not actually need to compute 32 states of the qubit. If we notice that the first 16 transformations will do nothing to our state since the first qubit is in the $\\vert0\\rangle$ state just like with the first CNOT we derived previously. Thus we only need to change the last 16 columns. We can compute the transformations that occur and set the new tensor products of the qubit states as the columns of our matrix. (again this is the same process as deriving the non-adjacent CNOT, just with more qubits)"
   ]
  },
  {
   "cell_type": "code",
   "execution_count": 16,
   "id": "c3ef8a2b",
   "metadata": {
    "scrolled": true
   },
   "outputs": [
    {
     "name": "stdout",
     "output_type": "stream",
     "text": [
      "[0 0 0 0 0 0 0 0 0 0 0 0 0 0 0 0 0 0 0 0 0 1 0 0 0 0 0 0 0 0 0 0]\n",
      "[0 0 0 0 0 0 0 0 0 0 0 0 0 0 0 0 0 0 0 0 0 1 0 0 0 0 0 0 0 0 0 0]\n"
     ]
    }
   ],
   "source": [
    "# Finding the matrix operation for third cnot gate after the error occurs in the circuit above\n",
    "np.set_printoptions(threshold=np.inf)\n",
    "zero = np.array([1, 0])\n",
    "one = np.array([0, 1])\n",
    "def third_cnot():\n",
    "    matrix = np.identity(32)\n",
    "    matrix[:][16] = np.kron(one, np.kron(zero, np.kron(zero, np.kron(zero, one))))\n",
    "    matrix[:][17] = np.kron(one, np.kron(zero, np.kron(zero, np.kron(zero, zero))))\n",
    "    matrix[:][18] = np.kron(one, np.kron(zero, np.kron(zero, np.kron(one, one))))\n",
    "    matrix[:][19] = np.kron(one, np.kron(zero, np.kron(zero, np.kron(one, zero))))\n",
    "    matrix[:][20] = np.kron(one, np.kron(zero, np.kron(one, np.kron(zero, one))))\n",
    "    matrix[:][21] = np.kron(one, np.kron(zero, np.kron(one, np.kron(zero, zero))))\n",
    "    matrix[:][22] = np.kron(one, np.kron(zero, np.kron(one, np.kron(one, one))))\n",
    "    matrix[:][23] = np.kron(one, np.kron(zero, np.kron(one, np.kron(one, zero))))\n",
    "    matrix[:][24] = np.kron(one, np.kron(one, np.kron(zero, np.kron(zero, one))))\n",
    "    matrix[:][25] = np.kron(one, np.kron(one, np.kron(zero, np.kron(zero, zero))))\n",
    "    matrix[:][26] = np.kron(one, np.kron(one, np.kron(zero, np.kron(one, one))))\n",
    "    matrix[:][27] = np.kron(one, np.kron(one, np.kron(zero, np.kron(one, zero))))\n",
    "    matrix[:][28] = np.kron(one, np.kron(one, np.kron(one, np.kron(zero, one))))\n",
    "    matrix[:][29] = np.kron(one, np.kron(one, np.kron(one, np.kron(zero, zero))))\n",
    "    matrix[:][30] = np.kron(one, np.kron(one, np.kron(one, np.kron(one, one))))\n",
    "    matrix[:][31] = np.kron(one, np.kron(one, np.kron(one, np.kron(one, zero))))\n",
    "    return matrix\n",
    "\n",
    "# Testing outputs\n",
    "print(np.dot(third_cnot(), np.kron(one, np.kron(zero, np.kron(one, np.kron(zero, zero))))).astype(int)) # applying CNOT\n",
    "print(np.kron(one, np.kron(zero, np.kron(one, np.kron(zero, one))))) # Put state that it should be in after operation\n"
   ]
  },
  {
   "cell_type": "markdown",
   "id": "83dead38",
   "metadata": {},
   "source": [
    "#### For the fourth CNOT gate we again notice that there is only one qubit in between the control and the target. Thus we can implement the non-adjacent CNOT gate and just tensor it with the Identity 2x2 matrix as shown below.\n",
    "$$CNOT_{q_2, q_4} = I_2 \\otimes CNOT_{non-adj} \\otimes I_2$$"
   ]
  },
  {
   "cell_type": "code",
   "execution_count": 17,
   "id": "2cd65f8a",
   "metadata": {},
   "outputs": [
    {
     "name": "stdout",
     "output_type": "stream",
     "text": [
      "[0 0 0 0 0 0 0 0 0 0 0 0 0 0 0 0 0 0 0 0 0 0 0 0 0 0 1 0 0 0 0 0]\n",
      "[0 0 0 0 0 0 0 0 0 0 0 0 0 0 0 0 0 0 0 0 0 0 0 0 0 0 1 0 0 0 0 0]\n"
     ]
    }
   ],
   "source": [
    "# Finding the matrix operation for fourth cnot gate after the error occurs in the circuit above\n",
    "# For this we will be able to implement the non-adjacent CNOT gate that we derived earlier in the notebook\n",
    "def fourth_cnot():\n",
    "    matrix = np.kron(np.identity(4), non_adjacent_qubit_cnot())\n",
    "    return matrix\n",
    "\n",
    "# Testing outputs\n",
    "print(np.dot(fourth_cnot(), np.kron(one, np.kron(one, np.kron(zero, np.kron(one, zero))))).astype(int)) # applying CNOT\n",
    "print(np.kron(one, np.kron(one, np.kron(zero, np.kron(one, zero))))) # Put state that it should be in after operation\n"
   ]
  },
  {
   "cell_type": "markdown",
   "id": "2701912c",
   "metadata": {},
   "source": [
    "### Instead of using the tedious methods from above, the following function was created to make a matrix representation of a non-adjacent CNOT gate\n",
    "\n",
    "#### Below I construct a function to create a non-adjacent CNOT gate for any number of qubits in between the control and target. The reference I use is Proposition 8 of this document:\n",
    "https://hal-normandie-univ.archives-ouvertes.fr/hal-02948598/document\n",
    "\n",
    "#### Where we let $ i_1, i_2, ..., i_p \\space (p - 1 \\ge 2) $ be distinct integers such that\n",
    "$$ CNOT_{i_1, i_p} = \\biggl(CNOT_{i_1, i_2}CNOT_{i_2, i_3} . . . CNOT_{i_{p-2}, i_{p-1}}CNOT_{i_{p-1}, i_p}CNOT_{i_{p-2}, i_{p-1}} . . . CNOT_{i_2, i_3}\\biggr)^2 $$\n",
    "\n",
    "#### This is simply used to construct the non-adjacent CNOT gate matrix, thus we do not take into account the individual gate errors that go into making the full gate. However, in the future we may do this."
   ]
  },
  {
   "cell_type": "code",
   "execution_count": 39,
   "id": "44ac1397",
   "metadata": {
    "scrolled": true
   },
   "outputs": [],
   "source": [
    "### Implement a non-adjacent CNOT gate between 2 qubits in a system ###\n",
    "def non_adj_CNOT(control, target, tot_qubits):\n",
    "    # control: control qubit index (starting from 0)\n",
    "    # target: target qubit index (starting from 0)\n",
    "    # tot_qubits: total number of qubits in the system (if there are 5 qubits then put 5 ...)\n",
    "    \n",
    "    p = target - control # used to index over all gates neeeded to compose final gate\n",
    "    all_dots = np.array([[]]) # array used to keep track of the components we will combine at the end\n",
    "    \n",
    "    # Indexing over the values of p to get the first half of the formula\n",
    "    for j in range(p):\n",
    "        # Sets the next component of the matrix multiplication up\n",
    "        next_dot = np.kron(np.identity(2**(j)), np.kron(cnot, np.identity(2**(p-j-1))))\n",
    "        \n",
    "        # Adds the components to the array and multiplies them together\n",
    "        if j == 0:\n",
    "            all_dots = np.array([next_dot])\n",
    "            gate = all_dots[j]\n",
    "        else:\n",
    "            all_dots = np.append(all_dots, [next_dot], axis = 0)\n",
    "            gate = np.dot(gate, all_dots[j])\n",
    "            \n",
    "    # Indexing over values of p such that we get the 2nd half of the equation together\n",
    "    for j in range(p - 2):\n",
    "        gate = np.dot(gate, all_dots[p-j-2])\n",
    "    \n",
    "    # Squares the final matrix\n",
    "    final_gate = np.dot(gate, gate)\n",
    "    \n",
    "    # Adds the dimensions needed depending on the tot_qubits\n",
    "    n1 = control # exponent used to tensor the left side identity matrix for our full system\n",
    "    n2 = tot_qubits - target - 1 # exponent used to tensor the right side identity matrix for our full system\n",
    "    final_total_gate = np.kron(np.identity(2**(n1)), np.kron(final_gate, np.identity(2**(n2))))\n",
    "    \n",
    "    return final_total_gate"
   ]
  },
  {
   "cell_type": "code",
   "execution_count": 40,
   "id": "b446bb28",
   "metadata": {
    "scrolled": true
   },
   "outputs": [
    {
     "name": "stdout",
     "output_type": "stream",
     "text": [
      "True\n",
      "True\n",
      "True\n",
      "True\n"
     ]
    }
   ],
   "source": [
    "# Testing\n",
    "print(np.array_equiv(third_cnot(), non_adj_CNOT(0,4,5)))\n",
    "print(np.array_equiv(first_cnot(), non_adj_CNOT(0,3,5)))\n",
    "print(np.array_equiv(second_cnot(), non_adj_CNOT(1,3,5)))\n",
    "print(np.array_equiv(fourth_cnot(), non_adj_CNOT(2,4,5)))"
   ]
  },
  {
   "cell_type": "markdown",
   "id": "d391d1c9",
   "metadata": {},
   "source": [
    "### Below is the code to put together the 4 CNOT gates after initializing the 3 qubit logical state and then applying a random error. Note that the error function has 4 options, error on qubit 0, error on qubit 1, error on qubit 2, or no error at all."
   ]
  },
  {
   "cell_type": "code",
   "execution_count": 41,
   "id": "2c997172",
   "metadata": {},
   "outputs": [
    {
     "name": "stdout",
     "output_type": "stream",
     "text": [
      "[0 0 0 0 0 0 0 0 0 0 0 0 0 0 0 1 0 0 0 0 0 0 0 0 0 0 0 0 0 0 0 0]\n"
     ]
    }
   ],
   "source": [
    "# Code implementing the Syndrome Ancilla Qubits to check where the error occured\n",
    "zero = np.array([1, 0])\n",
    "one = np.array([0, 1])\n",
    "initial_psi = one\n",
    "# Initialize our system and apply an X error\n",
    "initial_state = three_qubit_initialize_logical_state(initial_psi)[0] # Initialize our 3 qubit logical state\n",
    "error_state = three_qubit_random_qubit_x_error(initial_state)[0] # Apply a random X error to one of our 3 qubits\n",
    "\n",
    "### Applying the ancilla qubits to the three qubit system ###\n",
    "def three_qubit_apply_ancillas(logical_state):\n",
    "    # logical_state: the vector state representation of our 3 qubit system (8 x 1)\n",
    "    \n",
    "    # Extend our system to add in the 2 syndrome ancilla qubits\n",
    "    full_system = np.kron(logical_state, np.kron(np.array([1,0]), np.array([1,0]))) \n",
    "\n",
    "    # Apply the CNOT gates needed to change the state of the syndrome ancilla \n",
    "    final_logical_state = np.dot(non_adj_CNOT(2,4,5), np.dot(non_adj_CNOT(0,4,5), \n",
    "                                                     np.dot(non_adj_CNOT(1,3,5), np.dot(non_adj_CNOT(0,3,5), full_system))))\n",
    "    \n",
    "    return final_logical_state\n",
    "\n",
    "final_state = three_qubit_apply_ancillas(error_state)\n",
    "print(final_state.astype(int))"
   ]
  },
  {
   "cell_type": "markdown",
   "id": "fc66bfb0",
   "metadata": {},
   "source": [
    "#### We can now construct a table with the possible results of bit flip error which can occur and how we will detect them using the two syndrome ancilla qubits. For each different error, the syndrome ancillas are flipped to a unique state which we can then measure and apply a correction. The $\\sigma_x$ or bit flip correction would be classically controlled depending on the syndrome ancilla."
   ]
  },
  {
   "cell_type": "code",
   "execution_count": 42,
   "id": "de0ebd5a",
   "metadata": {
    "scrolled": true
   },
   "outputs": [
    {
     "name": "stdout",
     "output_type": "stream",
     "text": [
      "+-----------------+---------------------------------+\n",
      "|  Error Location |   Final State, |data⟩|ancilla⟩  |\n",
      "+-----------------+---------------------------------+\n",
      "|     No Error    |  alpha|000⟩|00⟩ + beta|111⟩|00⟩ |\n",
      "|  Qubit 0 (|ψ⟩)  | alpha |100⟩|11⟩ + beta|011⟩|11⟩ |\n",
      "| Qubit 1 (|0⟩_0) | alpha |010⟩|10⟩ + beta|101⟩|10⟩ |\n",
      "| Qubit 2 (|0⟩_1) | alpha |001⟩|01⟩ + beta|110⟩|01⟩ |\n",
      "+-----------------+---------------------------------+\n"
     ]
    }
   ],
   "source": [
    "error_table = PrettyTable([\"Error Location\", \"Final State, |data⟩|ancilla⟩\"])\n",
    " \n",
    "error_table.add_row([\"No Error\", \"alpha|000⟩|00⟩ + beta|111⟩|00⟩\"])\n",
    "error_table.add_row([\"Qubit 0 (|ψ⟩)\", \"alpha |100⟩|11⟩ + beta|011⟩|11⟩\"])\n",
    "error_table.add_row([\"Qubit 1 (|0⟩_0)\", \"alpha |010⟩|10⟩ + beta|101⟩|10⟩\"])\n",
    "error_table.add_row([\"Qubit 2 (|0⟩_1)\", \"alpha |001⟩|01⟩ + beta|110⟩|01⟩\"])\n",
    " \n",
    "print(error_table)"
   ]
  },
  {
   "cell_type": "markdown",
   "id": "4f7f0764",
   "metadata": {},
   "source": [
    "#### However it is important to note that this 3 qubit code can only correct a maximum of one bit flip error on a single qubit. Anything else will cause ambiguity of syndrome results. This can be seen in the table below where we see multiple errors occuring and the assumed error that our ancilla tell us."
   ]
  },
  {
   "cell_type": "code",
   "execution_count": 43,
   "id": "2b1e17bc",
   "metadata": {},
   "outputs": [
    {
     "name": "stdout",
     "output_type": "stream",
     "text": [
      "We can see that with multiple errors occuring at different qubits we would not be able to tell what is going on.\n",
      "+-------------------+---------------------------------+--------------------+\n",
      "|   Error Location  |   Final State, |data⟩|ancilla⟩  |   Assumed Error    |\n",
      "+-------------------+---------------------------------+--------------------+\n",
      "|   Qubit 0 and 1   |  alpha|110⟩|01⟩ + beta|001⟩|01⟩ | sigma_x on Qubit 2 |\n",
      "|   Qubit 1 and 2   | alpha |011⟩|11⟩ + beta|100⟩|11⟩ | sigma_x on Qubit 0 |\n",
      "|   Qubit 0 and 2   | alpha |101⟩|10⟩ + beta|010⟩|10⟩ | sigma_x on Qubit 1 |\n",
      "| Qubit 0, 1, and 2 | alpha |111⟩|00⟩ + beta|000⟩|00⟩ |      no error      |\n",
      "+-------------------+---------------------------------+--------------------+\n"
     ]
    }
   ],
   "source": [
    "multi_error_table = PrettyTable([\"Error Location\", \"Final State, |data⟩|ancilla⟩\", \"Assumed Error\"])\n",
    " \n",
    "multi_error_table.add_row([\"Qubit 0 and 1\", \"alpha|110⟩|01⟩ + beta|001⟩|01⟩\", \"sigma_x on Qubit 2\"])\n",
    "multi_error_table.add_row([\"Qubit 1 and 2\", \"alpha |011⟩|11⟩ + beta|100⟩|11⟩\", \"sigma_x on Qubit 0\"])\n",
    "multi_error_table.add_row([\"Qubit 0 and 2\", \"alpha |101⟩|10⟩ + beta|010⟩|10⟩\", \"sigma_x on Qubit 1\"])\n",
    "multi_error_table.add_row([\"Qubit 0, 1, and 2\", \"alpha |111⟩|00⟩ + beta|000⟩|00⟩\", \"no error\"])\n",
    "\n",
    "print('We can see that with multiple errors occuring at different qubits we would not be able to tell what is going on.')\n",
    "print(multi_error_table)"
   ]
  },
  {
   "cell_type": "markdown",
   "id": "cc08f78f",
   "metadata": {},
   "source": [
    "### Thus from above we can see that our tensored vectors will look different depending on where the error is.\n"
   ]
  },
  {
   "cell_type": "code",
   "execution_count": 44,
   "id": "9f475c9c",
   "metadata": {},
   "outputs": [
    {
     "name": "stdout",
     "output_type": "stream",
     "text": [
      "When the Initial Logical State is |0>\n",
      "No Error:  [0 0 0 0 0 0 0 0 0 0 0 0 0 0 0 0 0 0 0 0 0 0 0 0 0 0 0 0 1 0 0 0]\n",
      "Error on 0th qubit:  [0 0 0 0 0 0 0 0 0 0 0 0 0 0 0 1 0 0 0 0 0 0 0 0 0 0 0 0 0 0 0 0]\n",
      "Error on 1st qubit:  [0 0 0 0 0 0 0 0 0 0 0 0 0 0 0 0 0 0 0 0 0 0 1 0 0 0 0 0 0 0 0 0]\n",
      "Error on 2nd qubit:  [0 0 0 0 0 0 0 0 0 0 0 0 0 0 0 0 0 0 0 0 0 0 0 0 0 1 0 0 0 0 0 0]\n",
      "\n",
      "When the Initial Logical State is |1>\n",
      "No Error:  [1 0 0 0 0 0 0 0 0 0 0 0 0 0 0 0 0 0 0 0 0 0 0 0 0 0 0 0 0 0 0 0]\n",
      "Error on 0th qubit:  [0 0 0 0 0 0 0 0 0 0 0 0 0 0 0 0 0 0 0 1 0 0 0 0 0 0 0 0 0 0 0 0]\n",
      "Error on 1st qubit:  [0 0 0 0 0 0 0 0 0 0 1 0 0 0 0 0 0 0 0 0 0 0 0 0 0 0 0 0 0 0 0 0]\n",
      "Error on 2nd qubit:  [0 0 0 0 0 1 0 0 0 0 0 0 0 0 0 0 0 0 0 0 0 0 0 0 0 0 0 0 0 0 0 0]\n"
     ]
    }
   ],
   "source": [
    "# When the Initial Logical State is |0>\n",
    "a = 0\n",
    "b = 1\n",
    "print('When the Initial Logical State is |0>')\n",
    "print('No Error: ', a * np.kron(zero, np.kron(zero, np.kron(zero, np.kron(zero, zero)))).astype(int) +\n",
    "     b * np.kron(one, np.kron(one, np.kron(one, np.kron(zero, zero)))).astype(int))\n",
    "print('Error on 0th qubit: ', a * np.kron(one, np.kron(zero, np.kron(zero, np.kron(one, one)))).astype(int) +\n",
    "     b * np.kron(zero, np.kron(one, np.kron(one, np.kron(one, one)))).astype(int))\n",
    "print('Error on 1st qubit: ', a * np.kron(zero, np.kron(one, np.kron(zero, np.kron(one, zero)))).astype(int) +\n",
    "     b * np.kron(one, np.kron(zero, np.kron(one, np.kron(one, zero)))).astype(int))\n",
    "print('Error on 2nd qubit: ', a * np.kron(zero, np.kron(zero, np.kron(one, np.kron(zero, one)))).astype(int) +\n",
    "     b * np.kron(one, np.kron(one, np.kron(zero, np.kron(zero, one)))).astype(int))\n",
    "# When the Initial Logical State is |1> \n",
    "a = 1\n",
    "b = 0\n",
    "print('\\nWhen the Initial Logical State is |1>')\n",
    "print('No Error: ', a * np.kron(zero, np.kron(zero, np.kron(zero, np.kron(zero, zero)))).astype(int) +\n",
    "     b * np.kron(one, np.kron(one, np.kron(one, np.kron(zero, zero)))).astype(int))\n",
    "print('Error on 0th qubit: ', a * np.kron(one, np.kron(zero, np.kron(zero, np.kron(one, one)))).astype(int) +\n",
    "     b * np.kron(zero, np.kron(one, np.kron(one, np.kron(one, one)))).astype(int))\n",
    "print('Error on 1st qubit: ', a * np.kron(zero, np.kron(one, np.kron(zero, np.kron(one, zero)))).astype(int) +\n",
    "     b * np.kron(one, np.kron(zero, np.kron(one, np.kron(one, zero)))).astype(int))\n",
    "print('Error on 2nd qubit: ', a * np.kron(zero, np.kron(zero, np.kron(one, np.kron(zero, one)))).astype(int) +\n",
    "     b * np.kron(one, np.kron(one, np.kron(zero, np.kron(zero, one)))).astype(int))"
   ]
  },
  {
   "cell_type": "markdown",
   "id": "f8cc25b5",
   "metadata": {},
   "source": [
    "### The function below was made to be able to detect where the error occurs:"
   ]
  },
  {
   "cell_type": "code",
   "execution_count": 46,
   "id": "54a38c4d",
   "metadata": {},
   "outputs": [
    {
     "name": "stdout",
     "output_type": "stream",
     "text": [
      "Bit flip error occured on qubit 0\n"
     ]
    },
    {
     "data": {
      "text/plain": [
       "(0, None)"
      ]
     },
     "execution_count": 46,
     "metadata": {},
     "output_type": "execute_result"
    }
   ],
   "source": [
    "### Detects where the x rotation error occured from the vector from of the 5 qubit system ###\n",
    "def three_qubit_detect_error_location_from_vector(logical_state):\n",
    "    # logical_state: the logical state of our 3 qubit system with 2 ancillas (32 x 1)\n",
    "    \n",
    "    # Initialize error index\n",
    "    error_index = -1\n",
    "\n",
    "    if (logical_state[28] != 0) or (logical_state[0] != 0): # No error occured\n",
    "        error_index = -1\n",
    "        return error_index, print(\"No bit flip error occured.\")\n",
    "    elif (logical_state[15] != 0) or (logical_state[19] != 0): # Error on qubit 0\n",
    "        error_index = 0\n",
    "    elif (logical_state[22] != 0) or (logical_state[10] != 0): # Error on qubit 1\n",
    "        error_index = 1\n",
    "    elif (logical_state[25] != 0) or (logical_state[5] != 0): # Error on qubit 2\n",
    "        error_index = 2\n",
    "        \n",
    "    return error_index, print(\"Bit flip error occured on qubit\", error_index )\n",
    "\n",
    "\n",
    "three_qubit_detect_error_location_from_vector(final_state)"
   ]
  },
  {
   "cell_type": "markdown",
   "id": "3d827ab2",
   "metadata": {},
   "source": [
    "### Now to correct the error:"
   ]
  },
  {
   "cell_type": "code",
   "execution_count": 47,
   "id": "6abed3bb",
   "metadata": {},
   "outputs": [
    {
     "name": "stdout",
     "output_type": "stream",
     "text": [
      "Bit flip error occured on qubit 0\n",
      "[0 0 0 0 0 0 0 0 0 0 0 0 0 0 0 0 0 0 0 0 0 0 0 0 0 0 0 0 0 0 0 1]\n"
     ]
    }
   ],
   "source": [
    "### Correct for errors by applying full X rotation gate to the qubit where the error occured. ###\n",
    "def three_qubit_correct_full_x_error(logical_state):\n",
    "    # logical_state: the logical state of our 3 qubit system with 2 ancillas (32 x 1)\n",
    "\n",
    "    # Find where the error occured using the error detection function\n",
    "    qubit_index = three_qubit_detect_error_location_from_vector(logical_state)[0]\n",
    "    \n",
    "    if qubit_index == 0: # Error on qubit 0\n",
    "        corrected_state = np.dot(np.kron(sigma_x, np.identity(16)), logical_state)\n",
    "    elif qubit_index == 1: # Error on qubit 1\n",
    "        corrected_state = np.dot(np.kron(np.identity(2), np.kron(sigma_x, np.identity(8))), logical_state)\n",
    "    elif qubit_index == 2: # Error on qubit 2\n",
    "        corrected_state = np.dot(np.kron(np.identity(4), np.kron(sigma_x, np.identity(4))), logical_state)\n",
    "    else: # No error occured\n",
    "        corrected_state = logical_state\n",
    "    \n",
    "    return corrected_state\n",
    "\n",
    "\n",
    "print(three_qubit_correct_full_x_error(final_state).astype(int))"
   ]
  },
  {
   "cell_type": "markdown",
   "id": "5dc7e863",
   "metadata": {},
   "source": [
    "#### Below we take the qubit state (32 element array) and take only the first 3 qubits to make sure that the correction worked. This is done by using the function below, but you are able to take as many qubits as youd like from the full system using the function."
   ]
  },
  {
   "cell_type": "code",
   "execution_count": 51,
   "id": "01607aa6",
   "metadata": {
    "scrolled": false
   },
   "outputs": [
    {
     "data": {
      "text/plain": [
       "'01101'"
      ]
     },
     "execution_count": 51,
     "metadata": {},
     "output_type": "execute_result"
    }
   ],
   "source": [
    "# Maybe add in n number of qubits so it works for any system. (currently only works for 5 maximum)\n",
    "def vector_state_to_bit_state_simple(state, k):\n",
    "    # state: the full logical state of the qubit system you wish to reduce\n",
    "    # k: the number of qubits you wish to reduce the system to (must be less than the full system size)\n",
    "    index_of_element = -1\n",
    "    for i in range(state.size):\n",
    "        if state[i] != 0:\n",
    "            index_of_element = i\n",
    "            break\n",
    "\n",
    "    bits = bin(index_of_element)\n",
    "    n = int(np.log(len(state))/np.log(2) + 2)\n",
    "    if len(bits) == n:\n",
    "        bits = bits[2:2+k]\n",
    "    elif len(bits) == n-1:\n",
    "        bits = '0' + bits[2:2+k-1]\n",
    "    elif len(bits) == n-2:\n",
    "        bits = '00' + bits[2:2+k-2]\n",
    "    else:\n",
    "        bits = '000' + bits[2:2+k-3]\n",
    "    \n",
    "    for i in range(0,k):\n",
    "        if len(bits) < k:\n",
    "            bits = bits + '0'\n",
    "        else:\n",
    "            break\n",
    "    return bits\n",
    "\n",
    "state = np.kron(zero, np.kron(one, np.kron(one, np.kron(zero, one))))\n",
    "vector_state_to_bit_state_simple(state, 5)"
   ]
  },
  {
   "cell_type": "markdown",
   "id": "a787d9c1",
   "metadata": {},
   "source": [
    "### We will now take all of the code above and demonstrate the 3 qubit correction code"
   ]
  },
  {
   "cell_type": "code",
   "execution_count": 52,
   "id": "12ffde06",
   "metadata": {
    "scrolled": true
   },
   "outputs": [
    {
     "name": "stdout",
     "output_type": "stream",
     "text": [
      "Bit flip error occured on qubit 1\n",
      "Error State:      [0 0 0 0 0 0 0 0 0 0 0 0 0 0 0 0 0 0 0 0 0 0 1 0 0 0 0 0 0 0 0 0]\n",
      "Corrected State:  [0 0 0 0 0 0 0 0 0 0 0 0 0 0 0 0 0 0 0 0 0 0 0 0 0 0 0 0 0 0 1 0]\n",
      "Error logical state:      101\n",
      "Corrected logical state:  111\n"
     ]
    }
   ],
   "source": [
    "# Our initial single qubit state (Psi) # |0> or |1>\n",
    "initial_psi = np.array([0, 1]) \n",
    "\n",
    "# Initialize our 3 qubit logical state and apply an X error\n",
    "initial_state = three_qubit_initialize_logical_state(initial_psi)[0] # Initialize our 3 qubit logical state\n",
    "error_state = three_qubit_random_qubit_x_error(initial_state)[0] # Apply a random X error to one of our 3 qubits\n",
    "# Now we can apply the CNOT gates to combine our 3 qubit logical state with the 2 syndrome ancillas\n",
    "full_error_state = three_qubit_apply_ancillas(error_state)\n",
    "\n",
    "\n",
    "# Next we correct the final state of our system\n",
    "corrected_state = three_qubit_correct_full_x_error(full_error_state)\n",
    "print('Error State:     ', full_error_state.astype(int))\n",
    "print('Corrected State: ', corrected_state.astype(int))\n",
    "\n",
    "# Output the 3 qubit logical state with the error\n",
    "print('Error logical state:     ', vector_state_to_bit_state_simple(full_error_state, 3))\n",
    "# Output our corrected 3 qubitlogical state\n",
    "print('Corrected logical state: ',vector_state_to_bit_state_simple(corrected_state, 3))"
   ]
  },
  {
   "cell_type": "markdown",
   "id": "a5a05e2d",
   "metadata": {},
   "source": [
    "### To output the corrected states in a superposition using $\\alpha\\vert0\\rangle_L + \\beta\\vert1\\rangle_L$ we redefine our vector state to bit state conversion function to allow for this:\n"
   ]
  },
  {
   "cell_type": "code",
   "execution_count": 53,
   "id": "1273c5c9",
   "metadata": {},
   "outputs": [],
   "source": [
    "### Changes the vector state representation to the bit representation ###\n",
    "def vector_state_to_bit_state(logical_state, k):\n",
    "    # logical_state: the full logical state of the n qubit system you wish to reduce (2^n x 1)\n",
    "    # k: the number of qubits you wish to reduce the system to (must be less than the full system size)\n",
    "\n",
    "    # used to keep an index of where the non-zero element is in the vector representation\n",
    "    index_of_element = np.array([]) \n",
    "    for i in range(logical_state.size):\n",
    "        if logical_state[i] != 0:\n",
    "            index_of_element = np.append(index_of_element, i)\n",
    "\n",
    "    # How many total qubits are in our vector representation\n",
    "    n = int(np.log(len(logical_state))/np.log(2))\n",
    "\n",
    "    # Keeps track of the logical bits needed \n",
    "    # (i.e. a|000> + b|111> : 000 and 111 are considered separate and we will combine them)\n",
    "    log_bit = np.array([])\n",
    "\n",
    "    # Create the bits and make sure they have the correct number of '0's in front \n",
    "    for j in range(index_of_element.size):\n",
    "        bits = bin(index_of_element[j].astype(int))\n",
    "        bits = bits[2:]  # Remove the '0b' prefix\n",
    "\n",
    "        if len(bits) < n:\n",
    "            zeros = '0' * (n - len(bits))\n",
    "            new_bits = zeros + bits[0:(k - (n - len(bits)))]\n",
    "            new_bits = new_bits[0:k]\n",
    "            log_bit = np.append(log_bit, new_bits)\n",
    "        else:\n",
    "            log_bit = np.append(log_bit, bits[0:k])\n",
    "\n",
    "    return log_bit, index_of_element, logical_state"
   ]
  },
  {
   "cell_type": "markdown",
   "id": "79a2d904",
   "metadata": {},
   "source": [
    "### Running our 3 qubit code again but with our initial state being some $\\alpha\\vert0\\rangle_L + \\beta\\vert1\\rangle_L$"
   ]
  },
  {
   "cell_type": "code",
   "execution_count": 54,
   "id": "a6193d58",
   "metadata": {},
   "outputs": [
    {
     "name": "stdout",
     "output_type": "stream",
     "text": [
      "Bit flip error occured on qubit 2\n",
      "Full system error logical state:      0.7071067811865475 00101 0.7071067811865475 11001\n",
      "Full system corrected logical state:  0.7071067811865475 00001 0.7071067811865475 11101\n",
      "Error logical state:      0.7071067811865475 001 0.7071067811865475 110\n",
      "Corrected logical state:  0.7071067811865475 000 0.7071067811865475 111\n"
     ]
    }
   ],
   "source": [
    "# Our initial single qubit state (Psi) # alpha |0>  + beta |1>\n",
    "initial_psi = 1/np.sqrt(2)* np.array([1, 1]) \n",
    "# initial_psi = np.array([0, 1])\n",
    "\n",
    "# Initialize our 3 qubit logical state and apply an X error\n",
    "initial_state = three_qubit_initialize_logical_state(initial_psi)[0] # Initialize our 3 qubit logical state\n",
    "error_state = three_qubit_random_qubit_x_error(initial_state)[0] # Apply a random X error to one of our 3 qubits\n",
    "# Now we can apply the CNOT gates to combine our 3 qubit logical state with the 2 syndrome ancillas\n",
    "full_error_state = three_qubit_apply_ancillas(error_state)\n",
    "\n",
    "\n",
    "# Next we correct the final state of our system\n",
    "full_corrected_state = three_qubit_correct_full_x_error(full_error_state)\n",
    "\n",
    "\n",
    "# Output the 5 qubit logical state with the error\n",
    "error_logical_bits, error_index, error_state = vector_state_to_bit_state(full_error_state, 5)\n",
    "if len(error_index) < 2:\n",
    "    print('Full system error logical state:     ', error_state[error_index[0].astype(int)], error_logical_bits[0])\n",
    "else:\n",
    "    print('Full system error logical state:     ', error_state[error_index[0].astype(int)], error_logical_bits[0], \n",
    "          error_state[error_index[1].astype(int)], error_logical_bits[1])\n",
    "\n",
    "# Output our corrected 5 qubit logical state\n",
    "corrected_logical_bits, corrected_index, corrected_state = vector_state_to_bit_state(full_corrected_state, 5)\n",
    "if len(corrected_index) < 2:\n",
    "    print('Full system corrected logical state: ', corrected_state[corrected_index[0].astype(int)], \n",
    "          corrected_logical_bits[0])\n",
    "else:\n",
    "    print('Full system corrected logical state: ', corrected_state[corrected_index[0].astype(int)], \n",
    "          corrected_logical_bits[0], corrected_state[corrected_index[1].astype(int)], corrected_logical_bits[1])\n",
    "\n",
    "\n",
    "# Output the 3 qubit logical state with the error\n",
    "error_logical_bits, error_index, error_state = vector_state_to_bit_state(error_state, 3)\n",
    "if len(error_index) < 2:\n",
    "    print('Error logical state:     ', error_state[error_index[0].astype(int)], error_logical_bits[0])\n",
    "else:\n",
    "    print('Error logical state:     ', error_state[error_index[0].astype(int)], error_logical_bits[0], \n",
    "          error_state[error_index[1].astype(int)], error_logical_bits[1])\n",
    "# Output our corrected 3 qubit logical state\n",
    "corrected_logical_bits, corrected_index, corrected_state = vector_state_to_bit_state(full_corrected_state, 3)\n",
    "if len(corrected_index) < 2:\n",
    "    print('Corrected logical state: ', corrected_state[corrected_index[0].astype(int)], corrected_logical_bits[0])\n",
    "else:\n",
    "    print('Corrected logical state: ', corrected_state[corrected_index[0].astype(int)], corrected_logical_bits[0], \n",
    "          corrected_state[corrected_index[1].astype(int)], corrected_logical_bits[1])\n"
   ]
  },
  {
   "cell_type": "markdown",
   "id": "fa9ba04e",
   "metadata": {},
   "source": [
    "## A more physically realistic example:\n",
    "#### Next we will consider a different and more physically realistic example by assuming that the errors acting on the qubits are coherent rotations in the form $U = e^{i\\epsilon\\theta_x}$ on each qubit and $\\epsilon << 1$ will be assumed\n",
    "\n",
    "#### The coherent rotations are used in order to be able to represent the state as a state vector rather than having to move to the density matrix.\n",
    "\n",
    "#### Lets assume each qubit experiences the same error: $\\vert\\psi\\rangle_E = E\\vert\\psi\\rangle$ , where \n",
    "$$ E = U^{\\otimes3} = (cos(\\epsilon)\\sigma_I + isin(\\epsilon)\\sigma_x)^{\\otimes3}$$ $$= c_0\\sigma_I\\sigma_I\\sigma_I + c_1(\\sigma_x\\sigma_I\\sigma_I + \\sigma_I\\sigma_x\\sigma_I + \\sigma_I\\sigma_I\\sigma_x) + c_2(\\sigma_x\\sigma_x\\sigma_I + \\sigma_I\\sigma_x\\sigma_x + \\sigma_x\\sigma_I\\sigma_x) + c_3\\sigma_x\\sigma_x\\sigma_x$$\n",
    "#### Where $$ c_0 = cos^3(\\epsilon), \\quad c_1 = icos^2(\\epsilon)sin(\\epsilon), \\quad c_2 = -cos(\\epsilon)sin^2(\\epsilon), \\quad c_3 = -isin^3(\\epsilon)$$\n",
    "\n",
    "#### Now we can run our QEC using the 2 ancilla qubits: \n",
    "$$ U_{QEC}(E\\vert\\psi\\rangle_L\\vert00\\rangle) = U_{QEC}\\biggl(\\biggl( c_0\\sigma_I\\sigma_I\\sigma_I + c_1 (\\sigma_x\\sigma_I\\sigma_I + \\sigma_I\\sigma_x\\sigma_I + \\sigma_I\\sigma_I\\sigma_x) + c_2 (\\sigma_x\\sigma_x\\sigma_I + \\sigma_I\\sigma_x\\sigma_x + \\sigma_x\\sigma_I\\sigma_x) + c_3\\sigma_x\\sigma_x\\sigma_x\\biggr)\\vert00\\rangle\\biggr) $$\n",
    "$$ = c_0\\sigma_I\\sigma_I\\sigma_I\\vert00\\rangle + c_1\\sigma_x\\sigma_I\\sigma_I\\vert11\\rangle + c_1\\sigma_I\\sigma_x\\sigma_I\\vert10\\rangle + c_1\\sigma_I\\sigma_I\\sigma_x\\vert01\\rangle + c_2\\sigma_x\\sigma_x\\sigma_I\\vert10\\rangle + c_2\\sigma_I\\sigma_x\\sigma_x\\vert11\\rangle + c_2\\sigma_x\\sigma_I\\sigma_x\\vert01\\rangle + c_3\\sigma_x\\sigma_x\\sigma_x\\vert00\\rangle $$\n",
    "\n",
    "#### Next we measure the ancilla block and apply the correction. As we can see in the table below, after each correction we have a superposition of a logically correct state and a logically flipped state. "
   ]
  },
  {
   "cell_type": "code",
   "execution_count": 56,
   "id": "20bbd466",
   "metadata": {
    "scrolled": true
   },
   "outputs": [
    {
     "name": "stdout",
     "output_type": "stream",
     "text": [
      "+---------------------+-----------------------------------+\n",
      "| Ancilla Measurement |          Corrected State          |\n",
      "+---------------------+-----------------------------------+\n",
      "|         |00⟩        | c_0|ψ⟩_L + c_3 σ_x σ_x σ_x |ψ⟩_L  |\n",
      "|         |11⟩        |  c_1|ψ⟩_L + c_2 σ_x σ_x σ_x |ψ⟩_L |\n",
      "|         |10⟩        |  c_1|ψ⟩_L + c_2 σ_x σ_x σ_x |ψ⟩_L |\n",
      "|         |01⟩        |  c_1|ψ⟩_L + c_2 σ_x σ_x σ_x |ψ⟩_L |\n",
      "+---------------------+-----------------------------------+\n"
     ]
    }
   ],
   "source": [
    "ancilla_measurement_table = PrettyTable([\"Ancilla Measurement\", \"Corrected State\"])\n",
    " \n",
    "ancilla_measurement_table.add_row([\"|00⟩\", \"c_0|ψ⟩_L + c_3 σ_x σ_x σ_x |ψ⟩_L \"])\n",
    "ancilla_measurement_table.add_row([\"|11⟩\", \"c_1|ψ⟩_L + c_2 σ_x σ_x σ_x |ψ⟩_L\"])\n",
    "ancilla_measurement_table.add_row([\"|10⟩\", \"c_1|ψ⟩_L + c_2 σ_x σ_x σ_x |ψ⟩_L\"])\n",
    "ancilla_measurement_table.add_row([\"|01⟩\", \"c_1|ψ⟩_L + c_2 σ_x σ_x σ_x |ψ⟩_L\"])\n",
    " \n",
    "print(ancilla_measurement_table)"
   ]
  },
  {
   "cell_type": "markdown",
   "id": "24455609",
   "metadata": {},
   "source": [
    "### Calculating the fidelity associated with each term:\n",
    "\n",
    "#### Fidelity without any error correction:\n",
    "#### $$F_{UNENCODED} = \\vert\\langle\\psi\\vert U \\vert\\psi\\rangle\\vert^2 = \\vert\\biggl(\\alpha\\langle0_L\\vert + \\beta\\langle1\\vert_L \\biggr)\\biggl((cos(\\epsilon) + isin(\\epsilon)\\alpha\\vert0\\rangle_L + (cos(\\epsilon) + isin(\\epsilon)\\beta\\vert1\\rangle_L\\biggr)\\vert^2 $$ $$= \\vert\\alpha^2(cos(\\epsilon) + isin(\\epsilon)) + \\beta^2(cos(\\epsilon) + isin(\\epsilon)\\vert^2 = \\vert(\\alpha^2 + \\beta^2)(cos(\\epsilon) + isin(\\epsilon))\\vert^2 = \\biggl(\\vert\\alpha\\vert^2 + \\vert\\beta\\vert^2\\biggr)^2cos^2(\\epsilon) + \\biggl(\\alpha\\beta^* + \\alpha^*\\beta\\biggr)^2sin^2(\\epsilon)$$\n",
    "\n",
    "#### Now lets let $\\vert\\psi\\rangle_L = \\vert0\\rangle_L$ or $\\vert1\\rangle_L$, lets say $\\vert0\\rangle_L$ in this case. so now we have either $\\alpha = 1$ and $\\beta = 0$ or $\\alpha = 0$ and $\\beta = 1$ (the 2nd term above is 0 and the first goes to $cos^2(\\epsilon)$. Thus using small angle approximation $(\\epsilon<<1)$ we can see that $ F_{UNENCODED} = cos^2(\\epsilon) \\approx 1-\\epsilon^2$\n",
    "\n",
    "#### Fidelity after error correction:\n",
    "$$ F_{NO\\space ERROR\\space DETECTED} = \\frac{\\vert Desired\\space State\\vert^2}{\\vert Desired\\space State\\vert^2 + \\vert Error\\space State\\vert^2} = \\frac{\\vert c_0 \\vert^2}{\\vert c_0\\vert^2 + \\vert c_3\\vert^2} = \\frac{cos^6(\\epsilon)}{cos^6(\\epsilon) + sin^6(\\epsilon)} \\approx 1 - \\epsilon^6$$\n",
    "\n",
    "\n",
    "$$ F_{ERROR\\space DETECTED} = \\frac{\\vert Desired\\space State\\vert^2}{\\vert Desired\\space State\\vert^2 + \\vert Error\\space State\\vert^2} = \\frac{\\vert c_1 \\vert^2}{\\vert c_1\\vert^2 + \\vert c_2\\vert^2} = \\frac{cos^4(\\epsilon)sin^2(\\epsilon)}{cos^4(\\epsilon)sin^2(\\epsilon) + cos^2(\\epsilon)sin^4(\\epsilon)} \\approx 1 - \\epsilon^2$$\n",
    "\n",
    "\n",
    "#### As we can see above, the fidelity when no error is detected the error state is surpressed from $O(\\epsilon^2)$ to $O(\\epsilon^6)$ and fidelity increases, while when detecting an error we can see that the error state remains the same and so does our fidelity compared to when we do not encode the system using syndrome ancilla.\n",
    "#### Since $\\epsilon^2 << 1$ we can see that most of the time we will not detect an error, thus our overall fidelity will improve.\n",
    "#### It is important to note that we will never be able to achieve 100% fidelity simply because the final logical state will always contain some superposition (mixture) of the desired state and error state when dealing with coherent (incoherent) errors.\n",
    "\n",
    "#### We can also calculate the probability of having each of these outcomes occur. This can be done by using the magnitude of the resulting logical states after the round of error correction since we know that the probability of being in a certain state say $\\vert0\\rangle$ is $P(\\vert0\\rangle) = \\alpha^2$ and for $\\vert1\\rangle$ is $P(\\vert1\\rangle) = \\beta^2$ when $\\vert\\psi\\rangle = \\alpha\\vert0\\rangle + \\beta\\vert1\\rangle$.\n",
    "\n",
    "#### Thus for no error being detected we have a probability of\n",
    "$$ P_{NO\\space ERROR\\space DETECTED} = \\vert cos^3(\\epsilon) - isin^3(\\epsilon)\\vert^2 = cos^6(\\epsilon) + sin^6(\\epsilon) \\approx 1 - 3\\epsilon^2 + O(\\epsilon^4)$$\n",
    "#### And our probability of detecting an error is \n",
    "$$ P_{ERROR\\space DETECTED} = 3 \\vert icos^2(\\epsilon)sin(\\epsilon) - cos(\\epsilon)sin^2(\\epsilon)\\vert^2 = 3 ( cos^4(\\epsilon)sin^2(\\epsilon) + cos^2(\\epsilon)sin^4(\\epsilon)) \\approx 3\\epsilon^2 + O(\\epsilon^4)$$"
   ]
  },
  {
   "cell_type": "markdown",
   "id": "9d1f44f2",
   "metadata": {},
   "source": [
    "## Below we implement this error model to the 3 qubit code to be able to see how our error correction works now that we have a more realistic error.\n",
    "### First we define 3 functions that will be useful in showing how this example works:"
   ]
  },
  {
   "cell_type": "code",
   "execution_count": 237,
   "id": "ebcd2c2b",
   "metadata": {},
   "outputs": [],
   "source": [
    "### Applies an arbitrary X rotation to all of the three physical qubits in your system ###\n",
    "def three_qubit_coherent_x_rotation_error(logical_state, epsilon, qubits):\n",
    "    # logical_state: state of the logical qubit before error occurs\n",
    "    # epsilon: error constant in a coherent rotation error\n",
    "    U = np.cos(epsilon) * sigma_I + 1j*np.sin(epsilon) * sigma_x # Create the Unitary error operator \n",
    "    if qubits == 3:\n",
    "        E = np.kron(U, np.kron(U, U)) # Create the Error operator that will act on our logical qubit\n",
    "    \n",
    "    elif qubits == 2:\n",
    "        # Choose the index of the qubit you want to apply the error to.\n",
    "        error_index = random.randint(0,2)\n",
    "        # Apply the error to two qubits\n",
    "        if error_index == 0:\n",
    "            E = np.kron(U, np.kron(U, np.identity(2))) # Create the Error operator that will act on our logical qubit\n",
    "        elif error_index == 1:\n",
    "            E = np.kron(U, np.kron(np.identity(2), U)) # Create the Error operator that will act on our logical qubit        elif error_index == 2:\n",
    "        else:\n",
    "            E = np.kron(np.identity(2), np.kron(U, U)) # Create the Error operator that will act on our logical qubit\n",
    "        \n",
    "    elif qubits == 1:\n",
    "        # Choose the index of the qubit you want to apply the error to.\n",
    "        error_index = random.randint(0,2)\n",
    "        # Apply the error to two qubits\n",
    "        if error_index == 0:\n",
    "            E = np.kron(U, np.kron(np.identity(2), np.identity(2))) # Create the Error operator that will act on our logical qubit\n",
    "        elif error_index == 1:\n",
    "            E = np.kron(np.identity(2), np.kron(np.identity(2), U)) # Create the Error operator that will act on our logical qubit        elif error_index == 2:\n",
    "        else:\n",
    "            E = np.kron(np.identity(2), np.kron(U, np.identity(2))) # Create the Error operator that will act on our logical qubit\n",
    "    \n",
    "    # Apply error\n",
    "    errored_state = np.dot(E, logical_state)\n",
    "    \n",
    "    return errored_state, E, U\n",
    "\n",
    "\n",
    "### Detects where the x rotation error occured from the bit form of the 5 qubit system ###\n",
    "def three_qubit_detect_error_location_from_bit_state(logical_bits):\n",
    "    # logical_bits: set of 5 qubits to detect errors with 2 ancilla within the 5 (00000)\n",
    "    \n",
    "    # Initialize error index\n",
    "    error_index = -1\n",
    "    \n",
    "    if ((logical_bits[3] == '1') and (logical_bits[4] == '1')): # Error on qubit 0\n",
    "        error_index = 0\n",
    "    elif ((logical_bits[3] == '1') and (logical_bits[4] == '0')): # Error on qubit 1\n",
    "        error_index = 1\n",
    "    elif ((logical_bits[3] == '0') and (logical_bits[4] == '1')): # Error on qubit 2\n",
    "        error_index = 2\n",
    "    elif(logical_bits[3] and logical_bits[4] == '0'): # No error occured\n",
    "        return error_index, print(\"No bit flip error occured.\")\n",
    "    \n",
    "    return error_index, print(\"Bit flip error occured on qubit\", error_index )\n",
    "\n",
    "\n",
    "### Corrects for the coherent x rotation error\n",
    "def three_qubit_correct_coherent_x_error(error_state, U, k):\n",
    "    # error_state: the vector state representation of the error state\n",
    "    # U: coherent error operator that acts on each qubit\n",
    "    # k: number of qubits in your system including ancilla\n",
    "    \n",
    "    errored_bit_states = vector_state_to_bit_state(error_state, 5)[0]\n",
    "\n",
    "    for i in range(len(errored_bit_states)):\n",
    "        \n",
    "        qubit_index = three_qubit_detect_error_location_from_bit_state(errored_bit_states[i])[0]\n",
    "        if i != 0:\n",
    "            error_state = corrected_state\n",
    "        if qubit_index == 0:\n",
    "            corrected_state = np.dot(np.kron(inv(U), np.identity(16)), error_state)\n",
    "            logical_bit_state = vector_state_to_bit_state(corrected_state, 5)[0]\n",
    "            \n",
    "        elif qubit_index == 1:\n",
    "            corrected_state = np.dot(np.kron(np.identity(2), np.kron(inv(U), np.identity(8))), error_state)\n",
    "            logical_bit_state = vector_state_to_bit_state(corrected_state, 5)[0]\n",
    "\n",
    "        elif qubit_index == 2:\n",
    "            corrected_state = np.dot(np.kron(np.identity(4), np.kron(inv(U), np.identity(4))), error_state)\n",
    "            logical_bit_state = vector_state_to_bit_state(corrected_state, 5)[0]\n",
    "\n",
    "        else:\n",
    "            corrected_state = error_state           \n",
    "            logical_bit_state = vector_state_to_bit_state(corrected_state, 5)[0]\n",
    "#         print(logical_bit_state)\n",
    "        \n",
    "    return corrected_state, logical_bit_state\n"
   ]
  },
  {
   "cell_type": "markdown",
   "id": "3b1ae6d2",
   "metadata": {},
   "source": [
    "### Applying an error to each qubit and applying quantum error correction to our system"
   ]
  },
  {
   "cell_type": "code",
   "execution_count": 249,
   "id": "a0bda283",
   "metadata": {
    "scrolled": false
   },
   "outputs": [
    {
     "name": "stdout",
     "output_type": "stream",
     "text": [
      "No bit flip error occured.\n",
      "Bit flip error occured on qubit 2\n",
      "Bit flip error occured on qubit 1\n",
      "Bit flip error occured on qubit 0\n",
      "Bit flip error occured on qubit 0\n",
      "Bit flip error occured on qubit 1\n",
      "Bit flip error occured on qubit 2\n",
      "No bit flip error occured.\n",
      "['00000' '00001' '00101' '00010' '01010' '01111' '11111' '00011' '10011'\n",
      " '10110' '11110' '11001' '11101' '11100']\n",
      "[ 0.00000000e+00-5.31657685e-12j  0.00000000e+00+5.31657677e-12j\n",
      " -3.04617407e-08+0.00000000e+00j  0.00000000e+00+5.31657677e-12j\n",
      " -3.04617407e-08+0.00000000e+00j  0.00000000e+00+1.74532916e-04j\n",
      "  3.04617407e-08+0.00000000e+00j  0.00000000e+00+5.31657677e-12j\n",
      " -3.04617407e-08+0.00000000e+00j  0.00000000e+00+1.74532916e-04j\n",
      "  3.04617407e-08+0.00000000e+00j  0.00000000e+00+1.74532916e-04j\n",
      "  3.04617407e-08+0.00000000e+00j  9.99999954e-01+0.00000000e+00j]\n"
     ]
    }
   ],
   "source": [
    "# Initialize our 3 qubit logical state\n",
    "psi = np.array([0, 1])\n",
    "# psi = 1/np.sqrt(2) * np.array([1,1])\n",
    "initial_state = three_qubit_initialize_logical_state(psi)[0]\n",
    "epsilon = np.deg2rad(.01)\n",
    "\n",
    "# Apply a coherent error to each of our 3 qubits\n",
    "error_state, E, U = three_qubit_coherent_x_rotation_error(initial_state, epsilon, 3)\n",
    "\n",
    "# Now we can apply the CNOT gates to combine our 3 qubit logical state with the 2 syndrome ancillas\n",
    "full_error_state = three_qubit_apply_ancillas(error_state)\n",
    "\n",
    "# Find the error states in bit form for plotting later on\n",
    "error_logical_bits, error_index, error_state = vector_state_to_bit_state(full_error_state, 5)\n",
    "\n",
    "# Here we take the error state and separate it into 8 vectors so that we can see the error bit states\n",
    "def separate_and_correct_multiple_errors(error_state, n):\n",
    "    x = 0 # used to keep track of first indice where error_state is non-zero\n",
    "    for i in range(len(error_state)):\n",
    "        if error_state[i] != 0: \n",
    "            error_position = np.zeros((1,2**n), dtype=complex) # initialize the vector that will hold the single non-zero value\n",
    "            error_position[:,i] = error_state[i] # insert the non-zero value in the correct spot\n",
    "            \n",
    "#             print(i, ' - ', error_state[i],' - ', error_position, '\\n - - - - - - -') # testing\n",
    "\n",
    "            # Add the error position vector to an array of all the error places\n",
    "            if x == 0:\n",
    "                all_error_states = error_position\n",
    "            else:\n",
    "                all_error_states = np.append(all_error_states, error_position , axis=0)\n",
    "            x+=1\n",
    "\n",
    "    # find the number of rows and columns in the all error state array so that we can loop over the rows\n",
    "    num_rows, num_cols = all_error_states.shape\n",
    "\n",
    "    # Here we take all of the error states and apply the correction depending on where the error occurs\n",
    "    for i in range(num_rows):\n",
    "        # correct for the error\n",
    "#         print(all_error_states[i][:])\n",
    "#         print(vector_state_to_bit_state(all_error_states[i][:], 5)[0])\n",
    "        vector_correct_state, bit_correct_state = three_qubit_correct_coherent_x_error(all_error_states[i][:], U, n)\n",
    "        # add the corrected states to the array for all the corrected states\n",
    "        if i == 0:\n",
    "            corrected_states = [vector_correct_state]\n",
    "            corrected_bit_states = bit_correct_state\n",
    "        else:\n",
    "            corrected_states = np.append(corrected_states, [vector_correct_state], axis = 0)\n",
    "            corrected_bit_states = np.append(corrected_bit_states, bit_correct_state, axis = 0)\n",
    "    \n",
    "    return corrected_states, corrected_bit_states\n",
    "\n",
    "\n",
    "corrected_states, corrected_bit_states = separate_and_correct_multiple_errors(error_state, 5)\n",
    "\n",
    "# testing\n",
    "# print(corrected_bit_states)\n",
    "# num_rows, num_cols = corrected_states.shape\n",
    "# for i in range(num_rows):\n",
    "#     print(vector_state_to_bit_state(corrected_states[i], 5)[0])\n",
    "\n",
    "# For outputting purposes we only need the non zero values, and since the bits are in the same order as the arrays\n",
    "# we can just find the nonzero values in each correct vector to know the magnitude of that state.\n",
    "error_state = error_state[error_state != 0]\n",
    "corrected_states = corrected_states[corrected_states != 0]\n",
    "\n",
    "# Needed to correct for the fact that U * U-inv != Identity exactly due to some rounding issues\n",
    "print(corrected_bit_states)\n",
    "print(corrected_states)\n",
    "pos = [0,1,3,6,7,10,12,13]\n",
    "corrected_bit_states = corrected_bit_states[pos]\n",
    "corrected_states = corrected_states[pos]"
   ]
  },
  {
   "cell_type": "markdown",
   "id": "dee88486",
   "metadata": {},
   "source": [
    "### Below we plot the probabilites of being in different states after an error has occured with no correction and after our quantum error correction protocols. We are able to see 2 key ideas from these plots:\n",
    "#### 1. The fidelity of detecting no error changes between applying quantum error correction protocols or not. We can see the states ($\\vert\\psi\\rangle_L \\vert00\\rangle$ and $\\sigma_X\\sigma_X\\sigma_X\\vert\\psi\\rangle_L \\vert00\\rangle$) have the same probabilites, but if we calculate the fidelity we will see that there is a difference in the expectation value for the unencoded state.\n",
    "#### 2. The fidelity of detecting an error does change between applying quantum error correction protocols or not. We can see that when not applying error correction we get the six states ($\\sigma_x\\sigma_I\\sigma_I\\vert11\\rangle, \\space\\sigma_I\\sigma_x\\sigma_I\\vert10\\rangle, \\space\\sigma_I\\sigma_I\\sigma_x\\vert01\\rangle, \\space\\sigma_x\\sigma_x\\sigma_I\\vert10\\rangle, \\space\\sigma_I\\sigma_x\\sigma_x\\vert11\\rangle, and \\space\\sigma_x\\sigma_I\\sigma_x\\vert01\\rangle $) which all contain errors at some probabilty. However, when we apply our error correction, the states from above will be corrected, however the states will still have some probability they will be correct but at another they will be incorrect.\n",
    "\n",
    "#### These are the reasons we choose to still implement QEC even when we have multiple errors on our system. Our overall fidelity will still increase, due to the fidelity increase when we do not detect an error."
   ]
  },
  {
   "cell_type": "code",
   "execution_count": 250,
   "id": "f56016b7",
   "metadata": {},
   "outputs": [
    {
     "data": {
      "image/png": "[encoded data removed]",
      "text/plain": [
       "<Figure size 2000x480 with 1 Axes>"
      ]
     },
     "metadata": {},
     "output_type": "display_data"
    },
    {
     "data": {
      "image/png": "[encoded data removed]",
      "text/plain": [
       "<Figure size 2000x480 with 1 Axes>"
      ]
     },
     "metadata": {},
     "output_type": "display_data"
    }
   ],
   "source": [
    "# Plotting the error state probabilities\n",
    "fig, ax = plt.subplots()\n",
    "fig.set_figwidth(20)\n",
    "error_state_bars = ax.bar(error_logical_bits, np.abs(\n",
    "    error_state)**2, label = 'Error States Distribution', color = 'tomato')\n",
    "plt.title('Probability Distribution of Error States')\n",
    "plt.xlabel('logcial bit states') \n",
    "plt.ylabel('probability') \n",
    "ax.bar_label(error_state_bars)\n",
    "plt.show()\n",
    "\n",
    "# Plotting the corrected state probabilities\n",
    "fig, ax = plt.subplots()\n",
    "fig.set_figwidth(20)\n",
    "corrected_state_bars = ax.bar(corrected_bit_states, np.abs(\n",
    "    corrected_states)**2, label = 'Corrected States Distribution', color = 'deepskyblue')\n",
    "plt.title('Probability Distribution of Corrected States')\n",
    "plt.xlabel('logcial bit states') \n",
    "plt.ylabel('probability') \n",
    "ax.bar_label(corrected_state_bars)\n",
    "plt.show()"
   ]
  },
  {
   "cell_type": "code",
   "execution_count": 251,
   "id": "aa169713",
   "metadata": {
    "scrolled": true
   },
   "outputs": [
    {
     "name": "stdout",
     "output_type": "stream",
     "text": [
      "As we increase epsilon we will see that the theoretical and actual will begin to shift.\n",
      "|00> theoretical:  1.0\n",
      "|00> actual:       1.0\n",
      "|01> theoretical:  0.999999969538258\n",
      "|01> actual:       0.9999999695382582\n",
      "|10> theoretical:  0.999999969538258\n",
      "|10> actual:       0.9999999695382582\n",
      "|11> theoretical:  0.999999969538258\n",
      "|11> actual:       0.9999999695382582\n"
     ]
    }
   ],
   "source": [
    "# print((np.abs(error_state[7]))**2)\n",
    "# print((np.abs(corrected_states[7]))**2)\n",
    "# print((np.abs(corrected_states[0]))**2)\n",
    "print('As we increase epsilon we will see that the theoretical and actual will begin to shift.')\n",
    "print('|00> theoretical: ', 1-epsilon**6)\n",
    "print('|00> actual:      ', (\n",
    "    (np.abs(corrected_states[7]))**2)/(((np.abs(corrected_states[7]))**2) + ((np.abs(corrected_states[0]))**2)))\n",
    "\n",
    "print('|01> theoretical: ', 1-epsilon**2)\n",
    "print('|01> actual:      ', (\n",
    "    (np.abs(corrected_states[6]))**2)/(((np.abs(corrected_states[6]))**2) + ((np.abs(corrected_states[1]))**2)))\n",
    "\n",
    "print('|10> theoretical: ', 1-epsilon**2)\n",
    "print('|10> actual:      ', (\n",
    "    (np.abs(corrected_states[5]))**2)/(((np.abs(corrected_states[5]))**2) + ((np.abs(corrected_states[2]))**2)))\n",
    "\n",
    "print('|11> theoretical: ', 1-epsilon**2)\n",
    "print('|11> actual:      ', (\n",
    "    (np.abs(corrected_states[3]))**2)/(((np.abs(corrected_states[3]))**2) + ((np.abs(corrected_states[4]))**2)))"
   ]
  },
  {
   "cell_type": "markdown",
   "id": "fa6c2100",
   "metadata": {},
   "source": [
    "### Now to calculate the fidelities of our system"
   ]
  },
  {
   "cell_type": "code",
   "execution_count": 252,
   "id": "78a4ab17",
   "metadata": {},
   "outputs": [
    {
     "name": "stdout",
     "output_type": "stream",
     "text": [
      "Unencoded Fidelity:    0.9999999695382584\n",
      "Encoded No Error Detected Fidelity:  1.0 , with a probability of  0.999999908614778\n",
      "Encoded Error Detected Fidelity:  0.9999999695382583 , with a probability of  9.138522222434176e-08\n",
      " - - - - - - - - - -\n",
      "New Encoded Fidelity:  0.9999999999999974\n",
      " - - - - - - - - - -\n",
      "As you can see our probabilities add up to 1 (with some rounding): 1.0000000000000002\n"
     ]
    }
   ],
   "source": [
    "# Unencoded Fidelity:\n",
    "F_unencoded = (np.cos(epsilon))**2\n",
    "\n",
    "# Encoded Fidelity with no error detected:\n",
    "F_no_error_detected = ((np.cos(epsilon))**6)/((np.cos(epsilon))**6 + (np.sin(epsilon))**6)\n",
    "Prob_no_error_detected = (np.cos(epsilon))**6 + (np.sin(epsilon))**6\n",
    "\n",
    "# Encoded Fidelity with error detected:\n",
    "F_error_detected = (((np.cos(epsilon))**4)*(np.sin(epsilon))**2)/(((np.cos(epsilon))**4)*(np.sin(epsilon))**2 + ((np.sin(epsilon))**4)*(np.cos(epsilon))**2)\n",
    "Prob_error_detected = 3*((np.cos(epsilon)**4 * (np.sin(epsilon))**2) + (np.sin(epsilon)**4 * (np.cos(epsilon))**2))\n",
    "\n",
    "print('Unencoded Fidelity:   ', F_unencoded)\n",
    "print('Encoded No Error Detected Fidelity: ', F_no_error_detected, ', with a probability of ', Prob_no_error_detected)\n",
    "print('Encoded Error Detected Fidelity: ', F_error_detected, ', with a probability of ', Prob_error_detected)\n",
    "print(' - - - - - - - - - -')\n",
    "print('New Encoded Fidelity: ', F_no_error_detected*Prob_no_error_detected + F_error_detected*Prob_error_detected)\n",
    "print(' - - - - - - - - - -')\n",
    "print('As you can see our probabilities add up to 1 (with some rounding):',Prob_no_error_detected + Prob_error_detected)\n"
   ]
  },
  {
   "cell_type": "code",
   "execution_count": null,
   "id": "64af51fb",
   "metadata": {},
   "outputs": [],
   "source": []
  },
  {
   "cell_type": "markdown",
   "id": "d7f90ce7",
   "metadata": {},
   "source": [
    "### Extra resources that could be helpful"
   ]
  },
  {
   "cell_type": "markdown",
   "id": "9a3ed7cf",
   "metadata": {},
   "source": [
    "https://qiskit.org/documentation/stable/0.35/tutorials/circuits/3_summary_of_quantum_operations.html\n",
    "\n",
    "https://www.oreilly.com/library/view/qiskit-pocket-guide/9781098112462/ch01.html\n",
    "\n",
    "Fidelity:\n",
    "https://www.frontiersin.org/articles/10.3389/fphy.2022.893507/full\n",
    "\n",
    "General QEC:\n",
    "http://theory.caltech.edu/~preskill/ph229/notes/chap7.pdf"
   ]
  },
  {
   "cell_type": "code",
   "execution_count": null,
   "id": "5b517852",
   "metadata": {},
   "outputs": [],
   "source": []
  },
  {
   "cell_type": "markdown",
   "id": "c4907f87",
   "metadata": {},
   "source": [
    "### Attempting to 'detangle' the last 2 qubits so that we can see the new corrected logical state properly:\n",
    "#### Method for uncoupling: https://quantumcomputing.stackexchange.com/questions/9648/unentangling-a-qubit-from-a-system-can-we-convert-alpha000-rangle-beta111\n",
    "#### Measurement: https://inst.eecs.berkeley.edu/~cs191/fa14/lectures/lecture89.pdf\n",
    "\n",
    "###  ---- Done by using masking technique ----"
   ]
  }
 ],
 "metadata": {
  "kernelspec": {
   "display_name": "Python 3 (ipykernel)",
   "language": "python",
   "name": "python3"
  },
  "language_info": {
   "codemirror_mode": {
    "name": "ipython",
    "version": 3
   },
   "file_extension": ".py",
   "mimetype": "text/x-python",
   "name": "python",
   "nbconvert_exporter": "python",
   "pygments_lexer": "ipython3",
   "version": "3.10.7"
  }
 },
 "nbformat": 4,
 "nbformat_minor": 5
}
