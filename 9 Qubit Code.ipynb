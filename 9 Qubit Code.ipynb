{
 "cells": [
  {
   "cell_type": "code",
   "execution_count": 1,
   "id": "118926c6",
   "metadata": {},
   "outputs": [],
   "source": [
    "### Applies a random X rotation to one of the physical qubits in your system (randomly) ### \n",
    "def random_qubit_x_error(logical_state, qubit_range = None):\n",
    "    # logical_state: The logical state of the three qubit system you wish to apply the error to\n",
    "    # qubit_range: The indices you want to consider in your error application (starts at 1)\n",
    "    \n",
    "    # total number of qubits in your system\n",
    "    n = int(np.log(len(logical_state))/np.log(2))\n",
    "    \n",
    "    # Choose the index of the qubit you want to apply the error to.\n",
    "    error_index = random.randint(-1,n-1)\n",
    "    if qubit_range != None:\n",
    "        if error_index != -1:\n",
    "            error_index = random.randint(qubit_range[0], qubit_range[1])\n",
    "             \n",
    "    # Apply the error depending on the index\n",
    "    if error_index == -1:\n",
    "        errored_logical_state = logical_state\n",
    "    else:   \n",
    "        error_gate = np.kron(np.identity(2**(error_index)), np.kron(sigma_x, np.identity(2**(n-error_index-1))))\n",
    "        errored_logical_state = np.dot(error_gate, logical_state)\n",
    "\n",
    "    return errored_logical_state, error_index\n",
    "\n",
    "### Applies a random Z rotation to one of the physical qubits in your system (randomly) ### \n",
    "def random_qubit_z_error(logical_state, qubit_range = None):\n",
    "    # logical_state: The logical state of the three qubit system you wish to apply the error to\n",
    "    # qubit_range: The indices you want to consider in your error application (starts at 1)\n",
    "   \n",
    "    # total number of qubits in your system\n",
    "    n = int(np.log(len(logical_state))/np.log(2))\n",
    "    \n",
    "    # Choose the index of the qubit you want to apply the error to.\n",
    "    error_index = random.randint(-1,n-1)\n",
    "    if qubit_range != None:\n",
    "        if error_index != -1:\n",
    "            error_index = random.randint(qubit_range[0], qubit_range[1])\n",
    "             \n",
    "    # Apply the error depending on the index\n",
    "    if error_index == -1:\n",
    "        errored_logical_state = logical_state\n",
    "    else:   \n",
    "        error_gate = np.kron(np.identity(2**(error_index)), np.kron(sigma_z, np.identity(2**(n-error_index-1))))\n",
    "        errored_logical_state = np.dot(error_gate, logical_state)\n",
    "\n",
    "    return errored_logical_state, error_index\n",
    "\n"
   ]
  },
  {
   "cell_type": "markdown",
   "id": "d7d0e7ad",
   "metadata": {},
   "source": [
    "# 9-Qubit Error Correcting Code\n"
   ]
  },
  {
   "cell_type": "markdown",
   "id": "884e4dc0",
   "metadata": {},
   "source": [
    "#### In this notebook, we will show the functionality of the First Full Quantum Code.\n",
    "#### We will refer back to the 3-Qubit Code, as the 9-Qubit Code is a repetition code."
   ]
  },
  {
   "cell_type": "code",
   "execution_count": 2,
   "id": "1d3d2fe6",
   "metadata": {},
   "outputs": [
    {
     "name": "stdout",
     "output_type": "stream",
     "text": [
      "env: QISKIT_SETTINGS={}\n"
     ]
    }
   ],
   "source": [
    "import numpy as np\n",
    "\n",
    "# Importing required libraries\n",
    "from general_qec.qec_helpers import *\n",
    "from general_qec.gates import *\n",
    "from general_qec.errors import *\n",
    "\n",
    "from qiskit import QuantumRegister, ClassicalRegister, QuantumCircuit, Aer, execute\n",
    "from qiskit.visualization import plot_histogram\n",
    "from qiskit import user_config\n",
    "from qiskit.quantum_info import partial_trace\n",
    "\n",
    "import random\n",
    "from qiskit.extensions import UnitaryGate\n",
    "\n",
    "\n",
    "\n",
    "# Visualization of circuits: Initializing backend simulators\n",
    "qasm_sim = Aer.get_backend('qasm_simulator')\n",
    "sv_sim = Aer.get_backend('statevector_simulator')\n",
    "\n",
    "# Setting mpl as default drawer\n",
    "%env QISKIT_SETTINGS {}\n",
    "user_config.set_config('circuit_drawer', 'mpl')\n",
    "\n"
   ]
  },
  {
   "cell_type": "markdown",
   "id": "007b5ffc",
   "metadata": {},
   "source": [
    "## 3 Qubit Code Review\n",
    "\n",
    "#### The 3 Qubit Code was shown to only be able to correct $\\sigma_x$ (Bit-Flip) Errors\n",
    "#### Only able to correct for one type of error at a time\n",
    "\n",
    "\n",
    "### For $\\sigma_z$ (Phase-Flip) Errors, does the error detection circuit signal an error?\n",
    "#### We can build a circuit that detects phase-flip instead of bit-flip errors,\n",
    "#### by instead encoding the qubits in a GHZ state in the $|±\\rangle$ basis:\n",
    "$\\alpha|0\\rangle + \\beta|1\\rangle \\rightarrow \\alpha|000\\rangle + \\beta|111\\rangle \\rightarrow \\alpha|+ + +\\rangle + \n",
    "\\beta|− − −\\rangle $\n",
    "\n"
   ]
  },
  {
   "cell_type": "markdown",
   "id": "3c7bb302",
   "metadata": {},
   "source": [
    "### Gate Operations Review ( CX and CZ ):\n",
    "\n",
    "\n",
    "\n",
    "#### The CNOT gate is typically used to establish entanglement between qubits and implement controlled operations. \n",
    "\n",
    "\n",
    "#### CNOT gate matrix representation:  $$\\begin{pmatrix}\n",
    "1 & 0 & 0 & 0 \\\\\n",
    "0 & 1 & 0 & 0 \\\\\n",
    "0 & 0 & 0 & 1 \\\\\n",
    "0 & 0 & 1 & 0\n",
    "\\end{pmatrix}$$\n",
    "\n",
    "\n",
    "#### The CZ gate, also known as the HGZ gate, is a two-qubit gate that introduces a phase shift of $\\pi$ to the qubit state. \n",
    "#### Phase Shift: Refers to a change in the timing or alignment of a wave or oscillation. \n",
    "\n",
    "\n",
    "#### The Z gate is represented by the following matrix: $$\\begin{pmatrix}\n",
    "1 & 0 & 0 & 0 \\\\\n",
    "0 & 1 & 0 & 0 \\\\\n",
    "0 & 0 & 1 & 0 \\\\\n",
    "0 & 0 & 0 & -1\n",
    "\\end{pmatrix}$$\n",
    "\n",
    "\n",
    "\n",
    "####  When applied to the $\\vert0\\rangle$ state, \n",
    "$$Z\\vert0\\rangle = \\vert0\\rangle$$\n",
    "\n",
    "#### However, when applied to the $\\vert1\\rangle$ state, the Z gate introduces a phase shift of $\\pi$ (or a phase flip) to the state.  \n",
    "$$Z\\vert1\\rangle = -\\vert1\\rangle$$\n",
    "\n",
    "\n",
    "\n"
   ]
  },
  {
   "cell_type": "markdown",
   "id": "97851567",
   "metadata": {},
   "source": [
    "### Foundations of Correction\n",
    "\n",
    "#### This algorithm a single logical qubit,  encoded using 9 physical qubits.\n",
    "#### Able to correct for both a single $\\sigma_x$ error per block of 3 Qubits (bit flip) \n",
    "#### and for a $\\sigma_z$ (phase-flip). \n",
    "\n",
    "#### In this case we will define our two logical states as $\\vert0\\rangle_L$ and $\\vert1\\rangle_L$ where $|0\\rangle_L = \\frac{1}{\\sqrt{8}} \\left( |000\\rangle + |111\\rangle \\right) \\left( |000\\rangle + |111\\rangle \\right) \\left( |000\\rangle + |111\\rangle \\right)$ and\n",
    "$|1\\rangle_L = \\frac{1}{\\sqrt{8}} \\left( |000\\rangle - |111\\rangle \\right) \\left( |000\\rangle - |111\\rangle \\right) \\left( |000\\rangle - |111\\rangle \\right)$ and $\\vert1\\rangle_L = \\vert111\\rangle$\n",
    "\n",
    "#### A single qubit state is still represented by $\\vert\\psi\\rangle_L = \\alpha\\vert0\\rangle_L + \\beta\\vert1\\rangle_L$\n",
    "\n",
    "\n"
   ]
  },
  {
   "cell_type": "markdown",
   "id": "b84f0626",
   "metadata": {
    "scrolled": true
   },
   "source": [
    "#### Below we show the quantum circuit for encoding a single logical qubit in a 9-qubit system."
   ]
  },
  {
   "cell_type": "markdown",
   "id": "98b60d1f",
   "metadata": {},
   "source": [
    "## Implementing for $\\sigma_x$ correction: Logical state of a 9 Qubit Code"
   ]
  },
  {
   "cell_type": "code",
   "execution_count": 52,
   "id": "f182b806",
   "metadata": {
    "scrolled": false
   },
   "outputs": [
    {
     "data": {
      "image/png": "[encoded data removed]",
      "text/plain": [
       "<Figure size 647.181x785.944 with 1 Axes>"
      ]
     },
     "execution_count": 52,
     "metadata": {},
     "output_type": "execute_result"
    }
   ],
   "source": [
    "\n",
    "psi = QuantumRegister(1, '|ψ⟩')\n",
    "ancilla = QuantumRegister(8, '|0⟩')\n",
    "\n",
    "qc = QuantumCircuit(psi, ancilla)\n",
    "qc.cnot(0, 3)\n",
    "qc.cnot(0, 6)\n",
    "qc.h(0)\n",
    "qc.h(3)\n",
    "qc.h(6)\n",
    "qc.cnot(0, 1)\n",
    "qc.cnot(3, 4)\n",
    "qc.cnot(6, 7)\n",
    "qc.cnot(0, 2)\n",
    "qc.cnot(3, 5)\n",
    "qc.cnot(6, 8)\n",
    "qc.barrier()\n",
    "\n",
    "qc.draw()\n",
    " \n",
    "\n",
    "    \n",
    " "
   ]
  },
  {
   "cell_type": "code",
   "execution_count": 53,
   "id": "1396f9cd",
   "metadata": {},
   "outputs": [
    {
     "name": "stdout",
     "output_type": "stream",
     "text": [
      "000000000 :  0.3535533905932737\n",
      "000000111 :  -0.3535533905932737\n",
      "000111000 :  -0.3535533905932737\n",
      "000111111 :  0.3535533905932737\n",
      "111000000 :  -0.3535533905932737\n",
      "111000111 :  0.3535533905932737\n",
      "111111000 :  0.3535533905932737\n",
      "111111111 :  -0.3535533905932737\n"
     ]
    }
   ],
   "source": [
    "\n",
    "def nine_qubit_initialize_logical_state(initial_psi):\n",
    "    initial_ancilla_state = np.array([1, 0])\n",
    "    psi = initial_psi\n",
    "\n",
    "    # Initializing the logical state with 8 ancillas\n",
    "    initial_logical_state = np.kron(psi, np.kron(initial_ancilla_state, np.kron(initial_ancilla_state, np.kron(\n",
    "        initial_ancilla_state, np.kron(initial_ancilla_state, np.kron(initial_ancilla_state, np.kron(\n",
    "            initial_ancilla_state,np.kron(initial_ancilla_state, initial_ancilla_state))))))))\n",
    "\n",
    "\n",
    "    np.shape(initial_logical_state)\n",
    "\n",
    "    # First two non-adjacent qubits on the left\n",
    "    current_state = np.dot(CNOT(0, 3, 9), initial_logical_state)\n",
    "    current_state = np.dot(CNOT(0, 6, 9), current_state)\n",
    "\n",
    "    # All three Hadamard gates\n",
    "    hadamards = np.kron(hadamard, np.kron(np.identity(2**2), np.kron(hadamard, np.kron(\n",
    "        np.identity(2**2), np.kron(hadamard, np.identity(2**2))))))\n",
    "\n",
    "    current_state = np.dot(hadamards, current_state)\n",
    "\n",
    "    # The three adjacent qubits                                                                       \n",
    "    current_state = np.dot(CNOT(0, 1, 9), current_state)\n",
    "    current_state = np.dot(CNOT(3, 4, 9), current_state)\n",
    "    current_state = np.dot(CNOT(6, 7, 9) , current_state)\n",
    "\n",
    "    # Last three qubits\n",
    "    current_state = np.dot(CNOT(0, 2, 9) , current_state)\n",
    "    current_state = np.dot(CNOT(3, 5, 9) , current_state)\n",
    "    current_state = np.dot(CNOT(6, 8, 9) , current_state)\n",
    "\n",
    "    final_logical_state = np.kron(current_state, np.kron(np.array([1, 0]), np.array([1,0])))\n",
    "\n",
    "    k = 9\n",
    "    bit_representation = vector_state_to_bit_state(final_logical_state, k)[0]\n",
    "    \n",
    "    return final_logical_state\n",
    "\n",
    "# Example usage\n",
    "initial_psi = np.array([0, 1])\n",
    "state = nine_qubit_initialize_logical_state(initial_psi)\n",
    "print_state_info(state, 9)"
   ]
  },
  {
   "cell_type": "markdown",
   "id": "a0c70741",
   "metadata": {},
   "source": [
    "## Initializing for our Phase Correction"
   ]
  },
  {
   "cell_type": "markdown",
   "id": "badd252f",
   "metadata": {},
   "source": [
    "### 9 Qubit Phase Flip Error Detection & Correction\n",
    "\n",
    "\n"
   ]
  },
  {
   "cell_type": "code",
   "execution_count": 54,
   "id": "6988f784",
   "metadata": {},
   "outputs": [
    {
     "data": {
      "image/png": "[encoded data removed]",
      "text/plain": [
       "<Figure size 1475.88x953.167 with 1 Axes>"
      ]
     },
     "execution_count": 54,
     "metadata": {},
     "output_type": "execute_result"
    }
   ],
   "source": [
    "psi = QuantumRegister(1, '|ψ⟩')\n",
    "ancilla = QuantumRegister(8, '|0⟩')\n",
    "additional_ancilla = QuantumRegister(10, '|0⟩')\n",
    "qc = QuantumCircuit(11)\n",
    "\n",
    "# Hadamard gates on the left side (vertical arrangement)\n",
    "for i in range(9):\n",
    "    qc.h(i)\n",
    "\n",
    "# Define the Z error correction circuit for Shor's code\n",
    "qc.cx(0, 9)\n",
    "qc.cx(1, 9)\n",
    "qc.cx(2, 9)\n",
    "qc.cx(3, 9)\n",
    "qc.cx(4, 9)\n",
    "qc.cx(5, 9)\n",
    "qc.barrier()\n",
    "qc.cx(3, 10)\n",
    "qc.cx(4, 10)\n",
    "qc.cx(5, 10)\n",
    "qc.cx(6, 10)\n",
    "qc.cx(7, 10)\n",
    "qc.cx(8, 10)\n",
    "\n",
    "# Add barrier gate after the error correction circuit\n",
    "qc.barrier()\n",
    "\n",
    "# Hadamard gates on the right side (vertical arrangement)\n",
    "for i in range(9):\n",
    "    qc.h(i)\n",
    "qc.draw()\n",
    "\n"
   ]
  },
  {
   "cell_type": "code",
   "execution_count": 55,
   "id": "13662454",
   "metadata": {},
   "outputs": [
    {
     "name": "stdout",
     "output_type": "stream",
     "text": [
      "00000000000 :  0.3535533905932737\n",
      "00000011100 :  -0.3535533905932737\n",
      "00011100000 :  -0.3535533905932737\n",
      "00011111100 :  0.3535533905932737\n",
      "11100000000 :  -0.3535533905932737\n",
      "11100011100 :  0.3535533905932737\n",
      "11111100000 :  0.3535533905932737\n",
      "11111111100 :  -0.3535533905932737\n"
     ]
    }
   ],
   "source": [
    "# adding in ancilla qubits\n",
    "zero = np.array([1, 0])\n",
    "vector_state = np.kron(state, np.kron(zero, zero))\n",
    "print_state_info(vector_state, 11)"
   ]
  },
  {
   "cell_type": "code",
   "execution_count": 56,
   "id": "50451734",
   "metadata": {
    "scrolled": true
   },
   "outputs": [
    {
     "name": "stdout",
     "output_type": "stream",
     "text": [
      "No Phase Error Occured\n",
      "00000000000 :  (0.3535533905932731+0j)\n",
      "00000011100 :  (-0.3535533905932731+0j)\n",
      "00011100000 :  (-0.3535533905932731+0j)\n",
      "00011111100 :  (0.3535533905932731+0j)\n",
      "11100000000 :  (-0.3535533905932731+0j)\n",
      "11100011100 :  (0.3535533905932731+0j)\n",
      "11111100000 :  (0.3535533905932731+0j)\n",
      "11111111100 :  (-0.3535533905932731+0j)\n"
     ]
    }
   ],
   "source": [
    "def nine_qubit_corrected_phase_flip(logical_state):\n",
    "    # logical_state: the full vector state representation of your 11 qubit system (9 data, 2 ancilla)\n",
    "                                                 \n",
    "     # First Nine Hadamard gates\n",
    "    hadamards = np.kron(hadamard, np.kron(hadamard, np.kron(hadamard, np.kron(\n",
    "       hadamard, np.kron(hadamard, np.kron(hadamard, np.kron(\n",
    "       hadamard, np.kron(hadamard, np.kron(hadamard, np.identity(2**2))))))))))\n",
    "\n",
    "    current_state = np.dot(hadamards, logical_state)                                            \n",
    "                                                 \n",
    "                                                 \n",
    "    # First Set of 6 CNOTS (We use two sets to detect sign differences)\n",
    "    current_state = np.dot(CNOT(0, 9, 11), current_state)\n",
    "    current_state = np.dot(CNOT(1, 9, 11), current_state)\n",
    "    current_state = np.dot(CNOT(2, 9, 11), current_state)\n",
    "    current_state = np.dot(CNOT(3, 9, 11), current_state)\n",
    "    current_state = np.dot(CNOT(4, 9, 11), current_state)\n",
    "    current_state = np.dot(CNOT(5, 9, 11), current_state)\n",
    "                        \n",
    "                        \n",
    "    # Second Set of 6 CNOTS \n",
    "    current_state = np.dot(CNOT(3, 10, 11), current_state)\n",
    "    current_state = np.dot(CNOT(4, 10, 11), current_state)\n",
    "    current_state = np.dot(CNOT(5, 10, 11), current_state)\n",
    "    current_state = np.dot(CNOT(6, 10, 11), current_state)\n",
    "    current_state = np.dot(CNOT(7, 10, 11), current_state)\n",
    "    current_state = np.dot(CNOT(8, 10, 11), current_state)\n",
    "    \n",
    "                        \n",
    "    # Hadamards applied to each qubit on the right\n",
    "    final_state = np.dot(hadamards, current_state) \n",
    "    final_state[np.abs(final_state) < 1e-15] = 0\n",
    "    \n",
    "    \n",
    "    # Measure ancilla qubits\n",
    "    final_state = collapse_ancilla(final_state, 2)\n",
    "    \n",
    "    ancilla_bits = vector_state_to_bit_state(final_state, 11)[0][0][9:]\n",
    "    \n",
    "    a1 = ancilla_bits[0]\n",
    "    a2 = ancilla_bits[1]\n",
    "    \n",
    "    if (a1 == '0') and (a2 == '0'):\n",
    "        print('No Phase Error Occured')\n",
    "        corrected_state = final_state\n",
    "    elif (a1 == '1') and (a2 == '0'):\n",
    "        print('Phase Error in block 1')\n",
    "        operation = np.kron(sigma_z, np.identity(2**10))\n",
    "        corrected_state = np.dot(operation, final_state)\n",
    "    elif (a1 == '0') and (a2 == '1'):\n",
    "        print('Phase Error in block 3')\n",
    "        operation = np.kron(np.identity(2**6),np.kron(sigma_z, np.identity(2**4)))\n",
    "        corrected_state = np.dot(operation, final_state)\n",
    "    elif (a1 == '1') and (a2 == '1'):\n",
    "        print('Phase Error in block 2')\n",
    "        operation = np.kron(np.identity(2**3), np.kron(sigma_z, np.identity(2**7)))\n",
    "        corrected_state = np.dot(operation, final_state)\n",
    "    \n",
    "    return corrected_state\n",
    "\n",
    "# Example usage\n",
    "final_state = nine_qubit_corrected_phase_flip(state)\n",
    "\n",
    "print_state_info(final_state, 11)\n"
   ]
  },
  {
   "cell_type": "code",
   "execution_count": 57,
   "id": "7c08d712",
   "metadata": {},
   "outputs": [
    {
     "name": "stdout",
     "output_type": "stream",
     "text": [
      "00000000000 :  0.3535533905932737\n",
      "00000011100 :  0.3535533905932737\n",
      "00011100000 :  -0.3535533905932737\n",
      "00011111100 :  -0.3535533905932737\n",
      "11100000000 :  -0.3535533905932737\n",
      "11100011100 :  -0.3535533905932737\n",
      "11111100000 :  0.3535533905932737\n",
      "11111111100 :  0.3535533905932737\n"
     ]
    }
   ],
   "source": [
    "errored_state = random_qubit_z_error(state, qubit_range = [0,8])[0]\n",
    "print_state_info(errored_state, 11)"
   ]
  },
  {
   "cell_type": "code",
   "execution_count": 58,
   "id": "18295604",
   "metadata": {},
   "outputs": [
    {
     "name": "stdout",
     "output_type": "stream",
     "text": [
      "Phase Error in block 3\n",
      "00000000001 :  (0.3535533905932731+0j)\n",
      "00000011101 :  (-0.3535533905932731+0j)\n",
      "00011100001 :  (-0.3535533905932731+0j)\n",
      "00011111101 :  (0.3535533905932731+0j)\n",
      "11100000001 :  (-0.3535533905932731+0j)\n",
      "11100011101 :  (0.3535533905932731+0j)\n",
      "11111100001 :  (0.3535533905932731+0j)\n",
      "11111111101 :  (-0.3535533905932731+0j)\n"
     ]
    }
   ],
   "source": [
    "corrected_state = nine_qubit_corrected_phase_flip(errored_state)\n",
    "print_state_info(corrected_state, 11)"
   ]
  },
  {
   "cell_type": "code",
   "execution_count": 59,
   "id": "8a2a8e94",
   "metadata": {},
   "outputs": [
    {
     "name": "stdout",
     "output_type": "stream",
     "text": [
      "00000000000 :  (0.3535533905932731+0j)\n",
      "00000011100 :  (-0.3535533905932731+0j)\n",
      "00011100000 :  (-0.3535533905932731+0j)\n",
      "00011111100 :  (0.3535533905932731+0j)\n",
      "11100000000 :  (-0.3535533905932731+0j)\n",
      "11100011100 :  (0.3535533905932731+0j)\n",
      "11111100000 :  (0.3535533905932731+0j)\n",
      "11111111100 :  (-0.3535533905932731+0j)\n"
     ]
    }
   ],
   "source": [
    "reset_state = ancilla_reset(corrected_state, 2)\n",
    "print_state_info(reset_state, 11)"
   ]
  },
  {
   "cell_type": "markdown",
   "id": "966882c8",
   "metadata": {},
   "source": [
    "## Bit-Flip Error Detection and Correction"
   ]
  },
  {
   "cell_type": "code",
   "execution_count": 68,
   "id": "dec08cff",
   "metadata": {},
   "outputs": [],
   "source": [
    "    \n",
    "# First block  \n",
    "\n",
    "def first_block(logical_state):\n",
    "    \n",
    "    # We will treat this initialization in three blocks \n",
    "    # Each of the three (imaginary) blocks of the 9 Qubit Code, \n",
    "    # correspond to same behavior of the three qubit system.\n",
    "\n",
    "    current_state = np.dot(CNOT(0, 9, 11), logical_state)   \n",
    "    current_state = np.dot(CNOT(1, 9, 11), current_state)\n",
    "    current_state = np.dot(CNOT(0, 10, 11), current_state)\n",
    "    current_state = np.dot(CNOT(2, 10, 11), current_state)\n",
    "    \n",
    "       \n",
    "    # Measure ancilla qubits\n",
    "    final_state = collapse_ancilla(current_state, 2)\n",
    "    ancilla_bits = vector_state_to_bit_state(final_state, 11)[0][0][9:]\n",
    "    \n",
    "    a1 = ancilla_bits[0]\n",
    "    a2 = ancilla_bits[1]\n",
    "    \n",
    "    if (a1 == '0') and (a2 == '0'):\n",
    "        print('No Bit Error Occured')\n",
    "        corrected_state = final_state\n",
    "    elif (a1 == '1') and (a2 == '1'):\n",
    "        print('Bit Error in qubit 1')\n",
    "        operation = np.kron(sigma_x, np.identity(2**10))\n",
    "        corrected_state = np.dot(operation, final_state)\n",
    "    elif (a1 == '1') and (a2 == '0'):\n",
    "        print('Bit Error in qubit 2')\n",
    "        operation = np.kron(np.identity(2), np.kron(sigma_x, np.identity(2**9)))\n",
    "        corrected_state = np.dot(operation, final_state)\n",
    "    elif (a1 == '0') and (a2 == '1'):\n",
    "        print('Bit Error in qubit 3')\n",
    "        operation = np.kron(np.identity(2**2), np.kron(sigma_x, np.identity(2**8)))\n",
    "        corrected_state = np.dot(operation, final_state)\n",
    "    \n",
    "    return corrected_state\n",
    "\n",
    "\n",
    "    \n",
    "# Second Block\n",
    "def second_block(logical_state): \n",
    "    # Second Block\n",
    "    current_state = np.dot(CNOT(3, 9, 11), logical_state)\n",
    "    current_state = np.dot(CNOT(4, 9, 11), current_state)\n",
    "    current_state = np.dot(CNOT(3, 10, 11), current_state)\n",
    "    current_state = np.dot(CNOT(5, 10, 11), current_state)\n",
    "    \n",
    "       \n",
    "    # Measure ancilla qubits\n",
    "    final_state = collapse_ancilla(current_state, 2)\n",
    "    ancilla_bits = vector_state_to_bit_state(final_state, 11)[0][0][9:]\n",
    "    \n",
    "    a1 = ancilla_bits[0]\n",
    "    a2 = ancilla_bits[1]\n",
    "    \n",
    "    if (a1 == '0') and (a2 == '0'):\n",
    "        print('No Bit Error Occured')\n",
    "        corrected_state = final_state\n",
    "    elif (a1 == '1') and (a2 == '1'):\n",
    "        print('Bit Error in qubit 1')\n",
    "        operation = np.kron(np.identity(2**3),np.kron(sigma_x, np.identity(2**7)))\n",
    "        corrected_state = np.dot(operation, final_state)\n",
    "    elif (a1 == '1') and (a2 == '0'):\n",
    "        print('Bit Error in qubit 2')\n",
    "        operation = np.kron(np.identity(2**4),np.kron(sigma_x, np.identity(2**6)))\n",
    "        corrected_state = np.dot(operation, final_state)\n",
    "    elif (a1 == '0') and (a2 == '1'):\n",
    "        print('Bit Error in qubit 3')\n",
    "        operation = np.kron(np.identity(2**5),np.kron(sigma_x, np.identity(2**5)))\n",
    "        corrected_state = np.dot(operation, final_state)\n",
    "    \n",
    "    return corrected_state\n",
    "\n",
    "\n",
    "# Third Block \n",
    "def third_block(logical_state):\n",
    "    # Third Block\n",
    "    current_state = np.dot(CNOT(6, 9, 11), logical_state)\n",
    "    current_state = np.dot(CNOT(7, 9, 11), current_state)\n",
    "    current_state = np.dot(CNOT(6, 10, 11), current_state)\n",
    "    current_state = np.dot(CNOT(8, 10, 11), current_state)\n",
    "    \n",
    "       \n",
    "    # Measure ancilla qubits\n",
    "    final_state = collapse_ancilla(current_state, 2)\n",
    "    ancilla_bits = vector_state_to_bit_state(final_state, 11)[0][0][9:]\n",
    "    \n",
    "    a1 = ancilla_bits[0]\n",
    "    a2 = ancilla_bits[1]\n",
    "    \n",
    "    if (a1 == '0') and (a2 == '0'):\n",
    "        print('No Bit Error Occured')\n",
    "        corrected_state = final_state\n",
    "    elif (a1 == '1') and (a2 == '1'):\n",
    "        print('Bit Error in qubit 1')\n",
    "        operation = np.kron(np.identity(2**6),np.kron(sigma_x, np.identity(2**4)))\n",
    "        corrected_state = np.dot(operation, final_state)\n",
    "    elif (a1 == '1') and (a2 == '0'):\n",
    "        print('Bit Error in qubit 2')\n",
    "        operation = np.kron(np.identity(2**7),np.kron(sigma_x, np.identity(2**3)))\n",
    "        corrected_state = np.dot(operation, final_state)\n",
    "    elif (a1 == '0') and (a2 == '1'):\n",
    "        print('Bit Error in qubit 3')\n",
    "        operation = np.kron(np.identity(2**8),np.kron(sigma_x, np.identity(2**2)))\n",
    "        corrected_state = np.dot(operation, final_state)\n",
    "    \n",
    "    return corrected_state   \n",
    "    "
   ]
  },
  {
   "cell_type": "code",
   "execution_count": 69,
   "id": "e6f73062",
   "metadata": {},
   "outputs": [
    {
     "name": "stdout",
     "output_type": "stream",
     "text": [
      "00000000000 :  (0.3535533905932731+0j)\n",
      "00000011100 :  (-0.3535533905932731+0j)\n",
      "00011100000 :  (-0.3535533905932731+0j)\n",
      "00011111100 :  (0.3535533905932731+0j)\n",
      "11100000000 :  (-0.3535533905932731+0j)\n",
      "11100011100 :  (0.3535533905932731+0j)\n",
      "11111100000 :  (0.3535533905932731+0j)\n",
      "11111111100 :  (-0.3535533905932731+0j)\n"
     ]
    }
   ],
   "source": [
    "print_state_info(reset_state, 11)"
   ]
  },
  {
   "cell_type": "code",
   "execution_count": 70,
   "id": "5f96991b",
   "metadata": {},
   "outputs": [
    {
     "name": "stdout",
     "output_type": "stream",
     "text": [
      "01000000000 :  (0.3535533905932731+0j)\n",
      "01000011100 :  (-0.3535533905932731+0j)\n",
      "01011100000 :  (-0.3535533905932731+0j)\n",
      "01011111100 :  (0.3535533905932731+0j)\n",
      "10100000000 :  (-0.3535533905932731+0j)\n",
      "10100011100 :  (0.3535533905932731+0j)\n",
      "10111100000 :  (0.3535533905932731+0j)\n",
      "10111111100 :  (-0.3535533905932731+0j)\n"
     ]
    }
   ],
   "source": [
    "# This cell is specific to block 1  \n",
    "errored_state = random_qubit_x_error(reset_state, [0,2])[0]   # The [0,2] show qubits 1,2, and 3\n",
    "print_state_info(errored_state, 11)"
   ]
  },
  {
   "cell_type": "code",
   "execution_count": 71,
   "id": "6be80e16",
   "metadata": {},
   "outputs": [
    {
     "name": "stdout",
     "output_type": "stream",
     "text": [
      "01001100000 :  (-0.3535533905932731+0j)\n",
      "01001111100 :  (0.3535533905932731+0j)\n",
      "01010000000 :  (0.3535533905932731+0j)\n",
      "01010011100 :  (-0.3535533905932731+0j)\n",
      "10101100000 :  (0.3535533905932731+0j)\n",
      "10101111100 :  (-0.3535533905932731+0j)\n",
      "10110000000 :  (-0.3535533905932731+0j)\n",
      "10110011100 :  (0.3535533905932731+0j)\n"
     ]
    }
   ],
   "source": [
    "# This cell is specific to block 2  \n",
    "errored_state = random_qubit_x_error(errored_state, [3,5])[0]   # The [3,5] show qubits 4,5, and 6\n",
    "print_state_info(errored_state, 11)"
   ]
  },
  {
   "cell_type": "code",
   "execution_count": 72,
   "id": "3e20774c",
   "metadata": {},
   "outputs": [
    {
     "name": "stdout",
     "output_type": "stream",
     "text": [
      "01001100000 :  (-0.3535533905932731+0j)\n",
      "01001111100 :  (0.3535533905932731+0j)\n",
      "01010000000 :  (0.3535533905932731+0j)\n",
      "01010011100 :  (-0.3535533905932731+0j)\n",
      "10101100000 :  (0.3535533905932731+0j)\n",
      "10101111100 :  (-0.3535533905932731+0j)\n",
      "10110000000 :  (-0.3535533905932731+0j)\n",
      "10110011100 :  (0.3535533905932731+0j)\n"
     ]
    }
   ],
   "source": [
    "# This cell is specific to block 3\n",
    "errored_state = random_qubit_x_error(errored_state, [6,8])[0]   # The [6,8] show qubits 7,8, and 9\n",
    "print_state_info(errored_state, 11)\n"
   ]
  },
  {
   "cell_type": "markdown",
   "id": "7d818536",
   "metadata": {},
   "source": [
    "### Performing error correction per block\n",
    "#### 11 = Bit Error on Qubit 1\n",
    "#### 10 = Bit Error on Qubit 2\n",
    "#### 01 = Bit Error on Qubit 3"
   ]
  },
  {
   "cell_type": "code",
   "execution_count": 73,
   "id": "bf8bec48",
   "metadata": {},
   "outputs": [
    {
     "name": "stdout",
     "output_type": "stream",
     "text": [
      "Bit Error in qubit 2\n",
      "00001100010 :  (-0.3535533905932731+0j)\n",
      "00001111110 :  (0.3535533905932731+0j)\n",
      "00010000010 :  (0.3535533905932731+0j)\n",
      "00010011110 :  (-0.3535533905932731+0j)\n",
      "11101100010 :  (0.3535533905932731+0j)\n",
      "11101111110 :  (-0.3535533905932731+0j)\n",
      "11110000010 :  (-0.3535533905932731+0j)\n",
      "11110011110 :  (0.3535533905932731+0j)\n"
     ]
    }
   ],
   "source": [
    "# This cell is specific to block 1 \n",
    "corrected_first_block_state = first_block(errored_state)\n",
    "print_state_info(corrected_first_block_state, 11)"
   ]
  },
  {
   "cell_type": "code",
   "execution_count": 74,
   "id": "acc24192",
   "metadata": {
    "scrolled": true
   },
   "outputs": [
    {
     "name": "stdout",
     "output_type": "stream",
     "text": [
      "Bit Error in qubit 1\n",
      "01000000011 :  (0.3535533905932731+0j)\n",
      "01000011111 :  (-0.3535533905932731+0j)\n",
      "01011100011 :  (-0.3535533905932731+0j)\n",
      "01011111111 :  (0.3535533905932731+0j)\n",
      "10100000011 :  (-0.3535533905932731+0j)\n",
      "10100011111 :  (0.3535533905932731+0j)\n",
      "10111100011 :  (0.3535533905932731+0j)\n",
      "10111111111 :  (-0.3535533905932731+0j)\n"
     ]
    }
   ],
   "source": [
    "# This cell is specific to block 2\n",
    "# Now, we need to reset the ancillas\n",
    "#collapse_ancilla(errored_state, 11)\n",
    "errored_state =ancilla_reset(errored_state, 2) \n",
    "#reset_state = ancilla_reset(corrected_state, 2)\n",
    "\n",
    "corrected_second_block_state = second_block(errored_state)\n",
    "print_state_info(corrected_second_block_state, 11)"
   ]
  },
  {
   "cell_type": "code",
   "execution_count": 75,
   "id": "2fbcefb8",
   "metadata": {},
   "outputs": [
    {
     "name": "stdout",
     "output_type": "stream",
     "text": [
      "No Bit Error Occured\n",
      "01001100000 :  (-0.3535533905932731+0j)\n",
      "01001111100 :  (0.3535533905932731+0j)\n",
      "01010000000 :  (0.3535533905932731+0j)\n",
      "01010011100 :  (-0.3535533905932731+0j)\n",
      "10101100000 :  (0.3535533905932731+0j)\n",
      "10101111100 :  (-0.3535533905932731+0j)\n",
      "10110000000 :  (-0.3535533905932731+0j)\n",
      "10110011100 :  (0.3535533905932731+0j)\n"
     ]
    }
   ],
   "source": [
    "# This cell is specific to block 1\n",
    "\n",
    "errored_state =ancilla_reset(errored_state, 2) \n",
    "#reset_state = ancilla_reset(corrected_state, 2)\n",
    "\n",
    "corrected_third_block_state = third_block(errored_state)\n",
    "print_state_info(corrected_third_block_state, 11)"
   ]
  },
  {
   "cell_type": "code",
   "execution_count": 138,
   "id": "39f14d8c",
   "metadata": {},
   "outputs": [
    {
     "ename": "SyntaxError",
     "evalue": "invalid syntax (3816302276.py, line 7)",
     "output_type": "error",
     "traceback": [
      "\u001b[0;36m  Cell \u001b[0;32mIn[138], line 7\u001b[0;36m\u001b[0m\n\u001b[0;31m    collapse_ancilla(logical_state, 2):\u001b[0m\n\u001b[0m                                      ^\u001b[0m\n\u001b[0;31mSyntaxError\u001b[0m\u001b[0;31m:\u001b[0m invalid syntax\n"
     ]
    }
   ],
   "source": [
    "def correct_9_qubit_bit_flip(logical_state):\n",
    "    \n",
    "   # This is detection of the first_block\n",
    "    \n",
    "    final_state =  first_block(logical_state)\n",
    "    print_state_info(final_state, 11)\n",
    "    collapse_ancilla(logical_state, 2):\n",
    "    ancilla_reset(logical_state, 2):\n",
    "    \n",
    "\n",
    "\n",
    "    second_block(logical_state)\n",
    "    final_state =  second_block(logical_state)\n",
    "    print_state_info(final_state, 11)\n",
    "    collapse_ancilla(logical_state, 2):\n",
    "    ancilla_reset(logical_state, 2):\n",
    "        \n",
    "    final_state = third_block(logical_state)\n",
    "    print_state_info(final_state, 2)\n",
    "    collapse_ancilla(logical_state, 2):\n",
    "    ancilla_reset(logical_state, 2):\n",
    "\n"
   ]
  },
  {
   "cell_type": "code",
   "execution_count": null,
   "id": "2dfafcfc",
   "metadata": {},
   "outputs": [],
   "source": []
  },
  {
   "cell_type": "code",
   "execution_count": null,
   "id": "dc3cf296",
   "metadata": {},
   "outputs": [],
   "source": [
    "\n",
    "### Collapse the ancilla qubits to one of their states and return the vector representation ###\n",
    "def collapse_ancilla(logical_state, k):\n",
    "    # logical_state: The vector state representation of your full qubit system\n",
    "    #k: number of ancillas in your system (at the end of the bit representation)\n",
    "    \n",
    "    # How many total qubits are in our vector representation\n",
    "    n = int(np.log(len(logical_state))/np.log(2))\n",
    "\n",
    "    # Find all of the bit combinations that are in our vector state representation\n",
    "    all_bits = vector_state_to_bit_state(logical_state, n)[0]\n",
    "\n",
    "    # create two empty arrays to stor information\n",
    "    organized_bits = np.array([])\n",
    "    all_organized_bits = np.array([[]])\n",
    "\n",
    "    # loop over our bit representations and organize them based on \n",
    "    # whether or not they have the same ancilla qubits\n",
    "    for j in range(int(len(all_bits)/2)):\n",
    "        organized_bits = all_bits\n",
    "        for i in range(len(all_bits)):\n",
    "            if all_bits[j][n-k:] != all_bits[i][n-k:]:\n",
    "                organized_bits = np.delete(organized_bits, organized_bits == all_bits[i])\n",
    "        if j == 0:\n",
    "            all_organized_bits = [organized_bits]\n",
    "        else:\n",
    "            all_organized_bits = np.append(all_organized_bits, [organized_bits], axis = 0)\n",
    "\n",
    "    # find which ancilla we will measure\n",
    "    x = random.randint(0,len(all_organized_bits)-1)\n",
    "    # set our collapsed state to that ancilla measurement\n",
    "    collapsed_bits = all_organized_bits[x]\n",
    "\n",
    "\n",
    "    # Here we take the vector state and separate it into vectors so that we can apply corrections\n",
    "    x = 0 # used to keep track of first indice where vector_state is non-zero\n",
    "\n",
    "    for i in range(len(logical_state)):\n",
    "        if logical_state[i] != 0: \n",
    "            # initialize the vector that will hold the single non-zero value in the proper spot\n",
    "            value_position = np.zeros((2**n,), dtype=complex) \n",
    "            value_position[i,] = logical_state[i] # insert the non-zero value in the correct spot\n",
    "            # Add the value position vector to an array of all the error places\n",
    "            if x == 0:\n",
    "                all_vector_states = [value_position]\n",
    "            else:\n",
    "                all_vector_states = np.append(all_vector_states, [value_position] , axis=0)\n",
    "            x+=1\n",
    "\n",
    "    # find the number of rows and columns in the all error state array so that we can loop over the rows later\n",
    "    num_rows, num_cols = np.array(all_vector_states).shape\n",
    "\n",
    "    # take out the vectors that do not match our collapsed bit state\n",
    "    for j in range(num_rows):\n",
    "        if vector_state_to_bit_state(all_vector_states[j], n)[0] not in collapsed_bits : \n",
    "            all_vector_states[j][:].fill(0)\n",
    "\n",
    "    # combine the vector states again\n",
    "    collapsed_vector_state = np.zeros((2**(n),), dtype=complex)\n",
    "    for j in range(num_rows):\n",
    "        collapsed_vector_state = collapsed_vector_state + all_vector_states[j][:]\n",
    "\n",
    "    return collapsed_vector_state"
   ]
  },
  {
   "cell_type": "code",
   "execution_count": null,
   "id": "1ee4febe",
   "metadata": {},
   "outputs": [],
   "source": [
    "### Reset the ancilla qubits to '0' ###\n",
    "def ancilla_reset(logical_state, k):\n",
    "    # logical_state: The vector state representation of your full qubit system\n",
    "    #k: number of ancillas in your system (at the end of the bit representation)\n",
    "    zero = np.array([[1, 0]])\n",
    "    one = np.array([[0, 1]])\n",
    "\n",
    "    # How many total qubits are in our vector representation\n",
    "    n = int(np.log(len(logical_state))/np.log(2))\n",
    "    \n",
    "    reset_state = logical_state\n",
    "\n",
    "    all_ancilla_bits = vector_state_to_bit_state(reset_state, n)[0]\n",
    "    \n",
    "    for j in range(len(all_ancilla_bits)):\n",
    "        ancilla_bits = vector_state_to_bit_state(reset_state, n)[0][j]\n",
    "        for i in range(n):\n",
    "            if i >= n-k:\n",
    "                if ancilla_bits[i] == '1':\n",
    "                    reset_gate = np.kron(np.identity(2**(i)), np.kron(sigma_x, np.identity(\n",
    "                            2**(n-i-1))))\n",
    "\n",
    "                    # reset the ith ancilla qubit using the reset gate\n",
    "                    reset_state = np.dot(reset_gate, reset_state)\n",
    "\n",
    "    return reset_state"
   ]
  },
  {
   "cell_type": "code",
   "execution_count": null,
   "id": "5ad9237e",
   "metadata": {},
   "outputs": [],
   "source": []
  },
  {
   "cell_type": "code",
   "execution_count": null,
   "id": "f9671f21",
   "metadata": {},
   "outputs": [],
   "source": []
  },
  {
   "cell_type": "code",
   "execution_count": null,
   "id": "28a6f159",
   "metadata": {},
   "outputs": [],
   "source": []
  },
  {
   "cell_type": "code",
   "execution_count": null,
   "id": "2f535bf6",
   "metadata": {},
   "outputs": [],
   "source": []
  },
  {
   "cell_type": "code",
   "execution_count": null,
   "id": "35e75f1d",
   "metadata": {},
   "outputs": [],
   "source": []
  },
  {
   "cell_type": "code",
   "execution_count": null,
   "id": "dd76a559",
   "metadata": {},
   "outputs": [],
   "source": []
  },
  {
   "cell_type": "code",
   "execution_count": null,
   "id": "8f8079c2",
   "metadata": {},
   "outputs": [],
   "source": []
  },
  {
   "cell_type": "markdown",
   "id": "6e379c3f",
   "metadata": {},
   "source": [
    "## Degeneracy in Error Correction\n",
    "#### Regardless of what qubit is affected, the procedure will correct without a one-to-one correspondence"
   ]
  },
  {
   "cell_type": "code",
   "execution_count": null,
   "id": "c65d1134",
   "metadata": {},
   "outputs": [],
   "source": [
    "Framework Behind Degenerate Code: The Bacon- Shor Code"
   ]
  },
  {
   "cell_type": "code",
   "execution_count": 7,
   "id": "fe2f9402",
   "metadata": {},
   "outputs": [
    {
     "data": {
      "image/png": "[encoded data removed]",
      "text/plain": [
       "<Figure size 1170.2x626.08 with 1 Axes>"
      ]
     },
     "execution_count": 7,
     "metadata": {},
     "output_type": "execute_result"
    }
   ],
   "source": [
    "#####Shor code starts here ########\n",
    "q = QuantumRegister(9,'q')\n",
    "c = ClassicalRegister(1,'c')\n",
    "\n",
    "circuit = QuantumCircuit(q,c)\n",
    "\n",
    "circuit.cx(q[0],q[3])\n",
    "circuit.cx(q[0],q[6])\n",
    "\n",
    "circuit.h(q[0])\n",
    "circuit.h(q[3])\n",
    "circuit.h(q[6])\n",
    "\n",
    "circuit.cx(q[0],q[1])\n",
    "circuit.cx(q[3],q[4])\n",
    "circuit.cx(q[6],q[7])\n",
    "\n",
    "circuit.cx(q[0],q[2])\n",
    "circuit.cx(q[3],q[5])\n",
    "circuit.cx(q[6],q[8])\n",
    "\n",
    "circuit.barrier(q)\n",
    "\n",
    "####error here############\n",
    "circuit.x(q[0])#Bit flip error\n",
    "#circuit.x(q[5])#Bit flip error\n",
    "#circuit.x(q[8])#Bit flip error\n",
    "circuit.z(q[0])#Phase flip error\n",
    "############################\n",
    "\n",
    "circuit.barrier(q)\n",
    "circuit.cx(q[0],q[1])\n",
    "circuit.cx(q[3],q[4])\n",
    "circuit.cx(q[6],q[7])\n",
    "\n",
    "circuit.cx(q[0],q[2])\n",
    "circuit.cx(q[3],q[5])\n",
    "circuit.cx(q[6],q[8])\n",
    "\n",
    "circuit.ccx(q[1],q[2],q[0])\n",
    "circuit.ccx(q[4],q[5],q[3])\n",
    "circuit.ccx(q[8],q[7],q[6])\n",
    "\n",
    "circuit.h(q[0])\n",
    "circuit.h(q[3])\n",
    "circuit.h(q[6])\n",
    "\n",
    "circuit.cx(q[0],q[3])\n",
    "circuit.cx(q[0],q[6])\n",
    "circuit.ccx(q[6],q[3],q[0])\n",
    "\n",
    "circuit.barrier(q)\n",
    "\n",
    "circuit.measure(q[0],c[0])\n",
    "\n",
    "circuit.draw()"
   ]
  },
  {
   "cell_type": "code",
   "execution_count": null,
   "id": "e59eeaa4",
   "metadata": {},
   "outputs": [],
   "source": []
  }
 ],
 "metadata": {
  "kernelspec": {
   "display_name": "Python 3 (ipykernel)",
   "language": "python",
   "name": "python3"
  },
  "language_info": {
   "codemirror_mode": {
    "name": "ipython",
    "version": 3
   },
   "file_extension": ".py",
   "mimetype": "text/x-python",
   "name": "python",
   "nbconvert_exporter": "python",
   "pygments_lexer": "ipython3",
   "version": "3.10.9"
  }
 },
 "nbformat": 4,
 "nbformat_minor": 5
}
